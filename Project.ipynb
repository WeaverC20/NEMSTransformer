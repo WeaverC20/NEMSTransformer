{
 "cells": [
  {
   "cell_type": "code",
   "execution_count": 1,
   "id": "83d8a04a",
   "metadata": {},
   "outputs": [],
   "source": [
    "import os\n",
    "import torch\n",
    "import torch.nn as nn\n",
    "import torch.nn.functional as F\n",
    "from torch.utils.data import Dataset, DataLoader\n",
    "from sklearn.preprocessing import StandardScaler\n",
    "from rdkit import Chem\n",
    "from rdkit.Chem import Descriptors\n",
    "import pandas as pd\n",
    "import numpy as np\n",
    "import matplotlib.pyplot as plt\n",
    "from tqdm import tqdm"
   ]
  },
  {
   "cell_type": "code",
   "execution_count": 2,
   "id": "649335fe",
   "metadata": {},
   "outputs": [],
   "source": [
    "import pandas as pd\n",
    "from sklearn.preprocessing import StandardScaler\n",
    "from sklearn.model_selection import train_test_split\n",
    "\n",
    "# Load QM9 CSV\n",
    "df = pd.read_csv(\"qm9_.csv\")\n",
    "\n",
    "# Subset the data for quick testing\n",
    "subset_size = 1000  # You can change this to 1000, 10000, etc.       133883 size of full dataset\n",
    "df = df.dropna(subset=[\"homo\", \"lumo\", \"gap\", \"alpha\"]).sample(n=subset_size, random_state=42).reset_index(drop=True)\n",
    "\n",
    "# Extract SMILES and targets\n",
    "target_columns = [\"homo\", \"lumo\", \"gap\", \"alpha\"]\n",
    "smiles_list = df[\"smiles\"].tolist()\n",
    "target_props = df[target_columns].values\n",
    "\n",
    "# Normalize targets\n",
    "scaler = StandardScaler()\n",
    "target_props = scaler.fit_transform(target_props)\n",
    "\n",
    "# Train/test split\n",
    "train_smiles, test_smiles, train_y, test_y = train_test_split(smiles_list, target_props, test_size=0.2, random_state=42)\n",
    "\n"
   ]
  },
  {
   "cell_type": "code",
   "execution_count": 3,
   "id": "73f3d1cb",
   "metadata": {},
   "outputs": [],
   "source": [
    "class SMILESTokenizer:\n",
    "    def __init__(self):\n",
    "        self.special = ['<pad>', '<bos>', '<eos>', '<unk>']\n",
    "        self.vocab = {tok: idx for idx, tok in enumerate(self.special)}\n",
    "\n",
    "    def tokenize(self, smiles):\n",
    "        return list(smiles)\n",
    "\n",
    "    def build_vocab(self, smiles_list):\n",
    "        chars = set(c for smi in smiles_list for c in self.tokenize(smi))\n",
    "        for c in sorted(chars):\n",
    "            if c not in self.vocab:\n",
    "                self.vocab[c] = len(self.vocab)\n",
    "\n",
    "        self.inv_vocab = {v: k for k, v in self.vocab.items()}\n",
    "\n",
    "    def encode(self, smiles, max_len=128):\n",
    "        tokens = self.tokenize(smiles)\n",
    "        ids = [self.vocab.get(tok, self.vocab['<unk>']) for tok in tokens]\n",
    "        ids = [self.vocab['<bos>']] + ids[:max_len-2] + [self.vocab['<eos>']]\n",
    "        ids += [self.vocab['<pad>']] * (max_len - len(ids))\n",
    "        return torch.tensor(ids)\n",
    "\n",
    "    def vocab_size(self):\n",
    "        return len(self.vocab)\n",
    "\n",
    "tokenizer = SMILESTokenizer()\n",
    "tokenizer.build_vocab(train_smiles + test_smiles)"
   ]
  },
  {
   "cell_type": "code",
   "execution_count": 4,
   "id": "337a44b7",
   "metadata": {},
   "outputs": [],
   "source": [
    "from torch.utils.data import Dataset, DataLoader\n",
    "import torch\n",
    "\n",
    "class QM9Dataset(Dataset):\n",
    "    def __init__(self, smiles, targets, tokenizer):\n",
    "        self.smiles = smiles\n",
    "        self.targets = targets\n",
    "        self.tokenizer = tokenizer\n",
    "\n",
    "    def __len__(self):\n",
    "        return len(self.smiles)\n",
    "\n",
    "    def __getitem__(self, idx):\n",
    "        x = self.tokenizer.encode(self.smiles[idx])\n",
    "        y = torch.tensor(self.targets[idx], dtype=torch.float32)\n",
    "        return x, y\n",
    "\n",
    "train_dataset = QM9Dataset(train_smiles, train_y, tokenizer)\n",
    "test_dataset = QM9Dataset(test_smiles, test_y, tokenizer)\n",
    "\n",
    "train_loader = DataLoader(train_dataset, batch_size=64, shuffle=True)\n",
    "test_loader = DataLoader(test_dataset, batch_size=64)"
   ]
  },
  {
   "cell_type": "code",
   "execution_count": 5,
   "id": "87a1736f",
   "metadata": {},
   "outputs": [],
   "source": [
    "import torch.nn as nn\n",
    "\n",
    "class TransformerRegressor(nn.Module):\n",
    "    def __init__(self, vocab_size, seq_len, dim=256, heads=16, depth=6, ff_mult=2, n_outputs=4):\n",
    "        super().__init__()\n",
    "        self.embed = nn.Embedding(vocab_size, 8)\n",
    "        self.pos_embed = nn.Parameter(torch.randn(1, seq_len, 8))\n",
    "        self.proj = nn.Linear(8, dim)\n",
    "\n",
    "        encoder_layer = nn.TransformerEncoderLayer(\n",
    "            d_model=dim, nhead=heads, dim_feedforward=ff_mult*dim, batch_first=True\n",
    "        )\n",
    "        self.encoder = nn.TransformerEncoder(encoder_layer, num_layers=depth)\n",
    "\n",
    "        self.head = nn.Sequential(\n",
    "            nn.Linear(dim, dim // 2),\n",
    "            nn.ReLU(),\n",
    "            nn.Linear(dim // 2, n_outputs)\n",
    "        )\n",
    "\n",
    "    def forward(self, x):\n",
    "        x = self.embed(x) + self.pos_embed[:, :x.size(1), :]\n",
    "        x = self.proj(x)\n",
    "        x = self.encoder(x)\n",
    "        x = x.mean(dim=1)  # average pooling\n",
    "        return self.head(x)\n",
    "\n",
    "device = torch.device(\"cuda\" if torch.cuda.is_available() else \"cpu\")\n",
    "model = TransformerRegressor(tokenizer.vocab_size(), seq_len=128).to(device)"
   ]
  },
  {
   "cell_type": "code",
   "execution_count": 7,
   "id": "c380320d",
   "metadata": {},
   "outputs": [
    {
     "name": "stderr",
     "output_type": "stream",
     "text": [
      "Epoch 1 [Train]: 100%|██████████| 13/13 [00:16<00:00,  1.29s/it]\n",
      "Epoch 1 [Test]: 100%|██████████| 4/4 [00:00<00:00,  6.26it/s]\n",
      "Epoch 2 [Train]: 100%|██████████| 13/13 [00:16<00:00,  1.26s/it]\n",
      "Epoch 2 [Test]: 100%|██████████| 4/4 [00:00<00:00,  6.40it/s]\n",
      "Epoch 3 [Train]: 100%|██████████| 13/13 [00:16<00:00,  1.27s/it]\n",
      "Epoch 3 [Test]: 100%|██████████| 4/4 [00:00<00:00,  6.29it/s]\n",
      "Epoch 4 [Train]: 100%|██████████| 13/13 [00:16<00:00,  1.27s/it]\n",
      "Epoch 4 [Test]: 100%|██████████| 4/4 [00:00<00:00,  6.42it/s]\n",
      "Epoch 5 [Train]: 100%|██████████| 13/13 [00:16<00:00,  1.26s/it]\n",
      "Epoch 5 [Test]: 100%|██████████| 4/4 [00:00<00:00,  6.42it/s]\n"
     ]
    }
   ],
   "source": [
    "from tqdm import tqdm\n",
    "\n",
    "optimizer = torch.optim.Adam(model.parameters(), lr=1e-4)\n",
    "loss_fn = nn.MSELoss()\n",
    "\n",
    "num_epochs = 5\n",
    "train_losses = []\n",
    "test_losses = []\n",
    "\n",
    "for epoch in range(num_epochs):\n",
    "    # Training phase\n",
    "    model.train()\n",
    "    total_train_loss = 0\n",
    "    for x, y in tqdm(train_loader, desc=f\"Epoch {epoch+1} [Train]\"):\n",
    "        x, y = x.to(device), y.to(device)\n",
    "        pred = model(x)\n",
    "        loss = loss_fn(pred, y)\n",
    "        optimizer.zero_grad()\n",
    "        loss.backward()\n",
    "        optimizer.step()\n",
    "        total_train_loss += loss.item()\n",
    "    \n",
    "    avg_train_loss = total_train_loss / len(train_loader)\n",
    "    train_losses.append(avg_train_loss)\n",
    "\n",
    "    # Evaluation phase\n",
    "    model.eval()\n",
    "    total_test_loss = 0\n",
    "    with torch.no_grad():\n",
    "        for x, y in tqdm(test_loader, desc=f\"Epoch {epoch+1} [Test]\"):\n",
    "            x, y = x.to(device), y.to(device)\n",
    "            pred = model(x)\n",
    "            loss = loss_fn(pred, y)\n",
    "            total_test_loss += loss.item()\n",
    "    \n",
    "    avg_test_loss = total_test_loss / len(test_loader)\n",
    "    test_losses.append(avg_test_loss)\n",
    "\n",
    "\n",
    "\n",
    "\n",
    "# for epoch in range(3):\n",
    "#     model.train()\n",
    "#     total_loss = 0\n",
    "#     for x, y in tqdm(train_loader):\n",
    "#         x, y = x.to(device), y.to(device)\n",
    "#         pred = model(x)\n",
    "#         loss = loss_fn(pred, y)\n",
    "#         optimizer.zero_grad()\n",
    "#         loss.backward()\n",
    "#         optimizer.step()\n",
    "#         total_loss += loss.item()\n",
    "\n",
    "#     print(f\"Epoch {epoch+1} | Loss: {total_loss / len(train_loader):.4f}\")"
   ]
  },
  {
   "cell_type": "code",
   "execution_count": 8,
   "id": "304a6392",
   "metadata": {},
   "outputs": [
    {
     "data": {
      "image/png": "[encoded data removed]",
      "text/plain": [
       "<Figure size 640x480 with 1 Axes>"
      ]
     },
     "metadata": {},
     "output_type": "display_data"
    }
   ],
   "source": [
    "import matplotlib.pyplot as plt\n",
    "\n",
    "# Plot losses\n",
    "plt.plot(range(1, num_epochs+1), train_losses, label=\"Train Loss\")\n",
    "plt.plot(range(1, num_epochs+1), test_losses, label=\"Test Loss\")\n",
    "plt.xlabel(\"Epoch\")\n",
    "plt.ylabel(\"Loss\")\n",
    "plt.title(\"Train and Test Loss Over Epochs\")\n",
    "plt.legend()\n",
    "plt.grid(True)\n",
    "plt.show()"
   ]
  },
  {
   "cell_type": "code",
   "execution_count": 9,
   "id": "d6ac903d",
   "metadata": {},
   "outputs": [
    {
     "data": {
      "image/png": "[encoded data removed]",
      "text/plain": [
       "<Figure size 1000x1000 with 4 Axes>"
      ]
     },
     "metadata": {},
     "output_type": "display_data"
    }
   ],
   "source": [
    "from sklearn.metrics import r2_score\n",
    "\n",
    "model.eval()\n",
    "preds, truths = [], []\n",
    "with torch.no_grad():\n",
    "    for x, y in test_loader:\n",
    "        x = x.to(device)\n",
    "        pred = model(x)\n",
    "        preds.append(pred.cpu())\n",
    "        truths.append(y)\n",
    "\n",
    "preds = torch.cat(preds).numpy()\n",
    "truths = torch.cat(truths).numpy()\n",
    "\n",
    "# Inverse transform targets\n",
    "preds = scaler.inverse_transform(preds)\n",
    "truths = scaler.inverse_transform(truths)\n",
    "\n",
    "# Plot setup\n",
    "labels = [\"HOMO\", \"LUMO\", \"Gap\", \"Alpha\"]\n",
    "fig, axs = plt.subplots(2, 2, figsize=(10, 10))\n",
    "axs = axs.flatten()\n",
    "\n",
    "for i in range(4):\n",
    "    r2 = r2_score(truths[:, i], preds[:, i])\n",
    "    axs[i].scatter(truths[:, i], preds[:, i], alpha=0.4)\n",
    "    axs[i].plot([truths[:, i].min(), truths[:, i].max()],\n",
    "                [truths[:, i].min(), truths[:, i].max()], 'r--')\n",
    "    axs[i].set_xlabel(f\"True {labels[i]}\")\n",
    "    axs[i].set_ylabel(f\"Predicted {labels[i]}\")\n",
    "    axs[i].set_title(f\"{labels[i]} (R² = {r2:.3f})\")\n",
    "    axs[i].grid(True)\n",
    "\n",
    "plt.tight_layout()\n",
    "plt.show()"
   ]
  },
  {
   "cell_type": "markdown",
   "id": "6614a540",
   "metadata": {},
   "source": [
    "Autoregressive Transformer"
   ]
  },
  {
   "cell_type": "code",
   "execution_count": 10,
   "id": "dac55be5",
   "metadata": {},
   "outputs": [],
   "source": [
    "import torch\n",
    "import torch.nn as nn\n",
    "import torch.optim as optim\n",
    "from torch.utils.data import Dataset, DataLoader\n",
    "import pandas as pd\n",
    "import numpy as np\n",
    "import math\n",
    "from sklearn.preprocessing import StandardScaler\n",
    "import matplotlib.pyplot as plt\n",
    "import os\n",
    "from rdkit import Chem\n",
    "from rdkit.Chem.Draw import MolsToGridImage\n",
    "RDKIT_AVAILABLE = True"
   ]
  },
  {
   "cell_type": "code",
   "execution_count": 11,
   "id": "c199e3d8",
   "metadata": {},
   "outputs": [],
   "source": [
    "# --- Configuration ---\n",
    "# Model Parameters (as specified by user)\n",
    "D_MODEL = 256  # Channels\n",
    "N_HEADS = 8\n",
    "D_FF = 1024  # Feedforward Multiplier 4 -> 256 * 4 = 1024\n",
    "SMILES_EMBEDDING_DIM = 16 # Embedding Dimension for SMILES tokens\n",
    "# CROSS_ATTENTION_EMBEDDING_DIM = 8 # Not directly used as k/v dim for simplicity, see notes.\n",
    "MAX_SEQ_LEN = 128  # Maximum SMILES sequence length\n",
    "DECODER_DEPTH = 6  # Number of decoder layers\n",
    "PROPERTY_DIM = 4  # homo, lumo, gap, alpha\n",
    "DROPOUT = 0.1\n",
    "\n",
    "# Training Parameters (example values)\n",
    "LEARNING_RATE = 1e-4\n",
    "BATCH_SIZE = 32\n",
    "NUM_EPOCHS = 3 # Placeholder: actual training needs more\n",
    "DEVICE = torch.device(\"cuda\" if torch.cuda.is_available() else \"cpu\")\n",
    "\n",
    "# Special Tokens\n",
    "PAD_TOKEN = \"<pad>\"\n",
    "SOS_TOKEN = \"<sos>\" # Start of Sequence\n",
    "EOS_TOKEN = \"<eos>\" # End of Sequence\n",
    "UNK_TOKEN = \"<unk>\" # Unknown token"
   ]
  },
  {
   "cell_type": "code",
   "execution_count": 12,
   "id": "83f02d37",
   "metadata": {},
   "outputs": [],
   "source": [
    "# --- SMILES Tokenizer ---\n",
    "class SMILESTokenizer:\n",
    "    def __init__(self):\n",
    "        self.special_tokens = [PAD_TOKEN, SOS_TOKEN, EOS_TOKEN, UNK_TOKEN]\n",
    "        self.char_to_idx = {}\n",
    "        self.idx_to_char = {}\n",
    "        self.vocab_size = 0\n",
    "\n",
    "    def fit(self, smiles_list):\n",
    "        # Gathers all unique characters from SMILES strings\n",
    "        all_chars = set()\n",
    "        for smiles in smiles_list:\n",
    "            for char in smiles:\n",
    "                all_chars.add(char)\n",
    "        \n",
    "        # Sort characters for consistent mapping\n",
    "        sorted_chars = sorted(list(all_chars))\n",
    "        \n",
    "        # Initialize with special tokens\n",
    "        self.char_to_idx = {token: i for i, token in enumerate(self.special_tokens)}\n",
    "        current_idx = len(self.special_tokens)\n",
    "        \n",
    "        # Add unique SMILES characters\n",
    "        for char in sorted_chars:\n",
    "            if char not in self.char_to_idx: # Should not happen if special tokens are not in SMILES chars\n",
    "                self.char_to_idx[char] = current_idx\n",
    "                current_idx += 1\n",
    "        \n",
    "        self.idx_to_char = {i: char for char, i in self.char_to_idx.items()}\n",
    "        self.vocab_size = len(self.char_to_idx)\n",
    "        \n",
    "        # Ensure special tokens have correct indices\n",
    "        self.pad_idx = self.char_to_idx[PAD_TOKEN]\n",
    "        self.sos_idx = self.char_to_idx[SOS_TOKEN]\n",
    "        self.eos_idx = self.char_to_idx[EOS_TOKEN]\n",
    "        self.unk_idx = self.char_to_idx[UNK_TOKEN]\n",
    "\n",
    "    def tokenize(self, smiles_string):\n",
    "        # Converts a SMILES string to a list of token IDs\n",
    "        return [self.char_to_idx.get(char, self.unk_idx) for char in smiles_string]\n",
    "\n",
    "    def detokenize(self, token_ids):\n",
    "        # Converts a list of token IDs back to a SMILES string\n",
    "        chars = []\n",
    "        for token_id in token_ids:\n",
    "            if token_id == self.eos_idx:\n",
    "                break\n",
    "            if token_id not in [self.sos_idx, self.pad_idx]: # Don't include SOS or PAD in output string\n",
    "                 chars.append(self.idx_to_char.get(token_id, UNK_TOKEN))\n",
    "        return \"\".join(chars)\n"
   ]
  },
  {
   "cell_type": "code",
   "execution_count": 13,
   "id": "53c8d9d4",
   "metadata": {},
   "outputs": [],
   "source": [
    "\n",
    "# --- Positional Encoding ---\n",
    "class PositionalEncoding(nn.Module):\n",
    "    def __init__(self, d_model, dropout=0.1, max_len=MAX_SEQ_LEN):\n",
    "        super(PositionalEncoding, self).__init__()\n",
    "        self.dropout = nn.Dropout(p=dropout)\n",
    "\n",
    "        pe = torch.zeros(max_len, d_model)\n",
    "        position = torch.arange(0, max_len, dtype=torch.float).unsqueeze(1)\n",
    "        div_term = torch.exp(torch.arange(0, d_model, 2).float() * (-math.log(10000.0) / d_model))\n",
    "        pe[:, 0::2] = torch.sin(position * div_term)\n",
    "        pe[:, 1::2] = torch.cos(position * div_term)\n",
    "        pe = pe.unsqueeze(0) # Shape: (1, max_len, d_model)\n",
    "        self.register_buffer('pe', pe) # Not a model parameter\n",
    "\n",
    "    def forward(self, x):\n",
    "        # x shape: (batch_size, seq_len, d_model)\n",
    "        # self.pe shape: (1, max_len, d_model)\n",
    "        # We need to select the relevant part of pe: self.pe[:, :x.size(1), :]\n",
    "        x = x + self.pe[:, :x.size(1), :]\n",
    "        return self.dropout(x)\n"
   ]
  },
  {
   "cell_type": "code",
   "execution_count": 14,
   "id": "204e9e97",
   "metadata": {},
   "outputs": [],
   "source": [
    "# --- Transformer Model ---\n",
    "class SmilesTransformer(nn.Module):\n",
    "    def __init__(self, vocab_size, property_dim, d_model, n_heads, d_ff,\n",
    "                 decoder_depth, smiles_embedding_dim, max_seq_len, dropout, pad_idx): # Added pad_idx\n",
    "        super(SmilesTransformer, self).__init__()\n",
    "        self.d_model = d_model\n",
    "        self.max_seq_len = max_seq_len\n",
    "\n",
    "        self.property_projector = nn.Linear(property_dim, d_model)\n",
    "        self.smiles_embedder = nn.Embedding(vocab_size, smiles_embedding_dim, padding_idx=pad_idx) # Use passed pad_idx\n",
    "        self.smiles_input_projector = nn.Linear(smiles_embedding_dim, d_model)\n",
    "        self.positional_encoder = PositionalEncoding(d_model, dropout, max_seq_len)\n",
    "\n",
    "        decoder_layer = nn.TransformerDecoderLayer(\n",
    "            d_model=d_model, nhead=n_heads, dim_feedforward=d_ff,\n",
    "            dropout=dropout, activation='relu', batch_first=True, norm_first=True\n",
    "        )\n",
    "        self.transformer_decoder = nn.TransformerDecoder(decoder_layer, num_layers=decoder_depth)\n",
    "        self.output_layer = nn.Linear(d_model, vocab_size)\n",
    "\n",
    "    def _generate_square_subsequent_mask(self, sz):\n",
    "        mask = (torch.triu(torch.ones(sz, sz)) == 1).transpose(0, 1)\n",
    "        mask = mask.float().masked_fill(mask == 0, float('-inf')).masked_fill(mask == 1, float(0.0))\n",
    "        return mask.to(DEVICE)\n",
    "\n",
    "    def forward(self, properties, tgt_smiles_tokens, tgt_padding_mask=None):\n",
    "        memory = self.property_projector(properties).unsqueeze(1) \n",
    "        tgt_embed = self.smiles_embedder(tgt_smiles_tokens)\n",
    "        tgt_projected = self.smiles_input_projector(tgt_embed) * math.sqrt(self.d_model)\n",
    "        tgt_pos_encoded = self.positional_encoder(tgt_projected)\n",
    "        tgt_mask = self._generate_square_subsequent_mask(tgt_smiles_tokens.size(1))\n",
    "        decoder_output = self.transformer_decoder(\n",
    "            tgt=tgt_pos_encoded, memory=memory,\n",
    "            tgt_mask=tgt_mask, tgt_key_padding_mask=tgt_padding_mask\n",
    "        )\n",
    "        return self.output_layer(decoder_output)\n",
    "\n",
    "    def generate(self, properties, tokenizer, max_len=MAX_SEQ_LEN):\n",
    "        self.eval()\n",
    "        if properties.ndim == 1:\n",
    "            properties = properties.unsqueeze(0)\n",
    "        properties = properties.to(DEVICE)\n",
    "        generated_ids = torch.tensor([[tokenizer.sos_idx]], dtype=torch.long, device=DEVICE)\n",
    "        memory = self.property_projector(properties).unsqueeze(1)\n",
    "\n",
    "        with torch.no_grad():\n",
    "            for _ in range(max_len - 1):\n",
    "                tgt_embed = self.smiles_embedder(generated_ids)\n",
    "                tgt_projected = self.smiles_input_projector(tgt_embed) * math.sqrt(self.d_model)\n",
    "                tgt_pos_encoded = self.positional_encoder(tgt_projected)\n",
    "                tgt_mask = self._generate_square_subsequent_mask(generated_ids.size(1))\n",
    "                decoder_output = self.transformer_decoder(tgt=tgt_pos_encoded, memory=memory, tgt_mask=tgt_mask)\n",
    "                last_token_logits = self.output_layer(decoder_output[:, -1, :])\n",
    "                predicted_id = torch.argmax(last_token_logits, dim=-1).unsqueeze(1)\n",
    "                generated_ids = torch.cat([generated_ids, predicted_id], dim=1)\n",
    "                if predicted_id.item() == tokenizer.eos_idx:\n",
    "                    break\n",
    "        return tokenizer.detokenize(generated_ids.squeeze(0).cpu().tolist())\n"
   ]
  },
  {
   "cell_type": "code",
   "execution_count": 15,
   "id": "94b6ea60",
   "metadata": {},
   "outputs": [],
   "source": [
    "# --- Dataset and DataLoader ---\n",
    "class QM9Dataset(Dataset):\n",
    "    def __init__(self, properties_df, smiles_list, tokenizer, max_seq_len):\n",
    "        self.properties = torch.tensor(properties_df.values, dtype=torch.float)\n",
    "        self.smiles_list = smiles_list\n",
    "        self.tokenizer = tokenizer\n",
    "        self.max_seq_len = max_seq_len\n",
    "\n",
    "    def __len__(self):\n",
    "        return len(self.smiles_list)\n",
    "\n",
    "    def __getitem__(self, idx):\n",
    "        props = self.properties[idx]\n",
    "        smiles = self.smiles_list[idx]\n",
    "\n",
    "        # Tokenize SMILES: <sos> + tokens + <eos>\n",
    "        tokenized_smiles = [self.tokenizer.sos_idx] + self.tokenizer.tokenize(smiles) + [self.tokenizer.eos_idx]\n",
    "        \n",
    "        # Pad or truncate\n",
    "        if len(tokenized_smiles) < self.max_seq_len:\n",
    "            padding = [self.tokenizer.pad_idx] * (self.max_seq_len - len(tokenized_smiles))\n",
    "            tokenized_smiles.extend(padding)\n",
    "        else:\n",
    "            tokenized_smiles = tokenized_smiles[:self.max_seq_len -1] + [self.tokenizer.eos_idx] # Ensure EOS if truncated\n",
    "\n",
    "        # Input to decoder: <sos> t1 t2 ... tn-1 <pad> ...\n",
    "        # Target for loss:   t1 t2 ... tn-1 <eos> <pad> ...\n",
    "        # Both should have length max_seq_len\n",
    "        \n",
    "        # Decoder input sequence (starts with SOS, ends before final EOS if full, or with PADs)\n",
    "        # Example: if tokenized_smiles = [sos, t1, t2, eos, pad, pad] (len 6, max_len 6)\n",
    "        # input_seq = [sos, t1, t2, eos, pad] (remove last, for predicting next)\n",
    "        # target_seq = [t1, t2, eos, pad, pad] (remove first)\n",
    "\n",
    "        input_seq = torch.tensor(tokenized_smiles[:-1], dtype=torch.long)\n",
    "        target_seq = torch.tensor(tokenized_smiles[1:], dtype=torch.long) # Shifted right\n",
    "\n",
    "        # Create padding mask for the input sequence (True where it's a pad token)\n",
    "        # This is for tgt_key_padding_mask in TransformerDecoder\n",
    "        padding_mask = (input_seq == self.tokenizer.pad_idx)\n",
    "\n",
    "        return props, input_seq, target_seq, padding_mask\n"
   ]
  },
  {
   "cell_type": "code",
   "execution_count": 16,
   "id": "1cdb074c",
   "metadata": {},
   "outputs": [],
   "source": [
    "# --- Generation and Evaluation ---\n",
    "def generate_new_sequences(model, tokenizer, scaler, target_properties_unscaled_list, qm9_smiles_set, property_names):\n",
    "    \"\"\"\n",
    "    Generates SMILES sequences for given target properties, checks against QM9,\n",
    "    and visualizes them.\n",
    "    Args:\n",
    "        model: The trained SmilesTransformer model.\n",
    "        tokenizer: The SMILESTokenizer.\n",
    "        scaler: The fitted StandardScaler for properties.\n",
    "        target_properties_unscaled_list (list of dicts): List of dictionaries, \n",
    "            each with unscaled property values (e.g., {'homo': -7.0, 'lumo': -1.0, 'gap': 6.0, 'alpha': 75.0}).\n",
    "            Must contain 'gap' and 'alpha'. Other properties will be used if present, otherwise\n",
    "            defaults might be needed or an error raised if not all 4 are present.\n",
    "        qm9_smiles_set (set): A set of SMILES strings from the QM9 dataset for quick lookup.\n",
    "        property_names (list): List of property names in the order expected by the scaler and model.\n",
    "    Returns:\n",
    "        list of dicts: Each dict contains 'target_properties_unscaled', \n",
    "                       'target_properties_scaled', 'generated_smiles', \n",
    "                       'is_in_qm9', 'is_valid_rdkit', 'mol_image_path'.\n",
    "    \"\"\"\n",
    "    generated_results = []\n",
    "    output_dir = \"generated_molecules\"\n",
    "    os.makedirs(output_dir, exist_ok=True)\n",
    "\n",
    "    for i, props_unscaled_dict in enumerate(target_properties_unscaled_list):\n",
    "        print(f\"\\nGenerating for target (unscaled): {props_unscaled_dict}\")\n",
    "\n",
    "        # Ensure all required properties are present and in correct order for scaling\n",
    "        current_props_unscaled = np.array([props_unscaled_dict.get(p_name, 0) for p_name in property_names])\n",
    "        \n",
    "        # Scale the properties\n",
    "        props_scaled = scaler.transform(current_props_unscaled.reshape(1, -1))\n",
    "        props_tensor = torch.tensor(props_scaled.squeeze(), dtype=torch.float).to(DEVICE)\n",
    "\n",
    "        # Generate SMILES\n",
    "        smiles_gen = model.generate(props_tensor, tokenizer, max_len=MAX_SEQ_LEN)\n",
    "        \n",
    "        is_in_qm9 = smiles_gen in qm9_smiles_set\n",
    "        is_valid_rdkit = False\n",
    "        mol_image_path = None\n",
    "\n",
    "        if RDKIT_AVAILABLE and smiles_gen:\n",
    "            mol = Chem.MolFromSmiles(smiles_gen)\n",
    "            if mol:\n",
    "                is_valid_rdkit = True\n",
    "                try:\n",
    "                    img = MolsToGridImage([mol], molsPerRow=1, subImgSize=(200,200))\n",
    "                    mol_image_path = os.path.join(output_dir, f\"generated_{i+1}.png\")\n",
    "                    # MolsToGridImage returns a PIL image. To save it:\n",
    "                    # For this, you might need PIL (Pillow) if not already a dep of rdkit/matplotlib\n",
    "                    # from PIL import Image (handled by MolsToGridImage if it creates an image object)\n",
    "                    # For simplicity, let's assume MolsToGridImage can save or we use a simpler Draw.MolToImage\n",
    "                    from rdkit.Chem.Draw import MolToFile\n",
    "                    MolToFile(mol, mol_image_path, size=(300,300))\n",
    "                    print(f\"Visualized and saved to: {mol_image_path}\")\n",
    "                except Exception as e:\n",
    "                    print(f\"Error visualizing SMILES '{smiles_gen}': {e}\")\n",
    "                    mol_image_path = None # Reset on error\n",
    "            else:\n",
    "                print(f\"Generated SMILES '{smiles_gen}' is not valid according to RDKit.\")\n",
    "        \n",
    "        result = {\n",
    "            'target_properties_unscaled': props_unscaled_dict,\n",
    "            'target_properties_scaled': props_scaled.squeeze().tolist(),\n",
    "            'generated_smiles': smiles_gen,\n",
    "            'is_in_qm9': is_in_qm9,\n",
    "            'is_valid_rdkit': is_valid_rdkit,\n",
    "            'mol_image_path': mol_image_path\n",
    "        }\n",
    "        generated_results.append(result)\n",
    "\n",
    "        print(f\"Generated SMILES: {smiles_gen}\")\n",
    "        print(f\"Is in QM9: {is_in_qm9}\")\n",
    "        print(f\"RDKit valid: {is_valid_rdkit}\")\n",
    "        \n",
    "    return generated_results\n",
    "\n",
    "def plot_target_property_performance(generated_results, property_x='gap', property_y='alpha'):\n",
    "    \"\"\"\n",
    "    Plots the target properties (e.g., gap vs alpha) for the generated sequences.\n",
    "    Args:\n",
    "        generated_results (list of dicts): Output from generate_new_sequences.\n",
    "        property_x (str): Name of the property for the x-axis.\n",
    "        property_y (str): Name of the property for the y-axis.\n",
    "    \"\"\"\n",
    "    if not generated_results:\n",
    "        print(\"No results to plot.\")\n",
    "        return\n",
    "\n",
    "    x_values = [res['target_properties_unscaled'][property_x] for res in generated_results]\n",
    "    y_values = [res['target_properties_unscaled'][property_y] for res in generated_results]\n",
    "    \n",
    "    plt.figure(figsize=(8, 6))\n",
    "    plt.scatter(x_values, y_values, c='blue', alpha=0.7, label='Target Properties for Generation')\n",
    "    plt.xlabel(f\"Target {property_x.capitalize()} (unscaled)\")\n",
    "    plt.ylabel(f\"Target {property_y.capitalize()} (unscaled)\")\n",
    "    plt.title(f\"Target Performance of Generated Molecules ({property_y.capitalize()} vs {property_x.capitalize()})\")\n",
    "    plt.legend()\n",
    "    plt.grid(True)\n",
    "    plot_filename = \"target_properties_plot.png\"\n",
    "    plt.savefig(plot_filename)\n",
    "    print(f\"Target properties plot saved to {plot_filename}\")\n",
    "    # plt.show() # Uncomment if running in an environment that supports interactive plots"
   ]
  },
  {
   "cell_type": "code",
   "execution_count": 17,
   "id": "0a9b0660",
   "metadata": {},
   "outputs": [
    {
     "name": "stdout",
     "output_type": "stream",
     "text": [
      "Successfully loaded qm9_.csv. Shape: (133885, 13)\n",
      "Shape after dropping NaNs: (133885, 13)\n"
     ]
    }
   ],
   "source": [
    "try:\n",
    "    df_full = pd.read_csv(\"qm9_.csv\")\n",
    "    print(f\"Successfully loaded qm9_.csv. Shape: {df_full.shape}\")\n",
    "except FileNotFoundError:\n",
    "    print(\"Error: qm9_.csv not found. Please ensure the file is in the correct directory.\")\n",
    "\n",
    "# Drop rows with NaNs in specified property columns\n",
    "property_cols = [\"homo\", \"lumo\", \"gap\", \"alpha\"]\n",
    "df_full = df_full.dropna(subset=property_cols)\n",
    "print(f\"Shape after dropping NaNs: {df_full.shape}\")\n",
    "\n",
    "if df_full.empty:\n",
    "    print(\"DataFrame is empty after dropping NaNs. Cannot proceed.\")\n",
    "    exit()\n",
    "\n",
    "# Create a set of existing SMILES for quick lookup\n",
    "qm9_smiles_set = set(df_full['smiles'].tolist())"
   ]
  },
  {
   "cell_type": "code",
   "execution_count": 18,
   "id": "37fa3741",
   "metadata": {},
   "outputs": [
    {
     "name": "stdout",
     "output_type": "stream",
     "text": [
      "Shape after filtering for high gap/alpha: (1493, 13)\n"
     ]
    }
   ],
   "source": [
    "# Filter for \"high performing\" molecules (e.g., top 25% in gap and alpha)\n",
    "# You might want to adjust these quantiles\n",
    "percentile = 0.95 # make 0.75 when ready to train\n",
    "gap_threshold = df_full['gap'].quantile(percentile)\n",
    "alpha_threshold = df_full['alpha'].quantile(percentile)\n",
    "\n",
    "df_filtered = df_full[\n",
    "    (df_full['gap'] >= gap_threshold) & \\\n",
    "    (df_full['alpha'] >= alpha_threshold)\n",
    "].copy() # Use .copy() to avoid SettingWithCopyWarning\n",
    "print(f\"Shape after filtering for high gap/alpha: {df_filtered.shape}\")\n",
    "\n",
    "if df_filtered.empty:\n",
    "    print(\"DataFrame is empty after filtering for high gap/alpha. Try adjusting thresholds or check data.\")\n",
    "    exit()"
   ]
  },
  {
   "cell_type": "code",
   "execution_count": 23,
   "id": "f0d13fda",
   "metadata": {},
   "outputs": [
    {
     "name": "stdout",
     "output_type": "stream",
     "text": [
      "Tokenizer vocabulary size: 13\n",
      "PAD index: 0, SOS index: 1, EOS index: 2\n"
     ]
    }
   ],
   "source": [
    "# # Normalize properties (using only filtered data for scaler fitting)\n",
    "# scaler = StandardScaler()\n",
    "# df_filtered.loc[:, property_cols] = scaler.fit_transform(df_filtered[property_cols])\n",
    "\n",
    "# # Extract properties and SMILES\n",
    "# properties_data = df_filtered[property_cols]\n",
    "# smiles_data = df_filtered['smiles'].tolist()\n",
    "\n",
    "# # 2. Initialize Tokenizer and Fit on SMILES data\n",
    "# tokenizer = SMILESTokenizer()\n",
    "# tokenizer.fit(smiles_data) # Fit on the actual SMILES strings from the dataset\n",
    "# print(f\"Tokenizer vocabulary size: {tokenizer.vocab_size}\")\n",
    "# print(f\"PAD index: {tokenizer.pad_idx}, SOS index: {tokenizer.sos_idx}, EOS index: {tokenizer.eos_idx}\")\n",
    "\n",
    "\n",
    "# # 3. Create Dataset and DataLoader\n",
    "# qm9_dataset = QM9Dataset(properties_data, smiles_data, tokenizer, MAX_SEQ_LEN)\n",
    "# # Note: For actual training, split into train/validation sets\n",
    "# # For simplicity, using the whole filtered dataset here\n",
    "# data_loader = DataLoader(qm9_dataset, batch_size=BATCH_SIZE, shuffle=True, num_workers=0) # num_workers=0 for simplicity\n",
    "\n",
    "\n",
    "\n",
    "from torch.utils.data import random_split\n",
    "\n",
    "# Normalize properties (already done)\n",
    "scaler = StandardScaler()\n",
    "df_filtered.loc[:, property_cols] = scaler.fit_transform(df_filtered[property_cols])\n",
    "\n",
    "# Extract properties and SMILES\n",
    "properties_data = df_filtered[property_cols]\n",
    "smiles_data = df_filtered['smiles'].tolist()\n",
    "\n",
    "# Initialize and fit tokenizer\n",
    "tokenizer = SMILESTokenizer()\n",
    "tokenizer.fit(smiles_data)\n",
    "print(f\"Tokenizer vocabulary size: {tokenizer.vocab_size}\")\n",
    "print(f\"PAD index: {tokenizer.pad_idx}, SOS index: {tokenizer.sos_idx}, EOS index: {tokenizer.eos_idx}\")\n",
    "\n",
    "# Create dataset\n",
    "qm9_dataset = QM9Dataset(properties_data, smiles_data, tokenizer, MAX_SEQ_LEN)\n",
    "\n",
    "# 🔥 Split into training and test datasets (e.g., 80% train, 20% test)\n",
    "train_size = int(0.8 * len(qm9_dataset))\n",
    "test_size = len(qm9_dataset) - train_size\n",
    "train_dataset, test_dataset = random_split(qm9_dataset, [train_size, test_size], generator=torch.Generator().manual_seed(42))\n",
    "\n",
    "# Create DataLoaders\n",
    "train_loader = DataLoader(train_dataset, batch_size=BATCH_SIZE, shuffle=True, num_workers=0)\n",
    "test_loader = DataLoader(test_dataset, batch_size=BATCH_SIZE, shuffle=False, num_workers=0)\n",
    "\n"
   ]
  },
  {
   "cell_type": "code",
   "execution_count": 24,
   "id": "4bb68344",
   "metadata": {},
   "outputs": [
    {
     "name": "stdout",
     "output_type": "stream",
     "text": [
      "\n",
      "--- Starting Training Loop (for 3 epochs) ---\n"
     ]
    },
    {
     "name": "stderr",
     "output_type": "stream",
     "text": [
      "/Users/colinweaver/Documents/MIT Documents/2.174/NEMSTransformer/.venv copy/lib/python3.9/site-packages/torch/nn/functional.py:5962: UserWarning: Support for mismatched key_padding_mask and attn_mask is deprecated. Use same type for both instead.\n",
      "  warnings.warn(\n"
     ]
    },
    {
     "name": "stdout",
     "output_type": "stream",
     "text": [
      "Epoch [1/3], Batch [1/38], Loss: 9.9080\n",
      "Epoch [1/3], Batch [6/38], Loss: 4.9016\n",
      "Epoch [1/3], Batch [11/38], Loss: 2.6517\n",
      "Epoch [1/3], Batch [16/38], Loss: 2.1754\n",
      "Epoch [1/3], Batch [21/38], Loss: 2.1919\n",
      "Epoch [1/3], Batch [26/38], Loss: 2.1952\n",
      "Epoch [1/3], Batch [31/38], Loss: 1.9447\n",
      "Epoch [1/3], Batch [36/38], Loss: 1.7003\n",
      "Epoch [1/3] completed. Train Loss: 3.0218, Test Loss: 1.2522\n",
      "Epoch [2/3], Batch [1/38], Loss: 1.7106\n",
      "Epoch [2/3], Batch [6/38], Loss: 1.7105\n",
      "Epoch [2/3], Batch [11/38], Loss: 1.5170\n",
      "Epoch [2/3], Batch [16/38], Loss: 1.4627\n",
      "Epoch [2/3], Batch [21/38], Loss: 1.6637\n",
      "Epoch [2/3], Batch [26/38], Loss: 1.5198\n",
      "Epoch [2/3], Batch [31/38], Loss: 1.5237\n",
      "Epoch [2/3], Batch [36/38], Loss: 1.5733\n",
      "Epoch [2/3] completed. Train Loss: 1.5906, Test Loss: 1.0891\n",
      "Epoch [3/3], Batch [1/38], Loss: 1.4766\n",
      "Epoch [3/3], Batch [6/38], Loss: 1.3959\n",
      "Epoch [3/3], Batch [11/38], Loss: 1.3578\n",
      "Epoch [3/3], Batch [16/38], Loss: 1.3479\n",
      "Epoch [3/3], Batch [21/38], Loss: 1.4647\n",
      "Epoch [3/3], Batch [26/38], Loss: 1.3816\n",
      "Epoch [3/3], Batch [31/38], Loss: 1.3595\n",
      "Epoch [3/3], Batch [36/38], Loss: 1.3914\n",
      "Epoch [3/3] completed. Train Loss: 1.4085, Test Loss: 1.0191\n",
      "--- Training Loop Finished ---\n"
     ]
    }
   ],
   "source": [
    "# 4. Initialize Model, Optimizer, Loss\n",
    "model = SmilesTransformer(\n",
    "    vocab_size=tokenizer.vocab_size,\n",
    "    property_dim=PROPERTY_DIM,\n",
    "    d_model=D_MODEL,\n",
    "    n_heads=N_HEADS,\n",
    "    d_ff=D_FF,\n",
    "    decoder_depth=DECODER_DEPTH,\n",
    "    smiles_embedding_dim=SMILES_EMBEDDING_DIM,\n",
    "    max_seq_len=MAX_SEQ_LEN,\n",
    "    dropout=DROPOUT,\n",
    "    pad_idx=tokenizer.pad_idx # Pass pad_idx explicitly\n",
    ").to(DEVICE)\n",
    "\n",
    "optimizer = optim.Adam(model.parameters(), lr=LEARNING_RATE)\n",
    "# Use CrossEntropyLoss, ignore padding index in loss calculation\n",
    "criterion = nn.CrossEntropyLoss(ignore_index=tokenizer.pad_idx)\n",
    "\n",
    "# print(f\"Model initialized on {DEVICE}. Parameters: {sum(p.numel() for p in model.parameters() if p.requires_grad)}\")\n",
    "\n",
    "# # 5. Training Loop (Simplified Outline)\n",
    "# print(f\"\\n--- Starting Simplified Training Loop (for {NUM_EPOCHS} epochs) ---\")\n",
    "# model.train() # Set model to training mode\n",
    "# for epoch in range(NUM_EPOCHS):\n",
    "#     epoch_loss = 0\n",
    "#     for batch_idx, (props, input_seqs, target_seqs, padding_masks) in enumerate(data_loader):\n",
    "#         props = props.to(DEVICE)\n",
    "#         input_seqs = input_seqs.to(DEVICE) # (batch, seq_len-1)\n",
    "#         target_seqs = target_seqs.to(DEVICE) # (batch, seq_len-1)\n",
    "#         padding_masks = padding_masks.to(DEVICE) # (batch, seq_len-1)\n",
    "\n",
    "#         optimizer.zero_grad()\n",
    "        \n",
    "#         # output_logits shape: (batch_size, seq_len-1, vocab_size)\n",
    "#         output_logits = model(props, input_seqs, tgt_padding_mask=padding_masks)\n",
    "        \n",
    "#         # Reshape for CrossEntropyLoss:\n",
    "#         # output_logits: (batch_size * (seq_len-1), vocab_size)\n",
    "#         # target_seqs: (batch_size * (seq_len-1))\n",
    "#         loss = criterion(output_logits.reshape(-1, tokenizer.vocab_size), target_seqs.reshape(-1))\n",
    "        \n",
    "#         loss.backward()\n",
    "#         optimizer.step()\n",
    "        \n",
    "#         epoch_loss += loss.item()\n",
    "\n",
    "#         if batch_idx % 5 == 0: # Print progress every 5 batches\n",
    "#                 print(f\"Epoch [{epoch+1}/{NUM_EPOCHS}], Batch [{batch_idx+1}/{len(data_loader)}], Loss: {loss.item():.4f}\")\n",
    "\n",
    "\n",
    "#     avg_epoch_loss = epoch_loss / len(data_loader)\n",
    "#     print(f\"Epoch [{epoch+1}/{NUM_EPOCHS}] completed. Average Loss: {avg_epoch_loss:.4f}\")\n",
    "\n",
    "# print(\"--- Training Loop Finished (Simplified) ---\")\n",
    "\n",
    "\n",
    "\n",
    "\n",
    "import matplotlib.pyplot as plt\n",
    "\n",
    "# Store losses\n",
    "train_losses = []\n",
    "test_losses = []\n",
    "\n",
    "# Define an evaluation function\n",
    "def evaluate(model, data_loader, criterion):\n",
    "    model.eval()\n",
    "    total_loss = 0\n",
    "    with torch.no_grad():\n",
    "        for props, input_seqs, target_seqs, padding_masks in data_loader:\n",
    "            props = props.to(DEVICE)\n",
    "            input_seqs = input_seqs.to(DEVICE)\n",
    "            target_seqs = target_seqs.to(DEVICE)\n",
    "            padding_masks = padding_masks.to(DEVICE)\n",
    "\n",
    "            output_logits = model(props, input_seqs, tgt_padding_mask=padding_masks)\n",
    "            loss = criterion(output_logits.reshape(-1, tokenizer.vocab_size), target_seqs.reshape(-1))\n",
    "            total_loss += loss.item()\n",
    "\n",
    "    return total_loss / len(data_loader)\n",
    "\n",
    "# Training loop\n",
    "print(f\"\\n--- Starting Training Loop (for {NUM_EPOCHS} epochs) ---\")\n",
    "for epoch in range(NUM_EPOCHS):\n",
    "    model.train()\n",
    "    epoch_loss = 0\n",
    "    for batch_idx, (props, input_seqs, target_seqs, padding_masks) in enumerate(train_loader):  # <- make sure this is your train DataLoader\n",
    "        props = props.to(DEVICE)\n",
    "        input_seqs = input_seqs.to(DEVICE)\n",
    "        target_seqs = target_seqs.to(DEVICE)\n",
    "        padding_masks = padding_masks.to(DEVICE)\n",
    "\n",
    "        optimizer.zero_grad()\n",
    "        output_logits = model(props, input_seqs, tgt_padding_mask=padding_masks)\n",
    "        loss = criterion(output_logits.reshape(-1, tokenizer.vocab_size), target_seqs.reshape(-1))\n",
    "        loss.backward()\n",
    "        optimizer.step()\n",
    "\n",
    "        epoch_loss += loss.item()\n",
    "\n",
    "        if batch_idx % 5 == 0:\n",
    "            print(f\"Epoch [{epoch+1}/{NUM_EPOCHS}], Batch [{batch_idx+1}/{len(train_loader)}], Loss: {loss.item():.4f}\")\n",
    "\n",
    "    avg_train_loss = epoch_loss / len(train_loader)\n",
    "    train_losses.append(avg_train_loss)\n",
    "\n",
    "    # Evaluate on test set (replace `test_loader` with your actual DataLoader)\n",
    "    avg_test_loss = evaluate(model, test_loader, criterion)\n",
    "    test_losses.append(avg_test_loss)\n",
    "\n",
    "    print(f\"Epoch [{epoch+1}/{NUM_EPOCHS}] completed. Train Loss: {avg_train_loss:.4f}, Test Loss: {avg_test_loss:.4f}\")\n",
    "\n",
    "print(\"--- Training Loop Finished ---\")"
   ]
  },
  {
   "cell_type": "code",
   "execution_count": 25,
   "id": "6ce74421",
   "metadata": {},
   "outputs": [
    {
     "data": {
      "image/png": "[encoded data removed]",
      "text/plain": [
       "<Figure size 800x500 with 1 Axes>"
      ]
     },
     "metadata": {},
     "output_type": "display_data"
    }
   ],
   "source": [
    "# Plotting\n",
    "plt.figure(figsize=(8,5))\n",
    "plt.plot(range(1, NUM_EPOCHS + 1), train_losses, label='Train Loss')\n",
    "plt.plot(range(1, NUM_EPOCHS + 1), test_losses, label='Test Loss')\n",
    "plt.xlabel('Epoch')\n",
    "plt.ylabel('Loss')\n",
    "plt.title('Training and Test Loss over Epochs')\n",
    "plt.legend()\n",
    "plt.grid(True)\n",
    "plt.tight_layout()\n",
    "plt.show()"
   ]
  },
  {
   "cell_type": "code",
   "execution_count": 26,
   "id": "b9aef270",
   "metadata": {},
   "outputs": [
    {
     "name": "stdout",
     "output_type": "stream",
     "text": [
      "\n",
      "--- Comparing Model Predictions on 20 Random Samples from QM9 ---\n",
      "\n",
      "Sample 3115:\n",
      "  Original Properties (Unscaled):\n",
      "    homo: -0.2627\n",
      "    lumo: -0.0086\n",
      "    gap: 0.2541\n",
      "    alpha: 55.8100\n",
      "  Original SMILES: N#CC12CC1CO2\n",
      "  Generated SMILES: CCCCCCCCCCCCCCCCCCCCCCCCCCCCCCCCCCCCCCCCCCCCCCCCCCCCCCCCCCCCCCCCCCCCCCCCCCCC\n",
      "  Generated SMILES is RDKit Valid: Yes\n",
      "\n",
      "Sample 117879:\n",
      "  Original Properties (Unscaled):\n",
      "    homo: -0.2697\n",
      "    lumo: -0.0657\n",
      "    gap: 0.2040\n",
      "    alpha: 77.3400\n",
      "  Original SMILES: COCC(O)C#CC=O\n",
      "  Generated SMILES: \n",
      "  Generated SMILES is Empty.\n",
      "\n",
      "Sample 23433:\n",
      "  Original Properties (Unscaled):\n",
      "    homo: -0.2258\n",
      "    lumo: 0.0156\n",
      "    gap: 0.2414\n",
      "    alpha: 76.7500\n",
      "  Original SMILES: COC1C2CC(=NO)C12\n",
      "  Generated SMILES: \n",
      "  Generated SMILES is Empty.\n",
      "\n",
      "Sample 61955:\n",
      "  Original Properties (Unscaled):\n",
      "    homo: -0.2438\n",
      "    lumo: -0.0199\n",
      "    gap: 0.2239\n",
      "    alpha: 79.5000\n",
      "  Original SMILES: CC(CC=O)OCC#C\n",
      "  Generated SMILES: \n",
      "  Generated SMILES is Empty.\n",
      "\n",
      "Sample 98811:\n",
      "  Original Properties (Unscaled):\n",
      "    homo: -0.2343\n",
      "    lumo: 0.0056\n",
      "    gap: 0.2400\n",
      "    alpha: 77.8100\n",
      "  Original SMILES: COC(=N)N1CCC1=N\n",
      "  Generated SMILES: \n",
      "  Generated SMILES is Empty.\n",
      "\n",
      "Sample 9897:\n",
      "  Original Properties (Unscaled):\n",
      "    homo: -0.2433\n",
      "    lumo: 0.0280\n",
      "    gap: 0.2713\n",
      "    alpha: 74.7400\n",
      "  Original SMILES: CC1(CN1)C#CCO\n",
      "  Generated SMILES: \n",
      "  Generated SMILES is Empty.\n",
      "\n",
      "Sample 115207:\n",
      "  Original Properties (Unscaled):\n",
      "    homo: -0.2147\n",
      "    lumo: 0.0329\n",
      "    gap: 0.2475\n",
      "    alpha: 79.5700\n",
      "  Original SMILES: CCC1CNC(=O)CN1\n",
      "  Generated SMILES: \n",
      "  Generated SMILES is Empty.\n",
      "\n",
      "Sample 58202:\n",
      "  Original Properties (Unscaled):\n",
      "    homo: -0.2256\n",
      "    lumo: 0.0353\n",
      "    gap: 0.2608\n",
      "    alpha: 86.6300\n",
      "  Original SMILES: CC(C)N(C)C(C)C#N\n",
      "  Generated SMILES: \n",
      "  Generated SMILES is Empty.\n",
      "\n",
      "Sample 62857:\n",
      "  Original Properties (Unscaled):\n",
      "    homo: -0.2636\n",
      "    lumo: 0.0037\n",
      "    gap: 0.2673\n",
      "    alpha: 67.5800\n",
      "  Original SMILES: CC1(O)C2CC1C(=O)O2\n",
      "  Generated SMILES: CCCCCCCC\n",
      "  Generated SMILES is RDKit Valid: Yes\n",
      "\n",
      "Sample 19289:\n",
      "  Original Properties (Unscaled):\n",
      "    homo: -0.2497\n",
      "    lumo: 0.0733\n",
      "    gap: 0.3230\n",
      "    alpha: 66.7300\n",
      "  Original SMILES: CCC1C2OC2C1O\n",
      "  Generated SMILES: CCCCCCCCCCCCCCCCCCCCCCCCCCCCCCCCCCCCCCCCC\n",
      "  Generated SMILES is RDKit Valid: Yes\n",
      "\n",
      "Sample 49814:\n",
      "  Original Properties (Unscaled):\n",
      "    homo: -0.2446\n",
      "    lumo: -0.0696\n",
      "    gap: 0.1750\n",
      "    alpha: 68.8500\n",
      "  Original SMILES: N=C1NC(CC1=O)C=O\n",
      "  Generated SMILES: CCCCCCCCCCCCCCCCC\n",
      "  Generated SMILES is RDKit Valid: Yes\n",
      "\n",
      "Sample 6177:\n",
      "  Original Properties (Unscaled):\n",
      "    homo: -0.2535\n",
      "    lumo: 0.0717\n",
      "    gap: 0.3252\n",
      "    alpha: 71.6800\n",
      "  Original SMILES: CC(O)C1OC1(C)C\n",
      "  Generated SMILES: \n",
      "  Generated SMILES is Empty.\n",
      "\n",
      "Sample 107789:\n",
      "  Original Properties (Unscaled):\n",
      "    homo: -0.2481\n",
      "    lumo: 0.0738\n",
      "    gap: 0.3220\n",
      "    alpha: 81.0400\n",
      "  Original SMILES: CCC12CC3C(C13)C2O\n",
      "  Generated SMILES: \n",
      "  Generated SMILES is Empty.\n",
      "\n",
      "Sample 78263:\n",
      "  Original Properties (Unscaled):\n",
      "    homo: -0.1911\n",
      "    lumo: 0.0815\n",
      "    gap: 0.2726\n",
      "    alpha: 87.8000\n",
      "  Original SMILES: CC1C2C1C1(C)C2N1C\n",
      "  Generated SMILES: \n",
      "  Generated SMILES is Empty.\n",
      "\n",
      "Sample 29240:\n",
      "  Original Properties (Unscaled):\n",
      "    homo: -0.2460\n",
      "    lumo: -0.0418\n",
      "    gap: 0.2042\n",
      "    alpha: 71.9700\n",
      "  Original SMILES: CC1=COC(=N)NC1=O\n",
      "  Generated SMILES: \n",
      "  Generated SMILES is Empty.\n",
      "\n",
      "Sample 54156:\n",
      "  Original Properties (Unscaled):\n",
      "    homo: -0.2386\n",
      "    lumo: -0.0194\n",
      "    gap: 0.2191\n",
      "    alpha: 79.5700\n",
      "  Original SMILES: CC(=O)C1(C)NC1C#C\n",
      "  Generated SMILES: \n",
      "  Generated SMILES is Empty.\n",
      "\n",
      "Sample 48126:\n",
      "  Original Properties (Unscaled):\n",
      "    homo: -0.2628\n",
      "    lumo: -0.0935\n",
      "    gap: 0.1693\n",
      "    alpha: 66.2300\n",
      "  Original SMILES: C1CN(C1=O)C(=O)C=O\n",
      "  Generated SMILES: CCCCCCCCCCCCCCCCCCCCCCCCCCCCCCCCCCCCCCCCC\n",
      "  Generated SMILES is RDKit Valid: Yes\n",
      "\n",
      "Sample 36270:\n",
      "  Original Properties (Unscaled):\n",
      "    homo: -0.2287\n",
      "    lumo: 0.0366\n",
      "    gap: 0.2653\n",
      "    alpha: 74.4800\n",
      "  Original SMILES: C#CCN1C2C3OC3C12\n",
      "  Generated SMILES: \n",
      "  Generated SMILES is Empty.\n",
      "\n",
      "Sample 90021:\n",
      "  Original Properties (Unscaled):\n",
      "    homo: -0.2478\n",
      "    lumo: 0.0143\n",
      "    gap: 0.2620\n",
      "    alpha: 72.7200\n",
      "  Original SMILES: OC1CC2(COC2=N)C1\n",
      "  Generated SMILES: \n",
      "  Generated SMILES is Empty.\n",
      "\n",
      "Sample 40842:\n",
      "  Original Properties (Unscaled):\n",
      "    homo: -0.2135\n",
      "    lumo: -0.0011\n",
      "    gap: 0.2123\n",
      "    alpha: 84.0800\n",
      "  Original SMILES: C1CC1N=C2CN=CN2\n",
      "  Generated SMILES: \n",
      "  Generated SMILES is Empty.\n",
      "\n",
      "\n",
      "--- Valid RDKit-Generated SMILES Pairs (Original vs. Generated) ---\n",
      "Sample ID: 3115\n",
      "  Original:  N#CC12CC1CO2\n",
      "  Generated: CCCCCCCCCCCCCCCCCCCCCCCCCCCCCCCCCCCCCCCCCCCCCCCCCCCCCCCCCCCCCCCCCCCCCCCCCCCC\n",
      "Sample ID: 62857\n",
      "  Original:  CC1(O)C2CC1C(=O)O2\n",
      "  Generated: CCCCCCCC\n",
      "Sample ID: 19289\n",
      "  Original:  CCC1C2OC2C1O\n",
      "  Generated: CCCCCCCCCCCCCCCCCCCCCCCCCCCCCCCCCCCCCCCCC\n",
      "Sample ID: 49814\n",
      "  Original:  N=C1NC(CC1=O)C=O\n",
      "  Generated: CCCCCCCCCCCCCCCCC\n",
      "Sample ID: 48126\n",
      "  Original:  C1CN(C1=O)C(=O)C=O\n",
      "  Generated: CCCCCCCCCCCCCCCCCCCCCCCCCCCCCCCCCCCCCCCCC\n",
      "\n",
      "\n",
      "--- Graphical Comparison of Valid Original vs. Generated Sequences (<= 32 tokens) ---\n",
      "Skipping Sample ID 3115 from graphical display due to token length:\n",
      "  Original SMILES: N#CC12CC1CO2 (Tokens: 12)\n",
      "  Generated SMILES: CCCCCCCCCCCCCCCCCCCCCCCCCCCCCCCCCCCCCCCCCCCCCCCCCCCCCCCCCCCCCCCCCCCCCCCCCCCC (Tokens: 76)\n",
      "Skipping Sample ID 19289 from graphical display due to token length:\n",
      "  Original SMILES: CCC1C2OC2C1O (Tokens: 12)\n",
      "  Generated SMILES: CCCCCCCCCCCCCCCCCCCCCCCCCCCCCCCCCCCCCCCCC (Tokens: 41)\n",
      "Skipping Sample ID 48126 from graphical display due to token length:\n",
      "  Original SMILES: C1CN(C1=O)C(=O)C=O (Tokens: 18)\n",
      "  Generated SMILES: CCCCCCCCCCCCCCCCCCCCCCCCCCCCCCCCCCCCCCCCC (Tokens: 41)\n",
      "Standard img.save() failed. Attempting to save image via .data attribute.\n",
      "Graphical comparison (length filtered) saved via .data to: comparison_visualizations/original_vs_generated_comparison_len_filtered.png\n"
     ]
    }
   ],
   "source": [
    "def compare_on_random_samples(model, tokenizer, scaler, full_dataset_df, \n",
    "                              property_column_names, num_samples=5):\n",
    "    \"\"\"\n",
    "    Randomly samples from the full dataset, generates SMILES using the model,\n",
    "    compares them to the original SMILES, and visualizes valid pairs,\n",
    "    excluding pairs where either SMILES sequence is longer than 32 tokens.\n",
    "\n",
    "    Args:\n",
    "        model: The trained SmilesTransformer model.\n",
    "        tokenizer: The SMILESTokenizer.\n",
    "        scaler: The fitted StandardScaler for properties.\n",
    "        full_dataset_df (pd.DataFrame): The complete qm9 dataframe (unscaled, unfiltered).\n",
    "        property_column_names (list): List of property names in order for the scaler.\n",
    "        num_samples (int): Number of random samples to evaluate.\n",
    "    \"\"\"\n",
    "    print(f\"\\n--- Comparing Model Predictions on {num_samples} Random Samples from QM9 ---\")\n",
    "    \n",
    "    if full_dataset_df.empty:\n",
    "        print(\"Full dataset is empty, cannot sample.\")\n",
    "        return\n",
    "\n",
    "    if num_samples > len(full_dataset_df):\n",
    "        print(f\"Requested {num_samples} samples, but dataset only has {len(full_dataset_df)}. Adjusting.\")\n",
    "        num_samples = len(full_dataset_df)\n",
    "\n",
    "    required_cols_for_sampling = ['smiles'] + property_column_names\n",
    "    # Ensure pandas (pd) is available, typically imported in the main script as 'pd'\n",
    "    # Drop rows where any of these essential columns are NaN before sampling\n",
    "    sample_df = full_dataset_df.dropna(subset=required_cols_for_sampling).sample(n=num_samples, random_state=42) # for reproducibility\n",
    "\n",
    "    if sample_df.empty:\n",
    "        print(\"No valid samples found after attempting to drop NaNs from required columns. Cannot proceed.\")\n",
    "        return\n",
    "\n",
    "    valid_rdkit_pairs = [] # To store dicts of valid original/generated pairs\n",
    "\n",
    "    for index, row in sample_df.iterrows():\n",
    "        original_smiles = row['smiles']\n",
    "        # Prepare properties as a DataFrame for the scaler to avoid UserWarning\n",
    "        unscaled_props_numpy = row[property_column_names].values.astype(float).reshape(1, -1)\n",
    "        unscaled_props_df = pd.DataFrame(unscaled_props_numpy, columns=property_column_names)\n",
    "        \n",
    "        try:\n",
    "            # Scaler transform expects a DataFrame if fitted with one, or matching columns.\n",
    "            # It returns a NumPy array.\n",
    "            scaled_props_numpy = scaler.transform(unscaled_props_df) # Corrected: remove .values\n",
    "        except Exception as e:\n",
    "            print(f\"Error scaling properties for sample {index} (SMILES: {original_smiles}): {e}\")\n",
    "            print(f\"Unscaled properties: {unscaled_props_numpy}\")\n",
    "            continue\n",
    "\n",
    "        # Ensure scaled_props_numpy is correctly shaped for torch.tensor\n",
    "        # .squeeze() removes single-dimensional entries from the shape of an array.\n",
    "        # scaler.transform returns a 2D array (e.g., (1, num_features)), squeeze makes it 1D.\n",
    "        squeezed_props = scaled_props_numpy.squeeze()\n",
    "        \n",
    "        # Ensure the tensor is correctly formed.\n",
    "        # If only one property, squeeze might make it 0-dim.\n",
    "        if squeezed_props.ndim == 0: \n",
    "            scaled_props_tensor = torch.tensor([squeezed_props.item()], dtype=torch.float).to(DEVICE)\n",
    "        elif squeezed_props.ndim == 1:\n",
    "             scaled_props_tensor = torch.tensor(squeezed_props, dtype=torch.float).to(DEVICE)\n",
    "        else: \n",
    "            # This case should ideally not be hit if squeeze works as expected on (1, N) input\n",
    "            print(f\"Warning: Unexpected shape for scaled_props_numpy after squeeze: {squeezed_props.shape}. Using as is.\")\n",
    "            scaled_props_tensor = torch.tensor(squeezed_props, dtype=torch.float).to(DEVICE)\n",
    "\n",
    "        generated_smiles = model.generate(scaled_props_tensor, tokenizer, max_len=MAX_SEQ_LEN)\n",
    "        \n",
    "        print(f\"\\nSample {index}:\")\n",
    "        print(f\"  Original Properties (Unscaled):\")\n",
    "        for i, p_name in enumerate(property_column_names):\n",
    "            print(f\"    {p_name}: {unscaled_props_numpy[0, i]:.4f}\") # Use unscaled_props_numpy for printing\n",
    "        print(f\"  Original SMILES: {original_smiles}\")\n",
    "        print(f\"  Generated SMILES: {generated_smiles}\")\n",
    "\n",
    "        original_mol_valid = False\n",
    "        generated_mol_valid = False\n",
    "        original_mol_rdkit = None\n",
    "        generated_mol_rdkit = None\n",
    "\n",
    "        if RDKIT_AVAILABLE: # Global flag indicating RDKit was imported\n",
    "            if original_smiles:\n",
    "                original_mol_rdkit = Chem.MolFromSmiles(original_smiles) # Chem from rdkit\n",
    "                if original_mol_rdkit:\n",
    "                    original_mol_valid = True\n",
    "            \n",
    "            if generated_smiles:\n",
    "                generated_mol_rdkit = Chem.MolFromSmiles(generated_smiles)\n",
    "                if generated_mol_rdkit:\n",
    "                    generated_mol_valid = True\n",
    "                    print(f\"  Generated SMILES is RDKit Valid: Yes\")\n",
    "                    if original_mol_valid: # Only store if original is also valid for comparison\n",
    "                         valid_rdkit_pairs.append({\n",
    "                             \"original_smiles\": original_smiles,\n",
    "                             \"generated_smiles\": generated_smiles,\n",
    "                             \"original_mol\": original_mol_rdkit,\n",
    "                             \"generated_mol\": generated_mol_rdkit,\n",
    "                             \"id\": index\n",
    "                         })\n",
    "                else:\n",
    "                    print(f\"  Generated SMILES is RDKit Valid: No (RDKit could not parse)\")\n",
    "            elif not generated_smiles:\n",
    "                print(f\"  Generated SMILES is Empty.\")\n",
    "        else:\n",
    "            print(\"  RDKIT not available. Skipping SMILES validation and graphical output.\")\n",
    "\n",
    "    # After the loop, print all valid (original, generated) SMILES pairs\n",
    "    if RDKIT_AVAILABLE and valid_rdkit_pairs:\n",
    "        print(\"\\n\\n--- Valid RDKit-Generated SMILES Pairs (Original vs. Generated) ---\")\n",
    "        # This loop remains to print all valid pairs regardless of length for textual output\n",
    "        for pair_info in valid_rdkit_pairs:\n",
    "            print(f\"Sample ID: {pair_info['id']}\")\n",
    "            print(f\"  Original:  {pair_info['original_smiles']}\")\n",
    "            print(f\"  Generated: {pair_info['generated_smiles']}\")\n",
    "\n",
    "        print(\"\\n\\n--- Graphical Comparison of Valid Original vs. Generated Sequences (<= 32 tokens) ---\")\n",
    "        \n",
    "        mols_to_draw = []\n",
    "        legends = []\n",
    "        max_token_len_for_display = 32\n",
    "\n",
    "        for pair_info in valid_rdkit_pairs:\n",
    "            # Tokenize original and generated SMILES to check their length\n",
    "            # The tokenizer.tokenize() method returns a list of token IDs.\n",
    "            # We add SOS and EOS tokens for a more accurate length, similar to training.\n",
    "            # However, for simple length check, just tokenizing the string itself is usually sufficient.\n",
    "            # Let's use the raw tokenized length of the SMILES string itself.\n",
    "            original_tokens = tokenizer.tokenize(pair_info['original_smiles'])\n",
    "            generated_tokens = tokenizer.tokenize(pair_info['generated_smiles'])\n",
    "\n",
    "            if len(original_tokens) <= max_token_len_for_display and \\\n",
    "               len(generated_tokens) <= max_token_len_for_display:\n",
    "                mols_to_draw.append(pair_info['original_mol'])\n",
    "                legends.append(f\"Sample {pair_info['id']}\\nOriginal ({len(original_tokens)} tok)\")\n",
    "                mols_to_draw.append(pair_info['generated_mol'])\n",
    "                legends.append(f\"Sample {pair_info['id']}\\nGenerated ({len(generated_tokens)} tok)\")\n",
    "            else:\n",
    "                print(f\"Skipping Sample ID {pair_info['id']} from graphical display due to token length:\")\n",
    "                print(f\"  Original SMILES: {pair_info['original_smiles']} (Tokens: {len(original_tokens)})\")\n",
    "                print(f\"  Generated SMILES: {pair_info['generated_smiles']} (Tokens: {len(generated_tokens)})\")\n",
    "\n",
    "\n",
    "        if mols_to_draw:\n",
    "            mols_per_row = 2 \n",
    "            # MolsToGridImage from rdkit.Chem.Draw\n",
    "            img = MolsToGridImage(mols_to_draw, molsPerRow=mols_per_row, subImgSize=(300,300), legends=legends)\n",
    "            \n",
    "            output_comparison_dir = \"comparison_visualizations\"\n",
    "            os.makedirs(output_comparison_dir, exist_ok=True) # os from import os\n",
    "            comparison_image_path = os.path.join(output_comparison_dir, \"original_vs_generated_comparison_len_filtered.png\") # New filename\n",
    "            \n",
    "            try:\n",
    "                # Try standard PIL save first\n",
    "                img.save(comparison_image_path)\n",
    "                print(f\"Graphical comparison (length filtered) saved to: {comparison_image_path}\")\n",
    "            except AttributeError: \n",
    "                # If .save attribute is missing, it might be an IPython Image or similar\n",
    "                if hasattr(img, 'data') and isinstance(img.data, bytes):\n",
    "                    print(f\"Standard img.save() failed. Attempting to save image via .data attribute.\")\n",
    "                    try:\n",
    "                        with open(comparison_image_path, 'wb') as f_img_data:\n",
    "                            f_img_data.write(img.data)\n",
    "                        print(f\"Graphical comparison (length filtered) saved via .data to: {comparison_image_path}\")\n",
    "                    except Exception as e_data_write:\n",
    "                        print(f\"Error writing img.data to file: {e_data_write}\")\n",
    "                else:\n",
    "                    print(f\"Error: img.save() failed and img.data attribute is not available/bytes.\")\n",
    "                    print(f\"Type of img object: {type(img)}. Cannot save image.\")\n",
    "            except Exception as e_general_save: # Catch other potential errors during save\n",
    "                print(f\"An unexpected error occurred while saving the image: {e_general_save}\")\n",
    "                print(f\"Type of img object: {type(img)}\")\n",
    "        else:\n",
    "            print(\"No RDKit-valid pairs (meeting token length criteria) to display graphically.\")\n",
    "            \n",
    "    elif not RDKIT_AVAILABLE:\n",
    "        print(\"\\nSkipping graphical output as RDKit is not available.\")\n",
    "    elif not valid_rdkit_pairs: # RDKit available, but no valid pairs found\n",
    "        print(\"\\nRDKit is available, but no RDKit-valid generated SMILES (paired with valid originals) to display graphically.\")\n",
    "\n",
    "\n",
    "\n",
    "compare_on_random_samples(model, tokenizer, scaler, df_full, property_cols, num_samples=20)"
   ]
  },
  {
   "cell_type": "code",
   "execution_count": 28,
   "id": "ecc22c52",
   "metadata": {},
   "outputs": [
    {
     "name": "stdout",
     "output_type": "stream",
     "text": [
      "\n",
      "Generating for target (unscaled): {'homo': np.float64(-0.2348029302013028), 'lumo': np.float64(-0.03678877978924214), 'gap': np.float64(0.19801415041206066), 'alpha': np.float64(82.12270508080113)}\n"
     ]
    },
    {
     "name": "stderr",
     "output_type": "stream",
     "text": [
      "/Users/colinweaver/Documents/MIT Documents/2.174/NEMSTransformer/.venv copy/lib/python3.9/site-packages/sklearn/utils/validation.py:2739: UserWarning: X does not have valid feature names, but StandardScaler was fitted with feature names\n",
      "  warnings.warn(\n"
     ]
    },
    {
     "name": "stdout",
     "output_type": "stream",
     "text": [
      "Generated SMILES: \n",
      "Is in QM9: False\n",
      "RDKit valid: False\n",
      "\n",
      "Generating for target (unscaled): {'homo': np.float64(-0.3683798370985945), 'lumo': np.float64(0.09468224142556214), 'gap': np.float64(0.46306207852415665), 'alpha': np.float64(88.36061324148378)}\n"
     ]
    },
    {
     "name": "stderr",
     "output_type": "stream",
     "text": [
      "/Users/colinweaver/Documents/MIT Documents/2.174/NEMSTransformer/.venv copy/lib/python3.9/site-packages/sklearn/utils/validation.py:2739: UserWarning: X does not have valid feature names, but StandardScaler was fitted with feature names\n",
      "  warnings.warn(\n"
     ]
    },
    {
     "name": "stdout",
     "output_type": "stream",
     "text": [
      "Generated SMILES: \n",
      "Is in QM9: False\n",
      "RDKit valid: False\n",
      "\n",
      "Generating for target (unscaled): {'homo': np.float64(-0.12977355299494475), 'lumo': np.float64(0.1719852649020242), 'gap': np.float64(0.30175881789696896), 'alpha': np.float64(67.06968011436132)}\n"
     ]
    },
    {
     "name": "stderr",
     "output_type": "stream",
     "text": [
      "/Users/colinweaver/Documents/MIT Documents/2.174/NEMSTransformer/.venv copy/lib/python3.9/site-packages/sklearn/utils/validation.py:2739: UserWarning: X does not have valid feature names, but StandardScaler was fitted with feature names\n",
      "  warnings.warn(\n"
     ]
    },
    {
     "name": "stdout",
     "output_type": "stream",
     "text": [
      "Visualized and saved to: generated_molecules/generated_3.png\n",
      "Generated SMILES: CCCCCCCC\n",
      "Is in QM9: True\n",
      "RDKit valid: True\n",
      "\n",
      "Generating for target (unscaled): {'homo': np.float64(-0.12919936459849773), 'lumo': np.float64(-0.0471412850214768), 'gap': np.float64(0.08205807957702094), 'alpha': np.float64(19.165549045435544)}\n",
      "Visualized and saved to: generated_molecules/generated_4.png\n",
      "Generated SMILES: CCCCCCCCCCCCC\n",
      "Is in QM9: False\n",
      "RDKit valid: True\n",
      "\n",
      "Generating for target (unscaled): {'homo': np.float64(-0.3912819658587029), 'lumo': np.float64(0.08942442546876711), 'gap': np.float64(0.48070639132747), 'alpha': np.float64(131.61922514875724)}\n"
     ]
    },
    {
     "name": "stderr",
     "output_type": "stream",
     "text": [
      "/Users/colinweaver/Documents/MIT Documents/2.174/NEMSTransformer/.venv copy/lib/python3.9/site-packages/sklearn/utils/validation.py:2739: UserWarning: X does not have valid feature names, but StandardScaler was fitted with feature names\n",
      "  warnings.warn(\n",
      "/Users/colinweaver/Documents/MIT Documents/2.174/NEMSTransformer/.venv copy/lib/python3.9/site-packages/sklearn/utils/validation.py:2739: UserWarning: X does not have valid feature names, but StandardScaler was fitted with feature names\n",
      "  warnings.warn(\n"
     ]
    },
    {
     "name": "stdout",
     "output_type": "stream",
     "text": [
      "Generated SMILES: \n",
      "Is in QM9: False\n",
      "RDKit valid: False\n",
      "\n",
      "Generating for target (unscaled): {'homo': np.float64(-0.3932982228644725), 'lumo': np.float64(0.07681445278986138), 'gap': np.float64(0.4701126756543339), 'alpha': np.float64(55.78635345635721)}\n"
     ]
    },
    {
     "name": "stderr",
     "output_type": "stream",
     "text": [
      "/Users/colinweaver/Documents/MIT Documents/2.174/NEMSTransformer/.venv copy/lib/python3.9/site-packages/sklearn/utils/validation.py:2739: UserWarning: X does not have valid feature names, but StandardScaler was fitted with feature names\n",
      "  warnings.warn(\n"
     ]
    },
    {
     "name": "stdout",
     "output_type": "stream",
     "text": [
      "Visualized and saved to: generated_molecules/generated_6.png\n",
      "Generated SMILES: CCCCCCCCCCCCCCCCCCCCCCCCCCCCCCCCCCCCCCCCCCCCCCCCCCCCCCCCCCCCCCCCCCCCCCCCCCCCCCCC\n",
      "Is in QM9: False\n",
      "RDKit valid: True\n",
      "\n",
      "Generating for target (unscaled): {'homo': np.float64(-0.11459147345004939), 'lumo': np.float64(0.16805379604770115), 'gap': np.float64(0.28264526949775054), 'alpha': np.float64(141.56498877225812)}\n"
     ]
    },
    {
     "name": "stderr",
     "output_type": "stream",
     "text": [
      "/Users/colinweaver/Documents/MIT Documents/2.174/NEMSTransformer/.venv copy/lib/python3.9/site-packages/sklearn/utils/validation.py:2739: UserWarning: X does not have valid feature names, but StandardScaler was fitted with feature names\n",
      "  warnings.warn(\n"
     ]
    },
    {
     "name": "stdout",
     "output_type": "stream",
     "text": [
      "Generated SMILES: \n",
      "Is in QM9: False\n",
      "RDKit valid: False\n",
      "\n",
      "Generating for target (unscaled): {'homo': -2.2093287224168305, 'lumo': 2.1947358929671563, 'gap': 4.404064615383987, 'alpha': np.float64(139.98192453542353)}\n"
     ]
    },
    {
     "name": "stderr",
     "output_type": "stream",
     "text": [
      "/Users/colinweaver/Documents/MIT Documents/2.174/NEMSTransformer/.venv copy/lib/python3.9/site-packages/sklearn/utils/validation.py:2739: UserWarning: X does not have valid feature names, but StandardScaler was fitted with feature names\n",
      "  warnings.warn(\n"
     ]
    },
    {
     "name": "stdout",
     "output_type": "stream",
     "text": [
      "Generated SMILES: \n",
      "Is in QM9: False\n",
      "RDKit valid: False\n",
      "\n",
      "Generating for target (unscaled): {'homo': np.float64(-0.32902901159807263), 'lumo': np.float64(-0.14386863789186366), 'gap': np.float64(0.18516037370620897), 'alpha': np.float64(57.026114589381045)}\n"
     ]
    },
    {
     "name": "stderr",
     "output_type": "stream",
     "text": [
      "/Users/colinweaver/Documents/MIT Documents/2.174/NEMSTransformer/.venv copy/lib/python3.9/site-packages/sklearn/utils/validation.py:2739: UserWarning: X does not have valid feature names, but StandardScaler was fitted with feature names\n",
      "  warnings.warn(\n"
     ]
    },
    {
     "name": "stdout",
     "output_type": "stream",
     "text": [
      "Visualized and saved to: generated_molecules/generated_9.png\n",
      "Generated SMILES: CCCCCCCCCCCCCCCCCCCCCCCCCCCCCCCCCCCCCCCCCCCCCCCCCCCCCCCCCCCCCCCCCCC\n",
      "Is in QM9: False\n",
      "RDKit valid: True\n",
      "\n",
      "Generating for target (unscaled): {'homo': np.float64(-0.12072749795864551), 'lumo': np.float64(0.18632685503393437), 'gap': np.float64(0.3070543529925799), 'alpha': np.float64(134.01948242290132)}\n"
     ]
    },
    {
     "name": "stderr",
     "output_type": "stream",
     "text": [
      "/Users/colinweaver/Documents/MIT Documents/2.174/NEMSTransformer/.venv copy/lib/python3.9/site-packages/sklearn/utils/validation.py:2739: UserWarning: X does not have valid feature names, but StandardScaler was fitted with feature names\n",
      "  warnings.warn(\n"
     ]
    },
    {
     "name": "stdout",
     "output_type": "stream",
     "text": [
      "Generated SMILES: \n",
      "Is in QM9: False\n",
      "RDKit valid: False\n",
      "\n",
      "Generating for target (unscaled): {'homo': np.float64(-0.1665487813599263), 'lumo': np.float64(0.0032511532566168178), 'gap': np.float64(0.1697999346165431), 'alpha': np.float64(151.2269096936508)}\n"
     ]
    },
    {
     "name": "stderr",
     "output_type": "stream",
     "text": [
      "/Users/colinweaver/Documents/MIT Documents/2.174/NEMSTransformer/.venv copy/lib/python3.9/site-packages/sklearn/utils/validation.py:2739: UserWarning: X does not have valid feature names, but StandardScaler was fitted with feature names\n",
      "  warnings.warn(\n"
     ]
    },
    {
     "name": "stdout",
     "output_type": "stream",
     "text": [
      "Generated SMILES: \n",
      "Is in QM9: False\n",
      "RDKit valid: False\n",
      "\n",
      "Generating for target (unscaled): {'homo': np.float64(-0.26963132759019093), 'lumo': np.float64(0.07008428559946045), 'gap': np.float64(0.3397156131896514), 'alpha': np.float64(103.31032103986789)}\n"
     ]
    },
    {
     "name": "stderr",
     "output_type": "stream",
     "text": [
      "/Users/colinweaver/Documents/MIT Documents/2.174/NEMSTransformer/.venv copy/lib/python3.9/site-packages/sklearn/utils/validation.py:2739: UserWarning: X does not have valid feature names, but StandardScaler was fitted with feature names\n",
      "  warnings.warn(\n"
     ]
    },
    {
     "name": "stdout",
     "output_type": "stream",
     "text": [
      "Generated SMILES: \n",
      "Is in QM9: False\n",
      "RDKit valid: False\n",
      "\n",
      "Generating for target (unscaled): {'homo': np.float64(-0.1498852911173697), 'lumo': np.float64(0.09538994284974178), 'gap': np.float64(0.24527523396711148), 'alpha': np.float64(24.720964262774267)}\n",
      "Visualized and saved to: generated_molecules/generated_13.png\n",
      "Generated SMILES: CCCCCCCCCCCCCCC\n",
      "Is in QM9: False\n",
      "RDKit valid: True\n",
      "\n",
      "Generating for target (unscaled): {'homo': np.float64(-0.33594430517278695), 'lumo': np.float64(0.01204928350129375), 'gap': np.float64(0.3479935886740807), 'alpha': np.float64(117.76260449830195)}\n"
     ]
    },
    {
     "name": "stderr",
     "output_type": "stream",
     "text": [
      "/Users/colinweaver/Documents/MIT Documents/2.174/NEMSTransformer/.venv copy/lib/python3.9/site-packages/sklearn/utils/validation.py:2739: UserWarning: X does not have valid feature names, but StandardScaler was fitted with feature names\n",
      "  warnings.warn(\n",
      "/Users/colinweaver/Documents/MIT Documents/2.174/NEMSTransformer/.venv copy/lib/python3.9/site-packages/sklearn/utils/validation.py:2739: UserWarning: X does not have valid feature names, but StandardScaler was fitted with feature names\n",
      "  warnings.warn(\n"
     ]
    },
    {
     "name": "stdout",
     "output_type": "stream",
     "text": [
      "Generated SMILES: \n",
      "Is in QM9: False\n",
      "RDKit valid: False\n",
      "\n",
      "Generating for target (unscaled): {'homo': -2.696735977799214, 'lumo': 2.983330952842848, 'gap': 5.680066930642062, 'alpha': np.float64(176.32841425388318)}\n"
     ]
    },
    {
     "name": "stderr",
     "output_type": "stream",
     "text": [
      "/Users/colinweaver/Documents/MIT Documents/2.174/NEMSTransformer/.venv copy/lib/python3.9/site-packages/sklearn/utils/validation.py:2739: UserWarning: X does not have valid feature names, but StandardScaler was fitted with feature names\n",
      "  warnings.warn(\n"
     ]
    },
    {
     "name": "stdout",
     "output_type": "stream",
     "text": [
      "Generated SMILES: \n",
      "Is in QM9: False\n",
      "RDKit valid: False\n",
      "\n",
      "Generating for target (unscaled): {'homo': np.float64(-0.41119158924811205), 'lumo': np.float64(0.19016858634958478), 'gap': np.float64(0.6013601755976968), 'alpha': np.float64(33.5308472961586)}\n",
      "Visualized and saved to: generated_molecules/generated_16.png\n",
      "Generated SMILES: CCCCCCCCCCCCCCCCCCCCCC\n",
      "Is in QM9: False\n",
      "RDKit valid: True\n",
      "\n",
      "Generating for target (unscaled): {'homo': np.float64(-0.20317842884805482), 'lumo': np.float64(0.11657599620497111), 'gap': np.float64(0.3197544250530259), 'alpha': np.float64(99.09310373399707)}\n"
     ]
    },
    {
     "name": "stderr",
     "output_type": "stream",
     "text": [
      "/Users/colinweaver/Documents/MIT Documents/2.174/NEMSTransformer/.venv copy/lib/python3.9/site-packages/sklearn/utils/validation.py:2739: UserWarning: X does not have valid feature names, but StandardScaler was fitted with feature names\n",
      "  warnings.warn(\n",
      "/Users/colinweaver/Documents/MIT Documents/2.174/NEMSTransformer/.venv copy/lib/python3.9/site-packages/sklearn/utils/validation.py:2739: UserWarning: X does not have valid feature names, but StandardScaler was fitted with feature names\n",
      "  warnings.warn(\n"
     ]
    },
    {
     "name": "stdout",
     "output_type": "stream",
     "text": [
      "Generated SMILES: \n",
      "Is in QM9: False\n",
      "RDKit valid: False\n",
      "\n",
      "Generating for target (unscaled): {'homo': -2.6310904579506103, 'lumo': 2.4674634123073784, 'gap': 5.098553870257989, 'alpha': np.float64(102.26238482008776)}\n"
     ]
    },
    {
     "name": "stderr",
     "output_type": "stream",
     "text": [
      "/Users/colinweaver/Documents/MIT Documents/2.174/NEMSTransformer/.venv copy/lib/python3.9/site-packages/sklearn/utils/validation.py:2739: UserWarning: X does not have valid feature names, but StandardScaler was fitted with feature names\n",
      "  warnings.warn(\n"
     ]
    },
    {
     "name": "stdout",
     "output_type": "stream",
     "text": [
      "Generated SMILES: \n",
      "Is in QM9: False\n",
      "RDKit valid: False\n",
      "\n",
      "Generating for target (unscaled): {'homo': np.float64(-0.1663867341514224), 'lumo': np.float64(0.0633928060743488), 'gap': np.float64(0.2297795402257712), 'alpha': np.float64(101.77467783040848)}\n"
     ]
    },
    {
     "name": "stderr",
     "output_type": "stream",
     "text": [
      "/Users/colinweaver/Documents/MIT Documents/2.174/NEMSTransformer/.venv copy/lib/python3.9/site-packages/sklearn/utils/validation.py:2739: UserWarning: X does not have valid feature names, but StandardScaler was fitted with feature names\n",
      "  warnings.warn(\n"
     ]
    },
    {
     "name": "stdout",
     "output_type": "stream",
     "text": [
      "Generated SMILES: \n",
      "Is in QM9: False\n",
      "RDKit valid: False\n",
      "\n",
      "Generating for target (unscaled): {'homo': np.float64(-0.15085958446152775), 'lumo': np.float64(-0.10819187382435633), 'gap': np.float64(0.042667710637171424), 'alpha': np.float64(68.60176725712701)}\n"
     ]
    },
    {
     "name": "stderr",
     "output_type": "stream",
     "text": [
      "/Users/colinweaver/Documents/MIT Documents/2.174/NEMSTransformer/.venv copy/lib/python3.9/site-packages/sklearn/utils/validation.py:2739: UserWarning: X does not have valid feature names, but StandardScaler was fitted with feature names\n",
      "  warnings.warn(\n"
     ]
    },
    {
     "name": "stdout",
     "output_type": "stream",
     "text": [
      "Visualized and saved to: generated_molecules/generated_20.png\n",
      "Generated SMILES: CCCCCCCCCCCCCCCCC\n",
      "Is in QM9: False\n",
      "RDKit valid: True\n",
      "\n",
      "Generating for target (unscaled): {'homo': np.float64(-0.32289358527361367), 'lumo': np.float64(0.14576733004208653), 'gap': np.float64(0.4686609153157002), 'alpha': np.float64(15.81712280325808)}\n",
      "Visualized and saved to: generated_molecules/generated_21.png\n",
      "Generated SMILES: CCCCCCCCCCCCC\n",
      "Is in QM9: False\n",
      "RDKit valid: True\n",
      "\n",
      "Generating for target (unscaled): {'homo': np.float64(-0.3652362443625249), 'lumo': np.float64(0.16010625986809857), 'gap': np.float64(0.5253425042306235), 'alpha': np.float64(17.29693341190598)}\n",
      "Visualized and saved to: generated_molecules/generated_22.png\n",
      "Generated SMILES: CCCCCCCCCCCCC\n",
      "Is in QM9: False\n",
      "RDKit valid: True\n",
      "\n",
      "Generating for target (unscaled): {'homo': np.float64(-0.11814935024675521), 'lumo': np.float64(0.1498685757951822), 'gap': np.float64(0.2680179260419374), 'alpha': np.float64(150.7354860618822)}\n"
     ]
    },
    {
     "name": "stderr",
     "output_type": "stream",
     "text": [
      "/Users/colinweaver/Documents/MIT Documents/2.174/NEMSTransformer/.venv copy/lib/python3.9/site-packages/sklearn/utils/validation.py:2739: UserWarning: X does not have valid feature names, but StandardScaler was fitted with feature names\n",
      "  warnings.warn(\n",
      "/Users/colinweaver/Documents/MIT Documents/2.174/NEMSTransformer/.venv copy/lib/python3.9/site-packages/sklearn/utils/validation.py:2739: UserWarning: X does not have valid feature names, but StandardScaler was fitted with feature names\n",
      "  warnings.warn(\n",
      "/Users/colinweaver/Documents/MIT Documents/2.174/NEMSTransformer/.venv copy/lib/python3.9/site-packages/sklearn/utils/validation.py:2739: UserWarning: X does not have valid feature names, but StandardScaler was fitted with feature names\n",
      "  warnings.warn(\n"
     ]
    },
    {
     "name": "stdout",
     "output_type": "stream",
     "text": [
      "Generated SMILES: \n",
      "Is in QM9: False\n",
      "RDKit valid: False\n",
      "\n",
      "Generating for target (unscaled): {'homo': np.float64(-0.20744272426753385), 'lumo': np.float64(-0.06229218796300587), 'gap': np.float64(0.14515053630452798), 'alpha': np.float64(137.03767797716853)}\n"
     ]
    },
    {
     "name": "stderr",
     "output_type": "stream",
     "text": [
      "/Users/colinweaver/Documents/MIT Documents/2.174/NEMSTransformer/.venv copy/lib/python3.9/site-packages/sklearn/utils/validation.py:2739: UserWarning: X does not have valid feature names, but StandardScaler was fitted with feature names\n",
      "  warnings.warn(\n"
     ]
    },
    {
     "name": "stdout",
     "output_type": "stream",
     "text": [
      "Generated SMILES: \n",
      "Is in QM9: False\n",
      "RDKit valid: False\n",
      "\n",
      "Generating for target (unscaled): {'homo': np.float64(-0.3387074420778854), 'lumo': np.float64(0.035062341022910615), 'gap': np.float64(0.373769783100796), 'alpha': np.float64(30.0209082665584)}\n",
      "Visualized and saved to: generated_molecules/generated_25.png\n",
      "Generated SMILES: CCCCCCCCCCCCCCCC\n",
      "Is in QM9: False\n",
      "RDKit valid: True\n",
      "\n",
      "Generating for target (unscaled): {'homo': -2.1056983971072216, 'lumo': 2.2317791430902516, 'gap': 4.337477540197473, 'alpha': np.float64(176.68234536896824)}\n"
     ]
    },
    {
     "name": "stderr",
     "output_type": "stream",
     "text": [
      "/Users/colinweaver/Documents/MIT Documents/2.174/NEMSTransformer/.venv copy/lib/python3.9/site-packages/sklearn/utils/validation.py:2739: UserWarning: X does not have valid feature names, but StandardScaler was fitted with feature names\n",
      "  warnings.warn(\n",
      "/Users/colinweaver/Documents/MIT Documents/2.174/NEMSTransformer/.venv copy/lib/python3.9/site-packages/sklearn/utils/validation.py:2739: UserWarning: X does not have valid feature names, but StandardScaler was fitted with feature names\n",
      "  warnings.warn(\n"
     ]
    },
    {
     "name": "stdout",
     "output_type": "stream",
     "text": [
      "Generated SMILES: \n",
      "Is in QM9: False\n",
      "RDKit valid: False\n",
      "\n",
      "Generating for target (unscaled): {'homo': np.float64(-0.4184629678381072), 'lumo': np.float64(-0.11819451373513827), 'gap': np.float64(0.30026845410296893), 'alpha': np.float64(117.90370848692118)}\n"
     ]
    },
    {
     "name": "stderr",
     "output_type": "stream",
     "text": [
      "/Users/colinweaver/Documents/MIT Documents/2.174/NEMSTransformer/.venv copy/lib/python3.9/site-packages/sklearn/utils/validation.py:2739: UserWarning: X does not have valid feature names, but StandardScaler was fitted with feature names\n",
      "  warnings.warn(\n"
     ]
    },
    {
     "name": "stdout",
     "output_type": "stream",
     "text": [
      "Generated SMILES: \n",
      "Is in QM9: False\n",
      "RDKit valid: False\n",
      "\n",
      "Generating for target (unscaled): {'homo': np.float64(-0.1436432426941227), 'lumo': np.float64(-0.13900661705656853), 'gap': np.float64(0.0046366256375541814), 'alpha': np.float64(78.07287137753501)}\n"
     ]
    },
    {
     "name": "stderr",
     "output_type": "stream",
     "text": [
      "/Users/colinweaver/Documents/MIT Documents/2.174/NEMSTransformer/.venv copy/lib/python3.9/site-packages/sklearn/utils/validation.py:2739: UserWarning: X does not have valid feature names, but StandardScaler was fitted with feature names\n",
      "  warnings.warn(\n"
     ]
    },
    {
     "name": "stdout",
     "output_type": "stream",
     "text": [
      "Generated SMILES: \n",
      "Is in QM9: False\n",
      "RDKit valid: False\n",
      "\n",
      "Generating for target (unscaled): {'homo': np.float64(-0.13660927038036885), 'lumo': np.float64(0.02065279412238591), 'gap': np.float64(0.15726206450275476), 'alpha': np.float64(114.86686047726187)}\n"
     ]
    },
    {
     "name": "stderr",
     "output_type": "stream",
     "text": [
      "/Users/colinweaver/Documents/MIT Documents/2.174/NEMSTransformer/.venv copy/lib/python3.9/site-packages/sklearn/utils/validation.py:2739: UserWarning: X does not have valid feature names, but StandardScaler was fitted with feature names\n",
      "  warnings.warn(\n"
     ]
    },
    {
     "name": "stdout",
     "output_type": "stream",
     "text": [
      "Generated SMILES: \n",
      "Is in QM9: False\n",
      "RDKit valid: False\n",
      "\n",
      "Generating for target (unscaled): {'homo': np.float64(-0.2349313308659597), 'lumo': np.float64(0.12042505744436233), 'gap': np.float64(0.355356388310322), 'alpha': np.float64(126.95573578859023)}\n"
     ]
    },
    {
     "name": "stderr",
     "output_type": "stream",
     "text": [
      "/Users/colinweaver/Documents/MIT Documents/2.174/NEMSTransformer/.venv copy/lib/python3.9/site-packages/sklearn/utils/validation.py:2739: UserWarning: X does not have valid feature names, but StandardScaler was fitted with feature names\n",
      "  warnings.warn(\n"
     ]
    },
    {
     "name": "stdout",
     "output_type": "stream",
     "text": [
      "Generated SMILES: \n",
      "Is in QM9: False\n",
      "RDKit valid: False\n",
      "\n",
      "Generating for target (unscaled): {'homo': np.float64(-0.28971373124933125), 'lumo': np.float64(-0.16194757223288317), 'gap': np.float64(0.12776615901644808), 'alpha': np.float64(117.23652667204166)}\n"
     ]
    },
    {
     "name": "stderr",
     "output_type": "stream",
     "text": [
      "/Users/colinweaver/Documents/MIT Documents/2.174/NEMSTransformer/.venv copy/lib/python3.9/site-packages/sklearn/utils/validation.py:2739: UserWarning: X does not have valid feature names, but StandardScaler was fitted with feature names\n",
      "  warnings.warn(\n"
     ]
    },
    {
     "name": "stdout",
     "output_type": "stream",
     "text": [
      "Generated SMILES: \n",
      "Is in QM9: False\n",
      "RDKit valid: False\n",
      "\n",
      "Generating for target (unscaled): {'homo': np.float64(-0.14352090193184308), 'lumo': np.float64(0.05473551723242753), 'gap': np.float64(0.19825641916427061), 'alpha': np.float64(52.1388908664805)}\n"
     ]
    },
    {
     "name": "stderr",
     "output_type": "stream",
     "text": [
      "/Users/colinweaver/Documents/MIT Documents/2.174/NEMSTransformer/.venv copy/lib/python3.9/site-packages/sklearn/utils/validation.py:2739: UserWarning: X does not have valid feature names, but StandardScaler was fitted with feature names\n",
      "  warnings.warn(\n"
     ]
    },
    {
     "name": "stdout",
     "output_type": "stream",
     "text": [
      "Visualized and saved to: generated_molecules/generated_32.png\n",
      "Generated SMILES: CCCCCCCCCCCCCCCCCCCCCCCCCCCCCCCCCCCCCCCCCCCCCCCCCCCCCCCCCCCCCCCCCCCCCCCCCCCCCCCCCCCCCCC\n",
      "Is in QM9: False\n",
      "RDKit valid: True\n",
      "\n",
      "Generating for target (unscaled): {'homo': np.float64(-0.1895767178539674), 'lumo': np.float64(-0.09414804030840025), 'gap': np.float64(0.09542867754556715), 'alpha': np.float64(9.50919299529038)}\n",
      "Visualized and saved to: generated_molecules/generated_33.png\n",
      "Generated SMILES: CCCCCCCCCCC\n",
      "Is in QM9: False\n",
      "RDKit valid: True\n",
      "\n",
      "Generating for target (unscaled): {'homo': np.float64(-0.3182691881207502), 'lumo': np.float64(0.07567601826827808), 'gap': np.float64(0.3939452063890283), 'alpha': np.float64(158.54473971625774)}\n"
     ]
    },
    {
     "name": "stderr",
     "output_type": "stream",
     "text": [
      "/Users/colinweaver/Documents/MIT Documents/2.174/NEMSTransformer/.venv copy/lib/python3.9/site-packages/sklearn/utils/validation.py:2739: UserWarning: X does not have valid feature names, but StandardScaler was fitted with feature names\n",
      "  warnings.warn(\n",
      "/Users/colinweaver/Documents/MIT Documents/2.174/NEMSTransformer/.venv copy/lib/python3.9/site-packages/sklearn/utils/validation.py:2739: UserWarning: X does not have valid feature names, but StandardScaler was fitted with feature names\n",
      "  warnings.warn(\n"
     ]
    },
    {
     "name": "stdout",
     "output_type": "stream",
     "text": [
      "Generated SMILES: \n",
      "Is in QM9: False\n",
      "RDKit valid: False\n",
      "\n",
      "Generating for target (unscaled): {'homo': -2.6670405616573882, 'lumo': 2.570178147581991, 'gap': 5.237218709239379, 'alpha': np.float64(99.55033369532161)}\n"
     ]
    },
    {
     "name": "stderr",
     "output_type": "stream",
     "text": [
      "/Users/colinweaver/Documents/MIT Documents/2.174/NEMSTransformer/.venv copy/lib/python3.9/site-packages/sklearn/utils/validation.py:2739: UserWarning: X does not have valid feature names, but StandardScaler was fitted with feature names\n",
      "  warnings.warn(\n"
     ]
    },
    {
     "name": "stdout",
     "output_type": "stream",
     "text": [
      "Generated SMILES: \n",
      "Is in QM9: False\n",
      "RDKit valid: False\n",
      "\n",
      "Generating for target (unscaled): {'homo': np.float64(-0.3464926585638162), 'lumo': np.float64(0.019757601909421024), 'gap': np.float64(0.3662502604732373), 'alpha': np.float64(36.68268745402732)}\n",
      "Visualized and saved to: generated_molecules/generated_36.png\n",
      "Generated SMILES: CCCCCCCCCCCCCCCCCCCCCCCCCCCCCCCC\n",
      "Is in QM9: False\n",
      "RDKit valid: True\n",
      "\n",
      "Generating for target (unscaled): {'homo': -2.7742327120291783, 'lumo': 2.745837490142938, 'gap': 5.520070202172116, 'alpha': np.float64(146.47797473300693)}\n"
     ]
    },
    {
     "name": "stderr",
     "output_type": "stream",
     "text": [
      "/Users/colinweaver/Documents/MIT Documents/2.174/NEMSTransformer/.venv copy/lib/python3.9/site-packages/sklearn/utils/validation.py:2739: UserWarning: X does not have valid feature names, but StandardScaler was fitted with feature names\n",
      "  warnings.warn(\n",
      "/Users/colinweaver/Documents/MIT Documents/2.174/NEMSTransformer/.venv copy/lib/python3.9/site-packages/sklearn/utils/validation.py:2739: UserWarning: X does not have valid feature names, but StandardScaler was fitted with feature names\n",
      "  warnings.warn(\n"
     ]
    },
    {
     "name": "stdout",
     "output_type": "stream",
     "text": [
      "Generated SMILES: \n",
      "Is in QM9: False\n",
      "RDKit valid: False\n",
      "\n",
      "Generating for target (unscaled): {'homo': -2.0873323860101007, 'lumo': 2.2906258641157753, 'gap': 4.377958250125876, 'alpha': np.float64(138.41327127374933)}\n"
     ]
    },
    {
     "name": "stderr",
     "output_type": "stream",
     "text": [
      "/Users/colinweaver/Documents/MIT Documents/2.174/NEMSTransformer/.venv copy/lib/python3.9/site-packages/sklearn/utils/validation.py:2739: UserWarning: X does not have valid feature names, but StandardScaler was fitted with feature names\n",
      "  warnings.warn(\n"
     ]
    },
    {
     "name": "stdout",
     "output_type": "stream",
     "text": [
      "Generated SMILES: \n",
      "Is in QM9: False\n",
      "RDKit valid: False\n",
      "\n",
      "Generating for target (unscaled): {'homo': np.float64(-0.12967259974353673), 'lumo': np.float64(-0.05147545018892434), 'gap': np.float64(0.07819714955461239), 'alpha': np.float64(96.45516456901139)}\n"
     ]
    },
    {
     "name": "stderr",
     "output_type": "stream",
     "text": [
      "/Users/colinweaver/Documents/MIT Documents/2.174/NEMSTransformer/.venv copy/lib/python3.9/site-packages/sklearn/utils/validation.py:2739: UserWarning: X does not have valid feature names, but StandardScaler was fitted with feature names\n",
      "  warnings.warn(\n"
     ]
    },
    {
     "name": "stdout",
     "output_type": "stream",
     "text": [
      "Generated SMILES: \n",
      "Is in QM9: False\n",
      "RDKit valid: False\n",
      "\n",
      "Generating for target (unscaled): {'homo': np.float64(-0.11245656451508396), 'lumo': np.float64(1.535206906196434), 'gap': np.float64(1.6476634707115179), 'alpha': np.float64(186.54422340306624)}\n"
     ]
    },
    {
     "name": "stderr",
     "output_type": "stream",
     "text": [
      "/Users/colinweaver/Documents/MIT Documents/2.174/NEMSTransformer/.venv copy/lib/python3.9/site-packages/sklearn/utils/validation.py:2739: UserWarning: X does not have valid feature names, but StandardScaler was fitted with feature names\n",
      "  warnings.warn(\n"
     ]
    },
    {
     "name": "stdout",
     "output_type": "stream",
     "text": [
      "Generated SMILES: \n",
      "Is in QM9: False\n",
      "RDKit valid: False\n",
      "\n",
      "Generating for target (unscaled): {'homo': np.float64(-0.25348355713759907), 'lumo': np.float64(-0.10490093431405682), 'gap': np.float64(0.14858262282354223), 'alpha': np.float64(82.79066319584936)}\n"
     ]
    },
    {
     "name": "stderr",
     "output_type": "stream",
     "text": [
      "/Users/colinweaver/Documents/MIT Documents/2.174/NEMSTransformer/.venv copy/lib/python3.9/site-packages/sklearn/utils/validation.py:2739: UserWarning: X does not have valid feature names, but StandardScaler was fitted with feature names\n",
      "  warnings.warn(\n"
     ]
    },
    {
     "name": "stdout",
     "output_type": "stream",
     "text": [
      "Generated SMILES: \n",
      "Is in QM9: False\n",
      "RDKit valid: False\n",
      "\n",
      "Generating for target (unscaled): {'homo': -2.0151246076364817, 'lumo': 2.94159195399989, 'gap': 4.956716561636371, 'alpha': np.float64(152.7095062935938)}\n"
     ]
    },
    {
     "name": "stderr",
     "output_type": "stream",
     "text": [
      "/Users/colinweaver/Documents/MIT Documents/2.174/NEMSTransformer/.venv copy/lib/python3.9/site-packages/sklearn/utils/validation.py:2739: UserWarning: X does not have valid feature names, but StandardScaler was fitted with feature names\n",
      "  warnings.warn(\n"
     ]
    },
    {
     "name": "stdout",
     "output_type": "stream",
     "text": [
      "Generated SMILES: \n",
      "Is in QM9: False\n",
      "RDKit valid: False\n",
      "\n",
      "Generating for target (unscaled): {'homo': np.float64(-0.11178194252026719), 'lumo': np.float64(0.1909186195981079), 'gap': np.float64(0.3027005621183751), 'alpha': np.float64(194.61339429124754)}\n"
     ]
    },
    {
     "name": "stderr",
     "output_type": "stream",
     "text": [
      "/Users/colinweaver/Documents/MIT Documents/2.174/NEMSTransformer/.venv copy/lib/python3.9/site-packages/sklearn/utils/validation.py:2739: UserWarning: X does not have valid feature names, but StandardScaler was fitted with feature names\n",
      "  warnings.warn(\n"
     ]
    },
    {
     "name": "stdout",
     "output_type": "stream",
     "text": [
      "Generated SMILES: \n",
      "Is in QM9: False\n",
      "RDKit valid: False\n",
      "\n",
      "Generating for target (unscaled): {'homo': np.float64(-0.42616263842419716), 'lumo': np.float64(0.13752352482957353), 'gap': np.float64(0.5636861632537706), 'alpha': np.float64(39.332175417548136)}\n",
      "Visualized and saved to: generated_molecules/generated_44.png\n",
      "Generated SMILES: CCCCCCCCCCCCCCCCCCCCCCCCCCCCCCCCCCCCCCCCC\n",
      "Is in QM9: False\n",
      "RDKit valid: True\n",
      "\n",
      "Generating for target (unscaled): {'homo': np.float64(-0.2980547131114021), 'lumo': np.float64(0.18190015173824825), 'gap': np.float64(0.47995486484965033), 'alpha': np.float64(123.7932573174007)}\n"
     ]
    },
    {
     "name": "stderr",
     "output_type": "stream",
     "text": [
      "/Users/colinweaver/Documents/MIT Documents/2.174/NEMSTransformer/.venv copy/lib/python3.9/site-packages/sklearn/utils/validation.py:2739: UserWarning: X does not have valid feature names, but StandardScaler was fitted with feature names\n",
      "  warnings.warn(\n",
      "/Users/colinweaver/Documents/MIT Documents/2.174/NEMSTransformer/.venv copy/lib/python3.9/site-packages/sklearn/utils/validation.py:2739: UserWarning: X does not have valid feature names, but StandardScaler was fitted with feature names\n",
      "  warnings.warn(\n"
     ]
    },
    {
     "name": "stdout",
     "output_type": "stream",
     "text": [
      "Generated SMILES: \n",
      "Is in QM9: False\n",
      "RDKit valid: False\n",
      "\n",
      "Generating for target (unscaled): {'homo': -2.9828492654282774, 'lumo': 2.1982665863402895, 'gap': 5.181115851768567, 'alpha': np.float64(124.13780291695072)}\n"
     ]
    },
    {
     "name": "stderr",
     "output_type": "stream",
     "text": [
      "/Users/colinweaver/Documents/MIT Documents/2.174/NEMSTransformer/.venv copy/lib/python3.9/site-packages/sklearn/utils/validation.py:2739: UserWarning: X does not have valid feature names, but StandardScaler was fitted with feature names\n",
      "  warnings.warn(\n"
     ]
    },
    {
     "name": "stdout",
     "output_type": "stream",
     "text": [
      "Generated SMILES: \n",
      "Is in QM9: False\n",
      "RDKit valid: False\n",
      "\n",
      "Generating for target (unscaled): {'homo': np.float64(-0.2653743755598045), 'lumo': np.float64(0.1392335165827301), 'gap': np.float64(0.40460789214253456), 'alpha': np.float64(75.13553127707077)}\n"
     ]
    },
    {
     "name": "stderr",
     "output_type": "stream",
     "text": [
      "/Users/colinweaver/Documents/MIT Documents/2.174/NEMSTransformer/.venv copy/lib/python3.9/site-packages/sklearn/utils/validation.py:2739: UserWarning: X does not have valid feature names, but StandardScaler was fitted with feature names\n",
      "  warnings.warn(\n"
     ]
    },
    {
     "name": "stdout",
     "output_type": "stream",
     "text": [
      "Generated SMILES: \n",
      "Is in QM9: False\n",
      "RDKit valid: False\n",
      "\n",
      "Generating for target (unscaled): {'homo': np.float64(-0.19836089351785513), 'lumo': np.float64(-0.12638993621219766), 'gap': np.float64(0.07197095730565747), 'alpha': np.float64(35.26759817533927)}\n",
      "Visualized and saved to: generated_molecules/generated_48.png\n",
      "Generated SMILES: CCCCCCCCCCCCCCCCCCCCCC\n",
      "Is in QM9: False\n",
      "RDKit valid: True\n",
      "\n",
      "Generating for target (unscaled): {'homo': np.float64(-0.18609977904927047), 'lumo': np.float64(-0.1518531847545701), 'gap': np.float64(0.03424659429470037), 'alpha': np.float64(176.90799722225103)}\n"
     ]
    },
    {
     "name": "stderr",
     "output_type": "stream",
     "text": [
      "/Users/colinweaver/Documents/MIT Documents/2.174/NEMSTransformer/.venv copy/lib/python3.9/site-packages/sklearn/utils/validation.py:2739: UserWarning: X does not have valid feature names, but StandardScaler was fitted with feature names\n",
      "  warnings.warn(\n",
      "/Users/colinweaver/Documents/MIT Documents/2.174/NEMSTransformer/.venv copy/lib/python3.9/site-packages/sklearn/utils/validation.py:2739: UserWarning: X does not have valid feature names, but StandardScaler was fitted with feature names\n",
      "  warnings.warn(\n"
     ]
    },
    {
     "name": "stdout",
     "output_type": "stream",
     "text": [
      "Generated SMILES: \n",
      "Is in QM9: False\n",
      "RDKit valid: False\n",
      "\n",
      "Generating for target (unscaled): {'homo': -2.75466342138879, 'lumo': 2.0717768144757254, 'gap': 4.826440235864515, 'alpha': np.float64(168.48518187330114)}\n"
     ]
    },
    {
     "name": "stderr",
     "output_type": "stream",
     "text": [
      "/Users/colinweaver/Documents/MIT Documents/2.174/NEMSTransformer/.venv copy/lib/python3.9/site-packages/sklearn/utils/validation.py:2739: UserWarning: X does not have valid feature names, but StandardScaler was fitted with feature names\n",
      "  warnings.warn(\n"
     ]
    },
    {
     "name": "stdout",
     "output_type": "stream",
     "text": [
      "Generated SMILES: \n",
      "Is in QM9: False\n",
      "RDKit valid: False\n",
      "\n",
      "Generating for target (unscaled): {'homo': np.float64(-0.3508058565962025), 'lumo': np.float64(0.1810818620400298), 'gap': np.float64(0.5318877186362323), 'alpha': np.float64(166.5845446586422)}\n"
     ]
    },
    {
     "name": "stderr",
     "output_type": "stream",
     "text": [
      "/Users/colinweaver/Documents/MIT Documents/2.174/NEMSTransformer/.venv copy/lib/python3.9/site-packages/sklearn/utils/validation.py:2739: UserWarning: X does not have valid feature names, but StandardScaler was fitted with feature names\n",
      "  warnings.warn(\n"
     ]
    },
    {
     "name": "stdout",
     "output_type": "stream",
     "text": [
      "Generated SMILES: \n",
      "Is in QM9: False\n",
      "RDKit valid: False\n",
      "\n",
      "Generating for target (unscaled): {'homo': -2.5300187783916197, 'lumo': 2.029700998829288, 'gap': 4.5597197772209075, 'alpha': np.float64(139.96295156022222)}\n"
     ]
    },
    {
     "name": "stderr",
     "output_type": "stream",
     "text": [
      "/Users/colinweaver/Documents/MIT Documents/2.174/NEMSTransformer/.venv copy/lib/python3.9/site-packages/sklearn/utils/validation.py:2739: UserWarning: X does not have valid feature names, but StandardScaler was fitted with feature names\n",
      "  warnings.warn(\n"
     ]
    },
    {
     "name": "stdout",
     "output_type": "stream",
     "text": [
      "Generated SMILES: \n",
      "Is in QM9: False\n",
      "RDKit valid: False\n",
      "\n",
      "Generating for target (unscaled): {'homo': -1.9636180141390118, 'lumo': 2.6248355186521986, 'gap': 4.588453532791211, 'alpha': np.float64(135.30745897346762)}\n"
     ]
    },
    {
     "name": "stderr",
     "output_type": "stream",
     "text": [
      "/Users/colinweaver/Documents/MIT Documents/2.174/NEMSTransformer/.venv copy/lib/python3.9/site-packages/sklearn/utils/validation.py:2739: UserWarning: X does not have valid feature names, but StandardScaler was fitted with feature names\n",
      "  warnings.warn(\n"
     ]
    },
    {
     "name": "stdout",
     "output_type": "stream",
     "text": [
      "Generated SMILES: \n",
      "Is in QM9: False\n",
      "RDKit valid: False\n",
      "\n",
      "Generating for target (unscaled): {'homo': np.float64(-0.2675051438314754), 'lumo': np.float64(0.1315603817200432), 'gap': np.float64(0.3990655255515186), 'alpha': np.float64(94.62097234668468)}\n"
     ]
    },
    {
     "name": "stderr",
     "output_type": "stream",
     "text": [
      "/Users/colinweaver/Documents/MIT Documents/2.174/NEMSTransformer/.venv copy/lib/python3.9/site-packages/sklearn/utils/validation.py:2739: UserWarning: X does not have valid feature names, but StandardScaler was fitted with feature names\n",
      "  warnings.warn(\n"
     ]
    },
    {
     "name": "stdout",
     "output_type": "stream",
     "text": [
      "Generated SMILES: \n",
      "Is in QM9: False\n",
      "RDKit valid: False\n",
      "\n",
      "Generating for target (unscaled): {'homo': np.float64(-0.3629598372270348), 'lumo': np.float64(-0.05635273281571318), 'gap': np.float64(0.3066071044113216), 'alpha': np.float64(70.87669938479942)}\n"
     ]
    },
    {
     "name": "stderr",
     "output_type": "stream",
     "text": [
      "/Users/colinweaver/Documents/MIT Documents/2.174/NEMSTransformer/.venv copy/lib/python3.9/site-packages/sklearn/utils/validation.py:2739: UserWarning: X does not have valid feature names, but StandardScaler was fitted with feature names\n",
      "  warnings.warn(\n"
     ]
    },
    {
     "name": "stdout",
     "output_type": "stream",
     "text": [
      "Generated SMILES: \n",
      "Is in QM9: False\n",
      "RDKit valid: False\n",
      "\n",
      "Generating for target (unscaled): {'homo': np.float64(-0.2913086567990417), 'lumo': np.float64(0.057968927411194165), 'gap': np.float64(0.3492775842102359), 'alpha': np.float64(37.38421911327251)}\n",
      "Visualized and saved to: generated_molecules/generated_56.png\n",
      "Generated SMILES: CCCCCCCCCCCCCCCCCCCCCCCCCCCCCCCCC\n",
      "Is in QM9: False\n",
      "RDKit valid: True\n",
      "\n",
      "Generating for target (unscaled): {'homo': np.float64(-0.3323860558494681), 'lumo': np.float64(-0.1480172261578892), 'gap': np.float64(0.18436882969157892), 'alpha': np.float64(65.81612123964487)}\n"
     ]
    },
    {
     "name": "stderr",
     "output_type": "stream",
     "text": [
      "/Users/colinweaver/Documents/MIT Documents/2.174/NEMSTransformer/.venv copy/lib/python3.9/site-packages/sklearn/utils/validation.py:2739: UserWarning: X does not have valid feature names, but StandardScaler was fitted with feature names\n",
      "  warnings.warn(\n",
      "/Users/colinweaver/Documents/MIT Documents/2.174/NEMSTransformer/.venv copy/lib/python3.9/site-packages/sklearn/utils/validation.py:2739: UserWarning: X does not have valid feature names, but StandardScaler was fitted with feature names\n",
      "  warnings.warn(\n"
     ]
    },
    {
     "name": "stdout",
     "output_type": "stream",
     "text": [
      "Visualized and saved to: generated_molecules/generated_57.png\n",
      "Generated SMILES: CCCCCCCCCCCCCCCCCCCCCCCCCCCCCCCCCCCCCCCCCC\n",
      "Is in QM9: False\n",
      "RDKit valid: True\n",
      "\n",
      "Generating for target (unscaled): {'homo': np.float64(-0.24881943465413395), 'lumo': np.float64(-0.023356529078415428), 'gap': np.float64(0.22546290557571852), 'alpha': np.float64(110.59240384815185)}\n"
     ]
    },
    {
     "name": "stderr",
     "output_type": "stream",
     "text": [
      "/Users/colinweaver/Documents/MIT Documents/2.174/NEMSTransformer/.venv copy/lib/python3.9/site-packages/sklearn/utils/validation.py:2739: UserWarning: X does not have valid feature names, but StandardScaler was fitted with feature names\n",
      "  warnings.warn(\n"
     ]
    },
    {
     "name": "stdout",
     "output_type": "stream",
     "text": [
      "Generated SMILES: \n",
      "Is in QM9: False\n",
      "RDKit valid: False\n",
      "\n",
      "Generating for target (unscaled): {'homo': np.float64(-0.25409346881096617), 'lumo': np.float64(-0.03301339240664908), 'gap': np.float64(0.2210800764043171), 'alpha': np.float64(116.41352561766247)}\n"
     ]
    },
    {
     "name": "stderr",
     "output_type": "stream",
     "text": [
      "/Users/colinweaver/Documents/MIT Documents/2.174/NEMSTransformer/.venv copy/lib/python3.9/site-packages/sklearn/utils/validation.py:2739: UserWarning: X does not have valid feature names, but StandardScaler was fitted with feature names\n",
      "  warnings.warn(\n"
     ]
    },
    {
     "name": "stdout",
     "output_type": "stream",
     "text": [
      "Generated SMILES: \n",
      "Is in QM9: False\n",
      "RDKit valid: False\n",
      "\n",
      "Generating for target (unscaled): {'homo': np.float64(-0.32934437956128215), 'lumo': np.float64(0.1456999818298732), 'gap': np.float64(0.47504436139115536), 'alpha': np.float64(193.89497749715733)}\n"
     ]
    },
    {
     "name": "stderr",
     "output_type": "stream",
     "text": [
      "/Users/colinweaver/Documents/MIT Documents/2.174/NEMSTransformer/.venv copy/lib/python3.9/site-packages/sklearn/utils/validation.py:2739: UserWarning: X does not have valid feature names, but StandardScaler was fitted with feature names\n",
      "  warnings.warn(\n"
     ]
    },
    {
     "name": "stdout",
     "output_type": "stream",
     "text": [
      "Generated SMILES: \n",
      "Is in QM9: False\n",
      "RDKit valid: False\n",
      "\n",
      "Generating for target (unscaled): {'homo': np.float64(-0.4033277216563194), 'lumo': np.float64(0.17819321896296902), 'gap': np.float64(0.5815209406192885), 'alpha': np.float64(129.77363621072644)}\n"
     ]
    },
    {
     "name": "stderr",
     "output_type": "stream",
     "text": [
      "/Users/colinweaver/Documents/MIT Documents/2.174/NEMSTransformer/.venv copy/lib/python3.9/site-packages/sklearn/utils/validation.py:2739: UserWarning: X does not have valid feature names, but StandardScaler was fitted with feature names\n",
      "  warnings.warn(\n"
     ]
    },
    {
     "name": "stdout",
     "output_type": "stream",
     "text": [
      "Generated SMILES: \n",
      "Is in QM9: False\n",
      "RDKit valid: False\n",
      "\n",
      "Generating for target (unscaled): {'homo': np.float64(-0.1758280847662867), 'lumo': np.float64(0.16810694347346994), 'gap': np.float64(0.34393502823975663), 'alpha': np.float64(15.251630913829143)}\n",
      "Visualized and saved to: generated_molecules/generated_62.png\n",
      "Generated SMILES: CCCCCCCCCCCCC\n",
      "Is in QM9: False\n",
      "RDKit valid: True\n",
      "\n",
      "Generating for target (unscaled): {'homo': np.float64(-0.15837805949102052), 'lumo': np.float64(0.08134255785601019), 'gap': np.float64(0.2397206173470307), 'alpha': np.float64(134.6410016180704)}\n"
     ]
    },
    {
     "name": "stderr",
     "output_type": "stream",
     "text": [
      "/Users/colinweaver/Documents/MIT Documents/2.174/NEMSTransformer/.venv copy/lib/python3.9/site-packages/sklearn/utils/validation.py:2739: UserWarning: X does not have valid feature names, but StandardScaler was fitted with feature names\n",
      "  warnings.warn(\n",
      "/Users/colinweaver/Documents/MIT Documents/2.174/NEMSTransformer/.venv copy/lib/python3.9/site-packages/sklearn/utils/validation.py:2739: UserWarning: X does not have valid feature names, but StandardScaler was fitted with feature names\n",
      "  warnings.warn(\n"
     ]
    },
    {
     "name": "stdout",
     "output_type": "stream",
     "text": [
      "Generated SMILES: \n",
      "Is in QM9: False\n",
      "RDKit valid: False\n",
      "\n",
      "Generating for target (unscaled): {'homo': np.float64(-0.2758266031957226), 'lumo': np.float64(-0.14931565226717824), 'gap': np.float64(0.12651095092854436), 'alpha': np.float64(175.9976744650762)}\n"
     ]
    },
    {
     "name": "stderr",
     "output_type": "stream",
     "text": [
      "/Users/colinweaver/Documents/MIT Documents/2.174/NEMSTransformer/.venv copy/lib/python3.9/site-packages/sklearn/utils/validation.py:2739: UserWarning: X does not have valid feature names, but StandardScaler was fitted with feature names\n",
      "  warnings.warn(\n"
     ]
    },
    {
     "name": "stdout",
     "output_type": "stream",
     "text": [
      "Generated SMILES: \n",
      "Is in QM9: False\n",
      "RDKit valid: False\n",
      "\n",
      "Generating for target (unscaled): {'homo': np.float64(-0.387417700864778), 'lumo': np.float64(-0.08337881450757272), 'gap': np.float64(0.3040388863572053), 'alpha': np.float64(76.03114736604032)}\n"
     ]
    },
    {
     "name": "stderr",
     "output_type": "stream",
     "text": [
      "/Users/colinweaver/Documents/MIT Documents/2.174/NEMSTransformer/.venv copy/lib/python3.9/site-packages/sklearn/utils/validation.py:2739: UserWarning: X does not have valid feature names, but StandardScaler was fitted with feature names\n",
      "  warnings.warn(\n"
     ]
    },
    {
     "name": "stdout",
     "output_type": "stream",
     "text": [
      "Generated SMILES: \n",
      "Is in QM9: False\n",
      "RDKit valid: False\n",
      "\n",
      "Generating for target (unscaled): {'homo': np.float64(-0.23426443957034498), 'lumo': np.float64(0.060432934048483544), 'gap': np.float64(0.29469737361882853), 'alpha': np.float64(160.89321073246745)}\n"
     ]
    },
    {
     "name": "stderr",
     "output_type": "stream",
     "text": [
      "/Users/colinweaver/Documents/MIT Documents/2.174/NEMSTransformer/.venv copy/lib/python3.9/site-packages/sklearn/utils/validation.py:2739: UserWarning: X does not have valid feature names, but StandardScaler was fitted with feature names\n",
      "  warnings.warn(\n"
     ]
    },
    {
     "name": "stdout",
     "output_type": "stream",
     "text": [
      "Generated SMILES: \n",
      "Is in QM9: False\n",
      "RDKit valid: False\n",
      "\n",
      "Generating for target (unscaled): {'homo': np.float64(-0.3903289293789083), 'lumo': np.float64(-0.014735791346469906), 'gap': np.float64(0.3755931380324384), 'alpha': np.float64(46.96185931912704)}\n"
     ]
    },
    {
     "name": "stderr",
     "output_type": "stream",
     "text": [
      "/Users/colinweaver/Documents/MIT Documents/2.174/NEMSTransformer/.venv copy/lib/python3.9/site-packages/sklearn/utils/validation.py:2739: UserWarning: X does not have valid feature names, but StandardScaler was fitted with feature names\n",
      "  warnings.warn(\n"
     ]
    },
    {
     "name": "stdout",
     "output_type": "stream",
     "text": [
      "Visualized and saved to: generated_molecules/generated_67.png\n",
      "Generated SMILES: CCCCCCCCCCCCCCCCCCCCCCCCCCCCCCCCCCCCCCCCCCCCCCCCCCCCCCCCCCCCCCCCCCCCCCCCCCCCCCCC\n",
      "Is in QM9: False\n",
      "RDKit valid: True\n",
      "\n",
      "Generating for target (unscaled): {'homo': -1.8075333060631484, 'lumo': 2.769507453878497, 'gap': 4.577040759941646, 'alpha': np.float64(175.40344393938773)}\n"
     ]
    },
    {
     "name": "stderr",
     "output_type": "stream",
     "text": [
      "/Users/colinweaver/Documents/MIT Documents/2.174/NEMSTransformer/.venv copy/lib/python3.9/site-packages/sklearn/utils/validation.py:2739: UserWarning: X does not have valid feature names, but StandardScaler was fitted with feature names\n",
      "  warnings.warn(\n"
     ]
    },
    {
     "name": "stdout",
     "output_type": "stream",
     "text": [
      "Generated SMILES: \n",
      "Is in QM9: False\n",
      "RDKit valid: False\n",
      "\n",
      "Generating for target (unscaled): {'homo': np.float64(-0.160086624707256), 'lumo': np.float64(-0.03559023951013887), 'gap': np.float64(0.12449638519711712), 'alpha': np.float64(102.19815138009548)}\n"
     ]
    },
    {
     "name": "stderr",
     "output_type": "stream",
     "text": [
      "/Users/colinweaver/Documents/MIT Documents/2.174/NEMSTransformer/.venv copy/lib/python3.9/site-packages/sklearn/utils/validation.py:2739: UserWarning: X does not have valid feature names, but StandardScaler was fitted with feature names\n",
      "  warnings.warn(\n"
     ]
    },
    {
     "name": "stdout",
     "output_type": "stream",
     "text": [
      "Generated SMILES: \n",
      "Is in QM9: False\n",
      "RDKit valid: False\n",
      "\n",
      "Generating for target (unscaled): {'homo': np.float64(-0.12073356282400599), 'lumo': np.float64(2.2385505952523124), 'gap': np.float64(2.3592841580763184), 'alpha': np.float64(88.59794923816067)}\n"
     ]
    },
    {
     "name": "stderr",
     "output_type": "stream",
     "text": [
      "/Users/colinweaver/Documents/MIT Documents/2.174/NEMSTransformer/.venv copy/lib/python3.9/site-packages/sklearn/utils/validation.py:2739: UserWarning: X does not have valid feature names, but StandardScaler was fitted with feature names\n",
      "  warnings.warn(\n"
     ]
    },
    {
     "name": "stdout",
     "output_type": "stream",
     "text": [
      "Generated SMILES: \n",
      "Is in QM9: False\n",
      "RDKit valid: False\n",
      "\n",
      "Generating for target (unscaled): {'homo': np.float64(-0.3484443410256823), 'lumo': np.float64(-0.15530701500832955), 'gap': np.float64(0.19313732601735273), 'alpha': np.float64(25.62477418532729)}\n",
      "Visualized and saved to: generated_molecules/generated_71.png\n",
      "Generated SMILES: CCCCCCCCCCCCCCC\n",
      "Is in QM9: False\n",
      "RDKit valid: True\n",
      "\n",
      "Generating for target (unscaled): {'homo': np.float64(-0.12241921340915574), 'lumo': np.float64(1.777453653366522), 'gap': np.float64(1.8998728667756777), 'alpha': np.float64(180.4017828730144)}\n"
     ]
    },
    {
     "name": "stderr",
     "output_type": "stream",
     "text": [
      "/Users/colinweaver/Documents/MIT Documents/2.174/NEMSTransformer/.venv copy/lib/python3.9/site-packages/sklearn/utils/validation.py:2739: UserWarning: X does not have valid feature names, but StandardScaler was fitted with feature names\n",
      "  warnings.warn(\n",
      "/Users/colinweaver/Documents/MIT Documents/2.174/NEMSTransformer/.venv copy/lib/python3.9/site-packages/sklearn/utils/validation.py:2739: UserWarning: X does not have valid feature names, but StandardScaler was fitted with feature names\n",
      "  warnings.warn(\n"
     ]
    },
    {
     "name": "stdout",
     "output_type": "stream",
     "text": [
      "Generated SMILES: \n",
      "Is in QM9: False\n",
      "RDKit valid: False\n",
      "\n",
      "Generating for target (unscaled): {'homo': np.float64(-0.19069611800831773), 'lumo': np.float64(-0.156432099468158), 'gap': np.float64(0.03426401854015973), 'alpha': np.float64(100.91662096079357)}\n"
     ]
    },
    {
     "name": "stderr",
     "output_type": "stream",
     "text": [
      "/Users/colinweaver/Documents/MIT Documents/2.174/NEMSTransformer/.venv copy/lib/python3.9/site-packages/sklearn/utils/validation.py:2739: UserWarning: X does not have valid feature names, but StandardScaler was fitted with feature names\n",
      "  warnings.warn(\n"
     ]
    },
    {
     "name": "stdout",
     "output_type": "stream",
     "text": [
      "Generated SMILES: \n",
      "Is in QM9: False\n",
      "RDKit valid: False\n",
      "\n",
      "Generating for target (unscaled): {'homo': np.float64(-0.17000305517069791), 'lumo': np.float64(0.18405078629607707), 'gap': np.float64(0.354053841466775), 'alpha': np.float64(155.8383685235902)}\n"
     ]
    },
    {
     "name": "stderr",
     "output_type": "stream",
     "text": [
      "/Users/colinweaver/Documents/MIT Documents/2.174/NEMSTransformer/.venv copy/lib/python3.9/site-packages/sklearn/utils/validation.py:2739: UserWarning: X does not have valid feature names, but StandardScaler was fitted with feature names\n",
      "  warnings.warn(\n"
     ]
    },
    {
     "name": "stdout",
     "output_type": "stream",
     "text": [
      "Generated SMILES: \n",
      "Is in QM9: False\n",
      "RDKit valid: False\n",
      "\n",
      "Generating for target (unscaled): {'homo': np.float64(-0.20967507667429475), 'lumo': np.float64(-0.07210952446788184), 'gap': np.float64(0.13756555220641292), 'alpha': np.float64(96.70890393867448)}\n"
     ]
    },
    {
     "name": "stderr",
     "output_type": "stream",
     "text": [
      "/Users/colinweaver/Documents/MIT Documents/2.174/NEMSTransformer/.venv copy/lib/python3.9/site-packages/sklearn/utils/validation.py:2739: UserWarning: X does not have valid feature names, but StandardScaler was fitted with feature names\n",
      "  warnings.warn(\n"
     ]
    },
    {
     "name": "stdout",
     "output_type": "stream",
     "text": [
      "Generated SMILES: \n",
      "Is in QM9: False\n",
      "RDKit valid: False\n",
      "\n",
      "Generating for target (unscaled): {'homo': np.float64(-0.3811509783984191), 'lumo': np.float64(-0.023896301538298498), 'gap': np.float64(0.3572546768601206), 'alpha': np.float64(77.97346166445432)}\n"
     ]
    },
    {
     "name": "stderr",
     "output_type": "stream",
     "text": [
      "/Users/colinweaver/Documents/MIT Documents/2.174/NEMSTransformer/.venv copy/lib/python3.9/site-packages/sklearn/utils/validation.py:2739: UserWarning: X does not have valid feature names, but StandardScaler was fitted with feature names\n",
      "  warnings.warn(\n"
     ]
    },
    {
     "name": "stdout",
     "output_type": "stream",
     "text": [
      "Generated SMILES: \n",
      "Is in QM9: False\n",
      "RDKit valid: False\n",
      "\n",
      "Generating for target (unscaled): {'homo': np.float64(-0.15594953115155974), 'lumo': np.float64(0.11440680134843667), 'gap': np.float64(0.2703563324999964), 'alpha': np.float64(25.4652257179399)}\n",
      "Visualized and saved to: generated_molecules/generated_77.png\n",
      "Generated SMILES: CCCCCCCCCCCCCCC\n",
      "Is in QM9: False\n",
      "RDKit valid: True\n",
      "\n",
      "Generating for target (unscaled): {'homo': np.float64(-0.3657998571739611), 'lumo': np.float64(-0.017355392617160847), 'gap': np.float64(0.3484444645568002), 'alpha': np.float64(140.574719255614)}\n"
     ]
    },
    {
     "name": "stderr",
     "output_type": "stream",
     "text": [
      "/Users/colinweaver/Documents/MIT Documents/2.174/NEMSTransformer/.venv copy/lib/python3.9/site-packages/sklearn/utils/validation.py:2739: UserWarning: X does not have valid feature names, but StandardScaler was fitted with feature names\n",
      "  warnings.warn(\n",
      "/Users/colinweaver/Documents/MIT Documents/2.174/NEMSTransformer/.venv copy/lib/python3.9/site-packages/sklearn/utils/validation.py:2739: UserWarning: X does not have valid feature names, but StandardScaler was fitted with feature names\n",
      "  warnings.warn(\n"
     ]
    },
    {
     "name": "stdout",
     "output_type": "stream",
     "text": [
      "Generated SMILES: \n",
      "Is in QM9: False\n",
      "RDKit valid: False\n",
      "\n",
      "Generating for target (unscaled): {'homo': -2.9356096419161952, 'lumo': 2.02741575561453, 'gap': 4.963025397530725, 'alpha': np.float64(163.4865508003835)}\n"
     ]
    },
    {
     "name": "stderr",
     "output_type": "stream",
     "text": [
      "/Users/colinweaver/Documents/MIT Documents/2.174/NEMSTransformer/.venv copy/lib/python3.9/site-packages/sklearn/utils/validation.py:2739: UserWarning: X does not have valid feature names, but StandardScaler was fitted with feature names\n",
      "  warnings.warn(\n"
     ]
    },
    {
     "name": "stdout",
     "output_type": "stream",
     "text": [
      "Generated SMILES: \n",
      "Is in QM9: False\n",
      "RDKit valid: False\n",
      "\n",
      "Generating for target (unscaled): {'homo': np.float64(-0.3981981551339354), 'lumo': np.float64(-0.06463298650408887), 'gap': np.float64(0.33356516862984653), 'alpha': np.float64(168.0086977128116)}\n"
     ]
    },
    {
     "name": "stderr",
     "output_type": "stream",
     "text": [
      "/Users/colinweaver/Documents/MIT Documents/2.174/NEMSTransformer/.venv copy/lib/python3.9/site-packages/sklearn/utils/validation.py:2739: UserWarning: X does not have valid feature names, but StandardScaler was fitted with feature names\n",
      "  warnings.warn(\n"
     ]
    },
    {
     "name": "stdout",
     "output_type": "stream",
     "text": [
      "Generated SMILES: \n",
      "Is in QM9: False\n",
      "RDKit valid: False\n",
      "\n",
      "Generating for target (unscaled): {'homo': -2.3345392544496533, 'lumo': 2.0184170705451976, 'gap': 4.352956324994851, 'alpha': np.float64(156.79071543497543)}\n"
     ]
    },
    {
     "name": "stderr",
     "output_type": "stream",
     "text": [
      "/Users/colinweaver/Documents/MIT Documents/2.174/NEMSTransformer/.venv copy/lib/python3.9/site-packages/sklearn/utils/validation.py:2739: UserWarning: X does not have valid feature names, but StandardScaler was fitted with feature names\n",
      "  warnings.warn(\n"
     ]
    },
    {
     "name": "stdout",
     "output_type": "stream",
     "text": [
      "Generated SMILES: \n",
      "Is in QM9: False\n",
      "RDKit valid: False\n",
      "\n",
      "Generating for target (unscaled): {'homo': np.float64(-0.33264266348198684), 'lumo': np.float64(0.07711448125348835), 'gap': np.float64(0.4097571447354752), 'alpha': np.float64(8.674229363264546)}\n",
      "Visualized and saved to: generated_molecules/generated_82.png\n",
      "Generated SMILES: CCCCCCCCC(C)C\n",
      "Is in QM9: False\n",
      "RDKit valid: True\n",
      "\n",
      "Generating for target (unscaled): {'homo': np.float64(-0.4171994456555995), 'lumo': np.float64(0.007006576969180667), 'gap': np.float64(0.4242060226247802), 'alpha': np.float64(186.8809354017666)}\n"
     ]
    },
    {
     "name": "stderr",
     "output_type": "stream",
     "text": [
      "/Users/colinweaver/Documents/MIT Documents/2.174/NEMSTransformer/.venv copy/lib/python3.9/site-packages/sklearn/utils/validation.py:2739: UserWarning: X does not have valid feature names, but StandardScaler was fitted with feature names\n",
      "  warnings.warn(\n",
      "/Users/colinweaver/Documents/MIT Documents/2.174/NEMSTransformer/.venv copy/lib/python3.9/site-packages/sklearn/utils/validation.py:2739: UserWarning: X does not have valid feature names, but StandardScaler was fitted with feature names\n",
      "  warnings.warn(\n"
     ]
    },
    {
     "name": "stdout",
     "output_type": "stream",
     "text": [
      "Generated SMILES: \n",
      "Is in QM9: False\n",
      "RDKit valid: False\n",
      "\n",
      "Generating for target (unscaled): {'homo': np.float64(-0.12236193734620715), 'lumo': np.float64(0.08217372394857103), 'gap': np.float64(0.20453566129477818), 'alpha': np.float64(9.632195029449358)}\n",
      "Visualized and saved to: generated_molecules/generated_84.png\n",
      "Generated SMILES: CCCCCCCCCCCC\n",
      "Is in QM9: False\n",
      "RDKit valid: True\n",
      "\n",
      "Generating for target (unscaled): {'homo': np.float64(-0.4046686546572288), 'lumo': np.float64(0.09997942127705639), 'gap': np.float64(0.5046480759342852), 'alpha': np.float64(174.2924155354471)}\n"
     ]
    },
    {
     "name": "stderr",
     "output_type": "stream",
     "text": [
      "/Users/colinweaver/Documents/MIT Documents/2.174/NEMSTransformer/.venv copy/lib/python3.9/site-packages/sklearn/utils/validation.py:2739: UserWarning: X does not have valid feature names, but StandardScaler was fitted with feature names\n",
      "  warnings.warn(\n",
      "/Users/colinweaver/Documents/MIT Documents/2.174/NEMSTransformer/.venv copy/lib/python3.9/site-packages/sklearn/utils/validation.py:2739: UserWarning: X does not have valid feature names, but StandardScaler was fitted with feature names\n",
      "  warnings.warn(\n"
     ]
    },
    {
     "name": "stdout",
     "output_type": "stream",
     "text": [
      "Generated SMILES: \n",
      "Is in QM9: False\n",
      "RDKit valid: False\n",
      "\n",
      "Generating for target (unscaled): {'homo': -1.683132245757386, 'lumo': 2.927553940972884, 'gap': 4.61068618673027, 'alpha': np.float64(88.7106040806767)}\n"
     ]
    },
    {
     "name": "stderr",
     "output_type": "stream",
     "text": [
      "/Users/colinweaver/Documents/MIT Documents/2.174/NEMSTransformer/.venv copy/lib/python3.9/site-packages/sklearn/utils/validation.py:2739: UserWarning: X does not have valid feature names, but StandardScaler was fitted with feature names\n",
      "  warnings.warn(\n"
     ]
    },
    {
     "name": "stdout",
     "output_type": "stream",
     "text": [
      "Generated SMILES: \n",
      "Is in QM9: False\n",
      "RDKit valid: False\n",
      "\n",
      "Generating for target (unscaled): {'homo': np.float64(-0.28838172821631936), 'lumo': np.float64(-0.10475683943665139), 'gap': np.float64(0.18362488877966798), 'alpha': np.float64(40.734526049002746)}\n",
      "Visualized and saved to: generated_molecules/generated_87.png\n",
      "Generated SMILES: CCCCCCCCCCCCCCCCCCCCCCCCCCCCCCCCCCCCCCCCC\n",
      "Is in QM9: False\n",
      "RDKit valid: True\n",
      "\n",
      "Generating for target (unscaled): {'homo': np.float64(-0.2776531466072514), 'lumo': np.float64(0.1423294777886157), 'gap': np.float64(0.4199826243958671), 'alpha': np.float64(71.1369090634541)}\n"
     ]
    },
    {
     "name": "stderr",
     "output_type": "stream",
     "text": [
      "/Users/colinweaver/Documents/MIT Documents/2.174/NEMSTransformer/.venv copy/lib/python3.9/site-packages/sklearn/utils/validation.py:2739: UserWarning: X does not have valid feature names, but StandardScaler was fitted with feature names\n",
      "  warnings.warn(\n",
      "/Users/colinweaver/Documents/MIT Documents/2.174/NEMSTransformer/.venv copy/lib/python3.9/site-packages/sklearn/utils/validation.py:2739: UserWarning: X does not have valid feature names, but StandardScaler was fitted with feature names\n",
      "  warnings.warn(\n"
     ]
    },
    {
     "name": "stdout",
     "output_type": "stream",
     "text": [
      "Generated SMILES: \n",
      "Is in QM9: False\n",
      "RDKit valid: False\n",
      "\n",
      "Generating for target (unscaled): {'homo': np.float64(-0.36535761114278387), 'lumo': np.float64(0.16574399037803117), 'gap': np.float64(0.531101601520815), 'alpha': np.float64(160.85538847797346)}\n"
     ]
    },
    {
     "name": "stderr",
     "output_type": "stream",
     "text": [
      "/Users/colinweaver/Documents/MIT Documents/2.174/NEMSTransformer/.venv copy/lib/python3.9/site-packages/sklearn/utils/validation.py:2739: UserWarning: X does not have valid feature names, but StandardScaler was fitted with feature names\n",
      "  warnings.warn(\n"
     ]
    },
    {
     "name": "stdout",
     "output_type": "stream",
     "text": [
      "Generated SMILES: \n",
      "Is in QM9: False\n",
      "RDKit valid: False\n",
      "\n",
      "Generating for target (unscaled): {'homo': np.float64(-0.39811170711871), 'lumo': np.float64(-0.07122073218154773), 'gap': np.float64(0.3268909749371623), 'alpha': np.float64(69.53662176988705)}\n"
     ]
    },
    {
     "name": "stderr",
     "output_type": "stream",
     "text": [
      "/Users/colinweaver/Documents/MIT Documents/2.174/NEMSTransformer/.venv copy/lib/python3.9/site-packages/sklearn/utils/validation.py:2739: UserWarning: X does not have valid feature names, but StandardScaler was fitted with feature names\n",
      "  warnings.warn(\n"
     ]
    },
    {
     "name": "stdout",
     "output_type": "stream",
     "text": [
      "Generated SMILES: \n",
      "Is in QM9: False\n",
      "RDKit valid: False\n",
      "\n",
      "Generating for target (unscaled): {'homo': -1.5605406614476112, 'lumo': 2.328703464416394, 'gap': 3.889244125864005, 'alpha': np.float64(194.5396804706992)}\n"
     ]
    },
    {
     "name": "stderr",
     "output_type": "stream",
     "text": [
      "/Users/colinweaver/Documents/MIT Documents/2.174/NEMSTransformer/.venv copy/lib/python3.9/site-packages/sklearn/utils/validation.py:2739: UserWarning: X does not have valid feature names, but StandardScaler was fitted with feature names\n",
      "  warnings.warn(\n"
     ]
    },
    {
     "name": "stdout",
     "output_type": "stream",
     "text": [
      "Generated SMILES: \n",
      "Is in QM9: False\n",
      "RDKit valid: False\n",
      "\n",
      "Generating for target (unscaled): {'homo': np.float64(-0.11591465132982026), 'lumo': np.float64(-0.012968329614660129), 'gap': np.float64(0.10294632171516013), 'alpha': np.float64(152.88694713644253)}\n"
     ]
    },
    {
     "name": "stderr",
     "output_type": "stream",
     "text": [
      "/Users/colinweaver/Documents/MIT Documents/2.174/NEMSTransformer/.venv copy/lib/python3.9/site-packages/sklearn/utils/validation.py:2739: UserWarning: X does not have valid feature names, but StandardScaler was fitted with feature names\n",
      "  warnings.warn(\n"
     ]
    },
    {
     "name": "stdout",
     "output_type": "stream",
     "text": [
      "Generated SMILES: \n",
      "Is in QM9: False\n",
      "RDKit valid: False\n",
      "\n",
      "Generating for target (unscaled): {'homo': np.float64(-0.24332742322265707), 'lumo': np.float64(-0.15940211109298605), 'gap': np.float64(0.08392531212967103), 'alpha': np.float64(186.11177300179196)}\n"
     ]
    },
    {
     "name": "stderr",
     "output_type": "stream",
     "text": [
      "/Users/colinweaver/Documents/MIT Documents/2.174/NEMSTransformer/.venv copy/lib/python3.9/site-packages/sklearn/utils/validation.py:2739: UserWarning: X does not have valid feature names, but StandardScaler was fitted with feature names\n",
      "  warnings.warn(\n"
     ]
    },
    {
     "name": "stdout",
     "output_type": "stream",
     "text": [
      "Generated SMILES: \n",
      "Is in QM9: False\n",
      "RDKit valid: False\n",
      "\n",
      "Generating for target (unscaled): {'homo': np.float64(-0.12137362710875421), 'lumo': np.float64(0.08851194347963415), 'gap': np.float64(0.20988557058838836), 'alpha': np.float64(33.51522696890895)}\n",
      "Visualized and saved to: generated_molecules/generated_94.png\n",
      "Generated SMILES: CCCCCCCCCCCCCCCCCCCCC\n",
      "Is in QM9: False\n",
      "RDKit valid: True\n",
      "\n",
      "Generating for target (unscaled): {'homo': -1.6963727746271324, 'lumo': 2.947453833319222, 'gap': 4.643826607946354, 'alpha': np.float64(143.2886207346236)}\n"
     ]
    },
    {
     "name": "stderr",
     "output_type": "stream",
     "text": [
      "/Users/colinweaver/Documents/MIT Documents/2.174/NEMSTransformer/.venv copy/lib/python3.9/site-packages/sklearn/utils/validation.py:2739: UserWarning: X does not have valid feature names, but StandardScaler was fitted with feature names\n",
      "  warnings.warn(\n",
      "/Users/colinweaver/Documents/MIT Documents/2.174/NEMSTransformer/.venv copy/lib/python3.9/site-packages/sklearn/utils/validation.py:2739: UserWarning: X does not have valid feature names, but StandardScaler was fitted with feature names\n",
      "  warnings.warn(\n"
     ]
    },
    {
     "name": "stdout",
     "output_type": "stream",
     "text": [
      "Generated SMILES: \n",
      "Is in QM9: False\n",
      "RDKit valid: False\n",
      "\n",
      "Generating for target (unscaled): {'homo': np.float64(-0.22977428982757306), 'lumo': np.float64(0.06158072375836518), 'gap': np.float64(0.29135501358593824), 'alpha': np.float64(132.39026142816957)}\n"
     ]
    },
    {
     "name": "stderr",
     "output_type": "stream",
     "text": [
      "/Users/colinweaver/Documents/MIT Documents/2.174/NEMSTransformer/.venv copy/lib/python3.9/site-packages/sklearn/utils/validation.py:2739: UserWarning: X does not have valid feature names, but StandardScaler was fitted with feature names\n",
      "  warnings.warn(\n"
     ]
    },
    {
     "name": "stdout",
     "output_type": "stream",
     "text": [
      "Generated SMILES: \n",
      "Is in QM9: False\n",
      "RDKit valid: False\n",
      "\n",
      "Generating for target (unscaled): {'homo': -1.832909082682709, 'lumo': 2.646282104347089, 'gap': 4.479191187029798, 'alpha': np.float64(88.48859514842746)}\n"
     ]
    },
    {
     "name": "stderr",
     "output_type": "stream",
     "text": [
      "/Users/colinweaver/Documents/MIT Documents/2.174/NEMSTransformer/.venv copy/lib/python3.9/site-packages/sklearn/utils/validation.py:2739: UserWarning: X does not have valid feature names, but StandardScaler was fitted with feature names\n",
      "  warnings.warn(\n"
     ]
    },
    {
     "name": "stdout",
     "output_type": "stream",
     "text": [
      "Generated SMILES: \n",
      "Is in QM9: False\n",
      "RDKit valid: False\n",
      "\n",
      "Generating for target (unscaled): {'homo': np.float64(-0.2953840582246199), 'lumo': np.float64(0.022555122189989812), 'gap': np.float64(0.31793918041460967), 'alpha': np.float64(190.68672927760096)}\n"
     ]
    },
    {
     "name": "stderr",
     "output_type": "stream",
     "text": [
      "/Users/colinweaver/Documents/MIT Documents/2.174/NEMSTransformer/.venv copy/lib/python3.9/site-packages/sklearn/utils/validation.py:2739: UserWarning: X does not have valid feature names, but StandardScaler was fitted with feature names\n",
      "  warnings.warn(\n"
     ]
    },
    {
     "name": "stdout",
     "output_type": "stream",
     "text": [
      "Generated SMILES: \n",
      "Is in QM9: False\n",
      "RDKit valid: False\n",
      "\n",
      "Generating for target (unscaled): {'homo': np.float64(-0.11712028684752185), 'lumo': np.float64(0.08460328050555654), 'gap': np.float64(0.2017235673530784), 'alpha': np.float64(145.93382744107097)}\n"
     ]
    },
    {
     "name": "stderr",
     "output_type": "stream",
     "text": [
      "/Users/colinweaver/Documents/MIT Documents/2.174/NEMSTransformer/.venv copy/lib/python3.9/site-packages/sklearn/utils/validation.py:2739: UserWarning: X does not have valid feature names, but StandardScaler was fitted with feature names\n",
      "  warnings.warn(\n"
     ]
    },
    {
     "name": "stdout",
     "output_type": "stream",
     "text": [
      "Generated SMILES: \n",
      "Is in QM9: False\n",
      "RDKit valid: False\n",
      "\n",
      "Generating for target (unscaled): {'homo': -2.331019880635371, 'lumo': 2.3142084423876526, 'gap': 4.645228323023023, 'alpha': np.float64(137.12516031032789)}\n"
     ]
    },
    {
     "name": "stderr",
     "output_type": "stream",
     "text": [
      "/Users/colinweaver/Documents/MIT Documents/2.174/NEMSTransformer/.venv copy/lib/python3.9/site-packages/sklearn/utils/validation.py:2739: UserWarning: X does not have valid feature names, but StandardScaler was fitted with feature names\n",
      "  warnings.warn(\n"
     ]
    },
    {
     "name": "stdout",
     "output_type": "stream",
     "text": [
      "Generated SMILES: \n",
      "Is in QM9: False\n",
      "RDKit valid: False\n"
     ]
    },
    {
     "data": {
      "image/png": "[encoded data removed]",
      "text/plain": [
       "<Figure size 800x600 with 1 Axes>"
      ]
     },
     "metadata": {},
     "output_type": "display_data"
    }
   ],
   "source": [
    "import random\n",
    "\n",
    "# Number of sequences to generate\n",
    "x = 100\n",
    "\n",
    "# Get statistics from full dataset for generating random properties\n",
    "homo_range = (df_full['homo'].min(), df_full['homo'].max())\n",
    "lumo_range = (df_full['lumo'].min(), df_full['lumo'].max())\n",
    "alpha_range = (df_full['alpha'].min(), df_full['alpha'].max())\n",
    "\n",
    "# High-performing cutoffs (you already calculated these)\n",
    "high_gap_target = df_full['gap'].quantile(0.95)\n",
    "high_alpha_target = df_full['alpha'].quantile(0.95)\n",
    "\n",
    "# 1. Generate random property sets\n",
    "target_properties_list_unscaled = []\n",
    "\n",
    "for _ in range(x):\n",
    "    # 20% chance to sample from high-performing region\n",
    "    if random.random() < 0.2:\n",
    "        homo = random.uniform(-3.0, -1.5)\n",
    "        lumo = random.uniform(2.0, 3.0)\n",
    "        alpha = random.uniform(high_alpha_target, alpha_range[1])\n",
    "    else:\n",
    "        homo = random.uniform(*homo_range)\n",
    "        lumo = random.uniform(*lumo_range)\n",
    "        alpha = random.uniform(*alpha_range)\n",
    "\n",
    "    # Ensure physical plausibility: LUMO > HOMO\n",
    "    if lumo <= homo:\n",
    "        lumo = homo + abs(np.random.normal(2.5, 0.5))  # Add positive gap\n",
    "\n",
    "    gap = lumo - homo\n",
    "    target_properties_list_unscaled.append({\n",
    "        'homo': homo,\n",
    "        'lumo': lumo,\n",
    "        'gap': gap,\n",
    "        'alpha': alpha\n",
    "    })\n",
    "\n",
    "# 2. Generate new sequences using the existing pipeline\n",
    "generated_smiles_info = generate_new_sequences(\n",
    "    model, \n",
    "    tokenizer, \n",
    "    scaler,\n",
    "    target_properties_list_unscaled,\n",
    "    qm9_smiles_set,\n",
    "    property_cols\n",
    ")\n",
    "\n",
    "# 3. Filter valid sequences\n",
    "valid_sequences = [\n",
    "    info for info in generated_smiles_info \n",
    "    if info.get('valid', False)\n",
    "]\n",
    "\n",
    "# 4. Plot GAP vs. Alpha for valid sequences\n",
    "gaps = [entry['target_properties']['gap'] for entry in valid_sequences]\n",
    "alphas = [entry['target_properties']['alpha'] for entry in valid_sequences]\n",
    "\n",
    "plt.figure(figsize=(8, 6))\n",
    "plt.scatter(gaps, alphas, color='blue', label='Valid Sequences')\n",
    "\n",
    "# Vertical lines for maximum values\n",
    "plt.axvline(x=high_gap_target, color='red', linestyle='--', label='95th %ile GAP')\n",
    "plt.axhline(y=high_alpha_target, color='green', linestyle='--', label='95th %ile Alpha')\n",
    "\n",
    "plt.xlabel('Gap (eV)')\n",
    "plt.ylabel('Alpha (Bohr^3)')\n",
    "plt.title('Valid Generated Sequences: Gap vs. Alpha')\n",
    "plt.legend()\n",
    "plt.grid(True)\n",
    "plt.tight_layout()\n",
    "plt.savefig('target_properties_plot.png')\n",
    "plt.show()\n"
   ]
  }
 ],
 "metadata": {
  "kernelspec": {
   "display_name": ".venv copy",
   "language": "python",
   "name": "python3"
  },
  "language_info": {
   "codemirror_mode": {
    "name": "ipython",
    "version": 3
   },
   "file_extension": ".py",
   "mimetype": "text/x-python",
   "name": "python",
   "nbconvert_exporter": "python",
   "pygments_lexer": "ipython3",
   "version": "3.9.6"
  }
 },
 "nbformat": 4,
 "nbformat_minor": 5
}
