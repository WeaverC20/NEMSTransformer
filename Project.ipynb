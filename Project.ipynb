{
 "cells": [
  {
   "cell_type": "code",
   "execution_count": 57,
   "id": "83d8a04a",
   "metadata": {},
   "outputs": [],
   "source": [
    "import os\n",
    "import torch\n",
    "import torch.nn as nn\n",
    "import torch.nn.functional as F\n",
    "from torch.utils.data import Dataset, DataLoader\n",
    "from sklearn.preprocessing import StandardScaler\n",
    "from rdkit import Chem\n",
    "from rdkit.Chem import Descriptors\n",
    "import pandas as pd\n",
    "import numpy as np\n",
    "import matplotlib.pyplot as plt\n",
    "from tqdm import tqdm"
   ]
  },
  {
   "cell_type": "code",
   "execution_count": null,
   "id": "649335fe",
   "metadata": {},
   "outputs": [],
   "source": [
    "import pandas as pd\n",
    "from sklearn.preprocessing import StandardScaler\n",
    "from sklearn.model_selection import train_test_split\n",
    "\n",
    "# Load QM9 CSV\n",
    "df = pd.read_csv(\"qm9_.csv\")\n",
    "\n",
    "# Subset the data for quick testing\n",
    "subset_size = 133883  # You can change this to 1000, 10000, etc.       133883 size of full dataset\n",
    "df = df.dropna(subset=[\"homo\", \"lumo\", \"gap\", \"alpha\"]).sample(n=subset_size, random_state=42).reset_index(drop=True)\n",
    "\n",
    "# Extract SMILES and targets\n",
    "target_columns = [\"homo\", \"lumo\", \"gap\", \"alpha\"]\n",
    "smiles_list = df[\"smiles\"].tolist()\n",
    "target_props = df[target_columns].values\n",
    "\n",
    "# Normalize targets\n",
    "scaler_forward = StandardScaler()\n",
    "target_props = scaler_forward.fit_transform(target_props)\n",
    "\n",
    "# Train/test split\n",
    "train_smiles, test_smiles, train_y, test_y = train_test_split(smiles_list, target_props, test_size=0.2, random_state=42)\n",
    "\n"
   ]
  },
  {
   "cell_type": "code",
   "execution_count": 59,
   "id": "73f3d1cb",
   "metadata": {},
   "outputs": [],
   "source": [
    "class SMILESTokenizerForward:\n",
    "    def __init__(self):\n",
    "        self.special = ['<pad>', '<bos>', '<eos>', '<unk>']\n",
    "        self.vocab = {tok: idx for idx, tok in enumerate(self.special)}\n",
    "\n",
    "    def tokenize(self, smiles):\n",
    "        return list(smiles)\n",
    "\n",
    "    def build_vocab(self, smiles_list):\n",
    "        chars = set(c for smi in smiles_list for c in self.tokenize(smi))\n",
    "        for c in sorted(chars):\n",
    "            if c not in self.vocab:\n",
    "                self.vocab[c] = len(self.vocab)\n",
    "\n",
    "        self.inv_vocab = {v: k for k, v in self.vocab.items()}\n",
    "\n",
    "    def encode(self, smiles, max_len=128):\n",
    "        tokens = self.tokenize(smiles)\n",
    "        ids = [self.vocab.get(tok, self.vocab['<unk>']) for tok in tokens]\n",
    "        ids = [self.vocab['<bos>']] + ids[:max_len-2] + [self.vocab['<eos>']]\n",
    "        ids += [self.vocab['<pad>']] * (max_len - len(ids))\n",
    "        return torch.tensor(ids)\n",
    "\n",
    "    def vocab_size(self):\n",
    "        return len(self.vocab)\n",
    "\n",
    "tokenizer_forward = SMILESTokenizerForward()\n",
    "tokenizer_forward.build_vocab(train_smiles + test_smiles)"
   ]
  },
  {
   "cell_type": "code",
   "execution_count": 60,
   "id": "337a44b7",
   "metadata": {},
   "outputs": [],
   "source": [
    "from torch.utils.data import Dataset, DataLoader\n",
    "import torch\n",
    "\n",
    "class QM9Dataset(Dataset):\n",
    "    def __init__(self, smiles, targets, tokenizer):\n",
    "        self.smiles = smiles\n",
    "        self.targets = targets\n",
    "        self.tokenizer = tokenizer\n",
    "\n",
    "    def __len__(self):\n",
    "        return len(self.smiles)\n",
    "\n",
    "    def __getitem__(self, idx):\n",
    "        x = self.tokenizer.encode(self.smiles[idx])\n",
    "        y = torch.tensor(self.targets[idx], dtype=torch.float32)\n",
    "        return x, y\n",
    "\n",
    "train_dataset = QM9Dataset(train_smiles, train_y, tokenizer_forward)\n",
    "test_dataset = QM9Dataset(test_smiles, test_y, tokenizer_forward)\n",
    "\n",
    "train_loader = DataLoader(train_dataset, batch_size=64, shuffle=True)\n",
    "test_loader = DataLoader(test_dataset, batch_size=64)"
   ]
  },
  {
   "cell_type": "code",
   "execution_count": 61,
   "id": "87a1736f",
   "metadata": {},
   "outputs": [],
   "source": [
    "import torch.nn as nn\n",
    "\n",
    "class TransformerRegressor(nn.Module):\n",
    "    def __init__(self, vocab_size, seq_len, dim=256, heads=16, depth=6, ff_mult=2, n_outputs=4):\n",
    "        super().__init__()\n",
    "        self.embed = nn.Embedding(vocab_size, 8)\n",
    "        self.pos_embed = nn.Parameter(torch.randn(1, seq_len, 8))\n",
    "        self.proj = nn.Linear(8, dim)\n",
    "\n",
    "        encoder_layer = nn.TransformerEncoderLayer(\n",
    "            d_model=dim, nhead=heads, dim_feedforward=ff_mult*dim, batch_first=True\n",
    "        )\n",
    "        self.encoder = nn.TransformerEncoder(encoder_layer, num_layers=depth)\n",
    "\n",
    "        self.head = nn.Sequential(\n",
    "            nn.Linear(dim, dim // 2),\n",
    "            nn.ReLU(),\n",
    "            nn.Linear(dim // 2, n_outputs)\n",
    "        )\n",
    "\n",
    "    def forward(self, x):\n",
    "        x = self.embed(x) + self.pos_embed[:, :x.size(1), :]\n",
    "        x = self.proj(x)\n",
    "        x = self.encoder(x)\n",
    "        x = x.mean(dim=1)  # average pooling\n",
    "        return self.head(x)\n",
    "\n",
    "device = torch.device(\"cuda\" if torch.cuda.is_available() else \"cpu\")\n",
    "forward_model = TransformerRegressor(tokenizer_forward.vocab_size(), seq_len=128).to(device)"
   ]
  },
  {
   "cell_type": "code",
   "execution_count": null,
   "id": "c380320d",
   "metadata": {},
   "outputs": [
    {
     "name": "stderr",
     "output_type": "stream",
     "text": [
      "Epoch 1 [Train]: 100%|██████████| 250/250 [05:53<00:00,  1.41s/it]\n",
      "Epoch 1 [Test]: 100%|██████████| 63/63 [00:14<00:00,  4.35it/s]\n",
      "Epoch 2 [Train]: 100%|██████████| 250/250 [05:25<00:00,  1.30s/it]\n",
      "Epoch 2 [Test]: 100%|██████████| 63/63 [00:11<00:00,  5.29it/s]\n",
      "Epoch 3 [Train]: 100%|██████████| 250/250 [05:13<00:00,  1.25s/it]\n",
      "Epoch 3 [Test]: 100%|██████████| 63/63 [00:12<00:00,  5.25it/s]\n",
      "Epoch 4 [Train]: 100%|██████████| 250/250 [05:11<00:00,  1.25s/it]\n",
      "Epoch 4 [Test]: 100%|██████████| 63/63 [00:12<00:00,  5.10it/s]\n",
      "Epoch 5 [Train]: 100%|██████████| 250/250 [05:04<00:00,  1.22s/it]\n",
      "Epoch 5 [Test]: 100%|██████████| 63/63 [00:12<00:00,  5.16it/s]\n"
     ]
    }
   ],
   "source": [
    "from tqdm import tqdm\n",
    "\n",
    "optimizer = torch.optim.Adam(forward_model.parameters(), lr=1e-4)\n",
    "loss_fn = nn.MSELoss()\n",
    "\n",
    "num_epochs = 50\n",
    "train_losses = []\n",
    "test_losses = []\n",
    "\n",
    "for epoch in range(num_epochs):\n",
    "    # Training phase\n",
    "    forward_model.train()\n",
    "    total_train_loss = 0\n",
    "    for x, y in tqdm(train_loader, desc=f\"Epoch {epoch+1} [Train]\"):\n",
    "        x, y = x.to(device), y.to(device)\n",
    "        pred = forward_model(x)\n",
    "        loss = loss_fn(pred, y)\n",
    "        optimizer.zero_grad()\n",
    "        loss.backward()\n",
    "        optimizer.step()\n",
    "        total_train_loss += loss.item()\n",
    "    \n",
    "    avg_train_loss = total_train_loss / len(train_loader)\n",
    "    train_losses.append(avg_train_loss)\n",
    "\n",
    "    # Evaluation phase\n",
    "    forward_model.eval()\n",
    "    total_test_loss = 0\n",
    "    with torch.no_grad():\n",
    "        for x, y in tqdm(test_loader, desc=f\"Epoch {epoch+1} [Test]\"):\n",
    "            x, y = x.to(device), y.to(device)\n",
    "            pred = forward_model(x)\n",
    "            loss = loss_fn(pred, y)\n",
    "            total_test_loss += loss.item()\n",
    "    \n",
    "    avg_test_loss = total_test_loss / len(test_loader)\n",
    "    test_losses.append(avg_test_loss)\n"
   ]
  },
  {
   "cell_type": "code",
   "execution_count": 63,
   "id": "304a6392",
   "metadata": {},
   "outputs": [
    {
     "data": {
      "image/png": "[encoded data removed]",
      "text/plain": [
       "<Figure size 640x480 with 1 Axes>"
      ]
     },
     "metadata": {},
     "output_type": "display_data"
    }
   ],
   "source": [
    "import matplotlib.pyplot as plt\n",
    "\n",
    "# Plot losses\n",
    "plt.plot(range(1, num_epochs+1), train_losses, label=\"Train Loss\")\n",
    "plt.plot(range(1, num_epochs+1), test_losses, label=\"Test Loss\")\n",
    "plt.xlabel(\"Epoch\")\n",
    "plt.ylabel(\"Loss\")\n",
    "plt.title(\"Train and Test Loss Over Epochs\")\n",
    "plt.legend()\n",
    "plt.grid(True)\n",
    "plt.show()"
   ]
  },
  {
   "cell_type": "code",
   "execution_count": 64,
   "id": "d6ac903d",
   "metadata": {},
   "outputs": [
    {
     "data": {
      "image/png": "[encoded data removed]",
      "text/plain": [
       "<Figure size 1000x1000 with 4 Axes>"
      ]
     },
     "metadata": {},
     "output_type": "display_data"
    }
   ],
   "source": [
    "from sklearn.metrics import r2_score\n",
    "\n",
    "forward_model.eval()\n",
    "preds, truths = [], []\n",
    "with torch.no_grad():\n",
    "    for x, y in test_loader:\n",
    "        x = x.to(device)\n",
    "        pred = forward_model(x)\n",
    "        preds.append(pred.cpu())\n",
    "        truths.append(y)\n",
    "\n",
    "preds = torch.cat(preds).numpy()\n",
    "truths = torch.cat(truths).numpy()\n",
    "\n",
    "# Inverse transform targets\n",
    "preds = scaler_forward.inverse_transform(preds)\n",
    "truths = scaler_forward.inverse_transform(truths)\n",
    "\n",
    "# Plot setup\n",
    "labels = [\"HOMO\", \"LUMO\", \"Gap\", \"Alpha\"]\n",
    "fig, axs = plt.subplots(2, 2, figsize=(10, 10))\n",
    "axs = axs.flatten()\n",
    "\n",
    "for i in range(4):\n",
    "    r2 = r2_score(truths[:, i], preds[:, i])\n",
    "    axs[i].scatter(truths[:, i], preds[:, i], alpha=0.4)\n",
    "    axs[i].plot([truths[:, i].min(), truths[:, i].max()],\n",
    "                [truths[:, i].min(), truths[:, i].max()], 'r--')\n",
    "    axs[i].set_xlabel(f\"True {labels[i]}\")\n",
    "    axs[i].set_ylabel(f\"Predicted {labels[i]}\")\n",
    "    axs[i].set_title(f\"{labels[i]} (R² = {r2:.3f})\")\n",
    "    axs[i].grid(True)\n",
    "\n",
    "plt.tight_layout()\n",
    "plt.show()"
   ]
  },
  {
   "cell_type": "markdown",
   "id": "6614a540",
   "metadata": {},
   "source": [
    "Autoregressive Transformer"
   ]
  },
  {
   "cell_type": "code",
   "execution_count": 65,
   "id": "dac55be5",
   "metadata": {},
   "outputs": [],
   "source": [
    "import torch\n",
    "import torch.nn as nn\n",
    "import torch.optim as optim\n",
    "from torch.utils.data import Dataset, DataLoader\n",
    "import pandas as pd\n",
    "import numpy as np\n",
    "import math\n",
    "from sklearn.preprocessing import StandardScaler\n",
    "import matplotlib.pyplot as plt\n",
    "import os\n",
    "from rdkit import Chem\n",
    "from rdkit.Chem.Draw import MolsToGridImage\n",
    "RDKIT_AVAILABLE = True"
   ]
  },
  {
   "cell_type": "code",
   "execution_count": null,
   "id": "c199e3d8",
   "metadata": {},
   "outputs": [],
   "source": [
    "# --- Configuration ---\n",
    "# Model Parameters (as specified by user)\n",
    "D_MODEL = 256  # Channels\n",
    "N_HEADS = 8\n",
    "D_FF = 1024  # Feedforward Multiplier 4 -> 256 * 4 = 1024\n",
    "SMILES_EMBEDDING_DIM = 16 # Embedding Dimension for SMILES tokens\n",
    "# CROSS_ATTENTION_EMBEDDING_DIM = 8 # Not directly used as k/v dim for simplicity, see notes.\n",
    "MAX_SEQ_LEN = 128  # Maximum SMILES sequence length\n",
    "DECODER_DEPTH = 6  # Number of decoder layers\n",
    "PROPERTY_DIM = 4  # homo, lumo, gap, alpha\n",
    "DROPOUT = 0.1\n",
    "\n",
    "# Training Parameters (example values)\n",
    "LEARNING_RATE = 1e-4\n",
    "BATCH_SIZE = 32\n",
    "NUM_EPOCHS = 200 # Placeholder: for generative model\n",
    "DEVICE = torch.device(\"cuda\" if torch.cuda.is_available() else \"cpu\")\n",
    "\n",
    "# Special Tokens\n",
    "PAD_TOKEN = \"<pad>\"\n",
    "SOS_TOKEN = \"<sos>\" # Start of Sequence\n",
    "EOS_TOKEN = \"<eos>\" # End of Sequence\n",
    "UNK_TOKEN = \"<unk>\" # Unknown token"
   ]
  },
  {
   "cell_type": "code",
   "execution_count": 67,
   "id": "83f02d37",
   "metadata": {},
   "outputs": [],
   "source": [
    "# --- SMILES Tokenizer ---\n",
    "class SMILESTokenizer:\n",
    "    def __init__(self):\n",
    "        self.special_tokens = [PAD_TOKEN, SOS_TOKEN, EOS_TOKEN, UNK_TOKEN]\n",
    "        self.char_to_idx = {}\n",
    "        self.idx_to_char = {}\n",
    "        self.vocab_size = 0\n",
    "\n",
    "    def fit(self, smiles_list):\n",
    "        # Gathers all unique characters from SMILES strings\n",
    "        all_chars = set()\n",
    "        for smiles in smiles_list:\n",
    "            for char in smiles:\n",
    "                all_chars.add(char)\n",
    "        \n",
    "        # Sort characters for consistent mapping\n",
    "        sorted_chars = sorted(list(all_chars))\n",
    "        \n",
    "        # Initialize with special tokens\n",
    "        self.char_to_idx = {token: i for i, token in enumerate(self.special_tokens)}\n",
    "        current_idx = len(self.special_tokens)\n",
    "        \n",
    "        # Add unique SMILES characters\n",
    "        for char in sorted_chars:\n",
    "            if char not in self.char_to_idx: # Should not happen if special tokens are not in SMILES chars\n",
    "                self.char_to_idx[char] = current_idx\n",
    "                current_idx += 1\n",
    "        \n",
    "        self.idx_to_char = {i: char for char, i in self.char_to_idx.items()}\n",
    "        self.vocab_size = len(self.char_to_idx)\n",
    "        \n",
    "        # Ensure special tokens have correct indices\n",
    "        self.pad_idx = self.char_to_idx[PAD_TOKEN]\n",
    "        self.sos_idx = self.char_to_idx[SOS_TOKEN]\n",
    "        self.eos_idx = self.char_to_idx[EOS_TOKEN]\n",
    "        self.unk_idx = self.char_to_idx[UNK_TOKEN]\n",
    "\n",
    "    def tokenize(self, smiles_string):\n",
    "        # Converts a SMILES string to a list of token IDs\n",
    "        return [self.char_to_idx.get(char, self.unk_idx) for char in smiles_string]\n",
    "\n",
    "    def detokenize(self, token_ids):\n",
    "        # Converts a list of token IDs back to a SMILES string\n",
    "        chars = []\n",
    "        for token_id in token_ids:\n",
    "            if token_id == self.eos_idx:\n",
    "                break\n",
    "            if token_id not in [self.sos_idx, self.pad_idx]: # Don't include SOS or PAD in output string\n",
    "                 chars.append(self.idx_to_char.get(token_id, UNK_TOKEN))\n",
    "        return \"\".join(chars)\n"
   ]
  },
  {
   "cell_type": "code",
   "execution_count": 68,
   "id": "53c8d9d4",
   "metadata": {},
   "outputs": [],
   "source": [
    "\n",
    "# --- Positional Encoding ---\n",
    "class PositionalEncoding(nn.Module):\n",
    "    def __init__(self, d_model, dropout=0.1, max_len=MAX_SEQ_LEN):\n",
    "        super(PositionalEncoding, self).__init__()\n",
    "        self.dropout = nn.Dropout(p=dropout)\n",
    "\n",
    "        pe = torch.zeros(max_len, d_model)\n",
    "        position = torch.arange(0, max_len, dtype=torch.float).unsqueeze(1)\n",
    "        div_term = torch.exp(torch.arange(0, d_model, 2).float() * (-math.log(10000.0) / d_model))\n",
    "        pe[:, 0::2] = torch.sin(position * div_term)\n",
    "        pe[:, 1::2] = torch.cos(position * div_term)\n",
    "        pe = pe.unsqueeze(0) # Shape: (1, max_len, d_model)\n",
    "        self.register_buffer('pe', pe) # Not a model parameter\n",
    "\n",
    "    def forward(self, x):\n",
    "        # x shape: (batch_size, seq_len, d_model)\n",
    "        # self.pe shape: (1, max_len, d_model)\n",
    "        # We need to select the relevant part of pe: self.pe[:, :x.size(1), :]\n",
    "        x = x + self.pe[:, :x.size(1), :]\n",
    "        return self.dropout(x)\n"
   ]
  },
  {
   "cell_type": "code",
   "execution_count": 69,
   "id": "204e9e97",
   "metadata": {},
   "outputs": [],
   "source": [
    "# --- Transformer Model ---\n",
    "class SmilesTransformer(nn.Module):\n",
    "    def __init__(self, vocab_size, property_dim, d_model, n_heads, d_ff,\n",
    "                 decoder_depth, smiles_embedding_dim, max_seq_len, dropout, pad_idx): # Added pad_idx\n",
    "        super(SmilesTransformer, self).__init__()\n",
    "        self.d_model = d_model\n",
    "        self.max_seq_len = max_seq_len\n",
    "\n",
    "        self.property_projector = nn.Linear(property_dim, d_model)\n",
    "        self.smiles_embedder = nn.Embedding(vocab_size, smiles_embedding_dim, padding_idx=pad_idx) # Use passed pad_idx\n",
    "        self.smiles_input_projector = nn.Linear(smiles_embedding_dim, d_model)\n",
    "        self.positional_encoder = PositionalEncoding(d_model, dropout, max_seq_len)\n",
    "\n",
    "        decoder_layer = nn.TransformerDecoderLayer(\n",
    "            d_model=d_model, nhead=n_heads, dim_feedforward=d_ff,\n",
    "            dropout=dropout, activation='relu', batch_first=True, norm_first=True\n",
    "        )\n",
    "        self.transformer_decoder = nn.TransformerDecoder(decoder_layer, num_layers=decoder_depth)\n",
    "        self.output_layer = nn.Linear(d_model, vocab_size)\n",
    "\n",
    "    def _generate_square_subsequent_mask(self, sz):\n",
    "        mask = (torch.triu(torch.ones(sz, sz)) == 1).transpose(0, 1)\n",
    "        mask = mask.float().masked_fill(mask == 0, float('-inf')).masked_fill(mask == 1, float(0.0))\n",
    "        return mask.to(DEVICE)\n",
    "\n",
    "    def forward(self, properties, tgt_smiles_tokens, tgt_padding_mask=None):\n",
    "        memory = self.property_projector(properties).unsqueeze(1) \n",
    "        tgt_embed = self.smiles_embedder(tgt_smiles_tokens)\n",
    "        tgt_projected = self.smiles_input_projector(tgt_embed) * math.sqrt(self.d_model)\n",
    "        tgt_pos_encoded = self.positional_encoder(tgt_projected)\n",
    "        tgt_mask = self._generate_square_subsequent_mask(tgt_smiles_tokens.size(1))\n",
    "        decoder_output = self.transformer_decoder(\n",
    "            tgt=tgt_pos_encoded, memory=memory,\n",
    "            tgt_mask=tgt_mask, tgt_key_padding_mask=tgt_padding_mask\n",
    "        )\n",
    "        return self.output_layer(decoder_output)\n",
    "\n",
    "    def generate(self, properties, tokenizer, max_len=MAX_SEQ_LEN):\n",
    "        self.eval()\n",
    "        if properties.ndim == 1:\n",
    "            properties = properties.unsqueeze(0)\n",
    "        properties = properties.to(DEVICE)\n",
    "        generated_ids = torch.tensor([[tokenizer.sos_idx]], dtype=torch.long, device=DEVICE)\n",
    "        memory = self.property_projector(properties).unsqueeze(1)\n",
    "\n",
    "        with torch.no_grad():\n",
    "            for _ in range(max_len - 1):\n",
    "                tgt_embed = self.smiles_embedder(generated_ids)\n",
    "                tgt_projected = self.smiles_input_projector(tgt_embed) * math.sqrt(self.d_model)\n",
    "                tgt_pos_encoded = self.positional_encoder(tgt_projected)\n",
    "                tgt_mask = self._generate_square_subsequent_mask(generated_ids.size(1))\n",
    "                decoder_output = self.transformer_decoder(tgt=tgt_pos_encoded, memory=memory, tgt_mask=tgt_mask)\n",
    "                last_token_logits = self.output_layer(decoder_output[:, -1, :])\n",
    "                predicted_id = torch.argmax(last_token_logits, dim=-1).unsqueeze(1)\n",
    "                generated_ids = torch.cat([generated_ids, predicted_id], dim=1)\n",
    "                if predicted_id.item() == tokenizer.eos_idx:\n",
    "                    break\n",
    "        return tokenizer.detokenize(generated_ids.squeeze(0).cpu().tolist())\n"
   ]
  },
  {
   "cell_type": "code",
   "execution_count": 70,
   "id": "6a9dbe83",
   "metadata": {},
   "outputs": [],
   "source": [
    "# --- Wrapper for your TransformerRegressor (SMILES -> Property) ---\n",
    "# Place this class definition in a new cell after your TransformerRegressor \n",
    "# and SMILESTokenizer class definitions.\n",
    "\n",
    "class ForwardPropertyPredictorWrapper:\n",
    "    def __init__(self, smiles_to_prop_model, tokenizer, scaler, property_names, device, max_seq_len_pred_model):\n",
    "        \"\"\"\n",
    "        Wrapper for your TransformerRegressor to make it compatible.\n",
    "\n",
    "        Args:\n",
    "            smiles_to_prop_model: Your trained TransformerRegressor instance (from cell 5, trained in cell 7).\n",
    "            tokenizer: Your SMILESTokenizer instance (from cell 3 or 12).\n",
    "            scaler: StandardScaler instance fitted on the property_names.\n",
    "            property_names (list): List of property names in the order the model predicts \n",
    "                                   and the scaler expects (e.g., [\"homo\", \"lumo\", \"gap\", \"alpha\"]).\n",
    "            device: The torch device (e.g., torch.device(\"cpu\")).\n",
    "            max_seq_len_pred_model (int): The max sequence length your TransformerRegressor expects.\n",
    "        \"\"\"\n",
    "        self.model = smiles_to_prop_model\n",
    "        self.tokenizer = tokenizer\n",
    "        self.scaler = scaler\n",
    "        self.property_names = property_names\n",
    "        self.device = device\n",
    "        self.max_seq_len = max_seq_len_pred_model\n",
    "\n",
    "    def predict_properties(self, smiles_string):\n",
    "        \"\"\"\n",
    "        Predicts properties for a given SMILES string.\n",
    "\n",
    "        Args:\n",
    "            smiles_string (str): The SMILES string to predict properties for.\n",
    "\n",
    "        Returns:\n",
    "            dict: A dictionary of predicted (unscaled) properties.\n",
    "        \"\"\"\n",
    "        self.model.eval() # Set the model to evaluation mode\n",
    "        with torch.no_grad():\n",
    "            # Tokenize the SMILES string using the 'encode' method from your SMILESTokenizer\n",
    "            # This method should handle adding <bos>, <eos> and padding to max_seq_len.\n",
    "            # (as per your cell 3 or cell 12 tokenizer and cell 4 QM9Dataset)\n",
    "            token_ids = self.tokenizer.encode(smiles_string, max_len=self.max_seq_len)\n",
    "            \n",
    "            # Add batch dimension and move to device\n",
    "            input_tensor = token_ids.unsqueeze(0).to(self.device) \n",
    "\n",
    "            # Get scaled predictions from your TransformerRegressor\n",
    "            # Your model's forward pass (cell 5) takes x (tokenized SMILES)\n",
    "            scaled_predictions_tensor = self.model(input_tensor) # Shape: (1, num_properties)\n",
    "            \n",
    "            # Inverse transform to get unscaled properties\n",
    "            # The scaler expects a 2D array (n_samples, n_features)\n",
    "            unscaled_predictions_np = self.scaler.inverse_transform(scaled_predictions_tensor.cpu().numpy())\n",
    "            \n",
    "            # Return as a dictionary with property names as keys\n",
    "            return dict(zip(self.property_names, unscaled_predictions_np.squeeze()))\n",
    "\n",
    "    def eval(self): # For consistency if the main function calls eval on it\n",
    "        self.model.eval()"
   ]
  },
  {
   "cell_type": "code",
   "execution_count": 71,
   "id": "94b6ea60",
   "metadata": {},
   "outputs": [],
   "source": [
    "# --- Dataset and DataLoader ---\n",
    "class QM9Dataset(Dataset):\n",
    "    def __init__(self, properties_df, smiles_list, tokenizer, max_seq_len):\n",
    "        self.properties = torch.tensor(properties_df.values, dtype=torch.float)\n",
    "        self.smiles_list = smiles_list\n",
    "        self.tokenizer = tokenizer\n",
    "        self.max_seq_len = max_seq_len\n",
    "\n",
    "    def __len__(self):\n",
    "        return len(self.smiles_list)\n",
    "\n",
    "    def __getitem__(self, idx):\n",
    "        props = self.properties[idx]\n",
    "        smiles = self.smiles_list[idx]\n",
    "\n",
    "        # Tokenize SMILES: <sos> + tokens + <eos>\n",
    "        tokenized_smiles = [self.tokenizer.sos_idx] + self.tokenizer.tokenize(smiles) + [self.tokenizer.eos_idx]\n",
    "        \n",
    "        # Pad or truncate\n",
    "        if len(tokenized_smiles) < self.max_seq_len:\n",
    "            padding = [self.tokenizer.pad_idx] * (self.max_seq_len - len(tokenized_smiles))\n",
    "            tokenized_smiles.extend(padding)\n",
    "        else:\n",
    "            tokenized_smiles = tokenized_smiles[:self.max_seq_len -1] + [self.tokenizer.eos_idx] # Ensure EOS if truncated\n",
    "\n",
    "        # Input to decoder: <sos> t1 t2 ... tn-1 <pad> ...\n",
    "        # Target for loss:   t1 t2 ... tn-1 <eos> <pad> ...\n",
    "        # Both should have length max_seq_len\n",
    "        \n",
    "        # Decoder input sequence (starts with SOS, ends before final EOS if full, or with PADs)\n",
    "        # Example: if tokenized_smiles = [sos, t1, t2, eos, pad, pad] (len 6, max_len 6)\n",
    "        # input_seq = [sos, t1, t2, eos, pad] (remove last, for predicting next)\n",
    "        # target_seq = [t1, t2, eos, pad, pad] (remove first)\n",
    "\n",
    "        input_seq = torch.tensor(tokenized_smiles[:-1], dtype=torch.long)\n",
    "        target_seq = torch.tensor(tokenized_smiles[1:], dtype=torch.long) # Shifted right\n",
    "\n",
    "        # Create padding mask for the input sequence (True where it's a pad token)\n",
    "        # This is for tgt_key_padding_mask in TransformerDecoder\n",
    "        padding_mask = (input_seq == self.tokenizer.pad_idx)\n",
    "\n",
    "        return props, input_seq, target_seq, padding_mask\n"
   ]
  },
  {
   "cell_type": "code",
   "execution_count": 72,
   "id": "1cdb074c",
   "metadata": {},
   "outputs": [],
   "source": [
    "# --- Generation and Evaluation ---\n",
    "def generate_new_sequences(model, tokenizer, scaler, target_properties_unscaled_list, qm9_smiles_set, property_names):\n",
    "    \"\"\"\n",
    "    Generates SMILES sequences for given target properties, checks against QM9,\n",
    "    and visualizes them.\n",
    "    Args:\n",
    "        model: The trained SmilesTransformer model.\n",
    "        tokenizer: The SMILESTokenizer.\n",
    "        scaler: The fitted StandardScaler for properties.\n",
    "        target_properties_unscaled_list (list of dicts): List of dictionaries, \n",
    "            each with unscaled property values (e.g., {'homo': -7.0, 'lumo': -1.0, 'gap': 6.0, 'alpha': 75.0}).\n",
    "            Must contain 'gap' and 'alpha'. Other properties will be used if present, otherwise\n",
    "            defaults might be needed or an error raised if not all 4 are present.\n",
    "        qm9_smiles_set (set): A set of SMILES strings from the QM9 dataset for quick lookup.\n",
    "        property_names (list): List of property names in the order expected by the scaler and model.\n",
    "    Returns:\n",
    "        list of dicts: Each dict contains 'target_properties_unscaled', \n",
    "                       'target_properties_scaled', 'generated_smiles', \n",
    "                       'is_in_qm9', 'is_valid_rdkit', 'mol_image_path'.\n",
    "    \"\"\"\n",
    "    generated_results = []\n",
    "    output_dir = \"generated_molecules\"\n",
    "    os.makedirs(output_dir, exist_ok=True)\n",
    "\n",
    "    for i, props_unscaled_dict in enumerate(target_properties_unscaled_list):\n",
    "        print(f\"\\nGenerating for target (unscaled): {props_unscaled_dict}\")\n",
    "\n",
    "        # Ensure all required properties are present and in correct order for scaling\n",
    "        current_props_unscaled = np.array([props_unscaled_dict.get(p_name, 0) for p_name in property_names])\n",
    "        \n",
    "        # Scale the properties\n",
    "        props_scaled = scaler.transform(current_props_unscaled.reshape(1, -1))\n",
    "        props_tensor = torch.tensor(props_scaled.squeeze(), dtype=torch.float).to(DEVICE)\n",
    "\n",
    "        # Generate SMILES\n",
    "        smiles_gen = model.generate(props_tensor, tokenizer, max_len=MAX_SEQ_LEN)\n",
    "        \n",
    "        is_in_qm9 = smiles_gen in qm9_smiles_set\n",
    "        is_valid_rdkit = False\n",
    "        mol_image_path = None\n",
    "\n",
    "        if RDKIT_AVAILABLE and smiles_gen:\n",
    "            mol = Chem.MolFromSmiles(smiles_gen)\n",
    "            if mol:\n",
    "                is_valid_rdkit = True\n",
    "                try:\n",
    "                    img = MolsToGridImage([mol], molsPerRow=1, subImgSize=(200,200))\n",
    "                    mol_image_path = os.path.join(output_dir, f\"generated_{i+1}.png\")\n",
    "                    # MolsToGridImage returns a PIL image. To save it:\n",
    "                    # For this, you might need PIL (Pillow) if not already a dep of rdkit/matplotlib\n",
    "                    # from PIL import Image (handled by MolsToGridImage if it creates an image object)\n",
    "                    # For simplicity, let's assume MolsToGridImage can save or we use a simpler Draw.MolToImage\n",
    "                    from rdkit.Chem.Draw import MolToFile\n",
    "                    MolToFile(mol, mol_image_path, size=(300,300))\n",
    "                    print(f\"Visualized and saved to: {mol_image_path}\")\n",
    "                except Exception as e:\n",
    "                    print(f\"Error visualizing SMILES '{smiles_gen}': {e}\")\n",
    "                    mol_image_path = None # Reset on error\n",
    "            else:\n",
    "                print(f\"Generated SMILES '{smiles_gen}' is not valid according to RDKit.\")\n",
    "        \n",
    "        result = {\n",
    "            'target_properties_unscaled': props_unscaled_dict,\n",
    "            'target_properties_scaled': props_scaled.squeeze().tolist(),\n",
    "            'generated_smiles': smiles_gen,\n",
    "            'is_in_qm9': is_in_qm9,\n",
    "            'is_valid_rdkit': is_valid_rdkit,\n",
    "            'mol_image_path': mol_image_path\n",
    "        }\n",
    "        generated_results.append(result)\n",
    "\n",
    "        print(f\"Generated SMILES: {smiles_gen}\")\n",
    "        print(f\"Is in QM9: {is_in_qm9}\")\n",
    "        print(f\"RDKit valid: {is_valid_rdkit}\")\n",
    "        \n",
    "    return generated_results\n",
    "\n",
    "def plot_target_property_performance(generated_results, property_x='gap', property_y='alpha'):\n",
    "    \"\"\"\n",
    "    Plots the target properties (e.g., gap vs alpha) for the generated sequences.\n",
    "    Args:\n",
    "        generated_results (list of dicts): Output from generate_new_sequences.\n",
    "        property_x (str): Name of the property for the x-axis.\n",
    "        property_y (str): Name of the property for the y-axis.\n",
    "    \"\"\"\n",
    "    if not generated_results:\n",
    "        print(\"No results to plot.\")\n",
    "        return\n",
    "\n",
    "    x_values = [res['target_properties_unscaled'][property_x] for res in generated_results]\n",
    "    y_values = [res['target_properties_unscaled'][property_y] for res in generated_results]\n",
    "    \n",
    "    plt.figure(figsize=(8, 6))\n",
    "    plt.scatter(x_values, y_values, c='blue', alpha=0.7, label='Target Properties for Generation')\n",
    "    plt.xlabel(f\"Target {property_x.capitalize()} (unscaled)\")\n",
    "    plt.ylabel(f\"Target {property_y.capitalize()} (unscaled)\")\n",
    "    plt.title(f\"Target Performance of Generated Molecules ({property_y.capitalize()} vs {property_x.capitalize()})\")\n",
    "    plt.legend()\n",
    "    plt.grid(True)\n",
    "    plot_filename = \"target_properties_plot.png\"\n",
    "    plt.savefig(plot_filename)\n",
    "    print(f\"Target properties plot saved to {plot_filename}\")\n",
    "    # plt.show() # Uncomment if running in an environment that supports interactive plots"
   ]
  },
  {
   "cell_type": "code",
   "execution_count": 73,
   "id": "0a9b0660",
   "metadata": {},
   "outputs": [
    {
     "name": "stdout",
     "output_type": "stream",
     "text": [
      "Successfully loaded qm9_.csv. Shape: (133885, 13)\n",
      "Shape after dropping NaNs: (133885, 13)\n"
     ]
    }
   ],
   "source": [
    "try:\n",
    "    df_full = pd.read_csv(\"qm9_.csv\")\n",
    "    print(f\"Successfully loaded qm9_.csv. Shape: {df_full.shape}\")\n",
    "except FileNotFoundError:\n",
    "    print(\"Error: qm9_.csv not found. Please ensure the file is in the correct directory.\")\n",
    "\n",
    "# Drop rows with NaNs in specified property columns\n",
    "property_cols = [\"homo\", \"lumo\", \"gap\", \"alpha\"]\n",
    "df_full = df_full.dropna(subset=property_cols)\n",
    "print(f\"Shape after dropping NaNs: {df_full.shape}\")\n",
    "\n",
    "if df_full.empty:\n",
    "    print(\"DataFrame is empty after dropping NaNs. Cannot proceed.\")\n",
    "    exit()\n",
    "\n",
    "# Create a set of existing SMILES for quick lookup\n",
    "qm9_smiles_set = set(df_full['smiles'].tolist())"
   ]
  },
  {
   "cell_type": "code",
   "execution_count": null,
   "id": "37fa3741",
   "metadata": {},
   "outputs": [
    {
     "name": "stdout",
     "output_type": "stream",
     "text": [
      "Shape after filtering for high gap/alpha: (9473, 13)\n"
     ]
    }
   ],
   "source": [
    "# Filter for \"high performing\" molecules (e.g., top 25% in gap and alpha)\n",
    "# You might want to adjust these quantiles\n",
    "percentile = 0.75 # make 0.75 when ready to train\n",
    "gap_threshold = df_full['gap'].quantile(percentile)\n",
    "alpha_threshold = df_full['alpha'].quantile(percentile)\n",
    "\n",
    "df_filtered = df_full[\n",
    "    (df_full['gap'] >= gap_threshold) & \\\n",
    "    (df_full['alpha'] >= alpha_threshold)\n",
    "].copy() # Use .copy() to avoid SettingWithCopyWarning\n",
    "print(f\"Shape after filtering for high gap/alpha: {df_filtered.shape}\")\n",
    "\n",
    "if df_filtered.empty:\n",
    "    print(\"DataFrame is empty after filtering for high gap/alpha. Try adjusting thresholds or check data.\")\n",
    "    exit()"
   ]
  },
  {
   "cell_type": "code",
   "execution_count": 75,
   "id": "f0d13fda",
   "metadata": {},
   "outputs": [
    {
     "name": "stdout",
     "output_type": "stream",
     "text": [
      "Tokenizer vocabulary size: 16\n",
      "PAD index: 0, SOS index: 1, EOS index: 2\n"
     ]
    }
   ],
   "source": [
    "from torch.utils.data import random_split\n",
    "\n",
    "# Normalize properties (already done)\n",
    "scaler = StandardScaler()\n",
    "df_filtered.loc[:, property_cols] = scaler.fit_transform(df_filtered[property_cols])\n",
    "\n",
    "# Extract properties and SMILES\n",
    "properties_data = df_filtered[property_cols]\n",
    "smiles_data = df_filtered['smiles'].tolist()\n",
    "\n",
    "# Initialize and fit tokenizer\n",
    "tokenizer = SMILESTokenizer()\n",
    "tokenizer.fit(smiles_data)\n",
    "print(f\"Tokenizer vocabulary size: {tokenizer.vocab_size}\")\n",
    "print(f\"PAD index: {tokenizer.pad_idx}, SOS index: {tokenizer.sos_idx}, EOS index: {tokenizer.eos_idx}\")\n",
    "\n",
    "# Create dataset\n",
    "qm9_dataset = QM9Dataset(properties_data, smiles_data, tokenizer, MAX_SEQ_LEN)\n",
    "\n",
    "# 🔥 Split into training and test datasets (e.g., 80% train, 20% test)\n",
    "train_size = int(0.8 * len(qm9_dataset))\n",
    "test_size = len(qm9_dataset) - train_size\n",
    "train_dataset, test_dataset = random_split(qm9_dataset, [train_size, test_size], generator=torch.Generator().manual_seed(42))\n",
    "\n",
    "# Create DataLoaders\n",
    "train_loader = DataLoader(train_dataset, batch_size=BATCH_SIZE, shuffle=True, num_workers=0)\n",
    "test_loader = DataLoader(test_dataset, batch_size=BATCH_SIZE, shuffle=False, num_workers=0)\n",
    "\n"
   ]
  },
  {
   "cell_type": "code",
   "execution_count": 76,
   "id": "4bb68344",
   "metadata": {},
   "outputs": [
    {
     "name": "stdout",
     "output_type": "stream",
     "text": [
      "\n",
      "--- Starting Training Loop (for 3 epochs) ---\n"
     ]
    },
    {
     "name": "stderr",
     "output_type": "stream",
     "text": [
      "/Users/colinweaver/Documents/MIT Documents/2.174/NEMSTransformer/.venv copy/lib/python3.9/site-packages/torch/nn/functional.py:5962: UserWarning: Support for mismatched key_padding_mask and attn_mask is deprecated. Use same type for both instead.\n",
      "  warnings.warn(\n"
     ]
    },
    {
     "name": "stdout",
     "output_type": "stream",
     "text": [
      "Epoch [1/3], Batch [1/237], Loss: 11.8663\n",
      "Epoch [1/3], Batch [6/237], Loss: 5.2223\n",
      "Epoch [1/3], Batch [11/237], Loss: 4.1863\n",
      "Epoch [1/3], Batch [16/237], Loss: 3.2718\n",
      "Epoch [1/3], Batch [21/237], Loss: 3.0295\n",
      "Epoch [1/3], Batch [26/237], Loss: 2.6480\n",
      "Epoch [1/3], Batch [31/237], Loss: 2.6851\n",
      "Epoch [1/3], Batch [36/237], Loss: 2.4791\n",
      "Epoch [1/3], Batch [41/237], Loss: 2.2281\n",
      "Epoch [1/3], Batch [46/237], Loss: 2.0971\n",
      "Epoch [1/3], Batch [51/237], Loss: 2.1853\n",
      "Epoch [1/3], Batch [56/237], Loss: 2.1404\n",
      "Epoch [1/3], Batch [61/237], Loss: 2.0914\n",
      "Epoch [1/3], Batch [66/237], Loss: 1.9403\n",
      "Epoch [1/3], Batch [71/237], Loss: 1.9600\n",
      "Epoch [1/3], Batch [76/237], Loss: 1.8733\n",
      "Epoch [1/3], Batch [81/237], Loss: 2.0693\n",
      "Epoch [1/3], Batch [86/237], Loss: 2.0380\n",
      "Epoch [1/3], Batch [91/237], Loss: 1.9059\n",
      "Epoch [1/3], Batch [96/237], Loss: 1.8220\n",
      "Epoch [1/3], Batch [101/237], Loss: 1.7939\n",
      "Epoch [1/3], Batch [106/237], Loss: 1.9143\n",
      "Epoch [1/3], Batch [111/237], Loss: 1.7738\n",
      "Epoch [1/3], Batch [116/237], Loss: 1.8187\n",
      "Epoch [1/3], Batch [121/237], Loss: 1.7167\n",
      "Epoch [1/3], Batch [126/237], Loss: 1.6682\n",
      "Epoch [1/3], Batch [131/237], Loss: 1.6314\n",
      "Epoch [1/3], Batch [136/237], Loss: 1.8367\n",
      "Epoch [1/3], Batch [141/237], Loss: 1.6888\n",
      "Epoch [1/3], Batch [146/237], Loss: 1.7894\n",
      "Epoch [1/3], Batch [151/237], Loss: 1.7018\n",
      "Epoch [1/3], Batch [156/237], Loss: 1.7077\n",
      "Epoch [1/3], Batch [161/237], Loss: 1.6136\n",
      "Epoch [1/3], Batch [166/237], Loss: 1.7167\n",
      "Epoch [1/3], Batch [171/237], Loss: 1.7054\n",
      "Epoch [1/3], Batch [176/237], Loss: 1.7825\n",
      "Epoch [1/3], Batch [181/237], Loss: 1.6421\n",
      "Epoch [1/3], Batch [186/237], Loss: 1.5028\n",
      "Epoch [1/3], Batch [191/237], Loss: 1.5248\n",
      "Epoch [1/3], Batch [196/237], Loss: 1.5674\n",
      "Epoch [1/3], Batch [201/237], Loss: 1.4426\n",
      "Epoch [1/3], Batch [206/237], Loss: 1.4395\n",
      "Epoch [1/3], Batch [211/237], Loss: 1.6019\n",
      "Epoch [1/3], Batch [216/237], Loss: 1.5918\n",
      "Epoch [1/3], Batch [221/237], Loss: 1.5799\n",
      "Epoch [1/3], Batch [226/237], Loss: 1.5108\n",
      "Epoch [1/3], Batch [231/237], Loss: 1.4903\n",
      "Epoch [1/3], Batch [236/237], Loss: 1.5342\n",
      "Epoch [1/3] completed. Train Loss: 2.1226, Test Loss: 1.1517\n",
      "Epoch [2/3], Batch [1/237], Loss: 1.4760\n",
      "Epoch [2/3], Batch [6/237], Loss: 1.4862\n",
      "Epoch [2/3], Batch [11/237], Loss: 1.5462\n",
      "Epoch [2/3], Batch [16/237], Loss: 1.3799\n",
      "Epoch [2/3], Batch [21/237], Loss: 1.4279\n",
      "Epoch [2/3], Batch [26/237], Loss: 1.5299\n",
      "Epoch [2/3], Batch [31/237], Loss: 1.3999\n",
      "Epoch [2/3], Batch [36/237], Loss: 1.4072\n",
      "Epoch [2/3], Batch [41/237], Loss: 1.5081\n",
      "Epoch [2/3], Batch [46/237], Loss: 1.4477\n",
      "Epoch [2/3], Batch [51/237], Loss: 1.4120\n",
      "Epoch [2/3], Batch [56/237], Loss: 1.3669\n",
      "Epoch [2/3], Batch [61/237], Loss: 1.4037\n",
      "Epoch [2/3], Batch [66/237], Loss: 1.3897\n",
      "Epoch [2/3], Batch [71/237], Loss: 1.2626\n",
      "Epoch [2/3], Batch [76/237], Loss: 1.4026\n",
      "Epoch [2/3], Batch [81/237], Loss: 1.3647\n",
      "Epoch [2/3], Batch [86/237], Loss: 1.4023\n",
      "Epoch [2/3], Batch [91/237], Loss: 1.3310\n",
      "Epoch [2/3], Batch [96/237], Loss: 1.3112\n",
      "Epoch [2/3], Batch [101/237], Loss: 1.3675\n",
      "Epoch [2/3], Batch [106/237], Loss: 1.3173\n",
      "Epoch [2/3], Batch [111/237], Loss: 1.4167\n",
      "Epoch [2/3], Batch [116/237], Loss: 1.1515\n",
      "Epoch [2/3], Batch [121/237], Loss: 1.2531\n",
      "Epoch [2/3], Batch [126/237], Loss: 1.3325\n",
      "Epoch [2/3], Batch [131/237], Loss: 1.2946\n",
      "Epoch [2/3], Batch [136/237], Loss: 1.3433\n",
      "Epoch [2/3], Batch [141/237], Loss: 1.2907\n",
      "Epoch [2/3], Batch [146/237], Loss: 1.3195\n",
      "Epoch [2/3], Batch [151/237], Loss: 1.2487\n",
      "Epoch [2/3], Batch [156/237], Loss: 1.2572\n",
      "Epoch [2/3], Batch [161/237], Loss: 1.2754\n",
      "Epoch [2/3], Batch [166/237], Loss: 1.2374\n",
      "Epoch [2/3], Batch [171/237], Loss: 1.2348\n",
      "Epoch [2/3], Batch [176/237], Loss: 1.2849\n",
      "Epoch [2/3], Batch [181/237], Loss: 1.2803\n",
      "Epoch [2/3], Batch [186/237], Loss: 1.3224\n",
      "Epoch [2/3], Batch [191/237], Loss: 1.3180\n",
      "Epoch [2/3], Batch [196/237], Loss: 1.3887\n",
      "Epoch [2/3], Batch [201/237], Loss: 1.2639\n",
      "Epoch [2/3], Batch [206/237], Loss: 1.2089\n",
      "Epoch [2/3], Batch [211/237], Loss: 1.1750\n",
      "Epoch [2/3], Batch [216/237], Loss: 1.2813\n",
      "Epoch [2/3], Batch [221/237], Loss: 1.2368\n",
      "Epoch [2/3], Batch [226/237], Loss: 1.3146\n",
      "Epoch [2/3], Batch [231/237], Loss: 1.3601\n",
      "Epoch [2/3], Batch [236/237], Loss: 1.0980\n",
      "Epoch [2/3] completed. Train Loss: 1.3350, Test Loss: 1.0583\n",
      "Epoch [3/3], Batch [1/237], Loss: 1.1402\n",
      "Epoch [3/3], Batch [6/237], Loss: 1.2601\n",
      "Epoch [3/3], Batch [11/237], Loss: 1.1498\n",
      "Epoch [3/3], Batch [16/237], Loss: 1.3073\n",
      "Epoch [3/3], Batch [21/237], Loss: 1.1808\n",
      "Epoch [3/3], Batch [26/237], Loss: 1.1511\n",
      "Epoch [3/3], Batch [31/237], Loss: 1.1666\n",
      "Epoch [3/3], Batch [36/237], Loss: 1.1594\n",
      "Epoch [3/3], Batch [41/237], Loss: 1.1570\n",
      "Epoch [3/3], Batch [46/237], Loss: 1.1837\n",
      "Epoch [3/3], Batch [51/237], Loss: 1.2174\n",
      "Epoch [3/3], Batch [56/237], Loss: 1.1627\n",
      "Epoch [3/3], Batch [61/237], Loss: 1.1362\n",
      "Epoch [3/3], Batch [66/237], Loss: 1.1724\n",
      "Epoch [3/3], Batch [71/237], Loss: 1.1016\n",
      "Epoch [3/3], Batch [76/237], Loss: 1.1040\n",
      "Epoch [3/3], Batch [81/237], Loss: 1.2157\n",
      "Epoch [3/3], Batch [86/237], Loss: 1.2476\n",
      "Epoch [3/3], Batch [91/237], Loss: 1.1411\n",
      "Epoch [3/3], Batch [96/237], Loss: 1.1468\n",
      "Epoch [3/3], Batch [101/237], Loss: 1.1547\n",
      "Epoch [3/3], Batch [106/237], Loss: 1.1781\n",
      "Epoch [3/3], Batch [111/237], Loss: 1.1545\n",
      "Epoch [3/3], Batch [116/237], Loss: 1.0959\n",
      "Epoch [3/3], Batch [121/237], Loss: 1.1162\n",
      "Epoch [3/3], Batch [126/237], Loss: 1.1601\n",
      "Epoch [3/3], Batch [131/237], Loss: 1.1698\n",
      "Epoch [3/3], Batch [136/237], Loss: 1.1330\n",
      "Epoch [3/3], Batch [141/237], Loss: 1.1986\n",
      "Epoch [3/3], Batch [146/237], Loss: 1.1252\n",
      "Epoch [3/3], Batch [151/237], Loss: 1.2355\n",
      "Epoch [3/3], Batch [156/237], Loss: 1.0998\n",
      "Epoch [3/3], Batch [161/237], Loss: 1.1168\n",
      "Epoch [3/3], Batch [166/237], Loss: 1.0723\n",
      "Epoch [3/3], Batch [171/237], Loss: 1.0880\n",
      "Epoch [3/3], Batch [176/237], Loss: 1.0814\n",
      "Epoch [3/3], Batch [181/237], Loss: 1.1650\n",
      "Epoch [3/3], Batch [186/237], Loss: 1.1940\n",
      "Epoch [3/3], Batch [191/237], Loss: 1.1406\n",
      "Epoch [3/3], Batch [196/237], Loss: 1.1411\n",
      "Epoch [3/3], Batch [201/237], Loss: 1.2563\n",
      "Epoch [3/3], Batch [206/237], Loss: 1.1362\n",
      "Epoch [3/3], Batch [211/237], Loss: 1.0645\n",
      "Epoch [3/3], Batch [216/237], Loss: 1.0518\n",
      "Epoch [3/3], Batch [221/237], Loss: 1.1405\n",
      "Epoch [3/3], Batch [226/237], Loss: 1.1059\n",
      "Epoch [3/3], Batch [231/237], Loss: 1.1641\n",
      "Epoch [3/3], Batch [236/237], Loss: 1.0992\n",
      "Epoch [3/3] completed. Train Loss: 1.1602, Test Loss: 0.9837\n",
      "--- Training Loop Finished ---\n"
     ]
    }
   ],
   "source": [
    "# 4. Initialize Model, Optimizer, Loss\n",
    "model = SmilesTransformer(\n",
    "    vocab_size=tokenizer.vocab_size,\n",
    "    property_dim=PROPERTY_DIM,\n",
    "    d_model=D_MODEL,\n",
    "    n_heads=N_HEADS,\n",
    "    d_ff=D_FF,\n",
    "    decoder_depth=DECODER_DEPTH,\n",
    "    smiles_embedding_dim=SMILES_EMBEDDING_DIM,\n",
    "    max_seq_len=MAX_SEQ_LEN,\n",
    "    dropout=DROPOUT,\n",
    "    pad_idx=tokenizer.pad_idx # Pass pad_idx explicitly\n",
    ").to(DEVICE)\n",
    "\n",
    "optimizer = optim.Adam(model.parameters(), lr=LEARNING_RATE)\n",
    "# Use CrossEntropyLoss, ignore padding index in loss calculation\n",
    "criterion = nn.CrossEntropyLoss(ignore_index=tokenizer.pad_idx)\n",
    "\n",
    "import matplotlib.pyplot as plt\n",
    "\n",
    "# Store losses\n",
    "train_losses = []\n",
    "test_losses = []\n",
    "\n",
    "# Define an evaluation function\n",
    "def evaluate(model, data_loader, criterion):\n",
    "    model.eval()\n",
    "    total_loss = 0\n",
    "    with torch.no_grad():\n",
    "        for props, input_seqs, target_seqs, padding_masks in data_loader:\n",
    "            props = props.to(DEVICE)\n",
    "            input_seqs = input_seqs.to(DEVICE)\n",
    "            target_seqs = target_seqs.to(DEVICE)\n",
    "            padding_masks = padding_masks.to(DEVICE)\n",
    "\n",
    "            output_logits = model(props, input_seqs, tgt_padding_mask=padding_masks)\n",
    "            loss = criterion(output_logits.reshape(-1, tokenizer.vocab_size), target_seqs.reshape(-1))\n",
    "            total_loss += loss.item()\n",
    "\n",
    "    return total_loss / len(data_loader)\n",
    "\n",
    "# Training loop\n",
    "print(f\"\\n--- Starting Training Loop (for {NUM_EPOCHS} epochs) ---\")\n",
    "for epoch in range(NUM_EPOCHS):\n",
    "    model.train()\n",
    "    epoch_loss = 0\n",
    "    for batch_idx, (props, input_seqs, target_seqs, padding_masks) in enumerate(train_loader):  # <- make sure this is your train DataLoader\n",
    "        props = props.to(DEVICE)\n",
    "        input_seqs = input_seqs.to(DEVICE)\n",
    "        target_seqs = target_seqs.to(DEVICE)\n",
    "        padding_masks = padding_masks.to(DEVICE)\n",
    "\n",
    "        optimizer.zero_grad()\n",
    "        output_logits = model(props, input_seqs, tgt_padding_mask=padding_masks)\n",
    "        loss = criterion(output_logits.reshape(-1, tokenizer.vocab_size), target_seqs.reshape(-1))\n",
    "        loss.backward()\n",
    "        optimizer.step()\n",
    "\n",
    "        epoch_loss += loss.item()\n",
    "\n",
    "        if batch_idx % 5 == 0:\n",
    "            print(f\"Epoch [{epoch+1}/{NUM_EPOCHS}], Batch [{batch_idx+1}/{len(train_loader)}], Loss: {loss.item():.4f}\")\n",
    "\n",
    "    avg_train_loss = epoch_loss / len(train_loader)\n",
    "    train_losses.append(avg_train_loss)\n",
    "\n",
    "    # Evaluate on test set (replace `test_loader` with your actual DataLoader)\n",
    "    avg_test_loss = evaluate(model, test_loader, criterion)\n",
    "    test_losses.append(avg_test_loss)\n",
    "\n",
    "    print(f\"Epoch [{epoch+1}/{NUM_EPOCHS}] completed. Train Loss: {avg_train_loss:.4f}, Test Loss: {avg_test_loss:.4f}\")\n",
    "\n",
    "print(\"--- Training Loop Finished ---\")"
   ]
  },
  {
   "cell_type": "code",
   "execution_count": 77,
   "id": "6ce74421",
   "metadata": {},
   "outputs": [
    {
     "data": {
      "image/png": "[encoded data removed]",
      "text/plain": [
       "<Figure size 800x500 with 1 Axes>"
      ]
     },
     "metadata": {},
     "output_type": "display_data"
    }
   ],
   "source": [
    "# Plotting\n",
    "plt.figure(figsize=(8,5))\n",
    "plt.plot(range(1, NUM_EPOCHS + 1), train_losses, label='Train Loss')\n",
    "plt.plot(range(1, NUM_EPOCHS + 1), test_losses, label='Test Loss')\n",
    "plt.xlabel('Epoch')\n",
    "plt.ylabel('Loss')\n",
    "plt.title('Training and Test Loss over Epochs')\n",
    "plt.legend()\n",
    "plt.grid(True)\n",
    "plt.tight_layout()\n",
    "plt.show()"
   ]
  },
  {
   "cell_type": "code",
   "execution_count": null,
   "id": "b9aef270",
   "metadata": {},
   "outputs": [
    {
     "name": "stdout",
     "output_type": "stream",
     "text": [
      "\n",
      "--- Comparing Model Predictions on 20 Random Samples from QM9 ---\n",
      "\n",
      "Sample 3115:\n",
      "  Original Properties (Unscaled):\n",
      "    homo: -0.2627\n",
      "    lumo: -0.0086\n",
      "    gap: 0.2541\n",
      "    alpha: 55.8100\n",
      "  Original SMILES: N#CC12CC1CO2\n",
      "  Generated SMILES: NNNNNNNNNNNNNNNNNNNNNNNNNNNNNNNNNNNNNNNNNNNNNNNNNNNNNNNNNNNNNNNNNNNNNNNNNNNNNNNNNNNNNNNNNNNNNNNNNNNNNNNNNNNNNNNNNNNNNNNNNNNNNNN\n",
      "  Generated SMILES is RDKit Valid: Yes\n",
      "\n",
      "Sample 117879:\n",
      "  Original Properties (Unscaled):\n",
      "    homo: -0.2697\n",
      "    lumo: -0.0657\n",
      "    gap: 0.2040\n",
      "    alpha: 77.3400\n",
      "  Original SMILES: COCC(O)C#CC=O\n",
      "  Generated SMILES: N#N#N#N#N#N#N#N#N#N#N#N#N#N#N#N#N#N#N#N#N#N#N#N#N#N#N#N#N#N#N#N#N#N#N#N#N#N#N#N#N#N#N#N#N#N#N#N#N#N#N#N#N#N#N#N#N#N#N#N#N#N#N#N\n",
      "  Generated SMILES is RDKit Valid: No (RDKit could not parse)\n",
      "\n",
      "Sample 23433:\n",
      "  Original Properties (Unscaled):\n",
      "    homo: -0.2258\n",
      "    lumo: 0.0156\n",
      "    gap: 0.2414\n",
      "    alpha: 76.7500\n",
      "  Original SMILES: COC1C2CC(=NO)C12\n",
      "  Generated SMILES: C#NCCN#N#N#N#N\n",
      "  Generated SMILES is RDKit Valid: No (RDKit could not parse)\n"
     ]
    },
    {
     "name": "stderr",
     "output_type": "stream",
     "text": [
      "[18:24:56] Explicit valence for atom # 1 N, 6, is greater than permitted\n",
      "[18:24:56] Explicit valence for atom # 1 N, 4, is greater than permitted\n"
     ]
    },
    {
     "name": "stdout",
     "output_type": "stream",
     "text": [
      "\n",
      "Sample 61955:\n",
      "  Original Properties (Unscaled):\n",
      "    homo: -0.2438\n",
      "    lumo: -0.0199\n",
      "    gap: 0.2239\n",
      "    alpha: 79.5000\n",
      "  Original SMILES: CC(CC=O)OCC#C\n",
      "  Generated SMILES: C#N#N#N#N#N#N#N#N#N#N#N#N#N#N#N#N#N#N\n",
      "  Generated SMILES is RDKit Valid: No (RDKit could not parse)\n",
      "\n",
      "Sample 98811:\n",
      "  Original Properties (Unscaled):\n",
      "    homo: -0.2343\n",
      "    lumo: 0.0056\n",
      "    gap: 0.2400\n",
      "    alpha: 77.8100\n",
      "  Original SMILES: COC(=N)N1CCC1=N\n",
      "  Generated SMILES: C#N#N#N#N#N#N#N\n",
      "  Generated SMILES is RDKit Valid: No (RDKit could not parse)\n",
      "\n",
      "Sample 9897:\n",
      "  Original Properties (Unscaled):\n",
      "    homo: -0.2433\n",
      "    lumo: 0.0280\n",
      "    gap: 0.2713\n",
      "    alpha: 74.7400\n",
      "  Original SMILES: CC1(CN1)C#CCO\n",
      "  Generated SMILES: CC#NCC1N1CCC1N1N\n",
      "  Generated SMILES is RDKit Valid: No (RDKit could not parse)\n",
      "\n",
      "Sample 115207:\n",
      "  Original Properties (Unscaled):\n",
      "    homo: -0.2147\n",
      "    lumo: 0.0329\n",
      "    gap: 0.2475\n",
      "    alpha: 79.5700\n",
      "  Original SMILES: CCC1CNC(=O)CN1\n",
      "  Generated SMILES: C#CNCN1CN1CN#N1C\n",
      "  Generated SMILES is RDKit Valid: No (RDKit could not parse)\n"
     ]
    },
    {
     "name": "stderr",
     "output_type": "stream",
     "text": [
      "[18:24:56] Explicit valence for atom # 1 N, 6, is greater than permitted\n",
      "[18:24:56] Explicit valence for atom # 1 N, 6, is greater than permitted\n",
      "[18:24:56] SMILES Parse Error: ring closure 1 duplicates bond between atom 4 and atom 5 for input: 'CC#NCC1N1CCC1N1N'\n",
      "[18:24:56] SMILES Parse Error: unclosed ring for input: 'C#CNCN1CN1CN#N1C'\n"
     ]
    },
    {
     "name": "stdout",
     "output_type": "stream",
     "text": [
      "\n",
      "Sample 58202:\n",
      "  Original Properties (Unscaled):\n",
      "    homo: -0.2256\n",
      "    lumo: 0.0353\n",
      "    gap: 0.2608\n",
      "    alpha: 86.6300\n",
      "  Original SMILES: CC(C)N(C)C(C)C#N\n",
      "  Generated SMILES: C#CCCCC1(C)C#N#N\n",
      "  Generated SMILES is RDKit Valid: No (RDKit could not parse)\n",
      "\n",
      "Sample 62857:\n",
      "  Original Properties (Unscaled):\n",
      "    homo: -0.2636\n",
      "    lumo: 0.0037\n",
      "    gap: 0.2673\n",
      "    alpha: 67.5800\n",
      "  Original SMILES: CC1(O)C2CC1C(=O)O2\n",
      "  Generated SMILES: N#NCC1N#N#N#N#N\n",
      "  Generated SMILES is RDKit Valid: No (RDKit could not parse)\n"
     ]
    },
    {
     "name": "stderr",
     "output_type": "stream",
     "text": [
      "[18:24:56] SMILES Parse Error: unclosed ring for input: 'C#CCCCC1(C)C#N#N'\n",
      "[18:24:56] SMILES Parse Error: unclosed ring for input: 'N#NCC1N#N#N#N#N'\n"
     ]
    },
    {
     "name": "stdout",
     "output_type": "stream",
     "text": [
      "\n",
      "Sample 19289:\n",
      "  Original Properties (Unscaled):\n",
      "    homo: -0.2497\n",
      "    lumo: 0.0733\n",
      "    gap: 0.3230\n",
      "    alpha: 66.7300\n",
      "  Original SMILES: CCC1C2OC2C1O\n",
      "  Generated SMILES: OC1C2CC3C2C3O23C3C344N2344444444444N24444N2C124\n",
      "  Generated SMILES is RDKit Valid: No (RDKit could not parse)\n"
     ]
    },
    {
     "name": "stderr",
     "output_type": "stream",
     "text": [
      "[18:24:56] SMILES Parse Error: ring closure 2 duplicates bond between atom 11 and atom 12 for input: 'OC1C2CC3C2C3O23C3C344N2344444444444N24444N2C124'\n"
     ]
    },
    {
     "name": "stdout",
     "output_type": "stream",
     "text": [
      "\n",
      "Sample 49814:\n",
      "  Original Properties (Unscaled):\n",
      "    homo: -0.2446\n",
      "    lumo: -0.0696\n",
      "    gap: 0.1750\n",
      "    alpha: 68.8500\n",
      "  Original SMILES: N=C1NC(CC1=O)C=O\n",
      "  Generated SMILES: N#N#N#N#N#N#N#N#N#N#N#N#N#N#N#N#N#N#N#N#N#N#N#N#N#N#N#N#N#N#N#N#N#N#N#N#N#N#N#N#N#N#N#N#N#N#N#N#N#N#N#N#N#N#N#N#N#N#N#N#N#N#N#N\n",
      "  Generated SMILES is RDKit Valid: No (RDKit could not parse)\n",
      "\n",
      "Sample 6177:\n",
      "  Original Properties (Unscaled):\n",
      "    homo: -0.2535\n",
      "    lumo: 0.0717\n",
      "    gap: 0.3252\n",
      "    alpha: 71.6800\n",
      "  Original SMILES: CC(O)C1OC1(C)C\n",
      "  Generated SMILES: CC1OC2CCC12CC1O2\n",
      "  Generated SMILES is RDKit Valid: No (RDKit could not parse)\n",
      "\n",
      "Sample 107789:\n",
      "  Original Properties (Unscaled):\n",
      "    homo: -0.2481\n",
      "    lumo: 0.0738\n",
      "    gap: 0.3220\n",
      "    alpha: 81.0400\n",
      "  Original SMILES: CCC12CC3C(C13)C2O\n",
      "  Generated SMILES: CC1C2CCC1CC2(O)C1\n",
      "  Generated SMILES is RDKit Valid: No (RDKit could not parse)\n",
      "\n",
      "Sample 78263:\n",
      "  Original Properties (Unscaled):\n",
      "    homo: -0.1911\n",
      "    lumo: 0.0815\n",
      "    gap: 0.2726\n",
      "    alpha: 87.8000\n",
      "  Original SMILES: CC1C2C1C1(C)C2N1C\n",
      "  Generated SMILES: CCN1CC1CN1C1C\n",
      "  Generated SMILES is RDKit Valid: No (RDKit could not parse)\n"
     ]
    },
    {
     "name": "stderr",
     "output_type": "stream",
     "text": [
      "[18:24:57] Explicit valence for atom # 1 N, 6, is greater than permitted\n",
      "[18:24:57] SMILES Parse Error: unclosed ring for input: 'CC1OC2CCC12CC1O2'\n",
      "[18:24:57] SMILES Parse Error: unclosed ring for input: 'CC1C2CCC1CC2(O)C1'\n",
      "[18:24:57] SMILES Parse Error: ring closure 1 duplicates bond between atom 6 and atom 7 for input: 'CCN1CC1CN1C1C'\n"
     ]
    },
    {
     "name": "stdout",
     "output_type": "stream",
     "text": [
      "\n",
      "Sample 29240:\n",
      "  Original Properties (Unscaled):\n",
      "    homo: -0.2460\n",
      "    lumo: -0.0418\n",
      "    gap: 0.2042\n",
      "    alpha: 71.9700\n",
      "  Original SMILES: CC1=COC(=N)NC1=O\n",
      "  Generated SMILES: N#N#N#N#N#N#N#N#N#N#N#N#N#N#N#N#N#N#N#N#N#N#N#N#N#N#N#N#N#N#N#N#N#N#N#N#N#N#N#N#N#N#N#N#N#N#N#N#N#N#N#N#N#N#N#N#N#N#N#N#N#N#N#N\n",
      "  Generated SMILES is RDKit Valid: No (RDKit could not parse)\n",
      "\n",
      "Sample 54156:\n",
      "  Original Properties (Unscaled):\n",
      "    homo: -0.2386\n",
      "    lumo: -0.0194\n",
      "    gap: 0.2191\n",
      "    alpha: 79.5700\n",
      "  Original SMILES: CC(=O)C1(C)NC1C#C\n",
      "  Generated SMILES: N#N#N#N#N#N#N#N#N#N#N#N#N#N#N#N#N#N#N#N#N\n",
      "  Generated SMILES is RDKit Valid: No (RDKit could not parse)\n"
     ]
    },
    {
     "name": "stderr",
     "output_type": "stream",
     "text": [
      "[18:24:58] Explicit valence for atom # 1 N, 6, is greater than permitted\n",
      "[18:24:58] Explicit valence for atom # 1 N, 6, is greater than permitted\n"
     ]
    },
    {
     "name": "stdout",
     "output_type": "stream",
     "text": [
      "\n",
      "Sample 48126:\n",
      "  Original Properties (Unscaled):\n",
      "    homo: -0.2628\n",
      "    lumo: -0.0935\n",
      "    gap: 0.1693\n",
      "    alpha: 66.2300\n",
      "  Original SMILES: C1CN(C1=O)C(=O)C=O\n",
      "  Generated SMILES: N#N#N#N#N#N#N#N#N#N#N#N#N#N#N#N#N#N#N#N#N#N#N#N#N#N#N#N#N#N#N#N#N#N#N#N#N#N#N#N#N#N#N#N#N#N#N#N#N#N#N#N#N#N#N#N#N#N#N#N#N#N#N#N\n",
      "  Generated SMILES is RDKit Valid: No (RDKit could not parse)\n",
      "\n",
      "Sample 36270:\n",
      "  Original Properties (Unscaled):\n",
      "    homo: -0.2287\n",
      "    lumo: 0.0366\n",
      "    gap: 0.2653\n",
      "    alpha: 74.4800\n",
      "  Original SMILES: C#CCN1C2C3OC3C12\n",
      "  Generated SMILES: CCN1NCC1N1N1CC1N2\n",
      "  Generated SMILES is RDKit Valid: No (RDKit could not parse)\n",
      "\n",
      "Sample 90021:\n",
      "  Original Properties (Unscaled):\n",
      "    homo: -0.2478\n",
      "    lumo: 0.0143\n",
      "    gap: 0.2620\n",
      "    alpha: 72.7200\n",
      "  Original SMILES: OC1CC2(COC2=N)C1\n",
      "  Generated SMILES: C#NCC1N#N#N#N\n",
      "  Generated SMILES is RDKit Valid: No (RDKit could not parse)\n"
     ]
    },
    {
     "name": "stderr",
     "output_type": "stream",
     "text": [
      "[18:24:59] Explicit valence for atom # 1 N, 6, is greater than permitted\n",
      "[18:24:59] SMILES Parse Error: ring closure 1 duplicates bond between atom 6 and atom 7 for input: 'CCN1NCC1N1N1CC1N2'\n",
      "[18:24:59] SMILES Parse Error: unclosed ring for input: 'C#NCC1N#N#N#N'\n"
     ]
    },
    {
     "name": "stdout",
     "output_type": "stream",
     "text": [
      "\n",
      "Sample 40842:\n",
      "  Original Properties (Unscaled):\n",
      "    homo: -0.2135\n",
      "    lumo: -0.0011\n",
      "    gap: 0.2123\n",
      "    alpha: 84.0800\n",
      "  Original SMILES: C1CC1N=C2CN=CN2\n",
      "  Generated SMILES: C#N#C#C#N#C#N#N#N#C#N#N#C#C#C#C#N\n",
      "  Generated SMILES is RDKit Valid: No (RDKit could not parse)\n",
      "\n",
      "\n",
      "--- Valid RDKit-Generated SMILES Pairs (Original vs. Generated) ---\n",
      "Sample ID: 3115\n",
      "  Original:  N#CC12CC1CO2\n",
      "  Generated: NNNNNNNNNNNNNNNNNNNNNNNNNNNNNNNNNNNNNNNNNNNNNNNNNNNNNNNNNNNNNNNNNNNNNNNNNNNNNNNNNNNNNNNNNNNNNNNNNNNNNNNNNNNNNNNNNNNNNNNNNNNNNNN\n",
      "\n",
      "\n",
      "--- Graphical Comparison of Valid Original vs. Generated Sequences (<= 32 tokens) ---\n",
      "Skipping Sample ID 3115 from graphical display due to token length:\n",
      "  Original SMILES: N#CC12CC1CO2 (Tokens: 12)\n",
      "  Generated SMILES: NNNNNNNNNNNNNNNNNNNNNNNNNNNNNNNNNNNNNNNNNNNNNNNNNNNNNNNNNNNNNNNNNNNNNNNNNNNNNNNNNNNNNNNNNNNNNNNNNNNNNNNNNNNNNNNNNNNNNNNNNNNNNNN (Tokens: 127)\n",
      "No RDKit-valid pairs (meeting token length criteria) to display graphically.\n"
     ]
    },
    {
     "name": "stderr",
     "output_type": "stream",
     "text": [
      "[18:25:00] Explicit valence for atom # 1 N, 6, is greater than permitted\n"
     ]
    }
   ],
   "source": [
    "def compare_on_random_samples(model, tokenizer, scaler, full_dataset_df, \n",
    "                              property_column_names, num_samples=5):\n",
    "    \"\"\"\n",
    "    Randomly samples from the full dataset, generates SMILES using the model,\n",
    "    compares them to the original SMILES, and visualizes valid pairs,\n",
    "    excluding pairs where either SMILES sequence is longer than 32 tokens.\n",
    "\n",
    "    Args:\n",
    "        model: The trained SmilesTransformer model.\n",
    "        tokenizer: The SMILESTokenizer.\n",
    "        scaler: The fitted StandardScaler for properties.\n",
    "        full_dataset_df (pd.DataFrame): The complete qm9 dataframe (unscaled, unfiltered).\n",
    "        property_column_names (list): List of property names in order for the scaler.\n",
    "        num_samples (int): Number of random samples to evaluate.\n",
    "    \"\"\"\n",
    "    print(f\"\\n--- Comparing Model Predictions on {num_samples} Random Samples from QM9 ---\")\n",
    "    \n",
    "    if full_dataset_df.empty:\n",
    "        print(\"Full dataset is empty, cannot sample.\")\n",
    "        return\n",
    "\n",
    "    if num_samples > len(full_dataset_df):\n",
    "        print(f\"Requested {num_samples} samples, but dataset only has {len(full_dataset_df)}. Adjusting.\")\n",
    "        num_samples = len(full_dataset_df)\n",
    "\n",
    "    required_cols_for_sampling = ['smiles'] + property_column_names\n",
    "    # Ensure pandas (pd) is available, typically imported in the main script as 'pd'\n",
    "    # Drop rows where any of these essential columns are NaN before sampling\n",
    "    sample_df = full_dataset_df.dropna(subset=required_cols_for_sampling).sample(n=num_samples, random_state=42) # for reproducibility\n",
    "\n",
    "    if sample_df.empty:\n",
    "        print(\"No valid samples found after attempting to drop NaNs from required columns. Cannot proceed.\")\n",
    "        return\n",
    "\n",
    "    valid_rdkit_pairs = [] # To store dicts of valid original/generated pairs\n",
    "\n",
    "    for index, row in sample_df.iterrows():\n",
    "        original_smiles = row['smiles']\n",
    "        # Prepare properties as a DataFrame for the scaler to avoid UserWarning\n",
    "        unscaled_props_numpy = row[property_column_names].values.astype(float).reshape(1, -1)\n",
    "        unscaled_props_df = pd.DataFrame(unscaled_props_numpy, columns=property_column_names)\n",
    "        \n",
    "        try:\n",
    "            # Scaler transform expects a DataFrame if fitted with one, or matching columns.\n",
    "            # It returns a NumPy array.\n",
    "            scaled_props_numpy = scaler.transform(unscaled_props_df) # Corrected: remove .values\n",
    "        except Exception as e:\n",
    "            print(f\"Error scaling properties for sample {index} (SMILES: {original_smiles}): {e}\")\n",
    "            print(f\"Unscaled properties: {unscaled_props_numpy}\")\n",
    "            continue\n",
    "\n",
    "        # Ensure scaled_props_numpy is correctly shaped for torch.tensor\n",
    "        # .squeeze() removes single-dimensional entries from the shape of an array.\n",
    "        # scaler.transform returns a 2D array (e.g., (1, num_features)), squeeze makes it 1D.\n",
    "        squeezed_props = scaled_props_numpy.squeeze()\n",
    "        \n",
    "        # Ensure the tensor is correctly formed.\n",
    "        # If only one property, squeeze might make it 0-dim.\n",
    "        if squeezed_props.ndim == 0: \n",
    "            scaled_props_tensor = torch.tensor([squeezed_props.item()], dtype=torch.float).to(DEVICE)\n",
    "        elif squeezed_props.ndim == 1:\n",
    "             scaled_props_tensor = torch.tensor(squeezed_props, dtype=torch.float).to(DEVICE)\n",
    "        else: \n",
    "            # This case should ideally not be hit if squeeze works as expected on (1, N) input\n",
    "            print(f\"Warning: Unexpected shape for scaled_props_numpy after squeeze: {squeezed_props.shape}. Using as is.\")\n",
    "            scaled_props_tensor = torch.tensor(squeezed_props, dtype=torch.float).to(DEVICE)\n",
    "\n",
    "        generated_smiles = model.generate(scaled_props_tensor, tokenizer, max_len=MAX_SEQ_LEN)\n",
    "        \n",
    "        print(f\"\\nSample {index}:\")\n",
    "        print(f\"  Original Properties (Unscaled):\")\n",
    "        for i, p_name in enumerate(property_column_names):\n",
    "            print(f\"    {p_name}: {unscaled_props_numpy[0, i]:.4f}\") # Use unscaled_props_numpy for printing\n",
    "        print(f\"  Original SMILES: {original_smiles}\")\n",
    "        print(f\"  Generated SMILES: {generated_smiles}\")\n",
    "\n",
    "        original_mol_valid = False\n",
    "        generated_mol_valid = False\n",
    "        original_mol_rdkit = None\n",
    "        generated_mol_rdkit = None\n",
    "\n",
    "        if RDKIT_AVAILABLE: # Global flag indicating RDKit was imported\n",
    "            if original_smiles:\n",
    "                original_mol_rdkit = Chem.MolFromSmiles(original_smiles) # Chem from rdkit\n",
    "                if original_mol_rdkit:\n",
    "                    original_mol_valid = True\n",
    "            \n",
    "            if generated_smiles:\n",
    "                generated_mol_rdkit = Chem.MolFromSmiles(generated_smiles)\n",
    "                if generated_mol_rdkit:\n",
    "                    generated_mol_valid = True\n",
    "                    print(f\"  Generated SMILES is RDKit Valid: Yes\")\n",
    "                    if original_mol_valid: # Only store if original is also valid for comparison\n",
    "                         valid_rdkit_pairs.append({\n",
    "                             \"original_smiles\": original_smiles,\n",
    "                             \"generated_smiles\": generated_smiles,\n",
    "                             \"original_mol\": original_mol_rdkit,\n",
    "                             \"generated_mol\": generated_mol_rdkit,\n",
    "                             \"id\": index\n",
    "                         })\n",
    "                else:\n",
    "                    print(f\"  Generated SMILES is RDKit Valid: No (RDKit could not parse)\")\n",
    "            elif not generated_smiles:\n",
    "                print(f\"  Generated SMILES is Empty.\")\n",
    "        else:\n",
    "            print(\"  RDKIT not available. Skipping SMILES validation and graphical output.\")\n",
    "\n",
    "    # After the loop, print all valid (original, generated) SMILES pairs\n",
    "    if RDKIT_AVAILABLE and valid_rdkit_pairs:\n",
    "        print(\"\\n\\n--- Valid RDKit-Generated SMILES Pairs (Original vs. Generated) ---\")\n",
    "        # This loop remains to print all valid pairs regardless of length for textual output\n",
    "        for pair_info in valid_rdkit_pairs:\n",
    "            print(f\"Sample ID: {pair_info['id']}\")\n",
    "            print(f\"  Original:  {pair_info['original_smiles']}\")\n",
    "            print(f\"  Generated: {pair_info['generated_smiles']}\")\n",
    "\n",
    "        print(\"\\n\\n--- Graphical Comparison of Valid Original vs. Generated Sequences (<= 32 tokens) ---\")\n",
    "        \n",
    "        mols_to_draw = []\n",
    "        legends = []\n",
    "        max_token_len_for_display = 64\n",
    "\n",
    "        for pair_info in valid_rdkit_pairs:\n",
    "            # Tokenize original and generated SMILES to check their length\n",
    "            # The tokenizer.tokenize() method returns a list of token IDs.\n",
    "            # We add SOS and EOS tokens for a more accurate length, similar to training.\n",
    "            # However, for simple length check, just tokenizing the string itself is usually sufficient.\n",
    "            # Let's use the raw tokenized length of the SMILES string itself.\n",
    "            original_tokens = tokenizer.tokenize(pair_info['original_smiles'])\n",
    "            generated_tokens = tokenizer.tokenize(pair_info['generated_smiles'])\n",
    "\n",
    "            if len(original_tokens) <= max_token_len_for_display and \\\n",
    "               len(generated_tokens) <= max_token_len_for_display:\n",
    "                mols_to_draw.append(pair_info['original_mol'])\n",
    "                legends.append(f\"Sample {pair_info['id']}\\nOriginal ({len(original_tokens)} tok)\")\n",
    "                mols_to_draw.append(pair_info['generated_mol'])\n",
    "                legends.append(f\"Sample {pair_info['id']}\\nGenerated ({len(generated_tokens)} tok)\")\n",
    "            else:\n",
    "                print(f\"Skipping Sample ID {pair_info['id']} from graphical display due to token length:\")\n",
    "                print(f\"  Original SMILES: {pair_info['original_smiles']} (Tokens: {len(original_tokens)})\")\n",
    "                print(f\"  Generated SMILES: {pair_info['generated_smiles']} (Tokens: {len(generated_tokens)})\")\n",
    "\n",
    "\n",
    "        if mols_to_draw:\n",
    "            mols_per_row = 2 \n",
    "            # MolsToGridImage from rdkit.Chem.Draw\n",
    "            img = MolsToGridImage(mols_to_draw, molsPerRow=mols_per_row, subImgSize=(300,300), legends=legends)\n",
    "            \n",
    "            output_comparison_dir = \"comparison_visualizations\"\n",
    "            os.makedirs(output_comparison_dir, exist_ok=True) # os from import os\n",
    "            comparison_image_path = os.path.join(output_comparison_dir, \"original_vs_generated_comparison_len_filtered.png\") # New filename\n",
    "            \n",
    "            try:\n",
    "                # Try standard PIL save first\n",
    "                img.save(comparison_image_path)\n",
    "                print(f\"Graphical comparison (length filtered) saved to: {comparison_image_path}\")\n",
    "            except AttributeError: \n",
    "                # If .save attribute is missing, it might be an IPython Image or similar\n",
    "                if hasattr(img, 'data') and isinstance(img.data, bytes):\n",
    "                    print(f\"Standard img.save() failed. Attempting to save image via .data attribute.\")\n",
    "                    try:\n",
    "                        with open(comparison_image_path, 'wb') as f_img_data:\n",
    "                            f_img_data.write(img.data)\n",
    "                        print(f\"Graphical comparison (length filtered) saved via .data to: {comparison_image_path}\")\n",
    "                    except Exception as e_data_write:\n",
    "                        print(f\"Error writing img.data to file: {e_data_write}\")\n",
    "                else:\n",
    "                    print(f\"Error: img.save() failed and img.data attribute is not available/bytes.\")\n",
    "                    print(f\"Type of img object: {type(img)}. Cannot save image.\")\n",
    "            except Exception as e_general_save: # Catch other potential errors during save\n",
    "                print(f\"An unexpected error occurred while saving the image: {e_general_save}\")\n",
    "                print(f\"Type of img object: {type(img)}\")\n",
    "        else:\n",
    "            print(\"No RDKit-valid pairs (meeting token length criteria) to display graphically.\")\n",
    "            \n",
    "    elif not RDKIT_AVAILABLE:\n",
    "        print(\"\\nSkipping graphical output as RDKit is not available.\")\n",
    "    elif not valid_rdkit_pairs: # RDKit available, but no valid pairs found\n",
    "        print(\"\\nRDKit is available, but no RDKit-valid generated SMILES (paired with valid originals) to display graphically.\")\n",
    "\n",
    "\n",
    "\n",
    "compare_on_random_samples(model, tokenizer, scaler, df_full, property_cols, num_samples=10)"
   ]
  },
  {
   "cell_type": "code",
   "execution_count": null,
   "id": "ecc22c52",
   "metadata": {},
   "outputs": [
    {
     "name": "stdout",
     "output_type": "stream",
     "text": [
      "\n",
      "Generating for target (unscaled): {'homo': np.float64(-0.2542600211473137), 'lumo': np.float64(0.0450611403273416), 'gap': np.float64(0.2993211614746553), 'alpha': np.float64(98.3435517079747)}\n",
      "Generated SMILES 'CCC(C)(C)C#C)C' is not valid according to RDKit.\n",
      "Generated SMILES: CCC(C)(C)C#C)C\n",
      "Is in QM9: False\n",
      "RDKit valid: False\n",
      "\n",
      "Generating for target (unscaled): {'homo': np.float64(-0.2858662830456674), 'lumo': np.float64(0.19341377238521473), 'gap': np.float64(0.47928005543088215), 'alpha': np.float64(21.811073608996754)}\n"
     ]
    },
    {
     "name": "stderr",
     "output_type": "stream",
     "text": [
      "/Users/colinweaver/Documents/MIT Documents/2.174/NEMSTransformer/.venv copy/lib/python3.9/site-packages/sklearn/utils/validation.py:2739: UserWarning: X does not have valid feature names, but StandardScaler was fitted with feature names\n",
      "  warnings.warn(\n",
      "[18:25:00] SMILES Parse Error: extra close parentheses while parsing: CCC(C)(C)C#C)C\n",
      "[18:25:00] SMILES Parse Error: check for mistakes around position 13:\n",
      "[18:25:00] CCC(C)(C)C#C)C\n",
      "[18:25:00] ~~~~~~~~~~~~^\n",
      "[18:25:00] SMILES Parse Error: Failed parsing SMILES 'CCC(C)(C)C#C)C' for input: 'CCC(C)(C)C#C)C'\n",
      "/Users/colinweaver/Documents/MIT Documents/2.174/NEMSTransformer/.venv copy/lib/python3.9/site-packages/sklearn/utils/validation.py:2739: UserWarning: X does not have valid feature names, but StandardScaler was fitted with feature names\n",
      "  warnings.warn(\n",
      "[18:25:00] SMILES Parse Error: duplicated ring closure 4 bonds atom 0 to itself for input: 'O444444444444444444444444444444444444444444444444444444444444444444444444444444444444444444444444444444444444444444444444444444'\n",
      "/Users/colinweaver/Documents/MIT Documents/2.174/NEMSTransformer/.venv copy/lib/python3.9/site-packages/sklearn/utils/validation.py:2739: UserWarning: X does not have valid feature names, but StandardScaler was fitted with feature names\n",
      "  warnings.warn(\n"
     ]
    },
    {
     "name": "stdout",
     "output_type": "stream",
     "text": [
      "Generated SMILES 'O444444444444444444444444444444444444444444444444444444444444444444444444444444444444444444444444444444444444444444444444444444' is not valid according to RDKit.\n",
      "Generated SMILES: O444444444444444444444444444444444444444444444444444444444444444444444444444444444444444444444444444444444444444444444444444444\n",
      "Is in QM9: False\n",
      "RDKit valid: False\n",
      "\n",
      "Generating for target (unscaled): {'homo': -2.416552042202345, 'lumo': 2.557047216458267, 'gap': 4.973599258660612, 'alpha': np.float64(130.4553170778539)}\n"
     ]
    },
    {
     "name": "stderr",
     "output_type": "stream",
     "text": [
      "[18:25:01] SMILES Parse Error: syntax error while parsing: 4444444444444444444444444444444444444444444444444444444444444444444444444444444444444444444444444444444444444444444444444444444\n",
      "[18:25:01] SMILES Parse Error: check for mistakes around position 1:\n",
      "[18:25:01] 44444444444444444444444444444444444444444\n",
      "[18:25:01] ^\n",
      "[18:25:01] SMILES Parse Error: Failed parsing SMILES '4444444444444444444444444444444444444444444444444444444444444444444444444444444444444444444444444444444444444444444444444444444' for input: '4444444444444444444444444444444444444444444444444444444444444444444444444444444444444444444444444444444444444444444444444444444'\n",
      "/Users/colinweaver/Documents/MIT Documents/2.174/NEMSTransformer/.venv copy/lib/python3.9/site-packages/sklearn/utils/validation.py:2739: UserWarning: X does not have valid feature names, but StandardScaler was fitted with feature names\n",
      "  warnings.warn(\n",
      "/Users/colinweaver/Documents/MIT Documents/2.174/NEMSTransformer/.venv copy/lib/python3.9/site-packages/sklearn/utils/validation.py:2739: UserWarning: X does not have valid feature names, but StandardScaler was fitted with feature names\n",
      "  warnings.warn(\n",
      "[18:25:01] Explicit valence for atom # 1 C, 6, is greater than permitted\n",
      "/Users/colinweaver/Documents/MIT Documents/2.174/NEMSTransformer/.venv copy/lib/python3.9/site-packages/sklearn/utils/validation.py:2739: UserWarning: X does not have valid feature names, but StandardScaler was fitted with feature names\n",
      "  warnings.warn(\n",
      "/Users/colinweaver/Documents/MIT Documents/2.174/NEMSTransformer/.venv copy/lib/python3.9/site-packages/sklearn/utils/validation.py:2739: UserWarning: X does not have valid feature names, but StandardScaler was fitted with feature names\n",
      "  warnings.warn(\n",
      "[18:25:01] SMILES Parse Error: unclosed ring for input: 'CC1C2CCCC1OC2C1'\n",
      "/Users/colinweaver/Documents/MIT Documents/2.174/NEMSTransformer/.venv copy/lib/python3.9/site-packages/sklearn/utils/validation.py:2739: UserWarning: X does not have valid feature names, but StandardScaler was fitted with feature names\n",
      "  warnings.warn(\n",
      "/Users/colinweaver/Documents/MIT Documents/2.174/NEMSTransformer/.venv copy/lib/python3.9/site-packages/sklearn/utils/validation.py:2739: UserWarning: X does not have valid feature names, but StandardScaler was fitted with feature names\n",
      "  warnings.warn(\n"
     ]
    },
    {
     "name": "stdout",
     "output_type": "stream",
     "text": [
      "Generated SMILES '4444444444444444444444444444444444444444444444444444444444444444444444444444444444444444444444444444444444444444444444444444444' is not valid according to RDKit.\n",
      "Generated SMILES: 4444444444444444444444444444444444444444444444444444444444444444444444444444444444444444444444444444444444444444444444444444444\n",
      "Is in QM9: False\n",
      "RDKit valid: False\n",
      "\n",
      "Generating for target (unscaled): {'homo': np.float64(-0.34618616733201624), 'lumo': np.float64(0.01991175298925535), 'gap': np.float64(0.3660979203212716), 'alpha': np.float64(144.04097620120393)}\n",
      "Visualized and saved to: generated_molecules/generated_4.png\n",
      "Generated SMILES: CC#C\n",
      "Is in QM9: True\n",
      "RDKit valid: True\n",
      "\n",
      "Generating for target (unscaled): {'homo': np.float64(-0.1373902309982874), 'lumo': np.float64(0.05482908764205388), 'gap': np.float64(0.19221931864034128), 'alpha': np.float64(180.52929536186258)}\n",
      "Generated SMILES 'C#C#C#C#C' is not valid according to RDKit.\n",
      "Generated SMILES: C#C#C#C#C\n",
      "Is in QM9: False\n",
      "RDKit valid: False\n",
      "\n",
      "Generating for target (unscaled): {'homo': np.float64(-0.31458298506541116), 'lumo': np.float64(0.12308867812503005), 'gap': np.float64(0.4376716631904412), 'alpha': np.float64(179.2920793902875)}\n",
      "Visualized and saved to: generated_molecules/generated_6.png\n",
      "Generated SMILES: CCC\n",
      "Is in QM9: True\n",
      "RDKit valid: True\n",
      "\n",
      "Generating for target (unscaled): {'homo': np.float64(-0.263108285442335), 'lumo': np.float64(0.04908434465158751), 'gap': np.float64(0.3121926300939225), 'alpha': np.float64(74.57761600356298)}\n",
      "Generated SMILES 'CC1C2CCCC1OC2C1' is not valid according to RDKit.\n",
      "Generated SMILES: CC1C2CCCC1OC2C1\n",
      "Is in QM9: False\n",
      "RDKit valid: False\n",
      "\n",
      "Generating for target (unscaled): {'homo': np.float64(-0.2354165548435495), 'lumo': np.float64(0.07046452238762599), 'gap': np.float64(0.3058810772311755), 'alpha': np.float64(180.8010287817178)}\n",
      "Visualized and saved to: generated_molecules/generated_8.png\n",
      "Generated SMILES: CCC\n",
      "Is in QM9: True\n",
      "RDKit valid: True\n",
      "\n",
      "Generating for target (unscaled): {'homo': np.float64(-0.27453240139126245), 'lumo': np.float64(0.17634202199549304), 'gap': np.float64(0.4508744233867555), 'alpha': np.float64(11.225225962703641)}\n"
     ]
    },
    {
     "name": "stderr",
     "output_type": "stream",
     "text": [
      "[18:25:02] SMILES Parse Error: duplicated ring closure 4 bonds atom 0 to itself for input: 'O444444444444444444444444444444444444444444444444444444444444444444444444444444444444444444444444444444444444444444444444444444'\n",
      "/Users/colinweaver/Documents/MIT Documents/2.174/NEMSTransformer/.venv copy/lib/python3.9/site-packages/sklearn/utils/validation.py:2739: UserWarning: X does not have valid feature names, but StandardScaler was fitted with feature names\n",
      "  warnings.warn(\n",
      "[18:25:02] Explicit valence for atom # 1 C, 6, is greater than permitted\n",
      "/Users/colinweaver/Documents/MIT Documents/2.174/NEMSTransformer/.venv copy/lib/python3.9/site-packages/sklearn/utils/validation.py:2739: UserWarning: X does not have valid feature names, but StandardScaler was fitted with feature names\n",
      "  warnings.warn(\n",
      "/Users/colinweaver/Documents/MIT Documents/2.174/NEMSTransformer/.venv copy/lib/python3.9/site-packages/sklearn/utils/validation.py:2739: UserWarning: X does not have valid feature names, but StandardScaler was fitted with feature names\n",
      "  warnings.warn(\n",
      "/Users/colinweaver/Documents/MIT Documents/2.174/NEMSTransformer/.venv copy/lib/python3.9/site-packages/sklearn/utils/validation.py:2739: UserWarning: X does not have valid feature names, but StandardScaler was fitted with feature names\n",
      "  warnings.warn(\n"
     ]
    },
    {
     "name": "stdout",
     "output_type": "stream",
     "text": [
      "Generated SMILES 'O444444444444444444444444444444444444444444444444444444444444444444444444444444444444444444444444444444444444444444444444444444' is not valid according to RDKit.\n",
      "Generated SMILES: O444444444444444444444444444444444444444444444444444444444444444444444444444444444444444444444444444444444444444444444444444444\n",
      "Is in QM9: False\n",
      "RDKit valid: False\n",
      "\n",
      "Generating for target (unscaled): {'homo': np.float64(-0.40830152556714555), 'lumo': np.float64(-0.04259903831357034), 'gap': np.float64(0.36570248725357524), 'alpha': np.float64(148.97584665088277)}\n",
      "Generated SMILES 'C#C#C#C' is not valid according to RDKit.\n",
      "Generated SMILES: C#C#C#C\n",
      "Is in QM9: False\n",
      "RDKit valid: False\n",
      "\n",
      "Generating for target (unscaled): {'homo': np.float64(-0.358738221452041), 'lumo': np.float64(0.011513174837594092), 'gap': np.float64(0.3702513962896351), 'alpha': np.float64(145.02907532878407)}\n",
      "Visualized and saved to: generated_molecules/generated_11.png\n",
      "Generated SMILES: C#CC\n",
      "Is in QM9: False\n",
      "RDKit valid: True\n",
      "\n",
      "Generating for target (unscaled): {'homo': np.float64(-0.24115514184240122), 'lumo': np.float64(0.1126928980459328), 'gap': np.float64(0.353848039888334), 'alpha': np.float64(130.60421529524837)}\n",
      "Visualized and saved to: generated_molecules/generated_12.png\n",
      "Generated SMILES: CCCCCC\n",
      "Is in QM9: True\n",
      "RDKit valid: True\n",
      "\n",
      "Generating for target (unscaled): {'homo': np.float64(-0.3611120736347934), 'lumo': np.float64(-0.0815883413614168), 'gap': np.float64(0.2795237322733766), 'alpha': np.float64(91.22811871501413)}\n"
     ]
    },
    {
     "name": "stderr",
     "output_type": "stream",
     "text": [
      "[18:25:03] SMILES Parse Error: syntax error while parsing: C####################################C#######C#################################################################################\n",
      "[18:25:03] SMILES Parse Error: check for mistakes around position 3:\n",
      "[18:25:03] C####################################C###\n",
      "[18:25:03] ~~^\n",
      "[18:25:03] SMILES Parse Error: Failed parsing SMILES 'C####################################C#######C#################################################################################' for input: 'C####################################C#######C#################################################################################'\n",
      "/Users/colinweaver/Documents/MIT Documents/2.174/NEMSTransformer/.venv copy/lib/python3.9/site-packages/sklearn/utils/validation.py:2739: UserWarning: X does not have valid feature names, but StandardScaler was fitted with feature names\n",
      "  warnings.warn(\n",
      "/Users/colinweaver/Documents/MIT Documents/2.174/NEMSTransformer/.venv copy/lib/python3.9/site-packages/sklearn/utils/validation.py:2739: UserWarning: X does not have valid feature names, but StandardScaler was fitted with feature names\n",
      "  warnings.warn(\n"
     ]
    },
    {
     "name": "stdout",
     "output_type": "stream",
     "text": [
      "Generated SMILES 'C####################################C#######C#################################################################################' is not valid according to RDKit.\n",
      "Generated SMILES: C####################################C#######C#################################################################################\n",
      "Is in QM9: False\n",
      "RDKit valid: False\n",
      "\n",
      "Generating for target (unscaled): {'homo': np.float64(-0.25247517322577284), 'lumo': np.float64(0.07910032536692868), 'gap': np.float64(0.3315754985927015), 'alpha': np.float64(115.05289367212583)}\n",
      "Visualized and saved to: generated_molecules/generated_14.png\n",
      "Generated SMILES: CCCCC(C)C\n",
      "Is in QM9: True\n",
      "RDKit valid: True\n",
      "\n",
      "Generating for target (unscaled): {'homo': np.float64(-0.26418914975248425), 'lumo': np.float64(-0.16762862607610562), 'gap': np.float64(0.09656052367637863), 'alpha': np.float64(170.1123870893245)}\n"
     ]
    },
    {
     "name": "stderr",
     "output_type": "stream",
     "text": [
      "[18:25:04] SMILES Parse Error: syntax error while parsing: ###############################################################################################################################\n",
      "[18:25:04] SMILES Parse Error: check for mistakes around position 1:\n",
      "[18:25:04] #########################################\n",
      "[18:25:04] ^\n",
      "[18:25:04] SMILES Parse Error: Failed parsing SMILES '###############################################################################################################################' for input: '###############################################################################################################################'\n",
      "/Users/colinweaver/Documents/MIT Documents/2.174/NEMSTransformer/.venv copy/lib/python3.9/site-packages/sklearn/utils/validation.py:2739: UserWarning: X does not have valid feature names, but StandardScaler was fitted with feature names\n",
      "  warnings.warn(\n",
      "/Users/colinweaver/Documents/MIT Documents/2.174/NEMSTransformer/.venv copy/lib/python3.9/site-packages/sklearn/utils/validation.py:2739: UserWarning: X does not have valid feature names, but StandardScaler was fitted with feature names\n",
      "  warnings.warn(\n"
     ]
    },
    {
     "name": "stdout",
     "output_type": "stream",
     "text": [
      "Generated SMILES '###############################################################################################################################' is not valid according to RDKit.\n",
      "Generated SMILES: ###############################################################################################################################\n",
      "Is in QM9: False\n",
      "RDKit valid: False\n",
      "\n",
      "Generating for target (unscaled): {'homo': np.float64(-0.21618318159927327), 'lumo': np.float64(0.1661076161044679), 'gap': np.float64(0.3822907977037412), 'alpha': np.float64(143.65801945585312)}\n",
      "Visualized and saved to: generated_molecules/generated_16.png\n",
      "Generated SMILES: CCCCC\n",
      "Is in QM9: True\n",
      "RDKit valid: True\n",
      "\n",
      "Generating for target (unscaled): {'homo': np.float64(-0.1857725280906671), 'lumo': np.float64(-0.1187631224943812), 'gap': np.float64(0.0670094055962859), 'alpha': np.float64(22.072931502826258)}\n",
      "Visualized and saved to: generated_molecules/generated_17.png\n",
      "Generated SMILES: NNNNNNNNNNNNNNNNNNNNNNNNNNNNNNNNNNNNNNNNNNNNNNNNNNNNNNNNNNNNNNNNNNNNNNNNNNNNNNNNNNNNNNNNNNNNNNNNNNNNNNNNNNNNNNNNNNNNNNNNNNNNNNN\n",
      "Is in QM9: False\n",
      "RDKit valid: True\n",
      "\n",
      "Generating for target (unscaled): {'homo': -1.589689463966714, 'lumo': 2.825031871588796, 'gap': 4.41472133555551, 'alpha': np.float64(111.37200596839091)}\n"
     ]
    },
    {
     "name": "stderr",
     "output_type": "stream",
     "text": [
      "/Users/colinweaver/Documents/MIT Documents/2.174/NEMSTransformer/.venv copy/lib/python3.9/site-packages/sklearn/utils/validation.py:2739: UserWarning: X does not have valid feature names, but StandardScaler was fitted with feature names\n",
      "  warnings.warn(\n",
      "[18:25:06] SMILES Parse Error: syntax error while parsing: 4444444444444444444444444444444444444444444444444444444444444444444444444444444444444444444444444444444444444444444444444444444\n",
      "[18:25:06] SMILES Parse Error: check for mistakes around position 1:\n",
      "[18:25:06] 44444444444444444444444444444444444444444\n",
      "[18:25:06] ^\n",
      "[18:25:06] SMILES Parse Error: Failed parsing SMILES '4444444444444444444444444444444444444444444444444444444444444444444444444444444444444444444444444444444444444444444444444444444' for input: '4444444444444444444444444444444444444444444444444444444444444444444444444444444444444444444444444444444444444444444444444444444'\n",
      "/Users/colinweaver/Documents/MIT Documents/2.174/NEMSTransformer/.venv copy/lib/python3.9/site-packages/sklearn/utils/validation.py:2739: UserWarning: X does not have valid feature names, but StandardScaler was fitted with feature names\n",
      "  warnings.warn(\n"
     ]
    },
    {
     "name": "stdout",
     "output_type": "stream",
     "text": [
      "Generated SMILES '4444444444444444444444444444444444444444444444444444444444444444444444444444444444444444444444444444444444444444444444444444444' is not valid according to RDKit.\n",
      "Generated SMILES: 4444444444444444444444444444444444444444444444444444444444444444444444444444444444444444444444444444444444444444444444444444444\n",
      "Is in QM9: False\n",
      "RDKit valid: False\n",
      "\n",
      "Generating for target (unscaled): {'homo': -2.0406705656187345, 'lumo': 2.36060523737598, 'gap': 4.401275802994714, 'alpha': np.float64(142.417480691863)}\n"
     ]
    },
    {
     "name": "stderr",
     "output_type": "stream",
     "text": [
      "[18:25:07] SMILES Parse Error: syntax error while parsing: 4444444444444444444444444444444444444444444444444444444444444444444444444444444444444444444444444444444444444444444444444444444\n",
      "[18:25:07] SMILES Parse Error: check for mistakes around position 1:\n",
      "[18:25:07] 44444444444444444444444444444444444444444\n",
      "[18:25:07] ^\n",
      "[18:25:07] SMILES Parse Error: Failed parsing SMILES '4444444444444444444444444444444444444444444444444444444444444444444444444444444444444444444444444444444444444444444444444444444' for input: '4444444444444444444444444444444444444444444444444444444444444444444444444444444444444444444444444444444444444444444444444444444'\n",
      "/Users/colinweaver/Documents/MIT Documents/2.174/NEMSTransformer/.venv copy/lib/python3.9/site-packages/sklearn/utils/validation.py:2739: UserWarning: X does not have valid feature names, but StandardScaler was fitted with feature names\n",
      "  warnings.warn(\n"
     ]
    },
    {
     "name": "stdout",
     "output_type": "stream",
     "text": [
      "Generated SMILES '4444444444444444444444444444444444444444444444444444444444444444444444444444444444444444444444444444444444444444444444444444444' is not valid according to RDKit.\n",
      "Generated SMILES: 4444444444444444444444444444444444444444444444444444444444444444444444444444444444444444444444444444444444444444444444444444444\n",
      "Is in QM9: False\n",
      "RDKit valid: False\n",
      "\n",
      "Generating for target (unscaled): {'homo': np.float64(-0.2305937210800885), 'lumo': np.float64(-0.05424912784117761), 'gap': np.float64(0.17634459323891089), 'alpha': np.float64(104.27077559537923)}\n"
     ]
    },
    {
     "name": "stderr",
     "output_type": "stream",
     "text": [
      "[18:25:08] SMILES Parse Error: syntax error while parsing: C#################################C########C####C##############################################################################\n",
      "[18:25:08] SMILES Parse Error: check for mistakes around position 3:\n",
      "[18:25:08] C#################################C######\n",
      "[18:25:08] ~~^\n",
      "[18:25:08] SMILES Parse Error: Failed parsing SMILES 'C#################################C########C####C##############################################################################' for input: 'C#################################C########C####C##############################################################################'\n",
      "/Users/colinweaver/Documents/MIT Documents/2.174/NEMSTransformer/.venv copy/lib/python3.9/site-packages/sklearn/utils/validation.py:2739: UserWarning: X does not have valid feature names, but StandardScaler was fitted with feature names\n",
      "  warnings.warn(\n"
     ]
    },
    {
     "name": "stdout",
     "output_type": "stream",
     "text": [
      "Generated SMILES 'C#################################C########C####C##############################################################################' is not valid according to RDKit.\n",
      "Generated SMILES: C#################################C########C####C##############################################################################\n",
      "Is in QM9: False\n",
      "RDKit valid: False\n",
      "\n",
      "Generating for target (unscaled): {'homo': np.float64(-0.41759109646051484), 'lumo': np.float64(0.018994780985063547), 'gap': np.float64(0.4365858774455784), 'alpha': np.float64(16.56793393409784)}\n",
      "Visualized and saved to: generated_molecules/generated_21.png\n",
      "Generated SMILES: OOOOOOOOOOOOOOOOOOOOOOOOOOOOOOOOOOOOOOOOOOOOOOOOOOOOOOOOOOOOOOOOOOOOOOOOOOOOOOOOOOOOOOOOOOOOOOOOOOOOOOOOOOOOOOOOOOOOOOOOOOOOOOO\n",
      "Is in QM9: False\n",
      "RDKit valid: True\n",
      "\n",
      "Generating for target (unscaled): {'homo': np.float64(-0.3976070704844904), 'lumo': np.float64(0.18049678367138383), 'gap': np.float64(0.5781038541558743), 'alpha': np.float64(73.76182459679107)}\n"
     ]
    },
    {
     "name": "stderr",
     "output_type": "stream",
     "text": [
      "/Users/colinweaver/Documents/MIT Documents/2.174/NEMSTransformer/.venv copy/lib/python3.9/site-packages/sklearn/utils/validation.py:2739: UserWarning: X does not have valid feature names, but StandardScaler was fitted with feature names\n",
      "  warnings.warn(\n",
      "[18:25:09] SMILES Parse Error: duplicated ring closure 4 bonds atom 0 to itself for input: 'C444444444444444444444444444444444444444444444444444444444444444444444444444444444444444444444444444444444444444444444444444444'\n",
      "/Users/colinweaver/Documents/MIT Documents/2.174/NEMSTransformer/.venv copy/lib/python3.9/site-packages/sklearn/utils/validation.py:2739: UserWarning: X does not have valid feature names, but StandardScaler was fitted with feature names\n",
      "  warnings.warn(\n"
     ]
    },
    {
     "name": "stdout",
     "output_type": "stream",
     "text": [
      "Generated SMILES 'C444444444444444444444444444444444444444444444444444444444444444444444444444444444444444444444444444444444444444444444444444444' is not valid according to RDKit.\n",
      "Generated SMILES: C444444444444444444444444444444444444444444444444444444444444444444444444444444444444444444444444444444444444444444444444444444\n",
      "Is in QM9: False\n",
      "RDKit valid: False\n",
      "\n",
      "Generating for target (unscaled): {'homo': np.float64(-0.315624423195771), 'lumo': np.float64(-0.0679257598385678), 'gap': np.float64(0.2476986633572032), 'alpha': np.float64(150.74790782490035)}\n"
     ]
    },
    {
     "name": "stderr",
     "output_type": "stream",
     "text": [
      "[18:25:10] SMILES Parse Error: syntax error while parsing: C##############################################################################################################################\n",
      "[18:25:10] SMILES Parse Error: check for mistakes around position 3:\n",
      "[18:25:10] C########################################\n",
      "[18:25:10] ~~^\n",
      "[18:25:10] SMILES Parse Error: Failed parsing SMILES 'C##############################################################################################################################' for input: 'C##############################################################################################################################'\n",
      "/Users/colinweaver/Documents/MIT Documents/2.174/NEMSTransformer/.venv copy/lib/python3.9/site-packages/sklearn/utils/validation.py:2739: UserWarning: X does not have valid feature names, but StandardScaler was fitted with feature names\n",
      "  warnings.warn(\n",
      "/Users/colinweaver/Documents/MIT Documents/2.174/NEMSTransformer/.venv copy/lib/python3.9/site-packages/sklearn/utils/validation.py:2739: UserWarning: X does not have valid feature names, but StandardScaler was fitted with feature names\n",
      "  warnings.warn(\n",
      "/Users/colinweaver/Documents/MIT Documents/2.174/NEMSTransformer/.venv copy/lib/python3.9/site-packages/sklearn/utils/validation.py:2739: UserWarning: X does not have valid feature names, but StandardScaler was fitted with feature names\n",
      "  warnings.warn(\n"
     ]
    },
    {
     "name": "stdout",
     "output_type": "stream",
     "text": [
      "Generated SMILES 'C##############################################################################################################################' is not valid according to RDKit.\n",
      "Generated SMILES: C##############################################################################################################################\n",
      "Is in QM9: False\n",
      "RDKit valid: False\n",
      "\n",
      "Generating for target (unscaled): {'homo': np.float64(-0.41476264836351595), 'lumo': np.float64(0.031896626897765706), 'gap': np.float64(0.4466592752612817), 'alpha': np.float64(152.73521398639966)}\n",
      "Visualized and saved to: generated_molecules/generated_24.png\n",
      "Generated SMILES: CCC\n",
      "Is in QM9: True\n",
      "RDKit valid: True\n",
      "\n",
      "Generating for target (unscaled): {'homo': np.float64(-0.2898854966282086), 'lumo': np.float64(0.06188792631748222), 'gap': np.float64(0.3517734229456908), 'alpha': np.float64(167.94238061655878)}\n",
      "Visualized and saved to: generated_molecules/generated_25.png\n",
      "Generated SMILES: CCC\n",
      "Is in QM9: True\n",
      "RDKit valid: True\n",
      "\n",
      "Generating for target (unscaled): {'homo': np.float64(-0.18130807623445702), 'lumo': np.float64(0.017090606087237004), 'gap': np.float64(0.19839868232169403), 'alpha': np.float64(43.939593476693986)}\n",
      "Visualized and saved to: generated_molecules/generated_26.png\n",
      "Generated SMILES: NNNNNNNNNNNNNNNNNNNNNNNNNNNNNNNNNNNNNNNNNNNNNNNNNNNNNNNNNNNNNNNNNNNNNNNNNNNNNNNNNNNNNNNNNNNNNNNNNNNNNNNNNNNNNNNNNNNNNNNNNNNNNNN\n",
      "Is in QM9: False\n",
      "RDKit valid: True\n",
      "\n",
      "Generating for target (unscaled): {'homo': np.float64(-0.18149577018492963), 'lumo': np.float64(-0.027268130883516678), 'gap': np.float64(0.15422763930141295), 'alpha': np.float64(39.65535495234185)}\n"
     ]
    },
    {
     "name": "stderr",
     "output_type": "stream",
     "text": [
      "/Users/colinweaver/Documents/MIT Documents/2.174/NEMSTransformer/.venv copy/lib/python3.9/site-packages/sklearn/utils/validation.py:2739: UserWarning: X does not have valid feature names, but StandardScaler was fitted with feature names\n",
      "  warnings.warn(\n"
     ]
    },
    {
     "name": "stdout",
     "output_type": "stream",
     "text": [
      "Visualized and saved to: generated_molecules/generated_27.png\n",
      "Generated SMILES: NNNNNNNNNNNNNNNNNNNNNNNNNNNNNNNNNNNNNNNNNNNNNNNNNNNNNNNNNNNNNNNNNNNNNNNNNNNNNNNNNNNNNNNNNNNNNNNNNNNNNNNNNNNNNNNNNNNNNNNNNNNNNNN\n",
      "Is in QM9: False\n",
      "RDKit valid: True\n",
      "\n",
      "Generating for target (unscaled): {'homo': np.float64(-0.135736045928888), 'lumo': np.float64(0.03429050667294903), 'gap': np.float64(0.17002655260183702), 'alpha': np.float64(195.22077742342196)}\n",
      "Generated SMILES 'C#C#C#C#C#C#C#C' is not valid according to RDKit.\n",
      "Generated SMILES: C#C#C#C#C#C#C#C\n",
      "Is in QM9: False\n",
      "RDKit valid: False\n",
      "\n",
      "Generating for target (unscaled): {'homo': -2.996917765220612, 'lumo': 2.262995638810824, 'gap': 5.259913404031436, 'alpha': np.float64(112.78965000031666)}\n"
     ]
    },
    {
     "name": "stderr",
     "output_type": "stream",
     "text": [
      "/Users/colinweaver/Documents/MIT Documents/2.174/NEMSTransformer/.venv copy/lib/python3.9/site-packages/sklearn/utils/validation.py:2739: UserWarning: X does not have valid feature names, but StandardScaler was fitted with feature names\n",
      "  warnings.warn(\n",
      "[18:25:11] Explicit valence for atom # 1 C, 6, is greater than permitted\n",
      "/Users/colinweaver/Documents/MIT Documents/2.174/NEMSTransformer/.venv copy/lib/python3.9/site-packages/sklearn/utils/validation.py:2739: UserWarning: X does not have valid feature names, but StandardScaler was fitted with feature names\n",
      "  warnings.warn(\n",
      "[18:25:12] SMILES Parse Error: syntax error while parsing: 4444444444444444444444444444444444444444444444444444444444444444444444444444444444444444444444444444444444444444444444444444444\n",
      "[18:25:12] SMILES Parse Error: check for mistakes around position 1:\n",
      "[18:25:12] 44444444444444444444444444444444444444444\n",
      "[18:25:12] ^\n",
      "[18:25:12] SMILES Parse Error: Failed parsing SMILES '4444444444444444444444444444444444444444444444444444444444444444444444444444444444444444444444444444444444444444444444444444444' for input: '4444444444444444444444444444444444444444444444444444444444444444444444444444444444444444444444444444444444444444444444444444444'\n",
      "/Users/colinweaver/Documents/MIT Documents/2.174/NEMSTransformer/.venv copy/lib/python3.9/site-packages/sklearn/utils/validation.py:2739: UserWarning: X does not have valid feature names, but StandardScaler was fitted with feature names\n",
      "  warnings.warn(\n",
      "[18:25:12] SMILES Parse Error: syntax error while parsing: OOOOOOOOOOOOOOOOOOOO1NO<unk>NO1NO<unk>NOOOO<unk>NO<unk>NO\n",
      "[18:25:12] SMILES Parse Error: check for mistakes around position 24:\n",
      "[18:25:12] OOOOOOOOOOOOOOOOO1NO<unk>NO1NO<unk>NOOOO<\n",
      "[18:25:12] ~~~~~~~~~~~~~~~~~~~~^\n",
      "[18:25:12] SMILES Parse Error: Failed parsing SMILES 'OOOOOOOOOOOOOOOOOOOO1NO<unk>NO1NO<unk>NOOOO<unk>NO<unk>NO' for input: 'OOOOOOOOOOOOOOOOOOOO1NO<unk>NO1NO<unk>NOOOO<unk>NO<unk>NO'\n",
      "/Users/colinweaver/Documents/MIT Documents/2.174/NEMSTransformer/.venv copy/lib/python3.9/site-packages/sklearn/utils/validation.py:2739: UserWarning: X does not have valid feature names, but StandardScaler was fitted with feature names\n",
      "  warnings.warn(\n"
     ]
    },
    {
     "name": "stdout",
     "output_type": "stream",
     "text": [
      "Generated SMILES '4444444444444444444444444444444444444444444444444444444444444444444444444444444444444444444444444444444444444444444444444444444' is not valid according to RDKit.\n",
      "Generated SMILES: 4444444444444444444444444444444444444444444444444444444444444444444444444444444444444444444444444444444444444444444444444444444\n",
      "Is in QM9: False\n",
      "RDKit valid: False\n",
      "\n",
      "Generating for target (unscaled): {'homo': np.float64(-0.3649877358968477), 'lumo': np.float64(-0.011965724212445156), 'gap': np.float64(0.3530220116844025), 'alpha': np.float64(40.907822466701276)}\n",
      "Generated SMILES 'OOOOOOOOOOOOOOOOOOOO1NO<unk>NO1NO<unk>NOOOO<unk>NO<unk>NO' is not valid according to RDKit.\n",
      "Generated SMILES: OOOOOOOOOOOOOOOOOOOO1NO<unk>NO1NO<unk>NOOOO<unk>NO<unk>NO\n",
      "Is in QM9: False\n",
      "RDKit valid: False\n",
      "\n",
      "Generating for target (unscaled): {'homo': np.float64(-0.10340569786188736), 'lumo': np.float64(0.07639842864186447), 'gap': np.float64(0.17980412650375183), 'alpha': np.float64(104.31434568823381)}\n"
     ]
    },
    {
     "name": "stderr",
     "output_type": "stream",
     "text": [
      "[18:25:12] Explicit valence for atom # 3 N, 4, is greater than permitted\n",
      "/Users/colinweaver/Documents/MIT Documents/2.174/NEMSTransformer/.venv copy/lib/python3.9/site-packages/sklearn/utils/validation.py:2739: UserWarning: X does not have valid feature names, but StandardScaler was fitted with feature names\n",
      "  warnings.warn(\n"
     ]
    },
    {
     "name": "stdout",
     "output_type": "stream",
     "text": [
      "Generated SMILES 'CNCN#CNCNCNC' is not valid according to RDKit.\n",
      "Generated SMILES: CNCN#CNCNCNC\n",
      "Is in QM9: False\n",
      "RDKit valid: False\n",
      "\n",
      "Generating for target (unscaled): {'homo': np.float64(-0.36028941149913596), 'lumo': np.float64(-0.08665171669370146), 'gap': np.float64(0.2736376948054345), 'alpha': np.float64(169.942896233552)}\n"
     ]
    },
    {
     "name": "stderr",
     "output_type": "stream",
     "text": [
      "[18:25:13] SMILES Parse Error: syntax error while parsing: C##############################################################################################################################\n",
      "[18:25:13] SMILES Parse Error: check for mistakes around position 3:\n",
      "[18:25:13] C########################################\n",
      "[18:25:13] ~~^\n",
      "[18:25:13] SMILES Parse Error: Failed parsing SMILES 'C##############################################################################################################################' for input: 'C##############################################################################################################################'\n",
      "/Users/colinweaver/Documents/MIT Documents/2.174/NEMSTransformer/.venv copy/lib/python3.9/site-packages/sklearn/utils/validation.py:2739: UserWarning: X does not have valid feature names, but StandardScaler was fitted with feature names\n",
      "  warnings.warn(\n",
      "/Users/colinweaver/Documents/MIT Documents/2.174/NEMSTransformer/.venv copy/lib/python3.9/site-packages/sklearn/utils/validation.py:2739: UserWarning: X does not have valid feature names, but StandardScaler was fitted with feature names\n",
      "  warnings.warn(\n"
     ]
    },
    {
     "name": "stdout",
     "output_type": "stream",
     "text": [
      "Generated SMILES 'C##############################################################################################################################' is not valid according to RDKit.\n",
      "Generated SMILES: C##############################################################################################################################\n",
      "Is in QM9: False\n",
      "RDKit valid: False\n",
      "\n",
      "Generating for target (unscaled): {'homo': np.float64(-0.2827172262121682), 'lumo': np.float64(0.09977666853993761), 'gap': np.float64(0.3824938947521058), 'alpha': np.float64(103.719859634301)}\n",
      "Visualized and saved to: generated_molecules/generated_33.png\n",
      "Generated SMILES: CCCC1CCCC1C\n",
      "Is in QM9: True\n",
      "RDKit valid: True\n",
      "\n",
      "Generating for target (unscaled): {'homo': -1.6776250407580884, 'lumo': 2.9142745867384323, 'gap': 4.59189962749652, 'alpha': np.float64(156.01027712526755)}\n"
     ]
    },
    {
     "name": "stderr",
     "output_type": "stream",
     "text": [
      "[18:25:14] SMILES Parse Error: syntax error while parsing: 4444444444444444444444444444444444444444444444444444444444444444444444444444444444444444444444444444444444444444444444444444444\n",
      "[18:25:14] SMILES Parse Error: check for mistakes around position 1:\n",
      "[18:25:14] 44444444444444444444444444444444444444444\n",
      "[18:25:14] ^\n",
      "[18:25:14] SMILES Parse Error: Failed parsing SMILES '4444444444444444444444444444444444444444444444444444444444444444444444444444444444444444444444444444444444444444444444444444444' for input: '4444444444444444444444444444444444444444444444444444444444444444444444444444444444444444444444444444444444444444444444444444444'\n",
      "/Users/colinweaver/Documents/MIT Documents/2.174/NEMSTransformer/.venv copy/lib/python3.9/site-packages/sklearn/utils/validation.py:2739: UserWarning: X does not have valid feature names, but StandardScaler was fitted with feature names\n",
      "  warnings.warn(\n"
     ]
    },
    {
     "name": "stdout",
     "output_type": "stream",
     "text": [
      "Generated SMILES '4444444444444444444444444444444444444444444444444444444444444444444444444444444444444444444444444444444444444444444444444444444' is not valid according to RDKit.\n",
      "Generated SMILES: 4444444444444444444444444444444444444444444444444444444444444444444444444444444444444444444444444444444444444444444444444444444\n",
      "Is in QM9: False\n",
      "RDKit valid: False\n",
      "\n",
      "Generating for target (unscaled): {'homo': np.float64(-0.20599750796849584), 'lumo': np.float64(0.013431033863328196), 'gap': np.float64(0.21942854183182403), 'alpha': np.float64(8.755019977580607)}\n",
      "Visualized and saved to: generated_molecules/generated_35.png\n",
      "Generated SMILES: NNNNNNNNNNNNNNNNNNNNNNNNNNNNNNNNNNNNNNNNNNNNNNNNNNNNNNNNNNNNNNNNNNNNNNNNNNNNNNNNNNNNNNNNNNNNNNNNNNNNNNNNNNNNNNNNNNNNNNNNNNNNNNN\n",
      "Is in QM9: False\n",
      "RDKit valid: True\n",
      "\n",
      "Generating for target (unscaled): {'homo': np.float64(-0.11208742505891883), 'lumo': np.float64(0.18278194321942004), 'gap': np.float64(0.2948693682783389), 'alpha': np.float64(108.88484135530742)}\n",
      "Generated SMILES 'CCC1CCCC1CC1C1C1CC' is not valid according to RDKit.\n",
      "Generated SMILES: CCC1CCCC1CC1C1C1CC\n",
      "Is in QM9: False\n",
      "RDKit valid: False\n",
      "\n",
      "Generating for target (unscaled): {'homo': np.float64(-0.17950542184106405), 'lumo': np.float64(-0.1555018582696205), 'gap': np.float64(0.024003563571443537), 'alpha': np.float64(10.55730125555276)}\n"
     ]
    },
    {
     "name": "stderr",
     "output_type": "stream",
     "text": [
      "/Users/colinweaver/Documents/MIT Documents/2.174/NEMSTransformer/.venv copy/lib/python3.9/site-packages/sklearn/utils/validation.py:2739: UserWarning: X does not have valid feature names, but StandardScaler was fitted with feature names\n",
      "  warnings.warn(\n",
      "[18:25:15] SMILES Parse Error: ring closure 1 duplicates bond between atom 8 and atom 9 for input: 'CCC1CCCC1CC1C1C1CC'\n",
      "/Users/colinweaver/Documents/MIT Documents/2.174/NEMSTransformer/.venv copy/lib/python3.9/site-packages/sklearn/utils/validation.py:2739: UserWarning: X does not have valid feature names, but StandardScaler was fitted with feature names\n",
      "  warnings.warn(\n"
     ]
    },
    {
     "name": "stdout",
     "output_type": "stream",
     "text": [
      "Visualized and saved to: generated_molecules/generated_37.png\n",
      "Generated SMILES: NNNNNNNNNNNNNNNNNNNNNNNNNNNNNNNNNNNNNNNNNNNNNNNNNNNNNNNNNNNNNNNNNNNNNNNNNNNNNNNNNNNNNNNNNNNNNNNNNNNNNNNNNNNNNNNNNNNNNNNNNNNNNNN\n",
      "Is in QM9: False\n",
      "RDKit valid: True\n",
      "\n",
      "Generating for target (unscaled): {'homo': -2.054548084280471, 'lumo': 2.7355729688232193, 'gap': 4.79012105310369, 'alpha': np.float64(98.85051695881633)}\n"
     ]
    },
    {
     "name": "stderr",
     "output_type": "stream",
     "text": [
      "/Users/colinweaver/Documents/MIT Documents/2.174/NEMSTransformer/.venv copy/lib/python3.9/site-packages/sklearn/utils/validation.py:2739: UserWarning: X does not have valid feature names, but StandardScaler was fitted with feature names\n",
      "  warnings.warn(\n",
      "[18:25:16] SMILES Parse Error: syntax error while parsing: 4444444444444444444444444444444444444444444444444444444444444444444444444444444444444444444444444444444444444444444444444444444\n",
      "[18:25:16] SMILES Parse Error: check for mistakes around position 1:\n",
      "[18:25:16] 44444444444444444444444444444444444444444\n",
      "[18:25:16] ^\n",
      "[18:25:16] SMILES Parse Error: Failed parsing SMILES '4444444444444444444444444444444444444444444444444444444444444444444444444444444444444444444444444444444444444444444444444444444' for input: '4444444444444444444444444444444444444444444444444444444444444444444444444444444444444444444444444444444444444444444444444444444'\n",
      "/Users/colinweaver/Documents/MIT Documents/2.174/NEMSTransformer/.venv copy/lib/python3.9/site-packages/sklearn/utils/validation.py:2739: UserWarning: X does not have valid feature names, but StandardScaler was fitted with feature names\n",
      "  warnings.warn(\n",
      "/Users/colinweaver/Documents/MIT Documents/2.174/NEMSTransformer/.venv copy/lib/python3.9/site-packages/sklearn/utils/validation.py:2739: UserWarning: X does not have valid feature names, but StandardScaler was fitted with feature names\n",
      "  warnings.warn(\n"
     ]
    },
    {
     "name": "stdout",
     "output_type": "stream",
     "text": [
      "Generated SMILES '4444444444444444444444444444444444444444444444444444444444444444444444444444444444444444444444444444444444444444444444444444444' is not valid according to RDKit.\n",
      "Generated SMILES: 4444444444444444444444444444444444444444444444444444444444444444444444444444444444444444444444444444444444444444444444444444444\n",
      "Is in QM9: False\n",
      "RDKit valid: False\n",
      "\n",
      "Generating for target (unscaled): {'homo': np.float64(-0.40748998515494933), 'lumo': np.float64(0.14922147025743598), 'gap': np.float64(0.5567114554123853), 'alpha': np.float64(152.13418401911366)}\n",
      "Visualized and saved to: generated_molecules/generated_39.png\n",
      "Generated SMILES: CCC\n",
      "Is in QM9: True\n",
      "RDKit valid: True\n",
      "\n",
      "Generating for target (unscaled): {'homo': np.float64(-0.18051161791098316), 'lumo': np.float64(-0.09883764711012263), 'gap': np.float64(0.08167397080086053), 'alpha': np.float64(43.450733357398114)}\n"
     ]
    },
    {
     "name": "stderr",
     "output_type": "stream",
     "text": [
      "[18:25:17] Explicit valence for atom # 1 N, 4, is greater than permitted\n",
      "/Users/colinweaver/Documents/MIT Documents/2.174/NEMSTransformer/.venv copy/lib/python3.9/site-packages/sklearn/utils/validation.py:2739: UserWarning: X does not have valid feature names, but StandardScaler was fitted with feature names\n",
      "  warnings.warn(\n"
     ]
    },
    {
     "name": "stdout",
     "output_type": "stream",
     "text": [
      "Generated SMILES 'N#NNNNNNNN#N#NNNN#N#NNNNN#N#N#N#NNNNNNNNNNNNNNNNNNN#N#N#NNNNNNNNNNNNNNNNNNNNNNNNNNNNNNNNNNNNNNNN#N#N#NNNN#NNNNNN#N#NNNN#N#N#N#N' is not valid according to RDKit.\n",
      "Generated SMILES: N#NNNNNNNN#N#NNNN#N#NNNNN#N#N#N#NNNNNNNNNNNNNNNNNNN#N#N#NNNNNNNNNNNNNNNNNNNNNNNNNNNNNNNNNNNNNNNN#N#N#NNNN#NNNNNN#N#NNNN#N#N#N#N\n",
      "Is in QM9: False\n",
      "RDKit valid: False\n",
      "\n",
      "Generating for target (unscaled): {'homo': np.float64(-0.13676632059804383), 'lumo': np.float64(1.9416973717328552), 'gap': np.float64(2.078463692330899), 'alpha': np.float64(119.40355947705508)}\n"
     ]
    },
    {
     "name": "stderr",
     "output_type": "stream",
     "text": [
      "[18:25:17] SMILES Parse Error: syntax error while parsing: 4444444444444444444444444444444444444444444444444444444444444444444444444444444444444444444444444444444444444444444444444444444\n",
      "[18:25:17] SMILES Parse Error: check for mistakes around position 1:\n",
      "[18:25:17] 44444444444444444444444444444444444444444\n",
      "[18:25:17] ^\n",
      "[18:25:17] SMILES Parse Error: Failed parsing SMILES '4444444444444444444444444444444444444444444444444444444444444444444444444444444444444444444444444444444444444444444444444444444' for input: '4444444444444444444444444444444444444444444444444444444444444444444444444444444444444444444444444444444444444444444444444444444'\n",
      "/Users/colinweaver/Documents/MIT Documents/2.174/NEMSTransformer/.venv copy/lib/python3.9/site-packages/sklearn/utils/validation.py:2739: UserWarning: X does not have valid feature names, but StandardScaler was fitted with feature names\n",
      "  warnings.warn(\n",
      "[18:25:17] Explicit valence for atom # 2 N, 4, is greater than permitted\n",
      "/Users/colinweaver/Documents/MIT Documents/2.174/NEMSTransformer/.venv copy/lib/python3.9/site-packages/sklearn/utils/validation.py:2739: UserWarning: X does not have valid feature names, but StandardScaler was fitted with feature names\n",
      "  warnings.warn(\n",
      "/Users/colinweaver/Documents/MIT Documents/2.174/NEMSTransformer/.venv copy/lib/python3.9/site-packages/sklearn/utils/validation.py:2739: UserWarning: X does not have valid feature names, but StandardScaler was fitted with feature names\n",
      "  warnings.warn(\n"
     ]
    },
    {
     "name": "stdout",
     "output_type": "stream",
     "text": [
      "Generated SMILES '4444444444444444444444444444444444444444444444444444444444444444444444444444444444444444444444444444444444444444444444444444444' is not valid according to RDKit.\n",
      "Generated SMILES: 4444444444444444444444444444444444444444444444444444444444444444444444444444444444444444444444444444444444444444444444444444444\n",
      "Is in QM9: False\n",
      "RDKit valid: False\n",
      "\n",
      "Generating for target (unscaled): {'homo': np.float64(-0.1920899565767639), 'lumo': np.float64(0.026984368961238875), 'gap': np.float64(0.21907432553800277), 'alpha': np.float64(86.17167942241885)}\n",
      "Generated SMILES 'C#CN#CN#CN#C#C' is not valid according to RDKit.\n",
      "Generated SMILES: C#CN#CN#CN#C#C\n",
      "Is in QM9: False\n",
      "RDKit valid: False\n",
      "\n",
      "Generating for target (unscaled): {'homo': np.float64(-0.3023970036773434), 'lumo': np.float64(0.04502203442179392), 'gap': np.float64(0.3474190380991373), 'alpha': np.float64(136.08985517338317)}\n",
      "Visualized and saved to: generated_molecules/generated_43.png\n",
      "Generated SMILES: CCCC#C\n",
      "Is in QM9: True\n",
      "RDKit valid: True\n",
      "\n",
      "Generating for target (unscaled): {'homo': -2.0715030884536323, 'lumo': 2.456999700285819, 'gap': 4.528502788739451, 'alpha': np.float64(188.56331318301062)}\n"
     ]
    },
    {
     "name": "stderr",
     "output_type": "stream",
     "text": [
      "[18:25:18] SMILES Parse Error: syntax error while parsing: 4444444444444444444444444444444444444444444444444444444444444444444444444444444444444444444444444444444444444444444444444444444\n",
      "[18:25:18] SMILES Parse Error: check for mistakes around position 1:\n",
      "[18:25:18] 44444444444444444444444444444444444444444\n",
      "[18:25:18] ^\n",
      "[18:25:18] SMILES Parse Error: Failed parsing SMILES '4444444444444444444444444444444444444444444444444444444444444444444444444444444444444444444444444444444444444444444444444444444' for input: '4444444444444444444444444444444444444444444444444444444444444444444444444444444444444444444444444444444444444444444444444444444'\n",
      "/Users/colinweaver/Documents/MIT Documents/2.174/NEMSTransformer/.venv copy/lib/python3.9/site-packages/sklearn/utils/validation.py:2739: UserWarning: X does not have valid feature names, but StandardScaler was fitted with feature names\n",
      "  warnings.warn(\n",
      "/Users/colinweaver/Documents/MIT Documents/2.174/NEMSTransformer/.venv copy/lib/python3.9/site-packages/sklearn/utils/validation.py:2739: UserWarning: X does not have valid feature names, but StandardScaler was fitted with feature names\n",
      "  warnings.warn(\n"
     ]
    },
    {
     "name": "stdout",
     "output_type": "stream",
     "text": [
      "Generated SMILES '4444444444444444444444444444444444444444444444444444444444444444444444444444444444444444444444444444444444444444444444444444444' is not valid according to RDKit.\n",
      "Generated SMILES: 4444444444444444444444444444444444444444444444444444444444444444444444444444444444444444444444444444444444444444444444444444444\n",
      "Is in QM9: False\n",
      "RDKit valid: False\n",
      "\n",
      "Generating for target (unscaled): {'homo': np.float64(-0.3616546988383808), 'lumo': np.float64(0.15940386344905927), 'gap': np.float64(0.5210585622874401), 'alpha': np.float64(150.51686105157904)}\n",
      "Visualized and saved to: generated_molecules/generated_45.png\n",
      "Generated SMILES: CCC\n",
      "Is in QM9: True\n",
      "RDKit valid: True\n",
      "\n",
      "Generating for target (unscaled): {'homo': -2.3654240523130756, 'lumo': 2.810100291555697, 'gap': 5.175524343868773, 'alpha': np.float64(113.31724077094722)}\n"
     ]
    },
    {
     "name": "stderr",
     "output_type": "stream",
     "text": [
      "[18:25:19] SMILES Parse Error: syntax error while parsing: 4444444444444444444444444444444444444444444444444444444444444444444444444444444444444444444444444444444444444444444444444444444\n",
      "[18:25:19] SMILES Parse Error: check for mistakes around position 1:\n",
      "[18:25:19] 44444444444444444444444444444444444444444\n",
      "[18:25:19] ^\n",
      "[18:25:19] SMILES Parse Error: Failed parsing SMILES '4444444444444444444444444444444444444444444444444444444444444444444444444444444444444444444444444444444444444444444444444444444' for input: '4444444444444444444444444444444444444444444444444444444444444444444444444444444444444444444444444444444444444444444444444444444'\n",
      "/Users/colinweaver/Documents/MIT Documents/2.174/NEMSTransformer/.venv copy/lib/python3.9/site-packages/sklearn/utils/validation.py:2739: UserWarning: X does not have valid feature names, but StandardScaler was fitted with feature names\n",
      "  warnings.warn(\n"
     ]
    },
    {
     "name": "stdout",
     "output_type": "stream",
     "text": [
      "Generated SMILES '4444444444444444444444444444444444444444444444444444444444444444444444444444444444444444444444444444444444444444444444444444444' is not valid according to RDKit.\n",
      "Generated SMILES: 4444444444444444444444444444444444444444444444444444444444444444444444444444444444444444444444444444444444444444444444444444444\n",
      "Is in QM9: False\n",
      "RDKit valid: False\n",
      "\n",
      "Generating for target (unscaled): {'homo': np.float64(-0.3224521162385438), 'lumo': np.float64(0.19213630315389113), 'gap': np.float64(0.5145884193924349), 'alpha': np.float64(46.21748033291067)}\n"
     ]
    },
    {
     "name": "stderr",
     "output_type": "stream",
     "text": [
      "[18:25:20] SMILES Parse Error: duplicated ring closure 4 bonds atom 0 to itself for input: 'O444444444444444444444444444444444444444444444444444444444444444444444444444444444444444444444444444444444444444444444444444444'\n",
      "/Users/colinweaver/Documents/MIT Documents/2.174/NEMSTransformer/.venv copy/lib/python3.9/site-packages/sklearn/utils/validation.py:2739: UserWarning: X does not have valid feature names, but StandardScaler was fitted with feature names\n",
      "  warnings.warn(\n",
      "[18:25:20] SMILES Parse Error: unclosed ring for input: 'CC1CCCC1CC2CC1'\n",
      "/Users/colinweaver/Documents/MIT Documents/2.174/NEMSTransformer/.venv copy/lib/python3.9/site-packages/sklearn/utils/validation.py:2739: UserWarning: X does not have valid feature names, but StandardScaler was fitted with feature names\n",
      "  warnings.warn(\n"
     ]
    },
    {
     "name": "stdout",
     "output_type": "stream",
     "text": [
      "Generated SMILES 'O444444444444444444444444444444444444444444444444444444444444444444444444444444444444444444444444444444444444444444444444444444' is not valid according to RDKit.\n",
      "Generated SMILES: O444444444444444444444444444444444444444444444444444444444444444444444444444444444444444444444444444444444444444444444444444444\n",
      "Is in QM9: False\n",
      "RDKit valid: False\n",
      "\n",
      "Generating for target (unscaled): {'homo': np.float64(-0.40317311149443913), 'lumo': np.float64(0.0407218698972063), 'gap': np.float64(0.4438949813916454), 'alpha': np.float64(74.50555413121221)}\n",
      "Generated SMILES 'CC1CCCC1CC2CC1' is not valid according to RDKit.\n",
      "Generated SMILES: CC1CCCC1CC2CC1\n",
      "Is in QM9: False\n",
      "RDKit valid: False\n",
      "\n",
      "Generating for target (unscaled): {'homo': np.float64(-0.3710958735803711), 'lumo': np.float64(0.16134888049795393), 'gap': np.float64(0.532444754078325), 'alpha': np.float64(73.60692178795175)}\n"
     ]
    },
    {
     "name": "stderr",
     "output_type": "stream",
     "text": [
      "[18:25:21] SMILES Parse Error: extra close parentheses while parsing: C1C4444444444444444444444444444444444444444444444444444)C4444444444444444444444444444444444444444444444444444444444444444444444\n",
      "[18:25:21] SMILES Parse Error: check for mistakes around position 56:\n",
      "[18:25:21] 44444444444444444444)C4444444444444444444\n",
      "[18:25:21] ~~~~~~~~~~~~~~~~~~~~^\n",
      "[18:25:21] SMILES Parse Error: Failed parsing SMILES 'C1C4444444444444444444444444444444444444444444444444444)C4444444444444444444444444444444444444444444444444444444444444444444444' for input: 'C1C4444444444444444444444444444444444444444444444444444)C4444444444444444444444444444444444444444444444444444444444444444444444'\n",
      "/Users/colinweaver/Documents/MIT Documents/2.174/NEMSTransformer/.venv copy/lib/python3.9/site-packages/sklearn/utils/validation.py:2739: UserWarning: X does not have valid feature names, but StandardScaler was fitted with feature names\n",
      "  warnings.warn(\n"
     ]
    },
    {
     "name": "stdout",
     "output_type": "stream",
     "text": [
      "Generated SMILES 'C1C4444444444444444444444444444444444444444444444444444)C4444444444444444444444444444444444444444444444444444444444444444444444' is not valid according to RDKit.\n",
      "Generated SMILES: C1C4444444444444444444444444444444444444444444444444444)C4444444444444444444444444444444444444444444444444444444444444444444444\n",
      "Is in QM9: False\n",
      "RDKit valid: False\n",
      "\n",
      "Generating for target (unscaled): {'homo': np.float64(-0.2770337765101599), 'lumo': np.float64(0.18132830847647585), 'gap': np.float64(0.4583620849866358), 'alpha': np.float64(75.6826714770885)}\n"
     ]
    },
    {
     "name": "stderr",
     "output_type": "stream",
     "text": [
      "[18:25:21] SMILES Parse Error: extra close parentheses while parsing: C44444444444444444444444444444444444444444444444444444)C44444444444444444444444444444444444444444444444444444444444444444444444\n",
      "[18:25:21] SMILES Parse Error: check for mistakes around position 55:\n",
      "[18:25:21] 44444444444444444444)C4444444444444444444\n",
      "[18:25:21] ~~~~~~~~~~~~~~~~~~~~^\n",
      "[18:25:21] SMILES Parse Error: Failed parsing SMILES 'C44444444444444444444444444444444444444444444444444444)C44444444444444444444444444444444444444444444444444444444444444444444444' for input: 'C44444444444444444444444444444444444444444444444444444)C44444444444444444444444444444444444444444444444444444444444444444444444'\n",
      "/Users/colinweaver/Documents/MIT Documents/2.174/NEMSTransformer/.venv copy/lib/python3.9/site-packages/sklearn/utils/validation.py:2739: UserWarning: X does not have valid feature names, but StandardScaler was fitted with feature names\n",
      "  warnings.warn(\n"
     ]
    },
    {
     "name": "stdout",
     "output_type": "stream",
     "text": [
      "Generated SMILES 'C44444444444444444444444444444444444444444444444444444)C44444444444444444444444444444444444444444444444444444444444444444444444' is not valid according to RDKit.\n",
      "Generated SMILES: C44444444444444444444444444444444444444444444444444444)C44444444444444444444444444444444444444444444444444444444444444444444444\n",
      "Is in QM9: False\n",
      "RDKit valid: False\n",
      "\n",
      "Generating for target (unscaled): {'homo': np.float64(-0.36174981894172253), 'lumo': np.float64(0.06870470661081204), 'gap': np.float64(0.4304545255525346), 'alpha': np.float64(27.00127024690884)}\n"
     ]
    },
    {
     "name": "stderr",
     "output_type": "stream",
     "text": [
      "[18:25:22] SMILES Parse Error: duplicated ring closure 4 bonds atom 14 to itself for input: 'OOOOOOOOOOOOOOO4444444444444444444444444444444444444444444444444444444444444444444444444444444444444444444444444444444444444444'\n",
      "/Users/colinweaver/Documents/MIT Documents/2.174/NEMSTransformer/.venv copy/lib/python3.9/site-packages/sklearn/utils/validation.py:2739: UserWarning: X does not have valid feature names, but StandardScaler was fitted with feature names\n",
      "  warnings.warn(\n"
     ]
    },
    {
     "name": "stdout",
     "output_type": "stream",
     "text": [
      "Generated SMILES 'OOOOOOOOOOOOOOO4444444444444444444444444444444444444444444444444444444444444444444444444444444444444444444444444444444444444444' is not valid according to RDKit.\n",
      "Generated SMILES: OOOOOOOOOOOOOOO4444444444444444444444444444444444444444444444444444444444444444444444444444444444444444444444444444444444444444\n",
      "Is in QM9: False\n",
      "RDKit valid: False\n",
      "\n",
      "Generating for target (unscaled): {'homo': -2.0888482734208087, 'lumo': 2.804662625521347, 'gap': 4.893510898942155, 'alpha': np.float64(162.90563709602156)}\n"
     ]
    },
    {
     "name": "stderr",
     "output_type": "stream",
     "text": [
      "[18:25:23] SMILES Parse Error: syntax error while parsing: 4444444444444444444444444444444444444444444444444444444444444444444444444444444444444444444444444444444444444444444444444444444\n",
      "[18:25:23] SMILES Parse Error: check for mistakes around position 1:\n",
      "[18:25:23] 44444444444444444444444444444444444444444\n",
      "[18:25:23] ^\n",
      "[18:25:23] SMILES Parse Error: Failed parsing SMILES '4444444444444444444444444444444444444444444444444444444444444444444444444444444444444444444444444444444444444444444444444444444' for input: '4444444444444444444444444444444444444444444444444444444444444444444444444444444444444444444444444444444444444444444444444444444'\n",
      "/Users/colinweaver/Documents/MIT Documents/2.174/NEMSTransformer/.venv copy/lib/python3.9/site-packages/sklearn/utils/validation.py:2739: UserWarning: X does not have valid feature names, but StandardScaler was fitted with feature names\n",
      "  warnings.warn(\n"
     ]
    },
    {
     "name": "stdout",
     "output_type": "stream",
     "text": [
      "Generated SMILES '4444444444444444444444444444444444444444444444444444444444444444444444444444444444444444444444444444444444444444444444444444444' is not valid according to RDKit.\n",
      "Generated SMILES: 4444444444444444444444444444444444444444444444444444444444444444444444444444444444444444444444444444444444444444444444444444444\n",
      "Is in QM9: False\n",
      "RDKit valid: False\n",
      "\n",
      "Generating for target (unscaled): {'homo': np.float64(-0.4219737340227551), 'lumo': np.float64(-0.12051403246020959), 'gap': np.float64(0.30145970156254553), 'alpha': np.float64(112.57549080898063)}\n"
     ]
    },
    {
     "name": "stderr",
     "output_type": "stream",
     "text": [
      "[18:25:24] SMILES Parse Error: syntax error while parsing: C##############################################################################################################################\n",
      "[18:25:24] SMILES Parse Error: check for mistakes around position 3:\n",
      "[18:25:24] C########################################\n",
      "[18:25:24] ~~^\n",
      "[18:25:24] SMILES Parse Error: Failed parsing SMILES 'C##############################################################################################################################' for input: 'C##############################################################################################################################'\n",
      "/Users/colinweaver/Documents/MIT Documents/2.174/NEMSTransformer/.venv copy/lib/python3.9/site-packages/sklearn/utils/validation.py:2739: UserWarning: X does not have valid feature names, but StandardScaler was fitted with feature names\n",
      "  warnings.warn(\n",
      "/Users/colinweaver/Documents/MIT Documents/2.174/NEMSTransformer/.venv copy/lib/python3.9/site-packages/sklearn/utils/validation.py:2739: UserWarning: X does not have valid feature names, but StandardScaler was fitted with feature names\n",
      "  warnings.warn(\n"
     ]
    },
    {
     "name": "stdout",
     "output_type": "stream",
     "text": [
      "Generated SMILES 'C##############################################################################################################################' is not valid according to RDKit.\n",
      "Generated SMILES: C##############################################################################################################################\n",
      "Is in QM9: False\n",
      "RDKit valid: False\n",
      "\n",
      "Generating for target (unscaled): {'homo': np.float64(-0.41823869439841027), 'lumo': np.float64(0.15192263383084081), 'gap': np.float64(0.570161328229251), 'alpha': np.float64(98.89153479476538)}\n",
      "Visualized and saved to: generated_molecules/generated_54.png\n",
      "Generated SMILES: CCC1CCCC1\n",
      "Is in QM9: True\n",
      "RDKit valid: True\n",
      "\n",
      "Generating for target (unscaled): {'homo': -2.4435149737636155, 'lumo': 2.6082053386699675, 'gap': 5.0517203124335825, 'alpha': np.float64(189.57428999844296)}\n"
     ]
    },
    {
     "name": "stderr",
     "output_type": "stream",
     "text": [
      "[18:25:24] SMILES Parse Error: syntax error while parsing: 4444444444444444444444444444444444444444444444444444444444444444444444444444444444444444444444444444444444444444444444444444444\n",
      "[18:25:24] SMILES Parse Error: check for mistakes around position 1:\n",
      "[18:25:24] 44444444444444444444444444444444444444444\n",
      "[18:25:24] ^\n",
      "[18:25:24] SMILES Parse Error: Failed parsing SMILES '4444444444444444444444444444444444444444444444444444444444444444444444444444444444444444444444444444444444444444444444444444444' for input: '4444444444444444444444444444444444444444444444444444444444444444444444444444444444444444444444444444444444444444444444444444444'\n",
      "/Users/colinweaver/Documents/MIT Documents/2.174/NEMSTransformer/.venv copy/lib/python3.9/site-packages/sklearn/utils/validation.py:2739: UserWarning: X does not have valid feature names, but StandardScaler was fitted with feature names\n",
      "  warnings.warn(\n"
     ]
    },
    {
     "name": "stdout",
     "output_type": "stream",
     "text": [
      "Generated SMILES '4444444444444444444444444444444444444444444444444444444444444444444444444444444444444444444444444444444444444444444444444444444' is not valid according to RDKit.\n",
      "Generated SMILES: 4444444444444444444444444444444444444444444444444444444444444444444444444444444444444444444444444444444444444444444444444444444\n",
      "Is in QM9: False\n",
      "RDKit valid: False\n",
      "\n",
      "Generating for target (unscaled): {'homo': -1.7316475942161553, 'lumo': 2.5298099181316505, 'gap': 4.261457512347806, 'alpha': np.float64(157.74868320405128)}\n"
     ]
    },
    {
     "name": "stderr",
     "output_type": "stream",
     "text": [
      "[18:25:25] SMILES Parse Error: syntax error while parsing: 4444444444444444444444444444444444444444444444444444444444444444444444444444444444444444444444444444444444444444444444444444444\n",
      "[18:25:25] SMILES Parse Error: check for mistakes around position 1:\n",
      "[18:25:25] 44444444444444444444444444444444444444444\n",
      "[18:25:25] ^\n",
      "[18:25:25] SMILES Parse Error: Failed parsing SMILES '4444444444444444444444444444444444444444444444444444444444444444444444444444444444444444444444444444444444444444444444444444444' for input: '4444444444444444444444444444444444444444444444444444444444444444444444444444444444444444444444444444444444444444444444444444444'\n",
      "/Users/colinweaver/Documents/MIT Documents/2.174/NEMSTransformer/.venv copy/lib/python3.9/site-packages/sklearn/utils/validation.py:2739: UserWarning: X does not have valid feature names, but StandardScaler was fitted with feature names\n",
      "  warnings.warn(\n"
     ]
    },
    {
     "name": "stdout",
     "output_type": "stream",
     "text": [
      "Generated SMILES '4444444444444444444444444444444444444444444444444444444444444444444444444444444444444444444444444444444444444444444444444444444' is not valid according to RDKit.\n",
      "Generated SMILES: 4444444444444444444444444444444444444444444444444444444444444444444444444444444444444444444444444444444444444444444444444444444\n",
      "Is in QM9: False\n",
      "RDKit valid: False\n",
      "\n",
      "Generating for target (unscaled): {'homo': -2.337915067228535, 'lumo': 2.8291628315914923, 'gap': 5.167077898820027, 'alpha': np.float64(195.65759574088588)}\n"
     ]
    },
    {
     "name": "stderr",
     "output_type": "stream",
     "text": [
      "[18:25:26] SMILES Parse Error: syntax error while parsing: 4444444444444444444444444444444444444444444444444444444444444444444444444444444444444444444444444444444444444444444444444444444\n",
      "[18:25:26] SMILES Parse Error: check for mistakes around position 1:\n",
      "[18:25:26] 44444444444444444444444444444444444444444\n",
      "[18:25:26] ^\n",
      "[18:25:26] SMILES Parse Error: Failed parsing SMILES '4444444444444444444444444444444444444444444444444444444444444444444444444444444444444444444444444444444444444444444444444444444' for input: '4444444444444444444444444444444444444444444444444444444444444444444444444444444444444444444444444444444444444444444444444444444'\n",
      "/Users/colinweaver/Documents/MIT Documents/2.174/NEMSTransformer/.venv copy/lib/python3.9/site-packages/sklearn/utils/validation.py:2739: UserWarning: X does not have valid feature names, but StandardScaler was fitted with feature names\n",
      "  warnings.warn(\n"
     ]
    },
    {
     "name": "stdout",
     "output_type": "stream",
     "text": [
      "Generated SMILES '4444444444444444444444444444444444444444444444444444444444444444444444444444444444444444444444444444444444444444444444444444444' is not valid according to RDKit.\n",
      "Generated SMILES: 4444444444444444444444444444444444444444444444444444444444444444444444444444444444444444444444444444444444444444444444444444444\n",
      "Is in QM9: False\n",
      "RDKit valid: False\n",
      "\n",
      "Generating for target (unscaled): {'homo': np.float64(-0.16767978668901162), 'lumo': np.float64(-0.15197973087383376), 'gap': np.float64(0.01570005581517786), 'alpha': np.float64(137.97930937685715)}\n"
     ]
    },
    {
     "name": "stderr",
     "output_type": "stream",
     "text": [
      "[18:25:27] SMILES Parse Error: syntax error while parsing: ###############################################################################################################################\n",
      "[18:25:27] SMILES Parse Error: check for mistakes around position 1:\n",
      "[18:25:27] #########################################\n",
      "[18:25:27] ^\n",
      "[18:25:27] SMILES Parse Error: Failed parsing SMILES '###############################################################################################################################' for input: '###############################################################################################################################'\n",
      "/Users/colinweaver/Documents/MIT Documents/2.174/NEMSTransformer/.venv copy/lib/python3.9/site-packages/sklearn/utils/validation.py:2739: UserWarning: X does not have valid feature names, but StandardScaler was fitted with feature names\n",
      "  warnings.warn(\n"
     ]
    },
    {
     "name": "stdout",
     "output_type": "stream",
     "text": [
      "Generated SMILES '###############################################################################################################################' is not valid according to RDKit.\n",
      "Generated SMILES: ###############################################################################################################################\n",
      "Is in QM9: False\n",
      "RDKit valid: False\n",
      "\n",
      "Generating for target (unscaled): {'homo': -2.9428048034270073, 'lumo': 2.874469542431269, 'gap': 5.8172743458582765, 'alpha': np.float64(190.478850596126)}\n"
     ]
    },
    {
     "name": "stderr",
     "output_type": "stream",
     "text": [
      "[18:25:27] SMILES Parse Error: syntax error while parsing: 4444444444444444444444444444444444444444444444444444444444444444444444444444444444444444444444444444444444444444444444444444444\n",
      "[18:25:27] SMILES Parse Error: check for mistakes around position 1:\n",
      "[18:25:27] 44444444444444444444444444444444444444444\n",
      "[18:25:27] ^\n",
      "[18:25:27] SMILES Parse Error: Failed parsing SMILES '4444444444444444444444444444444444444444444444444444444444444444444444444444444444444444444444444444444444444444444444444444444' for input: '4444444444444444444444444444444444444444444444444444444444444444444444444444444444444444444444444444444444444444444444444444444'\n",
      "/Users/colinweaver/Documents/MIT Documents/2.174/NEMSTransformer/.venv copy/lib/python3.9/site-packages/sklearn/utils/validation.py:2739: UserWarning: X does not have valid feature names, but StandardScaler was fitted with feature names\n",
      "  warnings.warn(\n",
      "/Users/colinweaver/Documents/MIT Documents/2.174/NEMSTransformer/.venv copy/lib/python3.9/site-packages/sklearn/utils/validation.py:2739: UserWarning: X does not have valid feature names, but StandardScaler was fitted with feature names\n",
      "  warnings.warn(\n",
      "/Users/colinweaver/Documents/MIT Documents/2.174/NEMSTransformer/.venv copy/lib/python3.9/site-packages/sklearn/utils/validation.py:2739: UserWarning: X does not have valid feature names, but StandardScaler was fitted with feature names\n",
      "  warnings.warn(\n"
     ]
    },
    {
     "name": "stdout",
     "output_type": "stream",
     "text": [
      "Generated SMILES '4444444444444444444444444444444444444444444444444444444444444444444444444444444444444444444444444444444444444444444444444444444' is not valid according to RDKit.\n",
      "Generated SMILES: 4444444444444444444444444444444444444444444444444444444444444444444444444444444444444444444444444444444444444444444444444444444\n",
      "Is in QM9: False\n",
      "RDKit valid: False\n",
      "\n",
      "Generating for target (unscaled): {'homo': np.float64(-0.2275204925827327), 'lumo': np.float64(0.051196631134744625), 'gap': np.float64(0.2787171237174773), 'alpha': np.float64(167.2865122726951)}\n",
      "Visualized and saved to: generated_molecules/generated_60.png\n",
      "Generated SMILES: C#CC\n",
      "Is in QM9: False\n",
      "RDKit valid: True\n",
      "\n",
      "Generating for target (unscaled): {'homo': np.float64(-0.4255962940106476), 'lumo': np.float64(0.062245511458677516), 'gap': np.float64(0.4878418054693251), 'alpha': np.float64(117.13188550091976)}\n",
      "Visualized and saved to: generated_molecules/generated_61.png\n",
      "Generated SMILES: CCCCCC\n",
      "Is in QM9: True\n",
      "RDKit valid: True\n",
      "\n",
      "Generating for target (unscaled): {'homo': -1.9052041148695356, 'lumo': 2.496301760675715, 'gap': 4.401505875545251, 'alpha': np.float64(163.24032398398953)}\n"
     ]
    },
    {
     "name": "stderr",
     "output_type": "stream",
     "text": [
      "[18:25:28] SMILES Parse Error: syntax error while parsing: 4444444444444444444444444444444444444444444444444444444444444444444444444444444444444444444444444444444444444444444444444444444\n",
      "[18:25:28] SMILES Parse Error: check for mistakes around position 1:\n",
      "[18:25:28] 44444444444444444444444444444444444444444\n",
      "[18:25:28] ^\n",
      "[18:25:28] SMILES Parse Error: Failed parsing SMILES '4444444444444444444444444444444444444444444444444444444444444444444444444444444444444444444444444444444444444444444444444444444' for input: '4444444444444444444444444444444444444444444444444444444444444444444444444444444444444444444444444444444444444444444444444444444'\n",
      "/Users/colinweaver/Documents/MIT Documents/2.174/NEMSTransformer/.venv copy/lib/python3.9/site-packages/sklearn/utils/validation.py:2739: UserWarning: X does not have valid feature names, but StandardScaler was fitted with feature names\n",
      "  warnings.warn(\n",
      "[18:25:28] SMILES Parse Error: unclosed ring for input: 'CC1C2C344444444444'\n",
      "/Users/colinweaver/Documents/MIT Documents/2.174/NEMSTransformer/.venv copy/lib/python3.9/site-packages/sklearn/utils/validation.py:2739: UserWarning: X does not have valid feature names, but StandardScaler was fitted with feature names\n",
      "  warnings.warn(\n",
      "[18:25:28] Explicit valence for atom # 1 C, 6, is greater than permitted\n",
      "/Users/colinweaver/Documents/MIT Documents/2.174/NEMSTransformer/.venv copy/lib/python3.9/site-packages/sklearn/utils/validation.py:2739: UserWarning: X does not have valid feature names, but StandardScaler was fitted with feature names\n",
      "  warnings.warn(\n"
     ]
    },
    {
     "name": "stdout",
     "output_type": "stream",
     "text": [
      "Generated SMILES '4444444444444444444444444444444444444444444444444444444444444444444444444444444444444444444444444444444444444444444444444444444' is not valid according to RDKit.\n",
      "Generated SMILES: 4444444444444444444444444444444444444444444444444444444444444444444444444444444444444444444444444444444444444444444444444444444\n",
      "Is in QM9: False\n",
      "RDKit valid: False\n",
      "\n",
      "Generating for target (unscaled): {'homo': np.float64(-0.3689427430244648), 'lumo': np.float64(0.16383543986840876), 'gap': np.float64(0.5327781828928735), 'alpha': np.float64(87.05922286976724)}\n",
      "Generated SMILES 'CC1C2C344444444444' is not valid according to RDKit.\n",
      "Generated SMILES: CC1C2C344444444444\n",
      "Is in QM9: False\n",
      "RDKit valid: False\n",
      "\n",
      "Generating for target (unscaled): {'homo': np.float64(-0.31127269610719316), 'lumo': np.float64(0.004822055252275137), 'gap': np.float64(0.3160947513594683), 'alpha': np.float64(158.35158103956178)}\n",
      "Generated SMILES 'C#C#C' is not valid according to RDKit.\n",
      "Generated SMILES: C#C#C\n",
      "Is in QM9: False\n",
      "RDKit valid: False\n",
      "\n",
      "Generating for target (unscaled): {'homo': -2.801620655371691, 'lumo': 2.345696473953052, 'gap': 5.147317129324743, 'alpha': np.float64(153.15598675446498)}\n"
     ]
    },
    {
     "name": "stderr",
     "output_type": "stream",
     "text": [
      "[18:25:29] SMILES Parse Error: syntax error while parsing: 4444444444444444444444444444444444444444444444444444444444444444444444444444444444444444444444444444444444444444444444444444444\n",
      "[18:25:29] SMILES Parse Error: check for mistakes around position 1:\n",
      "[18:25:29] 44444444444444444444444444444444444444444\n",
      "[18:25:29] ^\n",
      "[18:25:29] SMILES Parse Error: Failed parsing SMILES '4444444444444444444444444444444444444444444444444444444444444444444444444444444444444444444444444444444444444444444444444444444' for input: '4444444444444444444444444444444444444444444444444444444444444444444444444444444444444444444444444444444444444444444444444444444'\n",
      "/Users/colinweaver/Documents/MIT Documents/2.174/NEMSTransformer/.venv copy/lib/python3.9/site-packages/sklearn/utils/validation.py:2739: UserWarning: X does not have valid feature names, but StandardScaler was fitted with feature names\n",
      "  warnings.warn(\n"
     ]
    },
    {
     "name": "stdout",
     "output_type": "stream",
     "text": [
      "Generated SMILES '4444444444444444444444444444444444444444444444444444444444444444444444444444444444444444444444444444444444444444444444444444444' is not valid according to RDKit.\n",
      "Generated SMILES: 4444444444444444444444444444444444444444444444444444444444444444444444444444444444444444444444444444444444444444444444444444444\n",
      "Is in QM9: False\n",
      "RDKit valid: False\n",
      "\n",
      "Generating for target (unscaled): {'homo': np.float64(-0.15456154074380557), 'lumo': np.float64(0.046636776104356875), 'gap': np.float64(0.20119831684816245), 'alpha': np.float64(15.823552074596428)}\n",
      "Visualized and saved to: generated_molecules/generated_66.png\n",
      "Generated SMILES: NNNNNNNNNNNNNNNNNNNNNNNNNNNNNNNNNNNNNNNNNNNNNNNNNNNNNNNNNNNNNNNNNNNNNNNNNNNNNNNNNNNNNNNNNNNNNNNNNNNNNNNNNNNNNNNNNNNNNNNNNNNNNNN\n",
      "Is in QM9: False\n",
      "RDKit valid: True\n",
      "\n",
      "Generating for target (unscaled): {'homo': np.float64(-0.30007589602324525), 'lumo': np.float64(-0.16835120669873888), 'gap': np.float64(0.13172468932450637), 'alpha': np.float64(111.64722927230977)}\n"
     ]
    },
    {
     "name": "stderr",
     "output_type": "stream",
     "text": [
      "/Users/colinweaver/Documents/MIT Documents/2.174/NEMSTransformer/.venv copy/lib/python3.9/site-packages/sklearn/utils/validation.py:2739: UserWarning: X does not have valid feature names, but StandardScaler was fitted with feature names\n",
      "  warnings.warn(\n",
      "[18:25:30] SMILES Parse Error: syntax error while parsing: ###############################################################################################################################\n",
      "[18:25:30] SMILES Parse Error: check for mistakes around position 1:\n",
      "[18:25:30] #########################################\n",
      "[18:25:30] ^\n",
      "[18:25:30] SMILES Parse Error: Failed parsing SMILES '###############################################################################################################################' for input: '###############################################################################################################################'\n",
      "/Users/colinweaver/Documents/MIT Documents/2.174/NEMSTransformer/.venv copy/lib/python3.9/site-packages/sklearn/utils/validation.py:2739: UserWarning: X does not have valid feature names, but StandardScaler was fitted with feature names\n",
      "  warnings.warn(\n",
      "/Users/colinweaver/Documents/MIT Documents/2.174/NEMSTransformer/.venv copy/lib/python3.9/site-packages/sklearn/utils/validation.py:2739: UserWarning: X does not have valid feature names, but StandardScaler was fitted with feature names\n",
      "  warnings.warn(\n"
     ]
    },
    {
     "name": "stdout",
     "output_type": "stream",
     "text": [
      "Generated SMILES '###############################################################################################################################' is not valid according to RDKit.\n",
      "Generated SMILES: ###############################################################################################################################\n",
      "Is in QM9: False\n",
      "RDKit valid: False\n",
      "\n",
      "Generating for target (unscaled): {'homo': np.float64(-0.4258608919862893), 'lumo': np.float64(0.14857705602277071), 'gap': np.float64(0.57443794800906), 'alpha': np.float64(142.70121775606484)}\n",
      "Visualized and saved to: generated_molecules/generated_68.png\n",
      "Generated SMILES: CCC\n",
      "Is in QM9: True\n",
      "RDKit valid: True\n",
      "\n",
      "Generating for target (unscaled): {'homo': np.float64(-0.23459109166544007), 'lumo': np.float64(-0.036973355209706404), 'gap': np.float64(0.19761773645573366), 'alpha': np.float64(25.341180558156346)}\n",
      "Visualized and saved to: generated_molecules/generated_69.png\n",
      "Generated SMILES: NNNNNNNNNNNNNNNNNNNNNNNNNNNNNNNNNNNNNNNNNNNNNNNNNNNNNNNNNNNNNNNNNNNNNNNNNNNNNNNNNNNNNNNNNNNNNNNNNNNNNNNNNNNNNNNNNNNNNNNNNNNNNNN\n",
      "Is in QM9: False\n",
      "RDKit valid: True\n",
      "\n",
      "Generating for target (unscaled): {'homo': np.float64(-0.11370078507994069), 'lumo': np.float64(-0.05643477852052102), 'gap': np.float64(0.05726600655941967), 'alpha': np.float64(154.30774124905267)}\n"
     ]
    },
    {
     "name": "stderr",
     "output_type": "stream",
     "text": [
      "/Users/colinweaver/Documents/MIT Documents/2.174/NEMSTransformer/.venv copy/lib/python3.9/site-packages/sklearn/utils/validation.py:2739: UserWarning: X does not have valid feature names, but StandardScaler was fitted with feature names\n",
      "  warnings.warn(\n",
      "[18:25:32] SMILES Parse Error: syntax error while parsing: ###############################################################################################################################\n",
      "[18:25:32] SMILES Parse Error: check for mistakes around position 1:\n",
      "[18:25:32] #########################################\n",
      "[18:25:32] ^\n",
      "[18:25:32] SMILES Parse Error: Failed parsing SMILES '###############################################################################################################################' for input: '###############################################################################################################################'\n",
      "/Users/colinweaver/Documents/MIT Documents/2.174/NEMSTransformer/.venv copy/lib/python3.9/site-packages/sklearn/utils/validation.py:2739: UserWarning: X does not have valid feature names, but StandardScaler was fitted with feature names\n",
      "  warnings.warn(\n"
     ]
    },
    {
     "name": "stdout",
     "output_type": "stream",
     "text": [
      "Generated SMILES '###############################################################################################################################' is not valid according to RDKit.\n",
      "Generated SMILES: ###############################################################################################################################\n",
      "Is in QM9: False\n",
      "RDKit valid: False\n",
      "\n",
      "Generating for target (unscaled): {'homo': -2.713210802513995, 'lumo': 2.0950390060389115, 'gap': 4.808249808552906, 'alpha': np.float64(166.6190483232473)}\n"
     ]
    },
    {
     "name": "stderr",
     "output_type": "stream",
     "text": [
      "[18:25:33] SMILES Parse Error: syntax error while parsing: 4444444444444444444444444444444444444444444444444444444444444444444444444444444444444444444444444444444444444444444444444444444\n",
      "[18:25:33] SMILES Parse Error: check for mistakes around position 1:\n",
      "[18:25:33] 44444444444444444444444444444444444444444\n",
      "[18:25:33] ^\n",
      "[18:25:33] SMILES Parse Error: Failed parsing SMILES '4444444444444444444444444444444444444444444444444444444444444444444444444444444444444444444444444444444444444444444444444444444' for input: '4444444444444444444444444444444444444444444444444444444444444444444444444444444444444444444444444444444444444444444444444444444'\n",
      "/Users/colinweaver/Documents/MIT Documents/2.174/NEMSTransformer/.venv copy/lib/python3.9/site-packages/sklearn/utils/validation.py:2739: UserWarning: X does not have valid feature names, but StandardScaler was fitted with feature names\n",
      "  warnings.warn(\n"
     ]
    },
    {
     "name": "stdout",
     "output_type": "stream",
     "text": [
      "Generated SMILES '4444444444444444444444444444444444444444444444444444444444444444444444444444444444444444444444444444444444444444444444444444444' is not valid according to RDKit.\n",
      "Generated SMILES: 4444444444444444444444444444444444444444444444444444444444444444444444444444444444444444444444444444444444444444444444444444444\n",
      "Is in QM9: False\n",
      "RDKit valid: False\n",
      "\n",
      "Generating for target (unscaled): {'homo': np.float64(-0.39838543932834325), 'lumo': np.float64(-0.022958890217672556), 'gap': np.float64(0.3754265491106707), 'alpha': np.float64(35.31404940777384)}\n"
     ]
    },
    {
     "name": "stderr",
     "output_type": "stream",
     "text": [
      "[18:25:33] SMILES Parse Error: syntax error while parsing: OOOOOOOOOOOOOOOOOOOO<unk>NOOOO<unk>NO<unk>NOOOO<unk>NO<unk>NO<unk>NO<unk>NO<unk>NOOOO\n",
      "[18:25:33] SMILES Parse Error: check for mistakes around position 21:\n",
      "[18:25:33] OOOOOOOOOOOOOOOOOOOO<unk>NOOOO<unk>NO<unk\n",
      "[18:25:33] ~~~~~~~~~~~~~~~~~~~~^\n",
      "[18:25:33] SMILES Parse Error: Failed parsing SMILES 'OOOOOOOOOOOOOOOOOOOO<unk>NOOOO<unk>NO<unk>NOOOO<unk>NO<unk>NO<unk>NO<unk>NO<unk>NOOOO' for input: 'OOOOOOOOOOOOOOOOOOOO<unk>NOOOO<unk>NO<unk>NOOOO<unk>NO<unk>NO<unk>NO<unk>NO<unk>NOOOO'\n",
      "/Users/colinweaver/Documents/MIT Documents/2.174/NEMSTransformer/.venv copy/lib/python3.9/site-packages/sklearn/utils/validation.py:2739: UserWarning: X does not have valid feature names, but StandardScaler was fitted with feature names\n",
      "  warnings.warn(\n"
     ]
    },
    {
     "name": "stdout",
     "output_type": "stream",
     "text": [
      "Generated SMILES 'OOOOOOOOOOOOOOOOOOOO<unk>NOOOO<unk>NO<unk>NOOOO<unk>NO<unk>NO<unk>NO<unk>NO<unk>NOOOO' is not valid according to RDKit.\n",
      "Generated SMILES: OOOOOOOOOOOOOOOOOOOO<unk>NOOOO<unk>NO<unk>NOOOO<unk>NO<unk>NO<unk>NO<unk>NO<unk>NOOOO\n",
      "Is in QM9: False\n",
      "RDKit valid: False\n",
      "\n",
      "Generating for target (unscaled): {'homo': -1.9915572171143732, 'lumo': 2.6622510943992035, 'gap': 4.653808311513576, 'alpha': np.float64(112.33478773497214)}\n"
     ]
    },
    {
     "name": "stderr",
     "output_type": "stream",
     "text": [
      "[18:25:34] SMILES Parse Error: syntax error while parsing: 4444444444444444444444444444444444444444444444444444444444444444444444444444444444444444444444444444444444444444444444444444444\n",
      "[18:25:34] SMILES Parse Error: check for mistakes around position 1:\n",
      "[18:25:34] 44444444444444444444444444444444444444444\n",
      "[18:25:34] ^\n",
      "[18:25:34] SMILES Parse Error: Failed parsing SMILES '4444444444444444444444444444444444444444444444444444444444444444444444444444444444444444444444444444444444444444444444444444444' for input: '4444444444444444444444444444444444444444444444444444444444444444444444444444444444444444444444444444444444444444444444444444444'\n",
      "/Users/colinweaver/Documents/MIT Documents/2.174/NEMSTransformer/.venv copy/lib/python3.9/site-packages/sklearn/utils/validation.py:2739: UserWarning: X does not have valid feature names, but StandardScaler was fitted with feature names\n",
      "  warnings.warn(\n"
     ]
    },
    {
     "name": "stdout",
     "output_type": "stream",
     "text": [
      "Generated SMILES '4444444444444444444444444444444444444444444444444444444444444444444444444444444444444444444444444444444444444444444444444444444' is not valid according to RDKit.\n",
      "Generated SMILES: 4444444444444444444444444444444444444444444444444444444444444444444444444444444444444444444444444444444444444444444444444444444\n",
      "Is in QM9: False\n",
      "RDKit valid: False\n",
      "\n",
      "Generating for target (unscaled): {'homo': np.float64(-0.35204172955181123), 'lumo': np.float64(-0.11078208422459124), 'gap': np.float64(0.24125964532722), 'alpha': np.float64(70.46759034462596)}\n"
     ]
    },
    {
     "name": "stderr",
     "output_type": "stream",
     "text": [
      "[18:25:34] SMILES Parse Error: syntax error while parsing: N##############N#####N#############N#####N#N#N#N###########N######N#N#####N#N#N#N###########################N#N################\n",
      "[18:25:34] SMILES Parse Error: check for mistakes around position 3:\n",
      "[18:25:34] N##############N#####N#############N#####\n",
      "[18:25:34] ~~^\n",
      "[18:25:34] SMILES Parse Error: Failed parsing SMILES 'N##############N#####N#############N#####N#N#N#N###########N######N#N#####N#N#N#N###########################N#N################' for input: 'N##############N#####N#############N#####N#N#N#N###########N######N#N#####N#N#N#N###########################N#N################'\n",
      "/Users/colinweaver/Documents/MIT Documents/2.174/NEMSTransformer/.venv copy/lib/python3.9/site-packages/sklearn/utils/validation.py:2739: UserWarning: X does not have valid feature names, but StandardScaler was fitted with feature names\n",
      "  warnings.warn(\n",
      "/Users/colinweaver/Documents/MIT Documents/2.174/NEMSTransformer/.venv copy/lib/python3.9/site-packages/sklearn/utils/validation.py:2739: UserWarning: X does not have valid feature names, but StandardScaler was fitted with feature names\n",
      "  warnings.warn(\n",
      "/Users/colinweaver/Documents/MIT Documents/2.174/NEMSTransformer/.venv copy/lib/python3.9/site-packages/sklearn/utils/validation.py:2739: UserWarning: X does not have valid feature names, but StandardScaler was fitted with feature names\n",
      "  warnings.warn(\n"
     ]
    },
    {
     "name": "stdout",
     "output_type": "stream",
     "text": [
      "Generated SMILES 'N##############N#####N#############N#####N#N#N#N###########N######N#N#####N#N#N#N###########################N#N################' is not valid according to RDKit.\n",
      "Generated SMILES: N##############N#####N#############N#####N#N#N#N###########N######N#N#####N#N#N#N###########################N#N################\n",
      "Is in QM9: False\n",
      "RDKit valid: False\n",
      "\n",
      "Generating for target (unscaled): {'homo': np.float64(-0.1183885143769115), 'lumo': np.float64(0.10609522767746732), 'gap': np.float64(0.22448374205437882), 'alpha': np.float64(117.90133081483292)}\n",
      "Visualized and saved to: generated_molecules/generated_75.png\n",
      "Generated SMILES: CCCCCCCCCC\n",
      "Is in QM9: False\n",
      "RDKit valid: True\n",
      "\n",
      "Generating for target (unscaled): {'homo': np.float64(-0.1579828426629678), 'lumo': np.float64(0.11181792651224387), 'gap': np.float64(0.2698007691752117), 'alpha': np.float64(191.21595432645273)}\n",
      "Visualized and saved to: generated_molecules/generated_76.png\n",
      "Generated SMILES: CCCC\n",
      "Is in QM9: True\n",
      "RDKit valid: True\n",
      "\n",
      "Generating for target (unscaled): {'homo': np.float64(-0.1974858213979403), 'lumo': np.float64(-0.13851765407670416), 'gap': np.float64(0.05896816732123614), 'alpha': np.float64(111.74741992163965)}\n"
     ]
    },
    {
     "name": "stderr",
     "output_type": "stream",
     "text": [
      "[18:25:35] SMILES Parse Error: syntax error while parsing: ###############################################################################################################################\n",
      "[18:25:35] SMILES Parse Error: check for mistakes around position 1:\n",
      "[18:25:35] #########################################\n",
      "[18:25:35] ^\n",
      "[18:25:35] SMILES Parse Error: Failed parsing SMILES '###############################################################################################################################' for input: '###############################################################################################################################'\n",
      "/Users/colinweaver/Documents/MIT Documents/2.174/NEMSTransformer/.venv copy/lib/python3.9/site-packages/sklearn/utils/validation.py:2739: UserWarning: X does not have valid feature names, but StandardScaler was fitted with feature names\n",
      "  warnings.warn(\n"
     ]
    },
    {
     "name": "stdout",
     "output_type": "stream",
     "text": [
      "Generated SMILES '###############################################################################################################################' is not valid according to RDKit.\n",
      "Generated SMILES: ###############################################################################################################################\n",
      "Is in QM9: False\n",
      "RDKit valid: False\n",
      "\n",
      "Generating for target (unscaled): {'homo': np.float64(-0.4149497082153386), 'lumo': np.float64(-0.1722158357602457), 'gap': np.float64(0.2427338724550929), 'alpha': np.float64(120.38586619813991)}\n"
     ]
    },
    {
     "name": "stderr",
     "output_type": "stream",
     "text": [
      "[18:25:36] SMILES Parse Error: syntax error while parsing: ###############################################################################################################################\n",
      "[18:25:36] SMILES Parse Error: check for mistakes around position 1:\n",
      "[18:25:36] #########################################\n",
      "[18:25:36] ^\n",
      "[18:25:36] SMILES Parse Error: Failed parsing SMILES '###############################################################################################################################' for input: '###############################################################################################################################'\n",
      "/Users/colinweaver/Documents/MIT Documents/2.174/NEMSTransformer/.venv copy/lib/python3.9/site-packages/sklearn/utils/validation.py:2739: UserWarning: X does not have valid feature names, but StandardScaler was fitted with feature names\n",
      "  warnings.warn(\n"
     ]
    },
    {
     "name": "stdout",
     "output_type": "stream",
     "text": [
      "Generated SMILES '###############################################################################################################################' is not valid according to RDKit.\n",
      "Generated SMILES: ###############################################################################################################################\n",
      "Is in QM9: False\n",
      "RDKit valid: False\n",
      "\n",
      "Generating for target (unscaled): {'homo': np.float64(-0.35934556656824723), 'lumo': np.float64(0.14578131896870244), 'gap': np.float64(0.5051268855369497), 'alpha': np.float64(13.561401162018683)}\n"
     ]
    },
    {
     "name": "stderr",
     "output_type": "stream",
     "text": [
      "[18:25:37] SMILES Parse Error: duplicated ring closure 4 bonds atom 0 to itself for input: 'O444444444444444444444444444444444444444444444444444444444444444444444444444444444444444444444444444444444444444444444444444444'\n",
      "/Users/colinweaver/Documents/MIT Documents/2.174/NEMSTransformer/.venv copy/lib/python3.9/site-packages/sklearn/utils/validation.py:2739: UserWarning: X does not have valid feature names, but StandardScaler was fitted with feature names\n",
      "  warnings.warn(\n",
      "/Users/colinweaver/Documents/MIT Documents/2.174/NEMSTransformer/.venv copy/lib/python3.9/site-packages/sklearn/utils/validation.py:2739: UserWarning: X does not have valid feature names, but StandardScaler was fitted with feature names\n",
      "  warnings.warn(\n"
     ]
    },
    {
     "name": "stdout",
     "output_type": "stream",
     "text": [
      "Generated SMILES 'O444444444444444444444444444444444444444444444444444444444444444444444444444444444444444444444444444444444444444444444444444444' is not valid according to RDKit.\n",
      "Generated SMILES: O444444444444444444444444444444444444444444444444444444444444444444444444444444444444444444444444444444444444444444444444444444\n",
      "Is in QM9: False\n",
      "RDKit valid: False\n",
      "\n",
      "Generating for target (unscaled): {'homo': np.float64(-0.3957486877670715), 'lumo': np.float64(0.14893195387227692), 'gap': np.float64(0.5446806416393484), 'alpha': np.float64(166.85486367740583)}\n",
      "Visualized and saved to: generated_molecules/generated_80.png\n",
      "Generated SMILES: CCC\n",
      "Is in QM9: True\n",
      "RDKit valid: True\n",
      "\n",
      "Generating for target (unscaled): {'homo': -2.21683647686643, 'lumo': 2.1863665840815694, 'gap': 4.403203060948, 'alpha': np.float64(124.70594860268933)}\n"
     ]
    },
    {
     "name": "stderr",
     "output_type": "stream",
     "text": [
      "[18:25:37] SMILES Parse Error: syntax error while parsing: 4444444444444444444444444444444444444444444444444444444444444444444444444444444444444444444444444444444444444444444444444444444\n",
      "[18:25:37] SMILES Parse Error: check for mistakes around position 1:\n",
      "[18:25:37] 44444444444444444444444444444444444444444\n",
      "[18:25:37] ^\n",
      "[18:25:37] SMILES Parse Error: Failed parsing SMILES '4444444444444444444444444444444444444444444444444444444444444444444444444444444444444444444444444444444444444444444444444444444' for input: '4444444444444444444444444444444444444444444444444444444444444444444444444444444444444444444444444444444444444444444444444444444'\n",
      "/Users/colinweaver/Documents/MIT Documents/2.174/NEMSTransformer/.venv copy/lib/python3.9/site-packages/sklearn/utils/validation.py:2739: UserWarning: X does not have valid feature names, but StandardScaler was fitted with feature names\n",
      "  warnings.warn(\n",
      "/Users/colinweaver/Documents/MIT Documents/2.174/NEMSTransformer/.venv copy/lib/python3.9/site-packages/sklearn/utils/validation.py:2739: UserWarning: X does not have valid feature names, but StandardScaler was fitted with feature names\n",
      "  warnings.warn(\n"
     ]
    },
    {
     "name": "stdout",
     "output_type": "stream",
     "text": [
      "Generated SMILES '4444444444444444444444444444444444444444444444444444444444444444444444444444444444444444444444444444444444444444444444444444444' is not valid according to RDKit.\n",
      "Generated SMILES: 4444444444444444444444444444444444444444444444444444444444444444444444444444444444444444444444444444444444444444444444444444444\n",
      "Is in QM9: False\n",
      "RDKit valid: False\n",
      "\n",
      "Generating for target (unscaled): {'homo': np.float64(-0.2822152698892326), 'lumo': np.float64(0.056752520570143045), 'gap': np.float64(0.33896779045937564), 'alpha': np.float64(171.75218472243662)}\n",
      "Visualized and saved to: generated_molecules/generated_82.png\n",
      "Generated SMILES: CCC\n",
      "Is in QM9: True\n",
      "RDKit valid: True\n",
      "\n",
      "Generating for target (unscaled): {'homo': np.float64(-0.2573497462129327), 'lumo': np.float64(0.1004821476012836), 'gap': np.float64(0.3578318938142163), 'alpha': np.float64(17.774385438174363)}\n"
     ]
    },
    {
     "name": "stderr",
     "output_type": "stream",
     "text": [
      "[18:25:38] SMILES Parse Error: duplicated ring closure 4 bonds atom 2 to itself for input: 'OOO4444444444444444444444444444444444444444444444444444444444444444444444444444444444444444444444444444444444444444444444444444'\n",
      "/Users/colinweaver/Documents/MIT Documents/2.174/NEMSTransformer/.venv copy/lib/python3.9/site-packages/sklearn/utils/validation.py:2739: UserWarning: X does not have valid feature names, but StandardScaler was fitted with feature names\n",
      "  warnings.warn(\n",
      "[18:25:38] SMILES Parse Error: extra open parentheses while parsing: CCC(C#CCC\n",
      "[18:25:38] SMILES Parse Error: check for mistakes around position 4:\n",
      "[18:25:38] CCC(C#CCC\n",
      "[18:25:38] ~~~^\n",
      "[18:25:38] SMILES Parse Error: Failed parsing SMILES 'CCC(C#CCC' for input: 'CCC(C#CCC'\n",
      "/Users/colinweaver/Documents/MIT Documents/2.174/NEMSTransformer/.venv copy/lib/python3.9/site-packages/sklearn/utils/validation.py:2739: UserWarning: X does not have valid feature names, but StandardScaler was fitted with feature names\n",
      "  warnings.warn(\n"
     ]
    },
    {
     "name": "stdout",
     "output_type": "stream",
     "text": [
      "Generated SMILES 'OOO4444444444444444444444444444444444444444444444444444444444444444444444444444444444444444444444444444444444444444444444444444' is not valid according to RDKit.\n",
      "Generated SMILES: OOO4444444444444444444444444444444444444444444444444444444444444444444444444444444444444444444444444444444444444444444444444444\n",
      "Is in QM9: False\n",
      "RDKit valid: False\n",
      "\n",
      "Generating for target (unscaled): {'homo': np.float64(-0.42003135467487934), 'lumo': np.float64(-0.00803224405720096), 'gap': np.float64(0.41199911061767835), 'alpha': np.float64(102.44363793524167)}\n",
      "Generated SMILES 'CCC(C#CCC' is not valid according to RDKit.\n",
      "Generated SMILES: CCC(C#CCC\n",
      "Is in QM9: False\n",
      "RDKit valid: False\n",
      "\n",
      "Generating for target (unscaled): {'homo': -1.8863069023808574, 'lumo': 2.6040173179777266, 'gap': 4.490324220358584, 'alpha': np.float64(110.41943955427786)}\n"
     ]
    },
    {
     "name": "stderr",
     "output_type": "stream",
     "text": [
      "[18:25:39] SMILES Parse Error: syntax error while parsing: 4444444444444444444444444444444444444444444444444444444444444444444444444444444444444444444444444444444444444444444444444444444\n",
      "[18:25:39] SMILES Parse Error: check for mistakes around position 1:\n",
      "[18:25:39] 44444444444444444444444444444444444444444\n",
      "[18:25:39] ^\n",
      "[18:25:39] SMILES Parse Error: Failed parsing SMILES '4444444444444444444444444444444444444444444444444444444444444444444444444444444444444444444444444444444444444444444444444444444' for input: '4444444444444444444444444444444444444444444444444444444444444444444444444444444444444444444444444444444444444444444444444444444'\n",
      "/Users/colinweaver/Documents/MIT Documents/2.174/NEMSTransformer/.venv copy/lib/python3.9/site-packages/sklearn/utils/validation.py:2739: UserWarning: X does not have valid feature names, but StandardScaler was fitted with feature names\n",
      "  warnings.warn(\n"
     ]
    },
    {
     "name": "stdout",
     "output_type": "stream",
     "text": [
      "Generated SMILES '4444444444444444444444444444444444444444444444444444444444444444444444444444444444444444444444444444444444444444444444444444444' is not valid according to RDKit.\n",
      "Generated SMILES: 4444444444444444444444444444444444444444444444444444444444444444444444444444444444444444444444444444444444444444444444444444444\n",
      "Is in QM9: False\n",
      "RDKit valid: False\n",
      "\n",
      "Generating for target (unscaled): {'homo': -2.5667558414276392, 'lumo': 2.3769422089632157, 'gap': 4.943698050390855, 'alpha': np.float64(122.67181588787531)}\n"
     ]
    },
    {
     "name": "stderr",
     "output_type": "stream",
     "text": [
      "[18:25:40] SMILES Parse Error: syntax error while parsing: 4444444444444444444444444444444444444444444444444444444444444444444444444444444444444444444444444444444444444444444444444444444\n",
      "[18:25:40] SMILES Parse Error: check for mistakes around position 1:\n",
      "[18:25:40] 44444444444444444444444444444444444444444\n",
      "[18:25:40] ^\n",
      "[18:25:40] SMILES Parse Error: Failed parsing SMILES '4444444444444444444444444444444444444444444444444444444444444444444444444444444444444444444444444444444444444444444444444444444' for input: '4444444444444444444444444444444444444444444444444444444444444444444444444444444444444444444444444444444444444444444444444444444'\n",
      "/Users/colinweaver/Documents/MIT Documents/2.174/NEMSTransformer/.venv copy/lib/python3.9/site-packages/sklearn/utils/validation.py:2739: UserWarning: X does not have valid feature names, but StandardScaler was fitted with feature names\n",
      "  warnings.warn(\n",
      "[18:25:40] Explicit valence for atom # 1 C, 6, is greater than permitted\n",
      "/Users/colinweaver/Documents/MIT Documents/2.174/NEMSTransformer/.venv copy/lib/python3.9/site-packages/sklearn/utils/validation.py:2739: UserWarning: X does not have valid feature names, but StandardScaler was fitted with feature names\n",
      "  warnings.warn(\n"
     ]
    },
    {
     "name": "stdout",
     "output_type": "stream",
     "text": [
      "Generated SMILES '4444444444444444444444444444444444444444444444444444444444444444444444444444444444444444444444444444444444444444444444444444444' is not valid according to RDKit.\n",
      "Generated SMILES: 4444444444444444444444444444444444444444444444444444444444444444444444444444444444444444444444444444444444444444444444444444444\n",
      "Is in QM9: False\n",
      "RDKit valid: False\n",
      "\n",
      "Generating for target (unscaled): {'homo': np.float64(-0.10355321138918167), 'lumo': np.float64(0.038551242314389944), 'gap': np.float64(0.1421044537035716), 'alpha': np.float64(156.14126310603214)}\n",
      "Generated SMILES 'C#C#C#C#C#C#C#C#C#C#C#C#C#C#C#C#C#C#C' is not valid according to RDKit.\n",
      "Generated SMILES: C#C#C#C#C#C#C#C#C#C#C#C#C#C#C#C#C#C#C\n",
      "Is in QM9: False\n",
      "RDKit valid: False\n",
      "\n",
      "Generating for target (unscaled): {'homo': np.float64(-0.1787595010848537), 'lumo': np.float64(0.12465015308102967), 'gap': np.float64(0.3034096541658834), 'alpha': np.float64(31.977255265135494)}\n"
     ]
    },
    {
     "name": "stderr",
     "output_type": "stream",
     "text": [
      "[18:25:40] SMILES Parse Error: duplicated ring closure 4 bonds atom 1 to itself for input: 'OO44444444444444444444444444444444444444444444444444444444444444444444444444444444444444444444444444444444444444444444444444444'\n",
      "/Users/colinweaver/Documents/MIT Documents/2.174/NEMSTransformer/.venv copy/lib/python3.9/site-packages/sklearn/utils/validation.py:2739: UserWarning: X does not have valid feature names, but StandardScaler was fitted with feature names\n",
      "  warnings.warn(\n"
     ]
    },
    {
     "name": "stdout",
     "output_type": "stream",
     "text": [
      "Generated SMILES 'OO44444444444444444444444444444444444444444444444444444444444444444444444444444444444444444444444444444444444444444444444444444' is not valid according to RDKit.\n",
      "Generated SMILES: OO44444444444444444444444444444444444444444444444444444444444444444444444444444444444444444444444444444444444444444444444444444\n",
      "Is in QM9: False\n",
      "RDKit valid: False\n",
      "\n",
      "Generating for target (unscaled): {'homo': np.float64(-0.21624589816426418), 'lumo': np.float64(-0.02262236030293771), 'gap': np.float64(0.19362353786132647), 'alpha': np.float64(142.63676483461836)}\n"
     ]
    },
    {
     "name": "stderr",
     "output_type": "stream",
     "text": [
      "[18:25:41] SMILES Parse Error: syntax error while parsing: C##C###C######C#####C########C##C###C##C##C#C##C#########C#C########C###########C########C#C#################################C#\n",
      "[18:25:41] SMILES Parse Error: check for mistakes around position 3:\n",
      "[18:25:41] C##C###C######C#####C########C##C###C##C#\n",
      "[18:25:41] ~~^\n",
      "[18:25:41] SMILES Parse Error: Failed parsing SMILES 'C##C###C######C#####C########C##C###C##C##C#C##C#########C#C########C###########C########C#C#################################C#' for input: 'C##C###C######C#####C########C##C###C##C##C#C##C#########C#C########C###########C########C#C#################################C#'\n",
      "/Users/colinweaver/Documents/MIT Documents/2.174/NEMSTransformer/.venv copy/lib/python3.9/site-packages/sklearn/utils/validation.py:2739: UserWarning: X does not have valid feature names, but StandardScaler was fitted with feature names\n",
      "  warnings.warn(\n"
     ]
    },
    {
     "name": "stdout",
     "output_type": "stream",
     "text": [
      "Generated SMILES 'C##C###C######C#####C########C##C###C##C##C#C##C#########C#C########C###########C########C#C#################################C#' is not valid according to RDKit.\n",
      "Generated SMILES: C##C###C######C#####C########C##C###C##C##C#C##C#########C#C########C###########C########C#C#################################C#\n",
      "Is in QM9: False\n",
      "RDKit valid: False\n",
      "\n",
      "Generating for target (unscaled): {'homo': -1.7535199011546587, 'lumo': 2.659426012642675, 'gap': 4.4129459137973335, 'alpha': np.float64(192.37528574283994)}\n"
     ]
    },
    {
     "name": "stderr",
     "output_type": "stream",
     "text": [
      "[18:25:42] SMILES Parse Error: syntax error while parsing: 4444444444444444444444444444444444444444444444444444444444444444444444444444444444444444444444444444444444444444444444444444444\n",
      "[18:25:42] SMILES Parse Error: check for mistakes around position 1:\n",
      "[18:25:42] 44444444444444444444444444444444444444444\n",
      "[18:25:42] ^\n",
      "[18:25:42] SMILES Parse Error: Failed parsing SMILES '4444444444444444444444444444444444444444444444444444444444444444444444444444444444444444444444444444444444444444444444444444444' for input: '4444444444444444444444444444444444444444444444444444444444444444444444444444444444444444444444444444444444444444444444444444444'\n",
      "/Users/colinweaver/Documents/MIT Documents/2.174/NEMSTransformer/.venv copy/lib/python3.9/site-packages/sklearn/utils/validation.py:2739: UserWarning: X does not have valid feature names, but StandardScaler was fitted with feature names\n",
      "  warnings.warn(\n",
      "/Users/colinweaver/Documents/MIT Documents/2.174/NEMSTransformer/.venv copy/lib/python3.9/site-packages/sklearn/utils/validation.py:2739: UserWarning: X does not have valid feature names, but StandardScaler was fitted with feature names\n",
      "  warnings.warn(\n"
     ]
    },
    {
     "name": "stdout",
     "output_type": "stream",
     "text": [
      "Generated SMILES '4444444444444444444444444444444444444444444444444444444444444444444444444444444444444444444444444444444444444444444444444444444' is not valid according to RDKit.\n",
      "Generated SMILES: 4444444444444444444444444444444444444444444444444444444444444444444444444444444444444444444444444444444444444444444444444444444\n",
      "Is in QM9: False\n",
      "RDKit valid: False\n",
      "\n",
      "Generating for target (unscaled): {'homo': np.float64(-0.34415405922965214), 'lumo': np.float64(0.05987030349467576), 'gap': np.float64(0.4040243627243279), 'alpha': np.float64(122.73015704532826)}\n",
      "Visualized and saved to: generated_molecules/generated_91.png\n",
      "Generated SMILES: CCCCCC(C)C\n",
      "Is in QM9: True\n",
      "RDKit valid: True\n",
      "\n",
      "Generating for target (unscaled): {'homo': -1.7901076314810607, 'lumo': 2.29569392790895, 'gap': 4.085801559390011, 'alpha': np.float64(117.77698737508595)}\n"
     ]
    },
    {
     "name": "stderr",
     "output_type": "stream",
     "text": [
      "[18:25:42] SMILES Parse Error: syntax error while parsing: 4444444444444444444444444444444444444444444444444444444444444444444444444444444444444444444444444444444444444444444444444444444\n",
      "[18:25:42] SMILES Parse Error: check for mistakes around position 1:\n",
      "[18:25:42] 44444444444444444444444444444444444444444\n",
      "[18:25:42] ^\n",
      "[18:25:42] SMILES Parse Error: Failed parsing SMILES '4444444444444444444444444444444444444444444444444444444444444444444444444444444444444444444444444444444444444444444444444444444' for input: '4444444444444444444444444444444444444444444444444444444444444444444444444444444444444444444444444444444444444444444444444444444'\n",
      "/Users/colinweaver/Documents/MIT Documents/2.174/NEMSTransformer/.venv copy/lib/python3.9/site-packages/sklearn/utils/validation.py:2739: UserWarning: X does not have valid feature names, but StandardScaler was fitted with feature names\n",
      "  warnings.warn(\n"
     ]
    },
    {
     "name": "stdout",
     "output_type": "stream",
     "text": [
      "Generated SMILES '4444444444444444444444444444444444444444444444444444444444444444444444444444444444444444444444444444444444444444444444444444444' is not valid according to RDKit.\n",
      "Generated SMILES: 4444444444444444444444444444444444444444444444444444444444444444444444444444444444444444444444444444444444444444444444444444444\n",
      "Is in QM9: False\n",
      "RDKit valid: False\n",
      "\n",
      "Generating for target (unscaled): {'homo': np.float64(-0.30584850289193155), 'lumo': np.float64(0.024393706360050865), 'gap': np.float64(0.33024220925198244), 'alpha': np.float64(26.244273380444305)}\n"
     ]
    },
    {
     "name": "stderr",
     "output_type": "stream",
     "text": [
      "[18:25:43] SMILES Parse Error: syntax error while parsing: OOOOOOOOOOOOOOOOOOOOOOOOOOOOOOOOOOOOOOOOOOOOOOOOOOOOOOOOOOOOOOOOOOO<unk>NNNNNNNNNNNNNNNNNNNNNOOOOOOOOOOOOOOOOOOOOOOOOOOOOOOOOOOOOOO\n",
      "[18:25:43] SMILES Parse Error: check for mistakes around position 68:\n",
      "[18:25:43] OOOOOOOOOOOOOOOOOOOO<unk>NNNNNNNNNNNNNNNN\n",
      "[18:25:43] ~~~~~~~~~~~~~~~~~~~~^\n",
      "[18:25:43] SMILES Parse Error: Failed parsing SMILES 'OOOOOOOOOOOOOOOOOOOOOOOOOOOOOOOOOOOOOOOOOOOOOOOOOOOOOOOOOOOOOOOOOOO<unk>NNNNNNNNNNNNNNNNNNNNNOOOOOOOOOOOOOOOOOOOOOOOOOOOOOOOOOOOOOO' for input: 'OOOOOOOOOOOOOOOOOOOOOOOOOOOOOOOOOOOOOOOOOOOOOOOOOOOOOOOOOOOOOOOOOOO<unk>NNNNNNNNNNNNNNNNNNNNNOOOOOOOOOOOOOOOOOOOOOOOOOOOOOOOOOOOOOO'\n",
      "/Users/colinweaver/Documents/MIT Documents/2.174/NEMSTransformer/.venv copy/lib/python3.9/site-packages/sklearn/utils/validation.py:2739: UserWarning: X does not have valid feature names, but StandardScaler was fitted with feature names\n",
      "  warnings.warn(\n"
     ]
    },
    {
     "name": "stdout",
     "output_type": "stream",
     "text": [
      "Generated SMILES 'OOOOOOOOOOOOOOOOOOOOOOOOOOOOOOOOOOOOOOOOOOOOOOOOOOOOOOOOOOOOOOOOOOO<unk>NNNNNNNNNNNNNNNNNNNNNOOOOOOOOOOOOOOOOOOOOOOOOOOOOOOOOOOOOOO' is not valid according to RDKit.\n",
      "Generated SMILES: OOOOOOOOOOOOOOOOOOOOOOOOOOOOOOOOOOOOOOOOOOOOOOOOOOOOOOOOOOOOOOOOOOO<unk>NNNNNNNNNNNNNNNNNNNNNOOOOOOOOOOOOOOOOOOOOOOOOOOOOOOOOOOOOOO\n",
      "Is in QM9: False\n",
      "RDKit valid: False\n",
      "\n",
      "Generating for target (unscaled): {'homo': np.float64(-0.35749958333666104), 'lumo': np.float64(-0.16290637706590821), 'gap': np.float64(0.19459320627075283), 'alpha': np.float64(139.0710755394757)}\n"
     ]
    },
    {
     "name": "stderr",
     "output_type": "stream",
     "text": [
      "[18:25:44] SMILES Parse Error: syntax error while parsing: ###############################################################################################################################\n",
      "[18:25:44] SMILES Parse Error: check for mistakes around position 1:\n",
      "[18:25:44] #########################################\n",
      "[18:25:44] ^\n",
      "[18:25:44] SMILES Parse Error: Failed parsing SMILES '###############################################################################################################################' for input: '###############################################################################################################################'\n",
      "/Users/colinweaver/Documents/MIT Documents/2.174/NEMSTransformer/.venv copy/lib/python3.9/site-packages/sklearn/utils/validation.py:2739: UserWarning: X does not have valid feature names, but StandardScaler was fitted with feature names\n",
      "  warnings.warn(\n"
     ]
    },
    {
     "name": "stdout",
     "output_type": "stream",
     "text": [
      "Generated SMILES '###############################################################################################################################' is not valid according to RDKit.\n",
      "Generated SMILES: ###############################################################################################################################\n",
      "Is in QM9: False\n",
      "RDKit valid: False\n",
      "\n",
      "Generating for target (unscaled): {'homo': np.float64(-0.14985503053170296), 'lumo': np.float64(-0.12522103145124125), 'gap': np.float64(0.02463399908046171), 'alpha': np.float64(173.92770014910909)}\n"
     ]
    },
    {
     "name": "stderr",
     "output_type": "stream",
     "text": [
      "[18:25:45] SMILES Parse Error: syntax error while parsing: ###############################################################################################################################\n",
      "[18:25:45] SMILES Parse Error: check for mistakes around position 1:\n",
      "[18:25:45] #########################################\n",
      "[18:25:45] ^\n",
      "[18:25:45] SMILES Parse Error: Failed parsing SMILES '###############################################################################################################################' for input: '###############################################################################################################################'\n",
      "/Users/colinweaver/Documents/MIT Documents/2.174/NEMSTransformer/.venv copy/lib/python3.9/site-packages/sklearn/utils/validation.py:2739: UserWarning: X does not have valid feature names, but StandardScaler was fitted with feature names\n",
      "  warnings.warn(\n"
     ]
    },
    {
     "name": "stdout",
     "output_type": "stream",
     "text": [
      "Generated SMILES '###############################################################################################################################' is not valid according to RDKit.\n",
      "Generated SMILES: ###############################################################################################################################\n",
      "Is in QM9: False\n",
      "RDKit valid: False\n",
      "\n",
      "Generating for target (unscaled): {'homo': np.float64(-0.1659319294302376), 'lumo': np.float64(-0.11078779047604354), 'gap': np.float64(0.055144138954194066), 'alpha': np.float64(51.851809394353566)}\n"
     ]
    },
    {
     "name": "stderr",
     "output_type": "stream",
     "text": [
      "[18:25:45] Explicit valence for atom # 1 N, 6, is greater than permitted\n",
      "/Users/colinweaver/Documents/MIT Documents/2.174/NEMSTransformer/.venv copy/lib/python3.9/site-packages/sklearn/utils/validation.py:2739: UserWarning: X does not have valid feature names, but StandardScaler was fitted with feature names\n",
      "  warnings.warn(\n",
      "[18:25:45] SMILES Parse Error: unclosed ring for input: 'CCCC1CCCCC1C1CC'\n",
      "/Users/colinweaver/Documents/MIT Documents/2.174/NEMSTransformer/.venv copy/lib/python3.9/site-packages/sklearn/utils/validation.py:2739: UserWarning: X does not have valid feature names, but StandardScaler was fitted with feature names\n",
      "  warnings.warn(\n"
     ]
    },
    {
     "name": "stdout",
     "output_type": "stream",
     "text": [
      "Generated SMILES 'N#N#N#N#N#N#N#N#N#N#N#N#N#N#N#N#N#N#N#N#N#N#N#N#N#N#N#N#N#N#N#N#N#N#N#N#N#N#N#N#N#N#N#N#N#N#N#N#N#N#N#N#N#N#N#N#N#N#N#N#N#N#N#N' is not valid according to RDKit.\n",
      "Generated SMILES: N#N#N#N#N#N#N#N#N#N#N#N#N#N#N#N#N#N#N#N#N#N#N#N#N#N#N#N#N#N#N#N#N#N#N#N#N#N#N#N#N#N#N#N#N#N#N#N#N#N#N#N#N#N#N#N#N#N#N#N#N#N#N#N\n",
      "Is in QM9: False\n",
      "RDKit valid: False\n",
      "\n",
      "Generating for target (unscaled): {'homo': np.float64(-0.124574886113687), 'lumo': np.float64(0.1501571052844013), 'gap': np.float64(0.2747319913980883), 'alpha': np.float64(107.37763466549103)}\n",
      "Generated SMILES 'CCCC1CCCCC1C1CC' is not valid according to RDKit.\n",
      "Generated SMILES: CCCC1CCCCC1C1CC\n",
      "Is in QM9: False\n",
      "RDKit valid: False\n",
      "\n",
      "Generating for target (unscaled): {'homo': np.float64(-0.12399249660271333), 'lumo': np.float64(-0.10616870787474185), 'gap': np.float64(0.017823788727971482), 'alpha': np.float64(46.92389502994593)}\n",
      "Generated SMILES 'N#N#N#N#N#N#N#N#N#N#NNN#N#N#N#N#N#N#N#N#NNNN#NNNN#N#N#N#N#N#N#N#N#NNNN#N#NNNNNNNNNN#N#N#N#N#N#N#N#N#N#N#N#N#NNN#N#N#N#N#N#N#N#N' is not valid according to RDKit.\n",
      "Generated SMILES: N#N#N#N#N#N#N#N#N#N#NNN#N#N#N#N#N#N#N#N#NNNN#NNNN#N#N#N#N#N#N#N#N#NNNN#N#NNNNNNNNNN#N#N#N#N#N#N#N#N#N#N#N#N#NNN#N#N#N#N#N#N#N#N\n",
      "Is in QM9: False\n",
      "RDKit valid: False\n",
      "\n",
      "Generating for target (unscaled): {'homo': np.float64(-0.3398724763309954), 'lumo': np.float64(-0.0055748541960153886), 'gap': np.float64(0.33429762213498), 'alpha': np.float64(118.34459032946269)}\n",
      "Generated SMILES 'C#C#C#C' is not valid according to RDKit.\n",
      "Generated SMILES: C#C#C#C\n",
      "Is in QM9: False\n",
      "RDKit valid: False\n",
      "\n",
      "Generating for target (unscaled): {'homo': np.float64(-0.27530158069289234), 'lumo': np.float64(0.1065290246682905), 'gap': np.float64(0.38183060536118285), 'alpha': np.float64(146.30248975932238)}\n",
      "Visualized and saved to: generated_molecules/generated_100.png\n",
      "Generated SMILES: CCCC\n",
      "Is in QM9: True\n",
      "RDKit valid: True\n"
     ]
    },
    {
     "name": "stderr",
     "output_type": "stream",
     "text": [
      "[18:25:46] Explicit valence for atom # 1 N, 6, is greater than permitted\n",
      "/Users/colinweaver/Documents/MIT Documents/2.174/NEMSTransformer/.venv copy/lib/python3.9/site-packages/sklearn/utils/validation.py:2739: UserWarning: X does not have valid feature names, but StandardScaler was fitted with feature names\n",
      "  warnings.warn(\n",
      "[18:25:46] Explicit valence for atom # 1 C, 6, is greater than permitted\n",
      "/Users/colinweaver/Documents/MIT Documents/2.174/NEMSTransformer/.venv copy/lib/python3.9/site-packages/sklearn/utils/validation.py:2739: UserWarning: X does not have valid feature names, but StandardScaler was fitted with feature names\n",
      "  warnings.warn(\n"
     ]
    },
    {
     "data": {
      "image/png": "[encoded data removed]",
      "text/plain": [
       "<Figure size 800x600 with 1 Axes>"
      ]
     },
     "metadata": {},
     "output_type": "display_data"
    }
   ],
   "source": [
    "import random\n",
    "\n",
    "# Number of sequences to generate\n",
    "x = 20\n",
    "\n",
    "# Get statistics from full dataset for generating random properties\n",
    "homo_range = (df_full['homo'].min(), df_full['homo'].max())\n",
    "lumo_range = (df_full['lumo'].min(), df_full['lumo'].max())\n",
    "alpha_range = (df_full['alpha'].min(), df_full['alpha'].max())\n",
    "\n",
    "# High-performing cutoffs (you already calculated these)\n",
    "high_gap_target = df_full['gap'].quantile(0.95)\n",
    "high_alpha_target = df_full['alpha'].quantile(0.95)\n",
    "\n",
    "# 1. Generate random property sets\n",
    "target_properties_list_unscaled = []\n",
    "\n",
    "for _ in range(x):\n",
    "    # 20% chance to sample from high-performing region\n",
    "    if random.random() < 0.2:\n",
    "        homo = random.uniform(-3.0, -1.5)\n",
    "        lumo = random.uniform(2.0, 3.0)\n",
    "        alpha = random.uniform(high_alpha_target, alpha_range[1])\n",
    "    else:\n",
    "        homo = random.uniform(*homo_range)\n",
    "        lumo = random.uniform(*lumo_range)\n",
    "        alpha = random.uniform(*alpha_range)\n",
    "\n",
    "    # Ensure physical plausibility: LUMO > HOMO\n",
    "    if lumo <= homo:\n",
    "        lumo = homo + abs(np.random.normal(2.5, 0.5))  # Add positive gap\n",
    "\n",
    "    gap = lumo - homo\n",
    "    target_properties_list_unscaled.append({\n",
    "        'homo': homo,\n",
    "        'lumo': lumo,\n",
    "        'gap': gap,\n",
    "        'alpha': alpha\n",
    "    })\n",
    "\n",
    "# 2. Generate new sequences using the existing pipeline\n",
    "generated_smiles_info = generate_new_sequences(\n",
    "    model, \n",
    "    tokenizer, \n",
    "    scaler,\n",
    "    target_properties_list_unscaled,\n",
    "    qm9_smiles_set,\n",
    "    property_cols\n",
    ")\n",
    "\n",
    "# 3. Filter valid sequences\n",
    "valid_sequences = [\n",
    "    info for info in generated_smiles_info \n",
    "    if info.get('valid', False)\n",
    "]\n",
    "\n",
    "# 4. Plot GAP vs. Alpha for valid sequences\n",
    "gaps = [entry['target_properties']['gap'] for entry in valid_sequences]\n",
    "alphas = [entry['target_properties']['alpha'] for entry in valid_sequences]\n",
    "\n",
    "plt.figure(figsize=(8, 6))\n",
    "plt.scatter(gaps, alphas, color='blue', label='Valid Sequences')\n",
    "\n",
    "# Vertical lines for maximum values\n",
    "plt.axvline(x=high_gap_target, color='red', linestyle='--', label='95th %ile GAP')\n",
    "plt.axhline(y=high_alpha_target, color='green', linestyle='--', label='95th %ile Alpha')\n",
    "\n",
    "plt.xlabel('Gap (eV)')\n",
    "plt.ylabel('Alpha (Bohr^3)')\n",
    "plt.title('Valid Generated Sequences: Gap vs. Alpha')\n",
    "plt.legend()\n",
    "plt.grid(True)\n",
    "plt.tight_layout()\n",
    "plt.savefig('target_properties_plot.png')\n",
    "plt.show()\n"
   ]
  },
  {
   "cell_type": "code",
   "execution_count": null,
   "id": "31de2f25",
   "metadata": {},
   "outputs": [
    {
     "name": "stdout",
     "output_type": "stream",
     "text": [
      "Setting up models and data for the main function call...\n",
      "Forward model (TransformerRegressor) setup complete.\n",
      "Generative model (SmilesTransformer) setup complete.\n",
      "\n",
      "Attempting to run generation and evaluation pipeline...\n",
      "\n",
      "--- Generating and Evaluating High-Performing SMILES (v2) ---\n",
      "Targeting high values for: gap, alpha\n",
      "Attempting 200 generations.\n",
      "Baseline QM9 Gap Threshold (95th percentile): 0.3266\n",
      "Baseline QM9 Alpha Threshold (95th percentile): 87.8980\n",
      "\n",
      "Target Properties for Generation (Unscaled):\n",
      "  gap: 0.3331\n",
      "  alpha: 89.6560\n",
      "  homo: -0.2400\n",
      "  lumo: 0.0932\n",
      "\n",
      "Starting SMILES generation with target scaled properties: [0.41074383 1.2784272  0.7060378  0.8890099 ]\n",
      "current input tensor tensor([[ 0.4107, -1.7298, -1.9794,  2.9427]])\n",
      "CCC(C)(C)C#C)C\n",
      "    Invalid SMILES (RDKit): CCC(C)(C)C#C)C\n",
      "current input tensor tensor([[ 0.4107, -1.0281, -1.3531, -2.3413]])\n",
      "CC1C2CCC1(O)C2C12\n",
      "    Invalid SMILES (RDKit): CC1C2CCC1(O)C2C12\n",
      "current input tensor tensor([[0.4107, 5.9204, 4.8500, 5.3229]])\n",
      "CCC1CC1CC1C\n",
      "    Invalid SMILES (RDKit): CCC1CC1CC1C\n",
      "current input tensor tensor([[ 0.4107,  1.8738,  1.2375, -0.1856]])\n"
     ]
    },
    {
     "name": "stderr",
     "output_type": "stream",
     "text": [
      "[19:02:02] SMILES Parse Error: extra close parentheses while parsing: CCC(C)(C)C#C)C\n",
      "[19:02:02] SMILES Parse Error: check for mistakes around position 13:\n",
      "[19:02:02] CCC(C)(C)C#C)C\n",
      "[19:02:02] ~~~~~~~~~~~~^\n",
      "[19:02:02] SMILES Parse Error: Failed parsing SMILES 'CCC(C)(C)C#C)C' for input: 'CCC(C)(C)C#C)C'\n",
      "[19:02:02] SMILES Parse Error: unclosed ring for input: 'CC1C2CCC1(O)C2C12'\n",
      "[19:02:02] SMILES Parse Error: unclosed ring for input: 'CCC1CC1CC1C'\n"
     ]
    },
    {
     "name": "stdout",
     "output_type": "stream",
     "text": [
      "CC1C2C3C3C3C3C3C3C3C3C3C3C3C1C24C3\n",
      "    Invalid SMILES (RDKit): CC1C2C3C3C3C3C3C3C3C3C3C3C3C1C24C3\n",
      "current input tensor tensor([[ 0.4107,  0.1156, -0.3320,  2.6438]])\n",
      "CCC1(C)CCC1C1C\n",
      "    Invalid SMILES (RDKit): CCC1(C)CCC1C1C\n",
      "current input tensor tensor([[ 0.4107, -0.1450, -0.5647,  4.1426]])\n",
      "CCCC(C)CCCC\n",
      "0.3269477 96.10442\n",
      "    Found High-Performer: CCCC(C)CCCC | Predicted Gap: 0.3269, Alpha: 96.1044\n",
      "current input tensor tensor([[ 0.4107, -2.3992, -2.5770,  2.5029]])\n",
      "CC#CCCCC(C)(C)(C)(C)(C)C#C\n",
      "    Invalid SMILES (RDKit): CC#CCCCC(C)(C)(C)(C)(C)C#C\n",
      "current input tensor tensor([[ 0.4107,  2.5927,  1.8793, -2.6295]])\n"
     ]
    },
    {
     "name": "stderr",
     "output_type": "stream",
     "text": [
      "[19:02:02] SMILES Parse Error: ring closure 3 duplicates bond between atom 3 and atom 4 for input: 'CC1C2C3C3C3C3C3C3C3C3C3C3C3C1C24C3'\n",
      "[19:02:02] SMILES Parse Error: unclosed ring for input: 'CCC1(C)CCC1C1C'\n",
      "[19:02:02] Explicit valence for atom # 6 C, 7, is greater than permitted\n"
     ]
    },
    {
     "name": "stdout",
     "output_type": "stream",
     "text": [
      "CC1OC2C3C3C3C4C444C244444C14C244C4C24\n",
      "    Invalid SMILES (RDKit): CC1OC2C3C3C3C4C444C244444C14C244C4C24\n",
      "current input tensor tensor([[ 0.4107,  3.7121,  2.8786, -2.6662]])\n"
     ]
    },
    {
     "name": "stderr",
     "output_type": "stream",
     "text": [
      "[19:02:02] SMILES Parse Error: ring closure 3 duplicates bond between atom 4 and atom 5 for input: 'CC1OC2C3C3C3C4C444C244444C14C244C4C24'\n"
     ]
    },
    {
     "name": "stdout",
     "output_type": "stream",
     "text": [
      "COC1C2C3C444444444C444444C24444444C4C244444444444444C124C4C444444444444C4444444C2444444444C4C44444)C2444C24\n",
      "    Invalid SMILES (RDKit): COC1C2C3C444444444C444444C24444444C4C244444444444444C124C4C444444444444C4444444C2444444444C4C44444)C2444C24\n",
      "  Generation attempt 10/200...\n",
      "current input tensor tensor([[ 0.4107, -0.4499, -0.8368, -3.9388]])\n",
      "CC1OC2CCC12CC12\n",
      "    Invalid SMILES (RDKit): CC1OC2CCC12CC12\n",
      "current input tensor tensor([[0.4107, 4.9538, 3.9871, 4.8939]])\n",
      "CCC1CC1CC1C\n",
      "already seen\n",
      "current input tensor tensor([[ 0.4107, -1.4698, -1.7473,  0.7452]])\n",
      "CCC1(C)CCC1(C)C#C\n",
      "0.29543304 95.91452\n",
      "    Found High-Performer: CCC1(C)CCC1(C)C#C | Predicted Gap: 0.2954, Alpha: 95.9145\n",
      "current input tensor tensor([[0.4107, 2.0221, 1.3699, 3.1896]])\n"
     ]
    },
    {
     "name": "stderr",
     "output_type": "stream",
     "text": [
      "[19:02:03] SMILES Parse Error: extra close parentheses while parsing: COC1C2C3C444444444C444444C24444444C4C244444444444444C124C4C444444444444C4444444C2444444444C4C44444)C2444C24\n",
      "[19:02:03] SMILES Parse Error: check for mistakes around position 99:\n",
      "[19:02:03] 4C2444444444C4C44444)C2444C24\n",
      "[19:02:03] ~~~~~~~~~~~~~~~~~~~~^\n",
      "[19:02:03] SMILES Parse Error: Failed parsing SMILES 'COC1C2C3C444444444C444444C24444444C4C244444444444444C124C4C444444444444C4444444C2444444444C4C44444)C2444C24' for input: 'COC1C2C3C444444444C444444C24444444C4C244444444444444C124C4C444444444444C4444444C2444444444C4C44444)C2444C24'\n",
      "[19:02:03] SMILES Parse Error: unclosed ring for input: 'CC1OC2CCC12CC12'\n"
     ]
    },
    {
     "name": "stdout",
     "output_type": "stream",
     "text": [
      "CCC1CCC1CC1C\n",
      "    Invalid SMILES (RDKit): CCC1CCC1CC1C\n",
      "current input tensor tensor([[0.4107, 1.4928, 0.8974, 4.7465]])\n",
      "CCCC1CCCC1C\n",
      "0.31963143 92.5568\n",
      "current input tensor tensor([[ 0.4107, -1.7802, -2.0245,  3.3332]])\n",
      "CCC(C)(C)C#C)C\n",
      "already seen\n",
      "current input tensor tensor([[ 0.4107, -3.2910, -3.3731, -2.3838]])\n",
      "CC#NCC1CC1C1N1CC1\n",
      "    Invalid SMILES (RDKit): CC#NCC1CC1C1N1CC1\n",
      "current input tensor tensor([[ 0.4107, -0.1386, -0.5590, -3.1087]])\n"
     ]
    },
    {
     "name": "stderr",
     "output_type": "stream",
     "text": [
      "[19:02:03] SMILES Parse Error: unclosed ring for input: 'CCC1CCC1CC1C'\n",
      "[19:02:03] SMILES Parse Error: ring closure 1 duplicates bond between atom 7 and atom 8 for input: 'CC#NCC1CC1C1N1CC1'\n"
     ]
    },
    {
     "name": "stdout",
     "output_type": "stream",
     "text": [
      "CC1OCC2CC12CC12\n",
      "    Invalid SMILES (RDKit): CC1OCC2CC12CC12\n",
      "current input tensor tensor([[0.4107, 3.7119, 2.8784, 5.0985]])\n",
      "CCC1CCC1CC\n",
      "0.33518913 88.39662\n",
      "current input tensor tensor([[ 0.4107, -3.2402, -3.3277, -0.5996]])\n",
      "CC#CCCC1(C)C#N\n",
      "    Invalid SMILES (RDKit): CC#CCCC1(C)C#N\n",
      "  Generation attempt 20/200...\n",
      "current input tensor tensor([[ 0.4107, -0.3160, -0.7173,  5.5769]])\n",
      "CCCC(C)CCC\n",
      "0.33345026 92.839165\n",
      "current input tensor tensor([[0.4107, 4.6214, 3.6904, 1.2119]])\n"
     ]
    },
    {
     "name": "stderr",
     "output_type": "stream",
     "text": [
      "[19:02:03] SMILES Parse Error: unclosed ring for input: 'CC1OCC2CC12CC12'\n",
      "[19:02:04] SMILES Parse Error: unclosed ring for input: 'CC#CCCC1(C)C#N'\n"
     ]
    },
    {
     "name": "stdout",
     "output_type": "stream",
     "text": [
      "CC1C2C3C3C3C3C3C34C34C4C4C4C1C4C4C24C\n",
      "    Invalid SMILES (RDKit): CC1C2C3C3C3C3C3C34C34C4C4C4C1C4C4C24C\n",
      "current input tensor tensor([[ 0.4107, -1.1314, -1.4452, -0.6652]])\n",
      "CCC1(C)CCC1(O)C1\n",
      "    Invalid SMILES (RDKit): CCC1(C)CCC1(O)C1\n",
      "current input tensor tensor([[ 0.4107,  3.6414,  2.8155, -0.6171]])\n",
      "CC1C2C3C3C3C3C4C4C4C4C4C4C14C24\n",
      "    Invalid SMILES (RDKit): CC1C2C3C3C3C3C4C4C4C4C4C4C14C24\n",
      "current input tensor tensor([[ 0.4107,  3.5350,  2.7205, -1.4401]])\n"
     ]
    },
    {
     "name": "stderr",
     "output_type": "stream",
     "text": [
      "[19:02:04] SMILES Parse Error: ring closure 3 duplicates bond between atom 3 and atom 4 for input: 'CC1C2C3C3C3C3C3C34C34C4C4C4C1C4C4C24C'\n",
      "[19:02:04] SMILES Parse Error: unclosed ring for input: 'CCC1(C)CCC1(O)C1'\n",
      "[19:02:04] SMILES Parse Error: ring closure 3 duplicates bond between atom 3 and atom 4 for input: 'CC1C2C3C3C3C3C4C4C4C4C4C4C14C24'\n"
     ]
    },
    {
     "name": "stdout",
     "output_type": "stream",
     "text": [
      "CC1C2C3C3C4C4C4C44C4C24\n",
      "    Invalid SMILES (RDKit): CC1C2C3C3C4C4C4C44C4C24\n",
      "current input tensor tensor([[ 0.4107, -2.3249, -2.5107,  3.5038]])\n",
      "CC#CCCCC(C)(C)C\n",
      "0.32508165 97.03973\n",
      "    Found High-Performer: CC#CCCCC(C)(C)C | Predicted Gap: 0.3251, Alpha: 97.0397\n",
      "current input tensor tensor([[ 0.4107, -0.1839, -0.5994,  1.8981]])\n",
      "CCC1(C)CCC1C1C1\n",
      "    Invalid SMILES (RDKit): CCC1(C)CCC1C1C1\n",
      "current input tensor tensor([[0.4107, 5.5674, 4.5349, 3.2169]])\n",
      "CC1CC2C3C3C3C3C3C3\n",
      "    Invalid SMILES (RDKit): CC1CC2C3C3C3C3C3C3\n",
      "current input tensor tensor([[ 0.4107, -0.8674, -1.2096,  4.3837]])\n"
     ]
    },
    {
     "name": "stderr",
     "output_type": "stream",
     "text": [
      "[19:02:04] SMILES Parse Error: unclosed ring for input: 'CC1C2C3C3C4C4C4C44C4C24'\n",
      "[19:02:04] SMILES Parse Error: ring closure 1 duplicates bond between atom 7 and atom 8 for input: 'CCC1(C)CCC1C1C1'\n",
      "[19:02:04] SMILES Parse Error: unclosed ring for input: 'CC1CC2C3C3C3C3C3C3'\n"
     ]
    },
    {
     "name": "stdout",
     "output_type": "stream",
     "text": [
      "CCCC(C)(C)C#C\n",
      "0.27879333 89.31529\n",
      "current input tensor tensor([[ 0.4107, -2.0384, -2.2549, -1.4437]])\n",
      "CCC1(C)CCOC#N1\n",
      "    Invalid SMILES (RDKit): CCC1(C)CCOC#N1\n",
      "  Generation attempt 30/200...\n",
      "current input tensor tensor([[0.4107, 2.5414, 1.8335, 3.0000]])\n",
      "CCC1CCC1C1C1C\n",
      "    Invalid SMILES (RDKit): CCC1CCC1C1C1C\n",
      "current input tensor tensor([[0.4107, 1.7047, 1.0866, 5.7016]])\n",
      "CCCCC1CCCC\n",
      "    Invalid SMILES (RDKit): CCCCC1CCCC\n",
      "current input tensor tensor([[0.4107, 2.8266, 2.0881, 2.6801]])\n"
     ]
    },
    {
     "name": "stderr",
     "output_type": "stream",
     "text": [
      "[19:02:04] Explicit valence for atom # 8 N, 4, is greater than permitted\n",
      "[19:02:04] SMILES Parse Error: ring closure 1 duplicates bond between atom 6 and atom 7 for input: 'CCC1CCC1C1C1C'\n",
      "[19:02:04] SMILES Parse Error: unclosed ring for input: 'CCCCC1CCCC'\n",
      "[19:02:05] SMILES Parse Error: unclosed ring for input: 'CCC1CC2C3C1CC'\n"
     ]
    },
    {
     "name": "stdout",
     "output_type": "stream",
     "text": [
      "CCC1CC2C3C1CC\n",
      "    Invalid SMILES (RDKit): CCC1CC2C3C1CC\n",
      "current input tensor tensor([[ 0.4107, -2.7986, -2.9335, -2.9925]])\n",
      "CC1NCC1N2CCC1N2\n",
      "    Invalid SMILES (RDKit): CC1NCC1N2CCC1N2\n",
      "current input tensor tensor([[ 0.4107, -0.2334, -0.6436,  4.6757]])\n",
      "CCCC(C)CCCC\n",
      "already seen\n",
      "current input tensor tensor([[ 0.4107, -3.3419, -3.4185,  5.1804]])\n",
      "C#CCC#C#C\n",
      "    Invalid SMILES (RDKit): C#CCC#C#C\n",
      "current input tensor tensor([[ 0.4107,  4.1881,  3.3035, -0.0487]])\n"
     ]
    },
    {
     "name": "stderr",
     "output_type": "stream",
     "text": [
      "[19:02:05] SMILES Parse Error: unclosed ring for input: 'CC1NCC1N2CCC1N2'\n",
      "[19:02:05] Explicit valence for atom # 4 C, 6, is greater than permitted\n"
     ]
    },
    {
     "name": "stdout",
     "output_type": "stream",
     "text": [
      "CC1C2C3C3C3C34C4C4C4C4C4C4C14C24\n",
      "    Invalid SMILES (RDKit): CC1C2C3C3C3C34C4C4C4C4C4C4C14C24\n",
      "current input tensor tensor([[0.4107, 5.0632, 4.0847, 5.7493]])\n",
      "CCC1CCC1CC\n",
      "already seen\n",
      "current input tensor tensor([[0.4107, 4.1112, 3.2349, 2.6445]])\n",
      "CC1C2C3C3C3C3C3C3C3C3\n",
      "    Invalid SMILES (RDKit): CC1C2C3C3C3C3C3C3C3C3\n",
      "current input tensor tensor([[ 0.4107,  2.3569,  1.6688, -3.3069]])\n"
     ]
    },
    {
     "name": "stderr",
     "output_type": "stream",
     "text": [
      "[19:02:05] SMILES Parse Error: ring closure 3 duplicates bond between atom 3 and atom 4 for input: 'CC1C2C3C3C3C34C4C4C4C4C4C4C14C24'\n",
      "[19:02:05] SMILES Parse Error: unclosed ring for input: 'CC1C2C3C3C3C3C3C3C3C3'\n"
     ]
    },
    {
     "name": "stdout",
     "output_type": "stream",
     "text": [
      "COC1C2C3C3C44C24444444444C2444444C4C2444C124\n",
      "    Invalid SMILES (RDKit): COC1C2C3C3C44C24444444444C2444444C4C2444C124\n",
      "  Generation attempt 40/200...\n",
      "current input tensor tensor([[ 0.4107,  0.0464, -0.3938, -2.0924]])\n",
      "CC1C2C3CCC1C23C3C3C3C3C23C3C3C3\n",
      "    Invalid SMILES (RDKit): CC1C2C3CCC1C23C3C3C3C3C23C3C3C3\n",
      "current input tensor tensor([[ 0.4107, -1.1829, -1.4912, -2.8880]])\n",
      "CC1C2CCC1OCC2(O)C12\n",
      "    Invalid SMILES (RDKit): CC1C2CCC1OCC2(O)C12\n",
      "current input tensor tensor([[0.4107, 1.1185, 0.5632, 0.8748]])\n"
     ]
    },
    {
     "name": "stderr",
     "output_type": "stream",
     "text": [
      "[19:02:05] SMILES Parse Error: unclosed ring for input: 'COC1C2C3C3C44C24444444444C2444444C4C2444C124'\n",
      "[19:02:05] SMILES Parse Error: unclosed ring for input: 'CC1C2C3CCC1C23C3C3C3C3C23C3C3C3'\n",
      "[19:02:05] SMILES Parse Error: unclosed ring for input: 'CC1C2CCC1OCC2(O)C12'\n"
     ]
    },
    {
     "name": "stdout",
     "output_type": "stream",
     "text": [
      "CC1CC2CC1CC1C2\n",
      "    Invalid SMILES (RDKit): CC1CC2CC1CC1C2\n",
      "current input tensor tensor([[ 0.4107,  1.9619,  1.3162, -3.6154]])\n",
      "COC1C2C3C3C3C444444C244444C2444444C24C4444C124\n",
      "    Invalid SMILES (RDKit): COC1C2C3C3C3C444444C244444C2444444C24C4444C124\n",
      "current input tensor tensor([[0.4107, 5.2086, 4.2145, 3.9000]])\n"
     ]
    },
    {
     "name": "stderr",
     "output_type": "stream",
     "text": [
      "[19:02:05] SMILES Parse Error: unclosed ring for input: 'CC1CC2CC1CC1C2'\n",
      "[19:02:06] SMILES Parse Error: ring closure 2 duplicates bond between atom 9 and atom 10 for input: 'COC1C2C3C3C3C444444C244444C2444444C24C4444C124'\n"
     ]
    },
    {
     "name": "stdout",
     "output_type": "stream",
     "text": [
      "CC1CC1CC1C1C\n",
      "    Invalid SMILES (RDKit): CC1CC1CC1C1C\n",
      "current input tensor tensor([[ 0.4107, -2.8359, -2.9669,  1.1400]])\n",
      "CC#CCCCC(C)(C)(C)(C)(C)(C#N\n",
      "    Invalid SMILES (RDKit): CC#CCCCC(C)(C)(C)(C)(C)(C#N\n",
      "current input tensor tensor([[ 0.4107,  3.8513,  3.0028, -0.5290]])\n"
     ]
    },
    {
     "name": "stderr",
     "output_type": "stream",
     "text": [
      "[19:02:06] SMILES Parse Error: ring closure 1 duplicates bond between atom 5 and atom 6 for input: 'CC1CC1CC1C1C'\n",
      "[19:02:06] SMILES Parse Error: extra open parentheses while parsing: CC#CCCCC(C)(C)(C)(C)(C)(C#N\n",
      "[19:02:06] SMILES Parse Error: check for mistakes around position 24:\n",
      "[19:02:06] CCCCC(C)(C)(C)(C)(C)(C#N\n",
      "[19:02:06] ~~~~~~~~~~~~~~~~~~~~^\n",
      "[19:02:06] SMILES Parse Error: Failed parsing SMILES 'CC#CCCCC(C)(C)(C)(C)(C)(C#N' for input: 'CC#CCCCC(C)(C)(C)(C)(C)(C#N'\n"
     ]
    },
    {
     "name": "stdout",
     "output_type": "stream",
     "text": [
      "CC1C2C3C3C3C34C4C4C4C4C4C4C14C24\n",
      "already seen\n",
      "current input tensor tensor([[0.4107, 1.7289, 1.1082, 4.3659]])\n",
      "CCCC1CCC1CC\n",
      "0.32170364 93.18656\n",
      "current input tensor tensor([[ 0.4107, -0.6840, -1.0458, -1.6746]])\n",
      "CC1C2CCC1(O)C2\n",
      "0.31187347 75.46063\n",
      "    Found High-Performer: CC1C2CCC1(O)C2 | Predicted Gap: 0.3119, Alpha: 75.4606\n",
      "current input tensor tensor([[0.4107, 1.5091, 0.9119, 3.9907]])\n",
      "CCC1CCCC1CC1\n",
      "    Invalid SMILES (RDKit): CCC1CCCC1CC1\n",
      "  Generation attempt 50/200...\n",
      "current input tensor tensor([[0.4107, 4.4562, 3.5428, 2.2450]])\n"
     ]
    },
    {
     "name": "stderr",
     "output_type": "stream",
     "text": [
      "[19:02:06] SMILES Parse Error: unclosed ring for input: 'CCC1CCCC1CC1'\n",
      "[19:02:06] SMILES Parse Error: unclosed ring for input: 'CC1C2C3C3C3C3C34C4C4C4C4C4C1C14C24'\n"
     ]
    },
    {
     "name": "stdout",
     "output_type": "stream",
     "text": [
      "CC1C2C3C3C3C3C3C3C3C3\n",
      "already seen\n",
      "current input tensor tensor([[0.4107, 4.7073, 3.7670, 0.8852]])\n",
      "CC1C2C3C3C3C3C34C4C4C4C4C4C1C14C24\n",
      "    Invalid SMILES (RDKit): CC1C2C3C3C3C3C34C4C4C4C4C4C1C14C24\n",
      "current input tensor tensor([[ 0.4107,  0.0224, -0.4153, -2.5601]])\n",
      "CC1C2C3CC3C1C23C3C3C3C23C3C3C3C3C3C3C3\n",
      "    Invalid SMILES (RDKit): CC1C2C3CC3C1C23C3C3C3C23C3C3C3C3C3C3C3\n",
      "current input tensor tensor([[ 0.4107,  0.6627,  0.1563, -0.5536]])\n",
      "CC1C2CC3CC1C2(C)C23\n",
      "    Invalid SMILES (RDKit): CC1C2CC3CC1C2(C)C23\n",
      "current input tensor tensor([[ 0.4107, -1.3624, -1.6515,  0.1606]])\n",
      "CCC1(C)CCC1(C)C1CO\n",
      "    Invalid SMILES (RDKit): CCC1(C)CCC1(C)C1CO\n",
      "current input tensor tensor([[ 0.4107,  4.1885,  3.3039, -2.5020]])\n"
     ]
    },
    {
     "name": "stderr",
     "output_type": "stream",
     "text": [
      "[19:02:06] SMILES Parse Error: unclosed ring for input: 'CC1C2C3CC3C1C23C3C3C3C23C3C3C3C3C3C3C3'\n",
      "[19:02:06] SMILES Parse Error: unclosed ring for input: 'CC1C2CC3CC1C2(C)C23'\n",
      "[19:02:06] SMILES Parse Error: unclosed ring for input: 'CCC1(C)CCC1(C)C1CO'\n"
     ]
    },
    {
     "name": "stdout",
     "output_type": "stream",
     "text": [
      "C1C2C3444C44444444C444444C44444444C244444C4444444444C4C4C444444444444)C2444444444444444444C24C4444444444C24444C24C2444444444444\n",
      "    Invalid SMILES (RDKit): C1C2C3444C44444444C444444C44444444C244444C4444444444C4C4C444444444444)C2444444444444444444C24C4444444444C24444C24C2444444444444\n",
      "current input tensor tensor([[ 0.4107, -0.7355, -1.0918,  0.4056]])\n",
      "CCC1(C)CCC1(C)C1C1\n",
      "    Invalid SMILES (RDKit): CCC1(C)CCC1(C)C1C1\n",
      "current input tensor tensor([[ 0.4107, -3.0978, -3.2006, -3.8823]])\n",
      "CC1N2CCC1N2CC1N2N2\n",
      "    Invalid SMILES (RDKit): CC1N2CCC1N2CC1N2N2\n",
      "current input tensor tensor([[0.4107, 5.5368, 4.5075, 2.7440]])\n",
      "CC1C2C3C3C3C3C3C3C3C3\n",
      "already seen\n",
      "current input tensor tensor([[ 0.4107, -0.1791, -0.5951, -3.4756]])\n"
     ]
    },
    {
     "name": "stderr",
     "output_type": "stream",
     "text": [
      "[19:02:07] SMILES Parse Error: extra close parentheses while parsing: C1C2C3444C44444444C444444C44444444C244444C4444444444C4C4C444444444444)C2444444444444444444C24C4444444444C24444C24C2444444444444\n",
      "[19:02:07] SMILES Parse Error: check for mistakes around position 70:\n",
      "[19:02:07] 444C4C4C444444444444)C2444444444444444444\n",
      "[19:02:07] ~~~~~~~~~~~~~~~~~~~~^\n",
      "[19:02:07] SMILES Parse Error: Failed parsing SMILES 'C1C2C3444C44444444C444444C44444444C244444C4444444444C4C4C444444444444)C2444444444444444444C24C4444444444C24444C24C2444444444444' for input: 'C1C2C3444C44444444C444444C44444444C244444C4444444444C4C4C444444444444)C2444444444444444444C24C4444444444C24444C24C2444444444444'\n",
      "[19:02:07] SMILES Parse Error: ring closure 1 duplicates bond between atom 8 and atom 9 for input: 'CCC1(C)CCC1(C)C1C1'\n",
      "[19:02:07] SMILES Parse Error: unclosed ring for input: 'CC1N2CCC1N2CC1N2N2'\n"
     ]
    },
    {
     "name": "stdout",
     "output_type": "stream",
     "text": [
      "CC1OC2CCC12CC12\n",
      "already seen\n",
      "  Generation attempt 60/200...\n",
      "current input tensor tensor([[0.4107, 1.6586, 1.0454, 5.4093]])\n",
      "CCCC1CCCC1C\n",
      "already seen\n",
      "current input tensor tensor([[ 0.4107,  1.0775,  0.5267, -1.1407]])\n",
      "CC1C2C3CC3C3C1C23C3C3C3C3C3C3\n",
      "    Invalid SMILES (RDKit): CC1C2C3CC3C3C1C23C3C3C3C3C3C3\n",
      "current input tensor tensor([[0.4107, 3.3953, 2.5958, 0.0329]])\n"
     ]
    },
    {
     "name": "stderr",
     "output_type": "stream",
     "text": [
      "[19:02:08] SMILES Parse Error: ring closure 3 duplicates bond between atom 9 and atom 10 for input: 'CC1C2C3CC3C3C1C23C3C3C3C3C3C3'\n",
      "[19:02:08] SMILES Parse Error: unclosed ring for input: 'CC1C2C3C3C3C3C3C3C34C4C4C4C1C24C4C4C1C24'\n"
     ]
    },
    {
     "name": "stdout",
     "output_type": "stream",
     "text": [
      "CC1C2C3C3C3C3C3C3C34C4C4C4C1C24C4C4C1C24\n",
      "    Invalid SMILES (RDKit): CC1C2C3C3C3C3C3C3C34C4C4C4C1C24C4C4C1C24\n",
      "current input tensor tensor([[ 0.4107, -3.4239, -3.4918, -2.4506]])\n",
      "CC#NCC1CC1N1CC1N\n",
      "    Invalid SMILES (RDKit): CC#NCC1CC1N1CC1N\n",
      "current input tensor tensor([[ 0.4107, -3.2929, -3.3749, -2.5515]])\n",
      "CC#NCC1CC1N1C1N\n",
      "    Invalid SMILES (RDKit): CC#NCC1CC1N1C1N\n",
      "current input tensor tensor([[ 0.4107,  3.1213,  2.3511, -1.0346]])\n"
     ]
    },
    {
     "name": "stderr",
     "output_type": "stream",
     "text": [
      "[19:02:08] Explicit valence for atom # 2 N, 4, is greater than permitted\n",
      "[19:02:08] SMILES Parse Error: ring closure 1 duplicates bond between atom 7 and atom 8 for input: 'CC#NCC1CC1N1C1N'\n"
     ]
    },
    {
     "name": "stdout",
     "output_type": "stream",
     "text": [
      "CC1C2C3C3C3C3C34C4C4C4C4C4C14C24C4C24\n",
      "    Invalid SMILES (RDKit): CC1C2C3C3C3C3C34C4C4C4C4C4C14C24C4C24\n",
      "current input tensor tensor([[ 0.4107,  3.4958,  2.6855, -3.4851]])\n"
     ]
    },
    {
     "name": "stderr",
     "output_type": "stream",
     "text": [
      "[19:02:08] SMILES Parse Error: unclosed ring for input: 'CC1C2C3C3C3C3C34C4C4C4C4C4C14C24C4C24'\n"
     ]
    },
    {
     "name": "stdout",
     "output_type": "stream",
     "text": [
      "COC12C3C444444444444444444C244444444C4444444444444444C124C44444444444444444444)C24444444444C24444444444444C24444C24444444444444\n",
      "    Invalid SMILES (RDKit): COC12C3C444444444444444444C244444444C4444444444444444C124C44444444444444444444)C24444444444C24444444444444C24444C24444444444444\n",
      "current input tensor tensor([[0.4107, 3.5270, 2.7134, 5.4111]])\n",
      "CCC1CCC1CC\n",
      "already seen\n",
      "current input tensor tensor([[ 0.4107, -3.1846, -3.2781,  2.1923]])\n",
      "C#CCCCC#CC\n",
      "0.2704482 88.24462\n",
      "    Found High-Performer: C#CCCCC#CC | Predicted Gap: 0.2704, Alpha: 88.2446\n",
      "current input tensor tensor([[ 0.4107,  1.4187,  0.8312, -0.0220]])\n",
      "CC1C2C3CCC1C2C3C3C3\n",
      "    Invalid SMILES (RDKit): CC1C2C3CCC1C2C3C3C3\n",
      "  Generation attempt 70/200...\n",
      "current input tensor tensor([[0.4107, 3.1098, 2.3409, 1.5809]])\n"
     ]
    },
    {
     "name": "stderr",
     "output_type": "stream",
     "text": [
      "[19:02:09] SMILES Parse Error: extra close parentheses while parsing: COC12C3C444444444444444444C244444444C4444444444444444C124C44444444444444444444)C24444444444C24444444444444C24444C24444444444444\n",
      "[19:02:09] SMILES Parse Error: check for mistakes around position 79:\n",
      "[19:02:09] 44444444444444444444)C24444444444C2444444\n",
      "[19:02:09] ~~~~~~~~~~~~~~~~~~~~^\n",
      "[19:02:09] SMILES Parse Error: Failed parsing SMILES 'COC12C3C444444444444444444C244444444C4444444444444444C124C44444444444444444444)C24444444444C24444444444444C24444C24444444444444' for input: 'COC12C3C444444444444444444C244444444C4444444444444444C124C44444444444444444444)C24444444444C24444444444444C24444C24444444444444'\n",
      "[19:02:09] SMILES Parse Error: ring closure 3 duplicates bond between atom 9 and atom 10 for input: 'CC1C2C3CCC1C2C3C3C3'\n"
     ]
    },
    {
     "name": "stdout",
     "output_type": "stream",
     "text": [
      "CC1C2C3C3C3C3C3C3C3C3C3\n",
      "    Invalid SMILES (RDKit): CC1C2C3C3C3C3C3C3C3C3C3\n",
      "current input tensor tensor([[0.4107, 4.6222, 3.6911, 2.9539]])\n",
      "CC1CC2C3C3C3C3C3C3\n",
      "already seen\n",
      "current input tensor tensor([[ 0.4107,  0.3660, -0.1085, -0.8491]])\n",
      "CC1C2CC3CC1C2(C)C23\n",
      "already seen\n",
      "current input tensor tensor([[ 0.4107, -3.1753, -3.2699,  4.6968]])\n",
      "C#CCC#CC\n",
      "0.265424 65.94717\n",
      "current input tensor tensor([[ 0.4107, -1.2703, -1.5692, -1.3652]])\n"
     ]
    },
    {
     "name": "stderr",
     "output_type": "stream",
     "text": [
      "[19:02:09] SMILES Parse Error: unclosed ring for input: 'CC1C2C3C3C3C3C3C3C3C3C3'\n"
     ]
    },
    {
     "name": "stdout",
     "output_type": "stream",
     "text": [
      "CCC1(C)CCOC1C1\n",
      "    Invalid SMILES (RDKit): CCC1(C)CCOC1C1\n",
      "current input tensor tensor([[ 0.4107, -3.0338, -3.1435, -0.2753]])\n",
      "CC#CCCC1(C)C#N\n",
      "already seen\n",
      "current input tensor tensor([[ 0.4107, -0.5349, -0.9127,  2.7405]])\n",
      "CCCC(C)(C)C)C1(C)C\n",
      "    Invalid SMILES (RDKit): CCCC(C)(C)C)C1(C)C\n",
      "current input tensor tensor([[ 0.4107, -1.2092, -1.5147,  4.4978]])\n",
      "CCCC(C)(C)C#C\n",
      "already seen\n",
      "current input tensor tensor([[ 0.4107,  5.0578,  4.0799, -1.1367]])\n"
     ]
    },
    {
     "name": "stderr",
     "output_type": "stream",
     "text": [
      "[19:02:09] SMILES Parse Error: unclosed ring for input: 'CCC1(C)CCOC1C1'\n",
      "[19:02:09] SMILES Parse Error: extra close parentheses while parsing: CCCC(C)(C)C)C1(C)C\n",
      "[19:02:09] SMILES Parse Error: check for mistakes around position 12:\n",
      "[19:02:09] CCCC(C)(C)C)C1(C)C\n",
      "[19:02:09] ~~~~~~~~~~~^\n",
      "[19:02:09] SMILES Parse Error: Failed parsing SMILES 'CCCC(C)(C)C)C1(C)C' for input: 'CCCC(C)(C)C)C1(C)C'\n"
     ]
    },
    {
     "name": "stdout",
     "output_type": "stream",
     "text": [
      "C1C2C3C44C44C444444C44444C4C444444C24C4444C44444444C4C14C14C4C4\n",
      "    Invalid SMILES (RDKit): C1C2C3C44C44C444444C44444C4C444444C24C4444C44444444C4C14C14C4C4\n",
      "current input tensor tensor([[ 0.4107, -2.4886, -2.6569, -0.0600]])\n",
      "CCC(C)(C#N)C)C#N\n",
      "    Invalid SMILES (RDKit): CCC(C)(C#N)C)C#N\n",
      "  Generation attempt 80/200...\n",
      "current input tensor tensor([[0.4107, 4.5410, 3.6186, 3.2288]])\n",
      "CC1CC2C3C3C3C3C\n",
      "    Invalid SMILES (RDKit): CC1CC2C3C3C3C3C\n",
      "current input tensor tensor([[ 0.4107,  0.2113, -0.2466,  5.1666]])\n",
      "CCCCC(C)CC\n",
      "0.33236313 91.80052\n",
      "current input tensor tensor([[ 0.4107,  0.5298,  0.0378, -3.2346]])\n"
     ]
    },
    {
     "name": "stderr",
     "output_type": "stream",
     "text": [
      "[19:02:09] SMILES Parse Error: unclosed ring for input: 'C1C2C3C44C44C444444C44444C4C444444C24C4444C44444444C4C14C14C4C4'\n",
      "[19:02:10] SMILES Parse Error: extra close parentheses while parsing: CCC(C)(C#N)C)C#N\n",
      "[19:02:10] SMILES Parse Error: check for mistakes around position 13:\n",
      "[19:02:10] CCC(C)(C#N)C)C#N\n",
      "[19:02:10] ~~~~~~~~~~~~^\n",
      "[19:02:10] SMILES Parse Error: Failed parsing SMILES 'CCC(C)(C#N)C)C#N' for input: 'CCC(C)(C#N)C)C#N'\n",
      "[19:02:10] SMILES Parse Error: unclosed ring for input: 'CC1CC2C3C3C3C3C'\n"
     ]
    },
    {
     "name": "stdout",
     "output_type": "stream",
     "text": [
      "CC1OC2CC1CC2C12\n",
      "    Invalid SMILES (RDKit): CC1OC2CC1CC2C12\n",
      "current input tensor tensor([[ 0.4107, -1.0776, -1.3972,  1.4973]])\n",
      "CCC1(C)CCCC1(C)C1\n",
      "    Invalid SMILES (RDKit): CCC1(C)CCCC1(C)C1\n",
      "current input tensor tensor([[ 0.4107, -0.0712, -0.4988, -3.5715]])\n",
      "CC1OC2CCC12CC12\n",
      "already seen\n",
      "current input tensor tensor([[ 0.4107,  3.2167,  2.4364, -3.3876]])\n"
     ]
    },
    {
     "name": "stderr",
     "output_type": "stream",
     "text": [
      "[19:02:10] SMILES Parse Error: unclosed ring for input: 'CC1OC2CC1CC2C12'\n",
      "[19:02:10] SMILES Parse Error: unclosed ring for input: 'CCC1(C)CCCC1(C)C1'\n"
     ]
    },
    {
     "name": "stdout",
     "output_type": "stream",
     "text": [
      "COC1C2C3C4444444444444444C244444444C24444444444444444C124C44444444444444444444C24444444444C4C44444)C24444C24444C244444444444444\n",
      "    Invalid SMILES (RDKit): COC1C2C3C4444444444444444C244444444C24444444444444444C124C44444444444444444444C24444444444C4C44444)C24444C24444C244444444444444\n",
      "current input tensor tensor([[ 0.4107,  3.5536,  2.7371, -1.2535]])\n",
      "CC1C2C3C3C4C4C4C4C4C24\n",
      "    Invalid SMILES (RDKit): CC1C2C3C3C4C4C4C4C4C24\n",
      "current input tensor tensor([[ 0.4107, -2.8144, -2.9476,  2.0748]])\n",
      "CC#CCCCC(C)(C)(C)(C)(C)C#C\n",
      "already seen\n",
      "current input tensor tensor([[ 0.4107,  5.3215,  4.3153, -1.2758]])\n"
     ]
    },
    {
     "name": "stderr",
     "output_type": "stream",
     "text": [
      "[19:02:11] SMILES Parse Error: extra close parentheses while parsing: COC1C2C3C4444444444444444C244444444C24444444444444444C124C44444444444444444444C24444444444C4C44444)C24444C24444C244444444444444\n",
      "[19:02:11] SMILES Parse Error: check for mistakes around position 99:\n",
      "[19:02:11] C24444444444C4C44444)C24444C24444C2444444\n",
      "[19:02:11] ~~~~~~~~~~~~~~~~~~~~^\n",
      "[19:02:11] SMILES Parse Error: Failed parsing SMILES 'COC1C2C3C4444444444444444C244444444C24444444444444444C124C44444444444444444444C24444444444C4C44444)C24444C24444C244444444444444' for input: 'COC1C2C3C4444444444444444C244444444C24444444444444444C124C44444444444444444444C24444444444C4C44444)C24444C24444C244444444444444'\n",
      "[19:02:11] SMILES Parse Error: unclosed ring for input: 'CC1C2C3C3C4C4C4C4C4C24'\n"
     ]
    },
    {
     "name": "stdout",
     "output_type": "stream",
     "text": [
      "C1C2C344C44C44444444C44444C4444444C4C4444C4C444444444124C4C4444444444C4)C244444C2444444444C4C44444444444C4C4C4C24\n",
      "    Invalid SMILES (RDKit): C1C2C344C44C44444444C44444C4444444C4C4444C4C444444444124C4C4444444444C4)C244444C2444444444C4C44444444444C4C4C4C24\n",
      "current input tensor tensor([[0.4107, 3.3559, 2.5606, 3.6706]])\n",
      "CCC1CC1CC1C1\n",
      "    Invalid SMILES (RDKit): CCC1CC1CC1C1\n",
      "  Generation attempt 90/200...\n",
      "current input tensor tensor([[ 0.4107, -1.2142, -1.5191,  3.4259]])\n",
      "CCCC(C)(C)C#C\n",
      "already seen\n",
      "current input tensor tensor([[0.4107, 2.9680, 2.2143, 1.9957]])\n",
      "CC1C2C3CC3C3C3C3C3C3\n",
      "    Invalid SMILES (RDKit): CC1C2C3CC3C3C3C3C3C3\n",
      "current input tensor tensor([[ 0.4107,  2.3266,  1.6418, -3.6782]])\n"
     ]
    },
    {
     "name": "stderr",
     "output_type": "stream",
     "text": [
      "[19:02:11] SMILES Parse Error: extra close parentheses while parsing: C1C2C344C44C44444444C44444C4444444C4C4444C4C444444444124C4C4444444444C4)C244444C2444444444C4C44444444444C4C4C4C24\n",
      "[19:02:11] SMILES Parse Error: check for mistakes around position 72:\n",
      "[19:02:11] 44124C4C4444444444C4)C244444C2444444444C4\n",
      "[19:02:11] ~~~~~~~~~~~~~~~~~~~~^\n",
      "[19:02:11] SMILES Parse Error: Failed parsing SMILES 'C1C2C344C44C44444444C44444C4444444C4C4444C4C444444444124C4C4444444444C4)C244444C2444444444C4C44444444444C4C4C4C24' for input: 'C1C2C344C44C44444444C44444C4444444C4C4444C4C444444444124C4C4444444444C4)C244444C2444444444C4C44444444444C4C4C4C24'\n",
      "[19:02:11] SMILES Parse Error: ring closure 1 duplicates bond between atom 6 and atom 7 for input: 'CCC1CC1CC1C1'\n",
      "[19:02:12] SMILES Parse Error: unclosed ring for input: 'CC1C2C3CC3C3C3C3C3C3'\n"
     ]
    },
    {
     "name": "stdout",
     "output_type": "stream",
     "text": [
      "COC1C2C3C44C24444444444444C2444444C2444444C444444444C124C124\n",
      "    Invalid SMILES (RDKit): COC1C2C3C44C24444444444444C2444444C2444444C444444444C124C124\n",
      "current input tensor tensor([[ 0.4107, -3.2913, -3.3734,  3.0973]])\n",
      "C#CCCC#CC#C\n",
      "0.2502434 82.540695\n",
      "current input tensor tensor([[0.4107, 0.6820, 0.1736, 0.9893]])\n",
      "CCC1(C)CC1CC1C1\n",
      "    Invalid SMILES (RDKit): CCC1(C)CC1CC1C1\n",
      "current input tensor tensor([[ 0.4107, -0.2560, -0.6638,  5.0384]])\n",
      "CCCC(C)CCC\n",
      "already seen\n",
      "current input tensor tensor([[ 0.4107,  2.2599,  1.5822, -0.6978]])\n"
     ]
    },
    {
     "name": "stderr",
     "output_type": "stream",
     "text": [
      "[19:02:12] SMILES Parse Error: unclosed ring for input: 'COC1C2C3C44C24444444444444C2444444C2444444C444444444C124C124'\n",
      "[19:02:12] SMILES Parse Error: ring closure 1 duplicates bond between atom 7 and atom 8 for input: 'CCC1(C)CC1CC1C1'\n"
     ]
    },
    {
     "name": "stdout",
     "output_type": "stream",
     "text": [
      "CC1C2C3C3C3C3C3C3C3C3C3C3C3C34C4C24C3\n",
      "    Invalid SMILES (RDKit): CC1C2C3C3C3C3C3C3C3C3C3C3C3C34C4C24C3\n",
      "current input tensor tensor([[ 0.4107,  0.0925, -0.3526,  4.7427]])\n",
      "CCCC(C)CCCC\n",
      "already seen\n",
      "current input tensor tensor([[ 0.4107,  5.9930,  4.9148, -2.8807]])\n"
     ]
    },
    {
     "name": "stderr",
     "output_type": "stream",
     "text": [
      "[19:02:12] SMILES Parse Error: unclosed ring for input: 'CC1C2C3C3C3C3C3C3C3C3C3C3C3C34C4C24C3'\n"
     ]
    },
    {
     "name": "stdout",
     "output_type": "stream",
     "text": [
      "C1C444444444444444444444444)C44444444444444444444444444444444444444444444444444444444444444444444444444444444444444444444444444\n",
      "    Invalid SMILES (RDKit): C1C444444444444444444444444)C44444444444444444444444444444444444444444444444444444444444444444444444444444444444444444444444444\n",
      "current input tensor tensor([[ 0.4107, -0.9904, -1.3193,  4.7432]])\n",
      "CCCC(C)C#C\n",
      "0.2773824 82.63686\n",
      "  Generation attempt 100/200...\n",
      "current input tensor tensor([[ 0.4107, -0.3814, -0.7757,  0.9238]])\n",
      "CCC1(C)CCC1C1C1C\n",
      "    Invalid SMILES (RDKit): CCC1(C)CCC1C1C1C\n",
      "current input tensor tensor([[0.4107, 5.1659, 4.1764, 3.1797]])\n",
      "CC1CC2C3C3C3C3C3C3\n",
      "already seen\n",
      "current input tensor tensor([[ 0.4107, -2.4605, -2.6317,  3.5174]])\n"
     ]
    },
    {
     "name": "stderr",
     "output_type": "stream",
     "text": [
      "[19:02:13] SMILES Parse Error: extra close parentheses while parsing: C1C444444444444444444444444)C44444444444444444444444444444444444444444444444444444444444444444444444444444444444444444444444444\n",
      "[19:02:13] SMILES Parse Error: check for mistakes around position 28:\n",
      "[19:02:13] 44444444444444444444)C4444444444444444444\n",
      "[19:02:13] ~~~~~~~~~~~~~~~~~~~~^\n",
      "[19:02:13] SMILES Parse Error: Failed parsing SMILES 'C1C444444444444444444444444)C44444444444444444444444444444444444444444444444444444444444444444444444444444444444444444444444444' for input: 'C1C444444444444444444444444)C44444444444444444444444444444444444444444444444444444444444444444444444444444444444444444444444444'\n",
      "[19:02:13] SMILES Parse Error: ring closure 1 duplicates bond between atom 7 and atom 8 for input: 'CCC1(C)CCC1C1C1C'\n"
     ]
    },
    {
     "name": "stdout",
     "output_type": "stream",
     "text": [
      "CC#CCCCC(C)(C)C\n",
      "already seen\n",
      "current input tensor tensor([[0.4107, 0.6362, 0.1327, 5.2817]])\n",
      "CCCCC(C)CC\n",
      "already seen\n",
      "current input tensor tensor([[ 0.4107, -1.2147, -1.5196, -0.2584]])\n",
      "CCC1(C)CCC1(O)C1\n",
      "already seen\n",
      "current input tensor tensor([[ 0.4107,  1.7834,  1.1568, -2.8138]])\n",
      "CC1OC2C3C3C3C3C24C34C34C4C14C24C4C24\n",
      "    Invalid SMILES (RDKit): CC1OC2C3C3C3C3C24C34C34C4C14C24C4C24\n",
      "current input tensor tensor([[ 0.4107,  0.1040, -0.3424,  1.7078]])\n",
      "CCC1(C)CCC1C1C1\n",
      "already seen\n",
      "current input tensor tensor([[0.4107, 1.1220, 0.5664, 0.5467]])\n",
      "CC1C2CC3CC1C2C\n",
      "    Invalid SMILES (RDKit): CC1C2CC3CC1C2C\n",
      "current input tensor tensor([[ 0.4107,  5.8516,  4.7885, -1.1227]])\n"
     ]
    },
    {
     "name": "stderr",
     "output_type": "stream",
     "text": [
      "[19:02:13] SMILES Parse Error: ring closure 3 duplicates bond between atom 4 and atom 5 for input: 'CC1OC2C3C3C3C3C24C34C34C4C14C24C4C24'\n",
      "[19:02:13] SMILES Parse Error: unclosed ring for input: 'CC1C2CC3CC1C2C'\n"
     ]
    },
    {
     "name": "stdout",
     "output_type": "stream",
     "text": [
      "C1C2C34444C444444444C44444C4444444C4C444444C444444444C4)C2444444444444444444444C4444444444C4C44444444444C4C4C24C4C4444444444444\n",
      "    Invalid SMILES (RDKit): C1C2C34444C444444444C44444C4444444C4C444444C444444444C4)C2444444444444444444444C4444444444C4C44444444444C4C4C24C4C4444444444444\n",
      "current input tensor tensor([[ 0.4107, -0.3455, -0.7436, -1.2318]])\n",
      "CC1C2CCC1(C)OC2\n",
      "0.31956053 84.109566\n",
      "  Generation attempt 110/200...\n",
      "current input tensor tensor([[ 0.4107, -0.6862, -1.0478,  5.3533]])\n",
      "CCCC(C)C#C\n",
      "already seen\n",
      "current input tensor tensor([[ 0.4107, -2.1748, -2.3767,  4.6286]])\n",
      "CC#CCCCC\n",
      "0.33179164 87.026215\n",
      "    Found High-Performer: CC#CCCCC | Predicted Gap: 0.3318, Alpha: 87.0262\n",
      "current input tensor tensor([[ 0.4107,  0.9420,  0.4057, -1.4041]])\n"
     ]
    },
    {
     "name": "stderr",
     "output_type": "stream",
     "text": [
      "[19:02:14] SMILES Parse Error: extra close parentheses while parsing: C1C2C34444C444444444C44444C4444444C4C444444C444444444C4)C2444444444444444444444C4444444444C4C44444444444C4C4C24C4C4444444444444\n",
      "[19:02:14] SMILES Parse Error: check for mistakes around position 56:\n",
      "[19:02:14] 4C444444C444444444C4)C2444444444444444444\n",
      "[19:02:14] ~~~~~~~~~~~~~~~~~~~~^\n",
      "[19:02:14] SMILES Parse Error: Failed parsing SMILES 'C1C2C34444C444444444C44444C4444444C4C444444C444444444C4)C2444444444444444444444C4444444444C4C44444444444C4C4C24C4C4444444444444' for input: 'C1C2C34444C444444444C44444C4444444C4C444444C444444444C4)C2444444444444444444444C4444444444C4C44444444444C4C4C24C4C4444444444444'\n"
     ]
    },
    {
     "name": "stdout",
     "output_type": "stream",
     "text": [
      "CC1C2C3CC3C3C1C23C3C3C3C3C3C3C3\n",
      "    Invalid SMILES (RDKit): CC1C2C3CC3C3C1C23C3C3C3C3C3C3C3\n",
      "current input tensor tensor([[0.4107, 2.9924, 2.2361, 0.2555]])\n",
      "CC1C2C3C3C3C3C3C3C3C3C3C3C3C34C4C4C1C24C1C\n",
      "    Invalid SMILES (RDKit): CC1C2C3C3C3C3C3C3C3C3C3C3C3C34C4C4C1C24C1C\n",
      "current input tensor tensor([[ 0.4107, -0.3789, -0.7735,  3.9427]])\n"
     ]
    },
    {
     "name": "stderr",
     "output_type": "stream",
     "text": [
      "[19:02:14] SMILES Parse Error: ring closure 3 duplicates bond between atom 9 and atom 10 for input: 'CC1C2C3CC3C3C1C23C3C3C3C3C3C3C3'\n",
      "[19:02:14] SMILES Parse Error: unclosed ring for input: 'CC1C2C3C3C3C3C3C3C3C3C3C3C3C34C4C4C1C24C1C'\n"
     ]
    },
    {
     "name": "stdout",
     "output_type": "stream",
     "text": [
      "CCCC(C)(C)C)C\n",
      "    Invalid SMILES (RDKit): CCCC(C)(C)C)C\n",
      "current input tensor tensor([[ 0.4107, -0.0397, -0.4707,  5.2669]])\n",
      "CCCCC(C)CC\n",
      "already seen\n",
      "current input tensor tensor([[0.4107, 5.6856, 4.6403, 1.5990]])\n",
      "CC1C2C3C3C3C4C4C4C4C4C4C14\n",
      "    Invalid SMILES (RDKit): CC1C2C3C3C3C4C4C4C4C4C4C14\n",
      "current input tensor tensor([[0.4107, 2.6018, 1.8874, 0.3635]])\n"
     ]
    },
    {
     "name": "stderr",
     "output_type": "stream",
     "text": [
      "[19:02:15] SMILES Parse Error: extra close parentheses while parsing: CCCC(C)(C)C)C\n",
      "[19:02:15] SMILES Parse Error: check for mistakes around position 12:\n",
      "[19:02:15] CCCC(C)(C)C)C\n",
      "[19:02:15] ~~~~~~~~~~~^\n",
      "[19:02:15] SMILES Parse Error: Failed parsing SMILES 'CCCC(C)(C)C)C' for input: 'CCCC(C)(C)C)C'\n",
      "[19:02:15] SMILES Parse Error: unclosed ring for input: 'CC1C2C3C3C3C4C4C4C4C4C4C14'\n"
     ]
    },
    {
     "name": "stdout",
     "output_type": "stream",
     "text": [
      "CC1C2C3C3C3C3C3C3C3C3C3C3C3C3\n",
      "    Invalid SMILES (RDKit): CC1C2C3C3C3C3C3C3C3C3C3C3C3C3\n",
      "current input tensor tensor([[ 0.4107, -1.9408, -2.1678, -2.1333]])\n",
      "CC1(C)CCOC1C1C1\n",
      "    Invalid SMILES (RDKit): CC1(C)CCOC1C1C1\n",
      "current input tensor tensor([[0.4107, 3.5196, 2.7067, 1.0970]])\n",
      "CC1C2C3C3C3C3C3C3C3C3C3C3\n",
      "    Invalid SMILES (RDKit): CC1C2C3C3C3C3C3C3C3C3C3C3\n",
      "  Generation attempt 120/200...\n",
      "current input tensor tensor([[ 0.4107,  2.2416,  1.5658, -0.0052]])\n"
     ]
    },
    {
     "name": "stderr",
     "output_type": "stream",
     "text": [
      "[19:02:15] SMILES Parse Error: unclosed ring for input: 'CC1C2C3C3C3C3C3C3C3C3C3C3C3C3'\n",
      "[19:02:15] SMILES Parse Error: ring closure 1 duplicates bond between atom 7 and atom 8 for input: 'CC1(C)CCOC1C1C1'\n",
      "[19:02:15] SMILES Parse Error: unclosed ring for input: 'CC1C2C3C3C3C3C3C3C3C3C3C3'\n"
     ]
    },
    {
     "name": "stdout",
     "output_type": "stream",
     "text": [
      "CC1C2C3C3C3C3C3C3C3C3C3C3C3C3C3\n",
      "    Invalid SMILES (RDKit): CC1C2C3C3C3C3C3C3C3C3C3C3C3C3C3\n",
      "current input tensor tensor([[0.4107, 4.7774, 3.8296, 3.1355]])\n",
      "CC1CC2C3C3C3C3C3C\n",
      "    Invalid SMILES (RDKit): CC1CC2C3C3C3C3C3C\n",
      "current input tensor tensor([[0.4107, 5.2914, 4.2885, 1.7295]])\n",
      "CC1C2C3C3C3C3C34C4C4C4C4C4C1C1C4C2\n",
      "    Invalid SMILES (RDKit): CC1C2C3C3C3C3C34C4C4C4C4C4C1C1C4C2\n",
      "current input tensor tensor([[ 0.4107, -2.5466, -2.7086,  4.2835]])\n"
     ]
    },
    {
     "name": "stderr",
     "output_type": "stream",
     "text": [
      "[19:02:15] SMILES Parse Error: unclosed ring for input: 'CC1C2C3C3C3C3C3C3C3C3C3C3C3C3C3'\n",
      "[19:02:15] SMILES Parse Error: unclosed ring for input: 'CC1CC2C3C3C3C3C3C'\n",
      "[19:02:15] SMILES Parse Error: unclosed ring for input: 'CC1C2C3C3C3C3C34C4C4C4C4C4C1C1C4C2'\n"
     ]
    },
    {
     "name": "stdout",
     "output_type": "stream",
     "text": [
      "CC#CCCCC\n",
      "already seen\n",
      "current input tensor tensor([[ 0.4107, -0.2068, -0.6198,  5.5357]])\n",
      "CCCC(C)CCC\n",
      "already seen\n",
      "current input tensor tensor([[ 0.4107, -2.2880, -2.4777, -2.7596]])\n",
      "CC1(CO)CCC1N2C1C2\n",
      "    Invalid SMILES (RDKit): CC1(CO)CCC1N2C1C2\n",
      "current input tensor tensor([[ 0.4107,  5.8165,  4.7572, -3.2056]])\n"
     ]
    },
    {
     "name": "stderr",
     "output_type": "stream",
     "text": [
      "[19:02:15] SMILES Parse Error: unclosed ring for input: 'CC1(CO)CCC1N2C1C2'\n"
     ]
    },
    {
     "name": "stdout",
     "output_type": "stream",
     "text": [
      "C1C4444444444444444444444444)C4444444444444444444444444444444444444444444444444444444444444444444444444444444444444444444444444\n",
      "    Invalid SMILES (RDKit): C1C4444444444444444444444444)C4444444444444444444444444444444444444444444444444444444444444444444444444444444444444444444444444\n",
      "current input tensor tensor([[ 0.4107, -0.7251, -1.0825,  1.9330]])\n",
      "CCCC1(C)CCC1(C)C\n",
      "0.31310728 95.15523\n",
      "    Found High-Performer: CCCC1(C)CCC1(C)C | Predicted Gap: 0.3131, Alpha: 95.1552\n",
      "current input tensor tensor([[0.4107, 1.5996, 0.9928, 4.2613]])\n",
      "CCCC1CCC1CC\n",
      "already seen\n",
      "current input tensor tensor([[0.4107, 1.8025, 1.1739, 0.5992]])\n",
      "CC1C2C3CC3C1C2C\n",
      "0.32518178 84.13586\n",
      "  Generation attempt 130/200...\n",
      "current input tensor tensor([[ 0.4107,  4.9018,  3.9406, -1.2737]])\n"
     ]
    },
    {
     "name": "stderr",
     "output_type": "stream",
     "text": [
      "[19:02:16] SMILES Parse Error: extra close parentheses while parsing: C1C4444444444444444444444444)C4444444444444444444444444444444444444444444444444444444444444444444444444444444444444444444444444\n",
      "[19:02:16] SMILES Parse Error: check for mistakes around position 29:\n",
      "[19:02:16] 44444444444444444444)C4444444444444444444\n",
      "[19:02:16] ~~~~~~~~~~~~~~~~~~~~^\n",
      "[19:02:16] SMILES Parse Error: Failed parsing SMILES 'C1C4444444444444444444444444)C4444444444444444444444444444444444444444444444444444444444444444444444444444444444444444444444444' for input: 'C1C4444444444444444444444444)C4444444444444444444444444444444444444444444444444444444444444444444444444444444444444444444444444'\n"
     ]
    },
    {
     "name": "stdout",
     "output_type": "stream",
     "text": [
      "C1C2C3C44C44C444444C44444C4C444444C24C4444C44444444C4C14C14C4C4\n",
      "already seen\n",
      "current input tensor tensor([[ 0.4107, -0.6961, -1.0566, -3.7668]])\n",
      "CC1OC2CCC12CC12\n",
      "already seen\n",
      "current input tensor tensor([[0.4107, 2.8462, 2.1056, 0.6009]])\n",
      "CC1C2C3C3C3C3C3C3C3C3C3C3C3\n",
      "    Invalid SMILES (RDKit): CC1C2C3C3C3C3C3C3C3C3C3C3C3\n",
      "current input tensor tensor([[0.4107, 1.4143, 0.8274, 0.8535]])\n"
     ]
    },
    {
     "name": "stderr",
     "output_type": "stream",
     "text": [
      "[19:02:17] SMILES Parse Error: unclosed ring for input: 'CC1C2C3C3C3C3C3C3C3C3C3C3C3'\n"
     ]
    },
    {
     "name": "stdout",
     "output_type": "stream",
     "text": [
      "CC1C2CC3CC1C2C\n",
      "already seen\n",
      "current input tensor tensor([[ 0.4107, -1.8622, -2.0977,  3.7579]])\n",
      "CCC#CCCC\n",
      "0.3245187 87.429794\n",
      "    Found High-Performer: CCC#CCCC | Predicted Gap: 0.3245, Alpha: 87.4298\n",
      "current input tensor tensor([[ 0.4107, -0.5978, -0.9689,  2.1562]])\n",
      "CCCC1(C)CCC1(C)C\n",
      "already seen\n",
      "current input tensor tensor([[ 0.4107, -0.9981, -1.3263,  1.4208]])\n",
      "CCC1(C)CCC1(C)C1C\n",
      "    Invalid SMILES (RDKit): CCC1(C)CCC1(C)C1C\n",
      "current input tensor tensor([[0.4107, 3.4275, 2.6245, 4.6516]])\n"
     ]
    },
    {
     "name": "stderr",
     "output_type": "stream",
     "text": [
      "[19:02:17] SMILES Parse Error: unclosed ring for input: 'CCC1(C)CCC1(C)C1C'\n",
      "[19:02:17] SMILES Parse Error: unclosed ring for input: 'CC1C2C3C3C4C4C4C4C4C4'\n"
     ]
    },
    {
     "name": "stdout",
     "output_type": "stream",
     "text": [
      "CCC1CCC1CC1C\n",
      "already seen\n",
      "current input tensor tensor([[0.4107, 5.7182, 4.6695, 1.2665]])\n",
      "CC1C2C3C3C4C4C4C4C4C4\n",
      "    Invalid SMILES (RDKit): CC1C2C3C3C4C4C4C4C4C4\n",
      "current input tensor tensor([[ 0.4107, -1.3637, -1.6526, -2.1133]])\n",
      "CC1C2CCC1(O)C2C12\n",
      "already seen\n",
      "  Generation attempt 140/200...\n",
      "current input tensor tensor([[ 0.4107,  3.3488,  2.5543, -2.7846]])\n",
      "COC1C2C3C444C444444C2444444C444444C244444C44444C44444C124C124\n",
      "    Invalid SMILES (RDKit): COC1C2C3C444C444444C2444444C444444C244444C44444C44444C124C124\n",
      "current input tensor tensor([[0.4107, 0.7857, 0.2662, 5.1078]])\n",
      "CCCCC1(C)CC\n",
      "    Invalid SMILES (RDKit): CCCCC1(C)CC\n",
      "current input tensor tensor([[0.4107, 5.6321, 4.5926, 1.6370]])\n",
      "CC1C2C3C3C3C34C4C4C4C4C4C4C14C4C4\n",
      "    Invalid SMILES (RDKit): CC1C2C3C3C3C34C4C4C4C4C4C4C14C4C4\n",
      "current input tensor tensor([[ 0.4107, -1.5182, -1.7906,  5.6679]])\n"
     ]
    },
    {
     "name": "stderr",
     "output_type": "stream",
     "text": [
      "[19:02:17] SMILES Parse Error: unclosed ring for input: 'COC1C2C3C444C444444C2444444C444444C244444C44444C44444C124C124'\n",
      "[19:02:17] SMILES Parse Error: unclosed ring for input: 'CCCCC1(C)CC'\n",
      "[19:02:18] SMILES Parse Error: unclosed ring for input: 'CC1C2C3C3C3C34C4C4C4C4C4C4C14C4C4'\n"
     ]
    },
    {
     "name": "stdout",
     "output_type": "stream",
     "text": [
      "CCC#CCC\n",
      "0.3193307 79.36374\n",
      "current input tensor tensor([[ 0.4107, -3.1056, -3.2076,  0.1061]])\n",
      "CC#CCCCC1(C)C#N\n",
      "    Invalid SMILES (RDKit): CC#CCCCC1(C)C#N\n",
      "current input tensor tensor([[0.4107, 1.0498, 0.5020, 5.2374]])\n",
      "CCCCC1CCCC1(C)C\n",
      "0.32735494 96.26191\n",
      "    Found High-Performer: CCCCC1CCCC1(C)C | Predicted Gap: 0.3274, Alpha: 96.2619\n",
      "current input tensor tensor([[ 0.4107, -3.4900, -3.5508,  0.4357]])\n",
      "C#CCCCC(C)(C#N)C#N\n"
     ]
    },
    {
     "name": "stderr",
     "output_type": "stream",
     "text": [
      "[19:02:18] SMILES Parse Error: unclosed ring for input: 'CC#CCCCC1(C)C#N'\n"
     ]
    },
    {
     "name": "stdout",
     "output_type": "stream",
     "text": [
      "0.25856283 89.118744\n",
      "current input tensor tensor([[ 0.4107, -0.0289, -0.4610, -0.6710]])\n",
      "CC1C2CCC1(C)C2OC\n",
      "0.30785236 87.861725\n",
      "    Found High-Performer: CC1C2CCC1(C)C2OC | Predicted Gap: 0.3079, Alpha: 87.8617\n",
      "current input tensor tensor([[ 0.4107,  0.6888,  0.1797, -2.5863]])\n",
      "CC1C2C3C3C3C3C23C3C3C3C3C3C34C34C3C3C24C1C24C3\n",
      "    Invalid SMILES (RDKit): CC1C2C3C3C3C3C23C3C3C3C3C3C34C34C3C3C24C1C24C3\n",
      "current input tensor tensor([[ 0.4107, -1.8597, -2.0954,  4.3940]])\n",
      "CCC#CCCC\n",
      "already seen\n",
      "  Generation attempt 150/200...\n",
      "current input tensor tensor([[ 0.4107,  4.4566,  3.5432, -2.5433]])\n"
     ]
    },
    {
     "name": "stderr",
     "output_type": "stream",
     "text": [
      "[19:02:18] SMILES Parse Error: ring closure 3 duplicates bond between atom 3 and atom 4 for input: 'CC1C2C3C3C3C3C23C3C3C3C3C3C34C34C3C3C24C1C24C3'\n"
     ]
    },
    {
     "name": "stdout",
     "output_type": "stream",
     "text": [
      "C1C2C344444C4444444444444C44444444C4C24444444444444444C44444444444444)C2444444444444444444C2444444444444C24444C24C4444444444444\n",
      "    Invalid SMILES (RDKit): C1C2C344444C4444444444444C44444444C4C24444444444444444C44444444444444)C2444444444444444444C2444444444444C24444C24C4444444444444\n",
      "current input tensor tensor([[0.4107, 5.8687, 4.8038, 5.0133]])\n",
      "CCC1CC1CC1C\n",
      "already seen\n",
      "current input tensor tensor([[ 0.4107, -2.3408, -2.5248,  4.4324]])\n",
      "CC#CCCCC\n",
      "already seen\n",
      "current input tensor tensor([[0.4107, 4.8470, 3.8918, 1.4365]])\n"
     ]
    },
    {
     "name": "stderr",
     "output_type": "stream",
     "text": [
      "[19:02:19] SMILES Parse Error: extra close parentheses while parsing: C1C2C344444C4444444444444C44444444C4C24444444444444444C44444444444444)C2444444444444444444C2444444444444C24444C24C4444444444444\n",
      "[19:02:19] SMILES Parse Error: check for mistakes around position 70:\n",
      "[19:02:19] 44444C44444444444444)C2444444444444444444\n",
      "[19:02:19] ~~~~~~~~~~~~~~~~~~~~^\n",
      "[19:02:19] SMILES Parse Error: Failed parsing SMILES 'C1C2C344444C4444444444444C44444444C4C24444444444444444C44444444444444)C2444444444444444444C2444444444444C24444C24C4444444444444' for input: 'C1C2C344444C4444444444444C44444444C4C24444444444444444C44444444444444)C2444444444444444444C2444444444444C24444C24C4444444444444'\n"
     ]
    },
    {
     "name": "stdout",
     "output_type": "stream",
     "text": [
      "CC1C2C3C3C3C3C3C34C34C4C4C4C4C4C4C1C1C2\n",
      "    Invalid SMILES (RDKit): CC1C2C3C3C3C3C3C34C34C4C4C4C4C4C4C1C1C2\n",
      "current input tensor tensor([[0.4107, 1.2022, 0.6380, 4.7909]])\n",
      "CCCC1CCCC1(C)C\n",
      "0.31849134 95.384766\n",
      "    Found High-Performer: CCCC1CCCC1(C)C | Predicted Gap: 0.3185, Alpha: 95.3848\n",
      "current input tensor tensor([[0.4107, 4.8310, 3.8775, 1.0759]])\n",
      "CC1C2C3C3C3C3C34C4C4C4C4C4C1C14C24\n",
      "already seen\n",
      "current input tensor tensor([[ 0.4107, -0.7598, -1.1135,  4.3296]])\n"
     ]
    },
    {
     "name": "stderr",
     "output_type": "stream",
     "text": [
      "[19:02:19] SMILES Parse Error: unclosed ring for input: 'CC1C2C3C3C3C3C3C34C34C4C4C4C4C4C4C1C1C2'\n"
     ]
    },
    {
     "name": "stdout",
     "output_type": "stream",
     "text": [
      "CCCC(C)(C)C#C\n",
      "already seen\n",
      "current input tensor tensor([[0.4107, 5.3102, 4.3052, 0.1243]])\n",
      "CC1C2C3C4C4C4C4C44C4\n",
      "    Invalid SMILES (RDKit): CC1C2C3C4C4C4C4C44C4\n",
      "current input tensor tensor([[ 0.4107,  4.6263,  3.6947, -0.3417]])\n",
      "CC1C2C3C3C4C4C4C4C4C44C44C14C24\n",
      "    Invalid SMILES (RDKit): CC1C2C3C3C4C4C4C4C4C44C44C14C24\n",
      "current input tensor tensor([[ 0.4107,  3.5702,  2.7519, -3.8936]])\n"
     ]
    },
    {
     "name": "stderr",
     "output_type": "stream",
     "text": [
      "[19:02:19] SMILES Parse Error: unclosed ring for input: 'CC1C2C3C4C4C4C4C44C4'\n",
      "[19:02:19] SMILES Parse Error: ring closure 3 duplicates bond between atom 3 and atom 4 for input: 'CC1C2C3C3C4C4C4C4C4C44C44C14C24'\n"
     ]
    },
    {
     "name": "stdout",
     "output_type": "stream",
     "text": [
      "COC12C44444444444444444444444444444C2444444444444444444)C244444444444444444444444444444444444444444444444444444C244444444444444\n",
      "    Invalid SMILES (RDKit): COC12C44444444444444444444444444444C2444444444444444444)C244444444444444444444444444444444444444444444444444444C244444444444444\n",
      "  Generation attempt 160/200...\n",
      "current input tensor tensor([[ 0.4107,  2.3655,  1.6765, -2.1125]])\n",
      "CC1C2C3C3C3C3C4C4C24C4C4C4C14C24\n",
      "    Invalid SMILES (RDKit): CC1C2C3C3C3C3C4C4C24C4C4C4C14C24\n",
      "current input tensor tensor([[0.4107, 1.1893, 0.6265, 5.4564]])\n",
      "CCCCC1CCCC\n",
      "already seen\n",
      "current input tensor tensor([[0.4107, 3.0685, 2.3040, 3.5115]])\n",
      "CCC1CCC1C1C1C\n",
      "already seen\n",
      "current input tensor tensor([[ 0.4107, -0.6640, -1.0280, -2.6148]])\n"
     ]
    },
    {
     "name": "stderr",
     "output_type": "stream",
     "text": [
      "[19:02:20] SMILES Parse Error: extra close parentheses while parsing: COC12C44444444444444444444444444444C2444444444444444444)C244444444444444444444444444444444444444444444444444444C244444444444444\n",
      "[19:02:20] SMILES Parse Error: check for mistakes around position 56:\n",
      "[19:02:20] C2444444444444444444)C2444444444444444444\n",
      "[19:02:20] ~~~~~~~~~~~~~~~~~~~~^\n",
      "[19:02:20] SMILES Parse Error: Failed parsing SMILES 'COC12C44444444444444444444444444444C2444444444444444444)C244444444444444444444444444444444444444444444444444444C244444444444444' for input: 'COC12C44444444444444444444444444444C2444444444444444444)C244444444444444444444444444444444444444444444444444444C244444444444444'\n",
      "[19:02:20] SMILES Parse Error: unclosed ring for input: 'CC1C2C3C3C3C3C4C4C24C4C4C4C14C24'\n"
     ]
    },
    {
     "name": "stdout",
     "output_type": "stream",
     "text": [
      "CC1C2CC3CC1C2(O)C2\n",
      "    Invalid SMILES (RDKit): CC1C2CC3CC1C2(O)C2\n",
      "current input tensor tensor([[ 0.4107,  2.7598,  2.0285, -2.1384]])\n",
      "CC1C2C3C3C4C4C4C244C4\n",
      "    Invalid SMILES (RDKit): CC1C2C3C3C4C4C4C244C4\n",
      "current input tensor tensor([[0.4107, 4.3985, 3.4914, 5.5291]])\n",
      "CCC1CCC1CC\n",
      "already seen\n",
      "current input tensor tensor([[0.4107, 3.9721, 3.1107, 5.1647]])\n",
      "CCC1CCC1CC\n",
      "already seen\n",
      "current input tensor tensor([[ 0.4107, -1.1182, -1.4334,  4.4191]])\n",
      "CCCC(C)(C)C#C\n",
      "already seen\n",
      "current input tensor tensor([[ 0.4107,  0.0580, -0.3835, -0.5598]])\n"
     ]
    },
    {
     "name": "stderr",
     "output_type": "stream",
     "text": [
      "[19:02:20] SMILES Parse Error: unclosed ring for input: 'CC1C2CC3CC1C2(O)C2'\n",
      "[19:02:20] SMILES Parse Error: unclosed ring for input: 'CC1C2C3C3C4C4C4C244C4'\n"
     ]
    },
    {
     "name": "stdout",
     "output_type": "stream",
     "text": [
      "CC1C2CCC1(C)C2C12\n",
      "    Invalid SMILES (RDKit): CC1C2CCC1(C)C2C12\n",
      "current input tensor tensor([[0.4107, 2.5095, 1.8050, 0.9853]])\n",
      "CC1C2C3C3C3C3C3C3C3C3C3C3\n",
      "already seen\n",
      "  Generation attempt 170/200...\n",
      "current input tensor tensor([[ 0.4107,  1.0030,  0.4602, -3.0646]])\n",
      "CC1OC2CC1C2C3C3C3C3C3C34C23\n",
      "    Invalid SMILES (RDKit): CC1OC2CC1C2C3C3C3C3C3C34C23\n",
      "current input tensor tensor([[0.4107, 4.6089, 3.6791, 3.3584]])\n"
     ]
    },
    {
     "name": "stderr",
     "output_type": "stream",
     "text": [
      "[19:02:21] SMILES Parse Error: unclosed ring for input: 'CC1C2CCC1(C)C2C12'\n",
      "[19:02:21] SMILES Parse Error: unclosed ring for input: 'CC1OC2CC1C2C3C3C3C3C3C34C23'\n"
     ]
    },
    {
     "name": "stdout",
     "output_type": "stream",
     "text": [
      "CC1CC2C3C3C3C3C\n",
      "already seen\n",
      "current input tensor tensor([[ 0.4107, -0.0524, -0.4820, -2.4338]])\n",
      "CC1C2C3CCC1C23C3C3C3C3C23C3C3C3C3\n",
      "    Invalid SMILES (RDKit): CC1C2C3CCC1C23C3C3C3C3C23C3C3C3C3\n",
      "current input tensor tensor([[ 0.4107,  4.5822,  3.6553, -1.8666]])\n"
     ]
    },
    {
     "name": "stderr",
     "output_type": "stream",
     "text": [
      "[19:02:21] SMILES Parse Error: unclosed ring for input: 'CC1C2C3CCC1C23C3C3C3C3C23C3C3C3C3'\n"
     ]
    },
    {
     "name": "stdout",
     "output_type": "stream",
     "text": [
      "C1C2C3C444C4444444C444444C4C444444C2444444C444444444C4C124C44444444444C4444444)C244444444C24C4444444444C24C4\n",
      "    Invalid SMILES (RDKit): C1C2C3C444C4444444C444444C4C444444C2444444C444444444C4C124C44444444444C4444444)C244444444C24C4444444444C24C4\n",
      "current input tensor tensor([[ 0.4107, -0.8333, -1.1791,  3.2277]])\n",
      "CCCC(C)(C)C#C\n",
      "already seen\n",
      "current input tensor tensor([[0.4107, 1.4764, 0.8828, 3.3811]])\n",
      "CCC1CCC1CC1C\n",
      "already seen\n",
      "current input tensor tensor([[ 0.4107, -1.4657, -1.7437,  2.8428]])\n",
      "CCC(C)(C)C#C)C\n",
      "already seen\n",
      "current input tensor tensor([[ 0.4107,  3.6354,  2.8101, -0.4525]])\n"
     ]
    },
    {
     "name": "stderr",
     "output_type": "stream",
     "text": [
      "[19:02:22] SMILES Parse Error: extra close parentheses while parsing: C1C2C3C444C4444444C444444C4C444444C2444444C444444444C4C124C44444444444C4444444)C244444444C24C4444444444C24C4\n",
      "[19:02:22] SMILES Parse Error: check for mistakes around position 79:\n",
      "[19:02:22] C44444444444C4444444)C244444444C24C444444\n",
      "[19:02:22] ~~~~~~~~~~~~~~~~~~~~^\n",
      "[19:02:22] SMILES Parse Error: Failed parsing SMILES 'C1C2C3C444C4444444C444444C4C444444C2444444C444444444C4C124C44444444444C4444444)C244444444C24C4444444444C24C4' for input: 'C1C2C3C444C4444444C444444C4C444444C2444444C444444444C4C124C44444444444C4444444)C244444444C24C4444444444C24C4'\n"
     ]
    },
    {
     "name": "stdout",
     "output_type": "stream",
     "text": [
      "CC1C2C3C3C3C3C4C4C4C4C4C4C14C24\n",
      "already seen\n",
      "current input tensor tensor([[ 0.4107, -1.9702, -2.1940, -3.0370]])\n",
      "CC1(O)CCC1COC1N2\n",
      "    Invalid SMILES (RDKit): CC1(O)CCC1COC1N2\n",
      "current input tensor tensor([[ 0.4107,  5.8109,  4.7522, -2.8086]])\n"
     ]
    },
    {
     "name": "stderr",
     "output_type": "stream",
     "text": [
      "[19:02:22] SMILES Parse Error: unclosed ring for input: 'CC1(O)CCC1COC1N2'\n"
     ]
    },
    {
     "name": "stdout",
     "output_type": "stream",
     "text": [
      "C1C44444444444444444444444)C444444444444444444444444444444444444444444444444444444444444444444444444444444444444444444444444444\n",
      "    Invalid SMILES (RDKit): C1C44444444444444444444444)C444444444444444444444444444444444444444444444444444444444444444444444444444444444444444444444444444\n",
      "  Generation attempt 180/200...\n",
      "current input tensor tensor([[ 0.4107, -2.2559, -2.4491,  4.3419]])\n",
      "CC#CCCCC\n",
      "already seen\n",
      "current input tensor tensor([[ 0.4107,  2.2598,  1.5822, -1.8548]])\n",
      "CC1C2C3C3C3C3C34C4C24C4C4C4C14C24\n",
      "    Invalid SMILES (RDKit): CC1C2C3C3C3C3C34C4C24C4C4C4C14C24\n",
      "current input tensor tensor([[0.4107, 4.9460, 3.9801, 3.1490]])\n"
     ]
    },
    {
     "name": "stderr",
     "output_type": "stream",
     "text": [
      "[19:02:23] SMILES Parse Error: extra close parentheses while parsing: C1C44444444444444444444444)C444444444444444444444444444444444444444444444444444444444444444444444444444444444444444444444444444\n",
      "[19:02:23] SMILES Parse Error: check for mistakes around position 27:\n",
      "[19:02:23] 44444444444444444444)C4444444444444444444\n",
      "[19:02:23] ~~~~~~~~~~~~~~~~~~~~^\n",
      "[19:02:23] SMILES Parse Error: Failed parsing SMILES 'C1C44444444444444444444444)C444444444444444444444444444444444444444444444444444444444444444444444444444444444444444444444444444' for input: 'C1C44444444444444444444444)C444444444444444444444444444444444444444444444444444444444444444444444444444444444444444444444444444'\n",
      "[19:02:23] SMILES Parse Error: unclosed ring for input: 'CC1C2C3C3C3C3C34C4C24C4C4C4C14C24'\n"
     ]
    },
    {
     "name": "stdout",
     "output_type": "stream",
     "text": [
      "CC1CC2C3C3C3C3C3C3\n",
      "already seen\n",
      "current input tensor tensor([[ 0.4107, -0.5784, -0.9515,  4.9940]])\n",
      "CCCC(C)CC#C\n",
      "0.27821457 89.03872\n",
      "current input tensor tensor([[ 0.4107, -0.3581, -0.7549, -0.8887]])\n",
      "CC1CC2CCC1(O)C2\n",
      "0.32039735 82.62504\n",
      "current input tensor tensor([[ 0.4107,  1.7715,  1.1462, -0.9665]])\n",
      "CC1C2C3C3C3C3C3C3C3C3C3C3C3C3C24C3\n",
      "    Invalid SMILES (RDKit): CC1C2C3C3C3C3C3C3C3C3C3C3C3C3C24C3\n",
      "current input tensor tensor([[ 0.4107, -0.3801, -0.7746, -0.4826]])\n",
      "CCC1(C)CC1COC1\n",
      "    Invalid SMILES (RDKit): CCC1(C)CC1COC1\n",
      "current input tensor tensor([[ 0.4107,  5.5441,  4.5140, -0.2548]])\n",
      "C1C2C3C4C4C4C44444C444C44C4C14C44C24\n",
      "    Invalid SMILES (RDKit): C1C2C3C4C4C4C44444C444C44C4C14C44C24\n",
      "current input tensor tensor([[ 0.4107,  1.2808,  0.7081, -3.6285]])\n"
     ]
    },
    {
     "name": "stderr",
     "output_type": "stream",
     "text": [
      "[19:02:23] SMILES Parse Error: unclosed ring for input: 'CC1C2C3C3C3C3C3C3C3C3C3C3C3C3C24C3'\n",
      "[19:02:23] SMILES Parse Error: unclosed ring for input: 'CCC1(C)CC1COC1'\n",
      "[19:02:23] SMILES Parse Error: unclosed ring for input: 'C1C2C3C4C4C4C44444C444C44C4C14C44C24'\n"
     ]
    },
    {
     "name": "stdout",
     "output_type": "stream",
     "text": [
      "COC1C2C3C3C3C23C344C3444C4C124C44C24C24\n",
      "    Invalid SMILES (RDKit): COC1C2C3C3C3C23C344C3444C4C124C44C24C24\n",
      "current input tensor tensor([[0.4107, 5.2843, 4.2822, 3.4343]])\n",
      "CC1CC2C3C3C3C3C3C\n",
      "already seen\n",
      "  Generation attempt 190/200...\n",
      "current input tensor tensor([[ 0.4107, -1.4642, -1.7424, -3.8303]])\n",
      "CC1OCC2CC12CC1N2\n",
      "    Invalid SMILES (RDKit): CC1OCC2CC12CC1N2\n",
      "current input tensor tensor([[ 0.4107, -1.8478, -2.0848,  4.0704]])\n",
      "CCC#CCCC\n",
      "already seen\n",
      "current input tensor tensor([[0.4107, 1.9780, 1.3306, 4.8546]])\n",
      "CCCC1CCC1CC\n",
      "already seen\n",
      "current input tensor tensor([[ 0.4107, -1.6496, -1.9079,  5.2455]])\n"
     ]
    },
    {
     "name": "stderr",
     "output_type": "stream",
     "text": [
      "[19:02:23] SMILES Parse Error: unclosed ring for input: 'COC1C2C3C3C3C23C344C3444C4C124C44C24C24'\n",
      "[19:02:23] SMILES Parse Error: unclosed ring for input: 'CC1OCC2CC12CC1N2'\n"
     ]
    },
    {
     "name": "stdout",
     "output_type": "stream",
     "text": [
      "CCC#CCC\n",
      "already seen\n",
      "current input tensor tensor([[ 0.4107,  4.4441,  3.5321, -1.8099]])\n",
      "C1C2C3C44C444C4444444C4444C444444C24C44444C44444444C4C124C444444444C44C4)C2444\n",
      "    Invalid SMILES (RDKit): C1C2C3C44C444C4444444C4444C444444C24C44444C44444444C4C124C444444444C44C4)C2444\n",
      "current input tensor tensor([[ 0.4107,  0.0214, -0.4161,  1.7929]])\n",
      "CCC1(C)CCC1C1C1\n",
      "already seen\n",
      "current input tensor tensor([[0.4107, 2.1603, 1.4933, 4.4201]])\n",
      "CCC1CCC1CC1C\n",
      "already seen\n",
      "current input tensor tensor([[0.4107, 4.9897, 4.0191, 3.0496]])\n",
      "CC1CC2C3C3C3C3C3C3\n",
      "already seen\n",
      "current input tensor tensor([[0.4107, 4.4017, 3.4942, 4.4006]])\n"
     ]
    },
    {
     "name": "stderr",
     "output_type": "stream",
     "text": [
      "[19:02:24] SMILES Parse Error: extra close parentheses while parsing: C1C2C3C44C444C4444444C4444C444444C24C44444C44444444C4C124C444444444C44C4)C2444\n",
      "[19:02:24] SMILES Parse Error: check for mistakes around position 73:\n",
      "[19:02:24] 4C124C444444444C44C4)C2444\n",
      "[19:02:24] ~~~~~~~~~~~~~~~~~~~~^\n",
      "[19:02:24] SMILES Parse Error: Failed parsing SMILES 'C1C2C3C44C444C4444444C4444C444444C24C44444C44444444C4C124C444444444C44C4)C2444' for input: 'C1C2C3C44C444C4444444C4444C444444C24C44444C44444444C4C124C444444444C44C4)C2444'\n"
     ]
    },
    {
     "name": "stdout",
     "output_type": "stream",
     "text": [
      "CCC1CC1CC1C\n",
      "already seen\n",
      "current input tensor tensor([[0.4107, 5.0120, 4.0390, 4.8779]])\n",
      "CCC1CC1CC1C\n",
      "already seen\n",
      "  Generation attempt 200/200...\n",
      "current input tensor tensor([[0.4107, 3.5856, 2.7657, 0.7069]])\n",
      "CC1C2C3C3C3C3C3C3C3C3C34C3\n",
      "    Invalid SMILES (RDKit): CC1C2C3C3C3C3C3C3C3C3C34C3\n",
      "\n",
      "Saved 11 novel high-performing SMILES to final_generation_results/novel_high_gap_alpha_smiles.csv\n",
      "\n",
      "Top few generated high performers (predicted properties):\n",
      "              smiles      homo      lumo       gap      alpha\n",
      "0        CCCC(C)CCCC -0.253966  0.076561  0.326948  96.104424\n",
      "1  CCC1(C)CCC1(C)C#C -0.249440  0.045547  0.295433  95.914520\n",
      "2    CC#CCCCC(C)(C)C -0.254354  0.074394  0.325082  97.039726\n",
      "3     CC1C2CCC1(O)C2 -0.241909  0.072980  0.311873  75.460632\n",
      "4         C#CCCCC#CC -0.254195  0.015345  0.270448  88.244621\n"
     ]
    },
    {
     "name": "stderr",
     "output_type": "stream",
     "text": [
      "[19:02:24] SMILES Parse Error: unclosed ring for input: 'CC1C2C3C3C3C3C3C3C3C3C34C3'\n"
     ]
    },
    {
     "name": "stdout",
     "output_type": "stream",
     "text": [
      "Saved target vs. predicted properties plot to final_generation_results/target_vs_predicted_properties.png\n",
      "\n",
      "Visualizing top 11 generated high performers...\n",
      "Saved visualization of top performers to final_generation_results/top_generated_performers.png\n",
      "\n",
      "--- Finished ---\n",
      "Found 11 novel high-performing molecules.\n"
     ]
    }
   ],
   "source": [
    "from rdkit.Chem.Draw import MolsToGridImage, MolToFile\n",
    "\n",
    "def generate_evaluate_plot_high_performers_v2(\n",
    "    prop_to_smiles_model: nn.Module,         # Autoregressive SmilesTransformer (Property -> SMILES)\n",
    "    prop_to_smiles_tokenizer,                # Tokenizer for prop_to_smiles_model\n",
    "    prop_to_smiles_scaler: StandardScaler,   # Scaler for properties fed into prop_to_smiles_model\n",
    "    \n",
    "    smiles_to_prop_model: nn.Module,         # Forward TransformerRegressor (SMILES -> Property)\n",
    "    smiles_to_prop_tokenizer,                # Tokenizer for smiles_to_prop_model\n",
    "    smiles_to_prop_scaler: StandardScaler,   # Scaler for properties predicted by smiles_to_prop_model\n",
    "    \n",
    "    qm9_full_df: pd.DataFrame,               # Full QM9 dataset (unscaled, unfiltered)\n",
    "    property_names: list,                    # e.g., ['homo', 'lumo', 'gap', 'alpha']\n",
    "    device: torch.device,\n",
    "    \n",
    "    max_seq_len_gen: int = 128,              # Max sequence length for generation\n",
    "    max_seq_len_eval: int = 128,             # Max sequence length for forward evaluation model\n",
    "    \n",
    "    num_generations: int = 100,              # Number of SMILES generation attempts\n",
    "    gap_threshold_percentile: float = 0.90,\n",
    "    alpha_threshold_percentile: float = 0.90,\n",
    "    generation_target_multiplier: float = 1.05, # Target 5% above percentile\n",
    "    \n",
    "    csv_filename: str = \"generated_high_performers_v2.csv\",\n",
    "    plot_dir: str = \"generation_plots_v2\",\n",
    "    num_best_to_visualize: int = 10\n",
    "):\n",
    "    \"\"\"\n",
    "    Generates new SMILES aiming for high performance, evaluates them, stores, and plots.\n",
    "    \"\"\"\n",
    "    print(f\"\\n--- Generating and Evaluating High-Performing SMILES (v2) ---\")\n",
    "    print(f\"Targeting high values for: gap, alpha\")\n",
    "    print(f\"Attempting {num_generations} generations.\")\n",
    "\n",
    "    if qm9_full_df.empty:\n",
    "        print(\"Full QM9 dataset is empty. Aborting.\")\n",
    "        return None\n",
    "\n",
    "    # 1. Determine Performance Baselines from the full QM9 dataset\n",
    "    baseline_gap_thresh = qm9_full_df['gap'].quantile(gap_threshold_percentile)\n",
    "    baseline_alpha_thresh = qm9_full_df['alpha'].quantile(alpha_threshold_percentile)\n",
    "    print(f\"Baseline QM9 Gap Threshold ({gap_threshold_percentile*100:.0f}th percentile): {baseline_gap_thresh:.4f}\")\n",
    "    print(f\"Baseline QM9 Alpha Threshold ({alpha_threshold_percentile*100:.0f}th percentile): {baseline_alpha_thresh:.4f}\")\n",
    "\n",
    "    dataset_means = {prop: qm9_full_df[prop].mean() for prop in property_names}\n",
    "\n",
    "    # 2. Set Generation Target Properties (Unscaled)\n",
    "    target_props_unscaled_dict = {}\n",
    "    target_props_unscaled_dict['gap'] = baseline_gap_thresh * generation_target_multiplier\n",
    "    target_props_unscaled_dict['alpha'] = baseline_alpha_thresh * generation_target_multiplier\n",
    "    \n",
    "    # For HOMO and LUMO, we need to be careful. Let's use means for now, or derive them.\n",
    "    # If gap = lumo - homo, and we have target gap, and mean homo/lumo\n",
    "    # Let's keep homo at mean and adjust lumo based on target gap.\n",
    "    target_props_unscaled_dict['homo'] = dataset_means.get('homo', -0.25) # fallback if not in means\n",
    "    target_props_unscaled_dict['lumo'] = target_props_unscaled_dict['homo'] + target_props_unscaled_dict['gap']\n",
    "    \n",
    "    # Ensure all properties are present for scaling\n",
    "    for prop in property_names:\n",
    "        if prop not in target_props_unscaled_dict:\n",
    "            target_props_unscaled_dict[prop] = dataset_means.get(prop, 0.0)\n",
    "\n",
    "\n",
    "    print(\"\\nTarget Properties for Generation (Unscaled):\")\n",
    "    for prop, val in target_props_unscaled_dict.items():\n",
    "        print(f\"  {prop}: {val:.4f}\")\n",
    "\n",
    "    # 3. Scale Generation Target Properties (for prop_to_smiles_model)\n",
    "    # The prop_to_smiles_scaler expects input in the order of property_names\n",
    "    target_props_unscaled_array = np.array([target_props_unscaled_dict[p] for p in property_names]).reshape(1, -1)\n",
    "    \n",
    "    # Ensure the scaler is used correctly, it might expect a DataFrame with feature names\n",
    "    # if it was fitted that way.\n",
    "    if hasattr(prop_to_smiles_scaler, 'feature_names_in_'):\n",
    "        target_props_unscaled_df_for_scaling = pd.DataFrame(target_props_unscaled_array, columns=prop_to_smiles_scaler.feature_names_in_)\n",
    "        scaled_target_props_array = prop_to_smiles_scaler.transform(target_props_unscaled_df_for_scaling)\n",
    "    else: # Assumes scaler was fitted on numpy array\n",
    "        scaled_target_props_array = prop_to_smiles_scaler.transform(target_props_unscaled_array)\n",
    "\n",
    "    scaled_target_props_tensor = torch.tensor(scaled_target_props_array.squeeze(), dtype=torch.float).to(device)\n",
    "    if scaled_target_props_tensor.ndim == 0: # Handle single property case\n",
    "        scaled_target_props_tensor = scaled_target_props_tensor.unsqueeze(0)\n",
    "    elif scaled_target_props_tensor.ndim == 1 and scaled_target_props_tensor.shape[0] != len(property_names):\n",
    "        # This might happen if squeeze was too aggressive or only one property\n",
    "        print(f\"Warning: Scaled target properties tensor shape is {scaled_target_props_tensor.shape}, expected 1D with {len(property_names)} elements. Reshaping if possible.\")\n",
    "        if scaled_target_props_tensor.numel() == len(property_names):\n",
    "             scaled_target_props_tensor = scaled_target_props_tensor.reshape(-1) # Attempt to fix\n",
    "        else:\n",
    "            print(\"Error: Cannot reshape scaled_target_props_tensor to the correct dimension. Aborting generation for this target.\")\n",
    "            return None\n",
    "\n",
    "\n",
    "    # 4. Initialize ForwardPropertyPredictorWrapper for evaluation\n",
    "    # This wrapper uses the smiles_to_prop_model, its tokenizer, and its scaler\n",
    "    forward_predictor = ForwardPropertyPredictorWrapper(\n",
    "        smiles_to_prop_model,\n",
    "        smiles_to_prop_tokenizer, # Tokenizer for the SMILES -> Prop model\n",
    "        smiles_to_prop_scaler,    # Scaler for the SMILES -> Prop model\n",
    "        property_names,\n",
    "        device,\n",
    "        max_seq_len_eval\n",
    "    )\n",
    "\n",
    "    # 5. Generation Loop\n",
    "    generated_high_performers_data = [] # Stores dicts for CSV\n",
    "    all_valid_generated_smiles_evals = [] # For plotting input vs. predicted\n",
    "    \n",
    "    qm9_smiles_set = set(qm9_full_df['smiles'].tolist())\n",
    "    seen_generated_smiles = set()\n",
    "\n",
    "    prop_to_smiles_model.eval() # Set generative model to eval mode\n",
    "    # forward_predictor.model.eval() # Wrapper's init should handle this or do it here\n",
    "\n",
    "    print(f\"\\nStarting SMILES generation with target scaled properties: {scaled_target_props_tensor.cpu().numpy()}\")\n",
    "\n",
    "    for i in range(num_generations):\n",
    "        if (i + 1) % max(1, num_generations // 20) == 0:\n",
    "            print(f\"  Generation attempt {i+1}/{num_generations}...\")\n",
    "\n",
    "\n",
    "\n",
    "        # --- BEGIN: Perturb gap and alpha by 80%-130% each time ---\n",
    "        perturbed_props_dict = target_props_unscaled_dict.copy()\n",
    "        for key in ['gap', 'alpha']:\n",
    "            perturb_factor = np.random.uniform(0.85, 1.3)\n",
    "            perturbed_props_dict[key] *= perturb_factor\n",
    "\n",
    "        # Recalculate dependent property (lumo = homo + gap)\n",
    "        perturbed_props_dict['lumo'] = perturbed_props_dict['homo'] + perturbed_props_dict['gap']\n",
    "\n",
    "        # Convert to array in correct order\n",
    "        perturbed_props_array = np.array([perturbed_props_dict[p] for p in property_names]).reshape(1, -1)\n",
    "\n",
    "        # Scale the perturbed properties\n",
    "        if hasattr(prop_to_smiles_scaler, 'feature_names_in_'):\n",
    "            perturbed_df = pd.DataFrame(perturbed_props_array, columns=prop_to_smiles_scaler.feature_names_in_)\n",
    "            scaled_perturbed_array = prop_to_smiles_scaler.transform(perturbed_df)\n",
    "        else:\n",
    "            scaled_perturbed_array = prop_to_smiles_scaler.transform(perturbed_props_array)\n",
    "\n",
    "        # Convert to tensor\n",
    "        current_gen_input_tensor = torch.tensor(scaled_perturbed_array.squeeze(), dtype=torch.float).to(device)\n",
    "        if current_gen_input_tensor.ndim == 1:\n",
    "            current_gen_input_tensor = current_gen_input_tensor.unsqueeze(0)\n",
    "        # --- END perturbation code ---\n",
    "\n",
    "\n",
    "\n",
    "\n",
    "        # # Ensure scaled_target_props_tensor is correctly shaped for the model's generate method\n",
    "        # # The generate method in cell 47 expects properties of shape (1, property_dim) or (property_dim)\n",
    "        # # If scaled_target_props_tensor is 1D, it should be fine. If it's (1, property_dim), also fine.\n",
    "        # current_gen_input_tensor = scaled_target_props_tensor\n",
    "        # if current_gen_input_tensor.ndim == 1:\n",
    "        #      current_gen_input_tensor = current_gen_input_tensor.unsqueeze(0) # Ensure batch dim for generate\n",
    "\n",
    "\n",
    "\n",
    "\n",
    "        print(\"current input tensor\", current_gen_input_tensor)\n",
    "\n",
    "        generated_smiles = prop_to_smiles_model.generate(\n",
    "            current_gen_input_tensor, # Should be (1, num_properties) or (num_properties)\n",
    "            prop_to_smiles_tokenizer, \n",
    "            max_len=max_seq_len_gen\n",
    "        )\n",
    "\n",
    "        print(generated_smiles)\n",
    "\n",
    "        if not generated_smiles or pd.isna(generated_smiles) or generated_smiles.strip() == \"\":\n",
    "            continue\n",
    "        if generated_smiles in seen_generated_smiles:\n",
    "            print(\"already seen\")\n",
    "            continue\n",
    "        seen_generated_smiles.add(generated_smiles)\n",
    "\n",
    "        mol_rdkit = Chem.MolFromSmiles(generated_smiles)\n",
    "        if not mol_rdkit:\n",
    "            print(f\"    Invalid SMILES (RDKit): {generated_smiles}\")\n",
    "            continue\n",
    "        \n",
    "        # print(f\"    Valid SMILES (RDKit): {generated_smiles}\")\n",
    "\n",
    "        try:\n",
    "            predicted_props_unscaled_dict = forward_predictor.predict_properties(generated_smiles)\n",
    "            if not isinstance(predicted_props_unscaled_dict, dict):\n",
    "                print(f\"    Forward model for {generated_smiles} did not return a dict. Skipping.\")\n",
    "                continue\n",
    "            \n",
    "            all_valid_generated_smiles_evals.append({\n",
    "                \"generated_smiles\": generated_smiles,\n",
    "                \"target_gap_for_generation\": target_props_unscaled_dict['gap'],\n",
    "                \"target_alpha_for_generation\": target_props_unscaled_dict['alpha'],\n",
    "                \"predicted_gap\": predicted_props_unscaled_dict.get('gap', np.nan),\n",
    "                \"predicted_alpha\": predicted_props_unscaled_dict.get('alpha', np.nan)\n",
    "            })\n",
    "\n",
    "            predicted_gap = predicted_props_unscaled_dict.get('gap', -float('inf'))\n",
    "            predicted_alpha = predicted_props_unscaled_dict.get('alpha', -float('inf'))\n",
    "\n",
    "            print(predicted_gap, predicted_alpha)\n",
    "\n",
    "            if (predicted_gap > 0.8* baseline_gap_thresh and\n",
    "                predicted_alpha > 0.8* baseline_alpha_thresh and\n",
    "                generated_smiles not in qm9_smiles_set):\n",
    "                \n",
    "                print(f\"    Found High-Performer: {generated_smiles} | Predicted Gap: {predicted_gap:.4f}, Alpha: {predicted_alpha:.4f}\")\n",
    "                \n",
    "                csv_entry = {\"smiles\": generated_smiles}\n",
    "                for p_name in property_names:\n",
    "                    csv_entry[p_name] = predicted_props_unscaled_dict.get(p_name, np.nan)\n",
    "                generated_high_performers_data.append(csv_entry)\n",
    "\n",
    "        except Exception as e:\n",
    "            print(f\"    Error during forward prediction for {generated_smiles}: {e}\")\n",
    "            continue\n",
    "            \n",
    "    os.makedirs(plot_dir, exist_ok=True)\n",
    "\n",
    "    # 6. Save to CSV\n",
    "    if generated_high_performers_data:\n",
    "        df_high_performers = pd.DataFrame(generated_high_performers_data)\n",
    "        # Reorder columns for CSV\n",
    "        csv_cols = ['smiles'] + [p for p in property_names if p in df_high_performers.columns]\n",
    "        df_high_performers = df_high_performers[csv_cols]\n",
    "        df_high_performers.to_csv(os.path.join(plot_dir, csv_filename), index=False)\n",
    "        print(f\"\\nSaved {len(df_high_performers)} novel high-performing SMILES to {os.path.join(plot_dir, csv_filename)}\")\n",
    "        if not df_high_performers.empty:\n",
    "            print(\"\\nTop few generated high performers (predicted properties):\")\n",
    "            print(df_high_performers.head())\n",
    "    else:\n",
    "        print(\"\\nNo novel high-performing SMILES generated and validated.\")\n",
    "        df_high_performers = pd.DataFrame() # Empty df for return\n",
    "\n",
    "    # 7. Plotting\n",
    "    # Plot 1: Target Generation Properties vs. Forward Model Predicted Properties\n",
    "    if all_valid_generated_smiles_evals:\n",
    "        df_evals = pd.DataFrame(all_valid_generated_smiles_evals)\n",
    "        \n",
    "        fig, axs = plt.subplots(1, 2, figsize=(15, 6))\n",
    "        \n",
    "        # Gap\n",
    "        axs[0].scatter(df_evals[\"target_gap_for_generation\"], df_evals[\"predicted_gap\"], alpha=0.5)\n",
    "        axs[0].plot([df_evals[\"target_gap_for_generation\"].min(), df_evals[\"target_gap_for_generation\"].max()],\n",
    "                    [df_evals[\"target_gap_for_generation\"].min(), df_evals[\"target_gap_for_generation\"].max()], 'r--', label=\"Ideal\")\n",
    "        axs[0].axhline(baseline_gap_thresh, color='gray', linestyle=':', label=f'QM9 {gap_threshold_percentile*100:.0f}th %ile Gap')\n",
    "        axs[0].set_xlabel(\"Target Gap for Generation (unscaled)\")\n",
    "        axs[0].set_ylabel(\"Predicted Gap by Forward Model (unscaled)\")\n",
    "        axs[0].set_title(\"Generation Target Gap vs. Predicted Gap\")\n",
    "        axs[0].legend()\n",
    "        axs[0].grid(True)\n",
    "        \n",
    "        # Alpha\n",
    "        axs[1].scatter(df_evals[\"target_alpha_for_generation\"], df_evals[\"predicted_alpha\"], alpha=0.5)\n",
    "        axs[1].plot([df_evals[\"target_alpha_for_generation\"].min(), df_evals[\"target_alpha_for_generation\"].max()],\n",
    "                    [df_evals[\"target_alpha_for_generation\"].min(), df_evals[\"target_alpha_for_generation\"].max()], 'r--', label=\"Ideal\")\n",
    "        axs[1].axhline(baseline_alpha_thresh, color='gray', linestyle=':', label=f'QM9 {alpha_threshold_percentile*100:.0f}th %ile Alpha')\n",
    "        axs[1].set_xlabel(\"Target Alpha for Generation (unscaled)\")\n",
    "        axs[1].set_ylabel(\"Predicted Alpha by Forward Model (unscaled)\")\n",
    "        axs[1].set_title(\"Generation Target Alpha vs. Predicted Alpha\")\n",
    "        axs[1].legend()\n",
    "        axs[1].grid(True)\n",
    "        \n",
    "        plt.tight_layout()\n",
    "        plt.savefig(os.path.join(plot_dir, \"target_vs_predicted_properties.png\"))\n",
    "        print(f\"Saved target vs. predicted properties plot to {os.path.join(plot_dir, 'target_vs_predicted_properties.png')}\")\n",
    "        # plt.show() # In a notebook, this would display the plot\n",
    "\n",
    "    # Plot 2: Top N High Performers Visualization\n",
    "    if not df_high_performers.empty and RDKIT_AVAILABLE:\n",
    "        # Sort by a combined metric or primary target, e.g., sum of gap and alpha, or just gap\n",
    "        # For simplicity, let's sort by 'gap' then 'alpha'\n",
    "        df_sorted_performers = df_high_performers.sort_values(by=['gap', 'alpha'], ascending=[False, False])\n",
    "        \n",
    "        top_n_df = df_sorted_performers.head(num_best_to_visualize)\n",
    "        \n",
    "        mols_to_draw = []\n",
    "        legends = []\n",
    "        if not top_n_df.empty:\n",
    "            print(f\"\\nVisualizing top {len(top_n_df)} generated high performers...\")\n",
    "            for _, row in top_n_df.iterrows():\n",
    "                mol = Chem.MolFromSmiles(row['smiles'])\n",
    "                if mol:\n",
    "                    mols_to_draw.append(mol)\n",
    "                    legend_text = f\"SMILES: {row['smiles']}\\n\"\n",
    "                    legend_text += f\"Pred Gap: {row.get('gap', np.nan):.3f}\\n\"\n",
    "                    legend_text += f\"Pred Alpha: {row.get('alpha', np.nan):.2f}\\n\"\n",
    "                    legend_text += f\"Pred HOMO: {row.get('homo', np.nan):.3f}\\n\"\n",
    "                    legend_text += f\"Pred LUMO: {row.get('lumo', np.nan):.3f}\"\n",
    "                    legends.append(legend_text)\n",
    "            \n",
    "            if mols_to_draw:\n",
    "                try:\n",
    "                    img = MolsToGridImage(mols_to_draw, molsPerRow=min(5, len(mols_to_draw)), subImgSize=(300,300), legends=legends)\n",
    "                    img_path = os.path.join(plot_dir, \"top_generated_performers.png\")\n",
    "                    \n",
    "                    # MolsToGridImage returns a PIL Image object. We need to save it.\n",
    "                    if hasattr(img, 'save'): # Standard PIL Image\n",
    "                        img.save(img_path)\n",
    "                    elif hasattr(img, 'data') and isinstance(img.data, bytes): # IPython PNG/Image object\n",
    "                         with open(img_path, 'wb') as f_img:\n",
    "                            f_img.write(img.data)\n",
    "                    else: # Fallback for other types or if saving directly isn't obvious\n",
    "                        MolToFile(mols_to_draw[0], img_path, size=(300,300)) # Save first mol as example\n",
    "                        print(f\"Note: MolsToGridImage output type not directly savable, saved first mol to {img_path}\")\n",
    "\n",
    "                    print(f\"Saved visualization of top performers to {img_path}\")\n",
    "                except Exception as e:\n",
    "                    print(f\"Error visualizing top performers: {e}\")\n",
    "            else:\n",
    "                print(\"No valid molecules to draw for top performers.\")\n",
    "        else:\n",
    "            print(\"No high performers to visualize.\")\n",
    "            \n",
    "    plt.close('all') # Close all matplotlib figures to free memory\n",
    "    return df_high_performers\n",
    "\n",
    "\n",
    "# --- Example Usage (You'll need to set up your models and data first) ---\n",
    "# This is a placeholder for how you would call the function.\n",
    "# Ensure all model components, tokenizers, scalers, and DataFrames are correctly loaded and named.\n",
    "\n",
    "# 0. Define global parameters (if not already defined)\n",
    "DEVICE = torch.device(\"cuda\" if torch.cuda.is_available() else \"cpu\")\n",
    "RDKIT_AVAILABLE = True # if rdkit is imported\n",
    "property_names = ['homo', 'lumo', 'gap', 'alpha'] # from cell 36 / 51\n",
    "\n",
    "# 1. Load/Initialize the Autoregressive Generative Model (Property -> SMILES)\n",
    "# This is 'model' from cell 54, an instance of SmilesTransformer\n",
    "# Ensure it's loaded with trained weights if applicable\n",
    "generative_model_instance = model # Assuming 'model' from cell 54 is in scope\n",
    "generative_tokenizer_instance = tokenizer # Assuming 'tokenizer' from cell 53 (fitted in cell 53) is in scope\n",
    "# This scaler was fitted on df_filtered properties (cell 53)\n",
    "generative_prop_scaler_instance = scaler # Assuming 'scaler' from cell 53 is in scope\n",
    "\n",
    "\n",
    "# 2. Load/Initialize the Forward Evaluation Model (SMILES -> Property)\n",
    "# This is 'model' from cell 39, an instance of TransformerRegressor\n",
    "# Ensure it's loaded with trained weights (trained in cell 40)\n",
    "forward_model_instance = forward_model # Rename 'model' from cell 39 to avoid clash, e.g., model_forward\n",
    "# This tokenizer is from cell 37\n",
    "forward_tokenizer_instance = tokenizer_forward # Rename 'tokenizer' from cell 37, e.g., tokenizer_forward\n",
    "# This scaler is from cell 36, fitted on the initial QM9 subset\n",
    "forward_prop_scaler_instance = scaler_forward # Rename 'scaler' from cell 36, e.g., scaler_forward\n",
    "\n",
    "\n",
    "# 3. Load Full QM9 DataFrame\n",
    "# df_full from cell 51\n",
    "qm9_full_df_instance = df_full # Assuming df_full from cell 51 is in scope\n",
    "\n",
    "# 4. Set sequence lengths (as used during training of respective models)\n",
    "MAX_SEQ_LEN_GEN = MAX_SEQ_LEN # from cell 44, used for SmilesTransformer\n",
    "MAX_SEQ_LEN_EVAL = 128 # from cell 39, used for TransformerRegressor\n",
    "\n",
    "\n",
    "# 5. Call the main function\n",
    "# Ensure you have instances like:\n",
    "# generative_model_instance, generative_tokenizer_instance, generative_prop_scaler_instance\n",
    "# forward_model_instance, forward_tokenizer_instance, forward_prop_scaler_instance\n",
    "# qm9_full_df_instance\n",
    "#\n",
    "if __name__ == \"__main__\":\n",
    "    print(\"Setting up models and data for the main function call...\")\n",
    "    # --- Part 1: Forward Model (SMILES -> Property) Setup ---\n",
    "    df_qm9_subset = pd.read_csv(\"qm9_.csv\")\n",
    "    subset_size_fwd = 133883 # As in cell 36\n",
    "    df_qm9_subset = df_qm9_subset.dropna(subset=property_names).sample(n=subset_size_fwd, random_state=42).reset_index(drop=True)\n",
    "    \n",
    "    forward_prop_scaler_instance = StandardScaler() # from cell 36\n",
    "    forward_prop_scaler_instance.fit(df_qm9_subset[property_names])\n",
    "    \n",
    "    forward_tokenizer_instance = SMILESTokenizerForward() # Class from cell 37\n",
    "    all_smiles_fwd = df_qm9_subset[\"smiles\"].tolist() # Or from a larger representative set\n",
    "    forward_tokenizer_instance.build_vocab(all_smiles_fwd)\n",
    "    \n",
    "    forward_model_instance = TransformerRegressor( # from cell 39\n",
    "    vocab_size=forward_tokenizer_instance.vocab_size(),\n",
    "    seq_len=MAX_SEQ_LEN_EVAL\n",
    "    ).to(DEVICE)\n",
    "    # forward_model_instance.load_state_dict(torch.load('forward_model.pth')) # Load trained weights\n",
    "    print(\"Forward model (TransformerRegressor) setup complete.\")\n",
    "    \n",
    "    # --- Part 2: Generative Model (Property -> SMILES) Setup ---\n",
    "    df_full_qm9 = pd.read_csv(\"qm9_.csv\") # from cell 51\n",
    "    df_full_qm9 = df_full_qm9.dropna(subset=property_names)\n",
    "    qm9_smiles_set_full = set(df_full_qm9['smiles'].tolist())\n",
    "    \n",
    "    # Filter for training generative model (as in cell 52)\n",
    "    percentile_gen_train = 0.75 # Example, adjust as per your notebook\n",
    "    gap_thresh_gen_train = df_full_qm9['gap'].quantile(percentile_gen_train)\n",
    "    alpha_thresh_gen_train = df_full_qm9['alpha'].quantile(percentile_gen_train)\n",
    "    df_filtered_gen_train = df_full_qm9[\n",
    "    (df_full_qm9['gap'] >= gap_thresh_gen_train) &\n",
    "    (df_full_qm9['alpha'] >= alpha_thresh_gen_train)\n",
    "    ].copy()\n",
    "    \n",
    "    generative_prop_scaler_instance = StandardScaler() # from cell 53\n",
    "    generative_prop_scaler_instance.fit(df_filtered_gen_train[property_names])\n",
    "    \n",
    "    generative_tokenizer_instance = SMILESTokenizer() # Class from cell 45\n",
    "    generative_tokenizer_instance.fit(df_filtered_gen_train['smiles'].tolist())\n",
    "    \n",
    "    generative_model_instance = SmilesTransformer( # from cell 47\n",
    "    vocab_size=generative_tokenizer_instance.vocab_size,\n",
    "    property_dim=len(property_names),\n",
    "    d_model=256, n_heads=8, d_ff=1024, decoder_depth=6,\n",
    "    smiles_embedding_dim=16, max_seq_len=MAX_SEQ_LEN_GEN, dropout=0.1,\n",
    "    pad_idx=generative_tokenizer_instance.pad_idx\n",
    "    ).to(DEVICE)\n",
    "    # generative_model_instance.load_state_dict(torch.load('generative_model.pth')) # Load trained weights\n",
    "    print(\"Generative model (SmilesTransformer) setup complete.\")\n",
    "    \n",
    "    print(\"\\nAttempting to run generation and evaluation pipeline...\")\n",
    "    generated_df = generate_evaluate_plot_high_performers_v2(\n",
    "        prop_to_smiles_model=model,\n",
    "        prop_to_smiles_tokenizer=tokenizer,\n",
    "        prop_to_smiles_scaler=scaler,\n",
    "        smiles_to_prop_model=forward_model,\n",
    "        smiles_to_prop_tokenizer=tokenizer_forward,\n",
    "        smiles_to_prop_scaler=scaler_forward,\n",
    "        qm9_full_df=df_full_qm9,\n",
    "        property_names=property_names,\n",
    "        device=DEVICE,\n",
    "        max_seq_len_gen=MAX_SEQ_LEN_GEN,\n",
    "        max_seq_len_eval=MAX_SEQ_LEN_EVAL,\n",
    "        num_generations=2000, # Increase for more comprehensive search\n",
    "        gap_threshold_percentile=0.95, # Aim higher than dataset's 95th\n",
    "        alpha_threshold_percentile=0.95, # Aim higher than dataset's 95th\n",
    "        generation_target_multiplier=1.02, # Target 2% above the percentile\n",
    "        csv_filename=\"novel_high_gap_alpha_smiles.csv\",\n",
    "        plot_dir=\"final_generation_results\",\n",
    "        num_best_to_visualize=12\n",
    "    )\n",
    "    \n",
    "    if generated_df is not None and not generated_df.empty:\n",
    "        print(\"\\n--- Finished ---\")\n",
    "        print(f\"Found {len(generated_df)} novel high-performing molecules.\")\n",
    "    else:\n",
    "        print(\"\\n--- Finished: No novel high-performing molecules found or saved. ---\")"
   ]
  }
 ],
 "metadata": {
  "kernelspec": {
   "display_name": ".venv copy",
   "language": "python",
   "name": "python3"
  },
  "language_info": {
   "codemirror_mode": {
    "name": "ipython",
    "version": 3
   },
   "file_extension": ".py",
   "mimetype": "text/x-python",
   "name": "python",
   "nbconvert_exporter": "python",
   "pygments_lexer": "ipython3",
   "version": "3.9.6"
  }
 },
 "nbformat": 4,
 "nbformat_minor": 5
}
